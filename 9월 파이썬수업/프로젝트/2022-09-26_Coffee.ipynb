{
 "cells": [
  {
   "cell_type": "code",
   "execution_count": 1,
   "metadata": {},
   "outputs": [],
   "source": [
    "from selenium import webdriver\n",
    "from webdriver_manager.chrome import ChromeDriverManager\n",
    "import pandas as pd\n",
    "from bs4 import BeautifulSoup as bs\n",
    "from selenium.webdriver.common.keys import Keys\n",
    "from selenium.webdriver.common.action_chains import ActionChains\n",
    "import time\n",
    "from tqdm import tqdm_notebook as tqdm\n",
    "import requests as req"
   ]
  },
  {
   "cell_type": "code",
   "execution_count": 21,
   "metadata": {},
   "outputs": [],
   "source": [
    "driver = webdriver.Chrome(ChromeDriverManager().install())\n",
    "#driver.get('https://www.amazon.com/Nespresso-VertuoPlus-Espresso-DeLonghi-Aeroccino/dp/B01MTZ419O/ref=sr_1_2?crid=2SMG4SVV7J820&keywords=Nespresso+VertuoPlus+Coffee+and+Espresso+Machine+by+De%27Longhi+with+Milk+Frother%2C+Grey&qid=1664185758&qu=eyJxc2MiOiIwLjAwIiwicXNhIjoiMC4wMCIsInFzcCI6IjAuMDAifQ%3D%3D&sprefix=nespresso+vertuoplus+coffee+and+espresso+machine+by+de%27longhi+with+milk+frother%2C+grey%2Caps%2C232&sr=8-2')\n",
    "driver.get('https://www.amazon.com/Nespresso-VertuoPlus-Espresso-DeLonghi-Aeroccino/product-reviews/B01N1QSB6J/ref=cm_cr_dp_d_show_all_btm?ie=UTF8&reviewerType=all_reviews')\n",
    "time.sleep(1)"
   ]
  },
  {
   "cell_type": "code",
   "execution_count": 22,
   "metadata": {},
   "outputs": [],
   "source": [
    "name_list = []\n",
    "score_list = []\n",
    "date_list = []\n",
    "style_list = []\n",
    "review_list = []\n",
    "\n",
    "while True:\n",
    "    try:\n",
    "        star = bs(driver.page_source, \"html.parser\")\n",
    "        score = star.find_all(\"i\",{'data-hook':\"review-star-rating\"})\n",
    "        date = driver.find_elements_by_css_selector('span.a-size-base.a-color-secondary.review-date')\n",
    "        style = driver.find_elements_by_css_selector('a.a-size-mini.a-link-normal.a-color-secondary')\n",
    "        review = driver.find_elements_by_css_selector(\"div.a-row.a-spacing-small.review-data\")\n",
    "        #time.sleep(1)\n",
    "        for i in score:\n",
    "            score_list.append(i.text)\n",
    "        for i in date:\n",
    "            date_list.append(i.text)\n",
    "        for i in style:\n",
    "            style_list.append(i.text)\n",
    "        for i in review:\n",
    "            review_list.append(i.text)\n",
    "        #time.sleep(1)\n",
    "        btn = driver.find_element_by_css_selector('#cm_cr-pagination_bar > ul > li.a-last')\n",
    "        btn.click()\n",
    "        time.sleep(2)\n",
    "    except:\n",
    "        break"
   ]
  },
  {
   "cell_type": "code",
   "execution_count": 23,
   "metadata": {},
   "outputs": [
    {
     "data": {
      "text/plain": [
       "(1560, 1872, 1560, 1560)"
      ]
     },
     "execution_count": 23,
     "metadata": {},
     "output_type": "execute_result"
    }
   ],
   "source": [
    "len(score_list),len(date_list),len(style_list),len(review_list)"
   ]
  },
  {
   "cell_type": "code",
   "execution_count": 24,
   "metadata": {},
   "outputs": [],
   "source": [
    "Coffee1 = {'Star': score_list, 'Style' : style_list, 'Review' : review_list}"
   ]
  },
  {
   "cell_type": "code",
   "execution_count": 28,
   "metadata": {},
   "outputs": [],
   "source": [
    "Coffee2 = {'Date': date_list}"
   ]
  },
  {
   "cell_type": "code",
   "execution_count": 29,
   "metadata": {},
   "outputs": [],
   "source": [
    "coffee1 = pd.DataFrame(Coffee1)\n",
    "coffee2 = pd.DataFrame(Coffee2)"
   ]
  },
  {
   "cell_type": "code",
   "execution_count": 31,
   "metadata": {},
   "outputs": [],
   "source": [
    "coffee = pd.concat([coffee1, coffee2],axis=1)\n",
    "coffee.to_csv('coffee.csv')"
   ]
  },
  {
   "cell_type": "code",
   "execution_count": 38,
   "metadata": {},
   "outputs": [],
   "source": [
    "date = pd.read_csv('coffee.csv',encoding='utf-8')\n",
    "cafe = date.head(1560)"
   ]
  },
  {
   "cell_type": "code",
   "execution_count": 40,
   "metadata": {},
   "outputs": [],
   "source": [
    "cafe.to_csv('cafe.csv')"
   ]
  }
 ],
 "metadata": {
  "kernelspec": {
   "display_name": "Python 3.9.12 ('base')",
   "language": "python",
   "name": "python3"
  },
  "language_info": {
   "codemirror_mode": {
    "name": "ipython",
    "version": 3
   },
   "file_extension": ".py",
   "mimetype": "text/x-python",
   "name": "python",
   "nbconvert_exporter": "python",
   "pygments_lexer": "ipython3",
   "version": "3.9.12"
  },
  "orig_nbformat": 4,
  "vscode": {
   "interpreter": {
    "hash": "4fb426db0f3ee2be9e5ab359abf5d058c2a19de96b4d6eda446b2c3017042fa6"
   }
  }
 },
 "nbformat": 4,
 "nbformat_minor": 2
}
