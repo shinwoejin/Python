{
 "cells": [
  {
   "cell_type": "code",
   "execution_count": 43,
   "id": "34ea26f8",
   "metadata": {},
   "outputs": [],
   "source": [
    "from selenium import webdriver\n",
    "from webdriver_manager.chrome import ChromeDriverManager\n",
    "import pandas as pd\n",
    "from bs4 import BeautifulSoup as bs\n",
    "from selenium.webdriver.common.keys import Keys\n",
    "from selenium.webdriver.common.action_chains import ActionChains\n",
    "import time\n",
    "from tqdm import tqdm_notebook as tqdm\n",
    "import requests as req"
   ]
  },
  {
   "cell_type": "code",
   "execution_count": 44,
   "id": "3466c84e",
   "metadata": {},
   "outputs": [],
   "source": [
    "driver = webdriver.Chrome(ChromeDriverManager().install())\n",
    "driver.get('https://www.amazon.com/')\n",
    "#driver.get('https://www.amazon.com/Nespresso-VertuoPlus-Coffee-Espresso-DeLonghi/product-reviews/B01N7GO468/ref=cm_cr_dp_d_show_all_btm?ie=UTF8&reviewerType=all_reviews)\n",
    "time.sleep(3)"
   ]
  },
  {
   "cell_type": "code",
   "execution_count": 45,
   "id": "348b5f99",
   "metadata": {},
   "outputs": [],
   "source": [
    "search = driver.find_element_by_css_selector('#twotabsearchtextbox')"
   ]
  },
  {
   "cell_type": "code",
   "execution_count": 46,
   "id": "32261b36",
   "metadata": {},
   "outputs": [
    {
     "ename": "TypeError",
     "evalue": "time.sleep() takes exactly one argument (0 given)",
     "output_type": "error",
     "traceback": [
      "\u001b[1;31m---------------------------------------------------------------------------\u001b[0m",
      "\u001b[1;31mTypeError\u001b[0m                                 Traceback (most recent call last)",
      "\u001b[1;32mc:\\Users\\82104\\Python\\9월 파이썬수업\\프로젝트\\2022-09-16_Coffe.ipynb Cell 4\u001b[0m in \u001b[0;36m<cell line: 3>\u001b[1;34m()\u001b[0m\n\u001b[0;32m      <a href='vscode-notebook-cell:/c%3A/Users/82104/Python/9%EC%9B%94%20%ED%8C%8C%EC%9D%B4%EC%8D%AC%EC%88%98%EC%97%85/%ED%94%84%EB%A1%9C%EC%A0%9D%ED%8A%B8/2022-09-16_Coffe.ipynb#W3sZmlsZQ%3D%3D?line=0'>1</a>\u001b[0m search\u001b[39m.\u001b[39msend_keys(\u001b[39m'\u001b[39m\u001b[39mcoffee beans\u001b[39m\u001b[39m'\u001b[39m)\n\u001b[0;32m      <a href='vscode-notebook-cell:/c%3A/Users/82104/Python/9%EC%9B%94%20%ED%8C%8C%EC%9D%B4%EC%8D%AC%EC%88%98%EC%97%85/%ED%94%84%EB%A1%9C%EC%A0%9D%ED%8A%B8/2022-09-16_Coffe.ipynb#W3sZmlsZQ%3D%3D?line=1'>2</a>\u001b[0m search\u001b[39m.\u001b[39msend_keys(Keys\u001b[39m.\u001b[39mENTER)\n\u001b[1;32m----> <a href='vscode-notebook-cell:/c%3A/Users/82104/Python/9%EC%9B%94%20%ED%8C%8C%EC%9D%B4%EC%8D%AC%EC%88%98%EC%97%85/%ED%94%84%EB%A1%9C%EC%A0%9D%ED%8A%B8/2022-09-16_Coffe.ipynb#W3sZmlsZQ%3D%3D?line=2'>3</a>\u001b[0m time\u001b[39m.\u001b[39;49msleep()\n",
      "\u001b[1;31mTypeError\u001b[0m: time.sleep() takes exactly one argument (0 given)"
     ]
    }
   ],
   "source": [
    "search.send_keys('coffee beans')\n",
    "search.send_keys(Keys.ENTER)\n",
    "time.sleep(1)"
   ]
  },
  {
   "cell_type": "code",
   "execution_count": 5,
   "id": "b40ef417",
   "metadata": {},
   "outputs": [],
   "source": [
    "img = driver.find_elements_by_css_selector('img.s-image')"
   ]
  },
  {
   "cell_type": "code",
   "execution_count": 6,
   "id": "704b4b23",
   "metadata": {},
   "outputs": [
    {
     "data": {
      "text/plain": [
       "0"
      ]
     },
     "execution_count": 6,
     "metadata": {},
     "output_type": "execute_result"
    }
   ],
   "source": [
    "title = driver.find_elements_by_css_selector('#productTitle')\n",
    "len(title)"
   ]
  },
  {
   "cell_type": "code",
   "execution_count": 7,
   "id": "8d4f81a0",
   "metadata": {
    "scrolled": false
   },
   "outputs": [
    {
     "name": "stderr",
     "output_type": "stream",
     "text": [
      "C:\\Users\\82104\\AppData\\Local\\Temp\\ipykernel_31448\\737069764.py:5: TqdmDeprecationWarning: This function will be removed in tqdm==5.0.0\n",
      "Please use `tqdm.notebook.tqdm` instead of `tqdm.tqdm_notebook`\n",
      "  for i in tqdm(range(2, 5)):\n"
     ]
    },
    {
     "data": {
      "application/vnd.jupyter.widget-view+json": {
       "model_id": "33792db7e9ca41319c6c61313f730580",
       "version_major": 2,
       "version_minor": 0
      },
      "text/plain": [
       "  0%|          | 0/3 [00:00<?, ?it/s]"
      ]
     },
     "metadata": {},
     "output_type": "display_data"
    }
   ],
   "source": [
    "review_head_list = []\n",
    "review_list = []\n",
    "title_list = []\n",
    "\n",
    "for i in tqdm(range(2, 5)):\n",
    "    img = driver.find_element_by_css_selector('#search > div.s-desktop-width-max.s-desktop-content.s-opposite-dir.sg-row > div.s-matching-dir.sg-col-16-of-20.sg-col.sg-col-8-of-12.sg-col-12-of-16 > div > span:nth-child(4) > div.s-main-slot.s-result-list.s-search-results.sg-row > div:nth-child({}) > div > div > div > div > div > div > div.s-product-image-container.aok-relative.s-image-overlay-grey.s-text-center.s-padding-left-small.s-padding-right-small.puis-spacing-small.s-height-equalized > span > a > div'.format(i))\n",
    "    img.click()\n",
    "    driver.implicitly_wait(2)\n",
    "\n",
    "    title = driver.find_element_by_css_selector('#productTitle')\n",
    "    product = title.text\n",
    "    \n",
    "    review_head = driver.find_elements_by_css_selector('div.a-profile-content > span')  \n",
    "    for i in review_head:\n",
    "        review_head_list.append(i.text)\n",
    "    time.sleep(1)\n",
    "    review = driver.find_elements_by_css_selector('div.a-expander-content.reviewText.review-text-content.a-expander-partial-collapse-content > span')\n",
    "    for i in review:\n",
    "        review_list.append(i.text)    \n",
    "        time.sleep(1)\n",
    "    for i in range(len(review)):\n",
    "        title_list.append(product)\n",
    "    driver.back()"
   ]
  },
  {
   "cell_type": "code",
   "execution_count": 8,
   "id": "17ec3553",
   "metadata": {
    "scrolled": true
   },
   "outputs": [],
   "source": [
    "review_head_list2 = []\n",
    "for i in review_head_list:\n",
    "    if i != \"\":\n",
    "        review_head_list2.append(i)"
   ]
  },
  {
   "cell_type": "code",
   "execution_count": 9,
   "id": "e4a3bf42",
   "metadata": {},
   "outputs": [],
   "source": [
    "data = {'제품명' : title_list,'리뷰작성자' : review_head_list2, '리뷰내용' : review_list}"
   ]
  },
  {
   "cell_type": "code",
   "execution_count": 12,
   "id": "bb141f26",
   "metadata": {},
   "outputs": [
    {
     "data": {
      "text/plain": [
       "['K. A.',\n",
       " 'Shopper_Anon',\n",
       " 'Kristen B McGirr',\n",
       " 'I Spend Too Much Here',\n",
       " 'Marty Nemko',\n",
       " 'Deliza Nieves',\n",
       " 'Addie',\n",
       " 'Jason Harris',\n",
       " \"Can't Sing\",\n",
       " '1bythesea',\n",
       " 'David Breininger',\n",
       " 'Tim T',\n",
       " 'Rosalie Day',\n",
       " 'pir',\n",
       " 'wzrdqeen',\n",
       " 'FishWater',\n",
       " 'Sarah M',\n",
       " 'Comdet',\n",
       " 'rdr',\n",
       " 'Scott Hartley',\n",
       " 'RON K.',\n",
       " 'Bill',\n",
       " 'Bugsy123',\n",
       " 'PATTIOK']"
      ]
     },
     "execution_count": 12,
     "metadata": {},
     "output_type": "execute_result"
    }
   ],
   "source": [
    "review_head_list2"
   ]
  },
  {
   "cell_type": "code",
   "execution_count": 11,
   "id": "9a607742",
   "metadata": {},
   "outputs": [
    {
     "data": {
      "text/plain": [
       "(25, 24, 25)"
      ]
     },
     "execution_count": 11,
     "metadata": {},
     "output_type": "execute_result"
    }
   ],
   "source": [
    "len(title_list),len(review_head_list2),len(review_list)"
   ]
  },
  {
   "cell_type": "code",
   "execution_count": 10,
   "id": "b87e3202",
   "metadata": {
    "scrolled": true
   },
   "outputs": [
    {
     "ename": "ValueError",
     "evalue": "All arrays must be of the same length",
     "output_type": "error",
     "traceback": [
      "\u001b[1;31m---------------------------------------------------------------------------\u001b[0m",
      "\u001b[1;31mValueError\u001b[0m                                Traceback (most recent call last)",
      "\u001b[1;32mc:\\Users\\82104\\Python\\9월 파이썬수업\\프로젝트\\2022-09-16_Coffe.ipynb Cell 10\u001b[0m in \u001b[0;36m<cell line: 1>\u001b[1;34m()\u001b[0m\n\u001b[1;32m----> <a href='vscode-notebook-cell:/c%3A/Users/82104/Python/9%EC%9B%94%20%ED%8C%8C%EC%9D%B4%EC%8D%AC%EC%88%98%EC%97%85/%ED%94%84%EB%A1%9C%EC%A0%9D%ED%8A%B8/2022-09-16_Coffe.ipynb#X12sZmlsZQ%3D%3D?line=0'>1</a>\u001b[0m amazon \u001b[39m=\u001b[39m pd\u001b[39m.\u001b[39;49mDataFrame(data)\n\u001b[0;32m      <a href='vscode-notebook-cell:/c%3A/Users/82104/Python/9%EC%9B%94%20%ED%8C%8C%EC%9D%B4%EC%8D%AC%EC%88%98%EC%97%85/%ED%94%84%EB%A1%9C%EC%A0%9D%ED%8A%B8/2022-09-16_Coffe.ipynb#X12sZmlsZQ%3D%3D?line=1'>2</a>\u001b[0m amazon\n",
      "File \u001b[1;32mc:\\Users\\82104\\Anaconda3\\lib\\site-packages\\pandas\\core\\frame.py:636\u001b[0m, in \u001b[0;36mDataFrame.__init__\u001b[1;34m(self, data, index, columns, dtype, copy)\u001b[0m\n\u001b[0;32m    630\u001b[0m     mgr \u001b[39m=\u001b[39m \u001b[39mself\u001b[39m\u001b[39m.\u001b[39m_init_mgr(\n\u001b[0;32m    631\u001b[0m         data, axes\u001b[39m=\u001b[39m{\u001b[39m\"\u001b[39m\u001b[39mindex\u001b[39m\u001b[39m\"\u001b[39m: index, \u001b[39m\"\u001b[39m\u001b[39mcolumns\u001b[39m\u001b[39m\"\u001b[39m: columns}, dtype\u001b[39m=\u001b[39mdtype, copy\u001b[39m=\u001b[39mcopy\n\u001b[0;32m    632\u001b[0m     )\n\u001b[0;32m    634\u001b[0m \u001b[39melif\u001b[39;00m \u001b[39misinstance\u001b[39m(data, \u001b[39mdict\u001b[39m):\n\u001b[0;32m    635\u001b[0m     \u001b[39m# GH#38939 de facto copy defaults to False only in non-dict cases\u001b[39;00m\n\u001b[1;32m--> 636\u001b[0m     mgr \u001b[39m=\u001b[39m dict_to_mgr(data, index, columns, dtype\u001b[39m=\u001b[39;49mdtype, copy\u001b[39m=\u001b[39;49mcopy, typ\u001b[39m=\u001b[39;49mmanager)\n\u001b[0;32m    637\u001b[0m \u001b[39melif\u001b[39;00m \u001b[39misinstance\u001b[39m(data, ma\u001b[39m.\u001b[39mMaskedArray):\n\u001b[0;32m    638\u001b[0m     \u001b[39mimport\u001b[39;00m \u001b[39mnumpy\u001b[39;00m\u001b[39m.\u001b[39;00m\u001b[39mma\u001b[39;00m\u001b[39m.\u001b[39;00m\u001b[39mmrecords\u001b[39;00m \u001b[39mas\u001b[39;00m \u001b[39mmrecords\u001b[39;00m\n",
      "File \u001b[1;32mc:\\Users\\82104\\Anaconda3\\lib\\site-packages\\pandas\\core\\internals\\construction.py:502\u001b[0m, in \u001b[0;36mdict_to_mgr\u001b[1;34m(data, index, columns, dtype, typ, copy)\u001b[0m\n\u001b[0;32m    494\u001b[0m     arrays \u001b[39m=\u001b[39m [\n\u001b[0;32m    495\u001b[0m         x\n\u001b[0;32m    496\u001b[0m         \u001b[39mif\u001b[39;00m \u001b[39mnot\u001b[39;00m \u001b[39mhasattr\u001b[39m(x, \u001b[39m\"\u001b[39m\u001b[39mdtype\u001b[39m\u001b[39m\"\u001b[39m) \u001b[39mor\u001b[39;00m \u001b[39mnot\u001b[39;00m \u001b[39misinstance\u001b[39m(x\u001b[39m.\u001b[39mdtype, ExtensionDtype)\n\u001b[0;32m    497\u001b[0m         \u001b[39melse\u001b[39;00m x\u001b[39m.\u001b[39mcopy()\n\u001b[0;32m    498\u001b[0m         \u001b[39mfor\u001b[39;00m x \u001b[39min\u001b[39;00m arrays\n\u001b[0;32m    499\u001b[0m     ]\n\u001b[0;32m    500\u001b[0m     \u001b[39m# TODO: can we get rid of the dt64tz special case above?\u001b[39;00m\n\u001b[1;32m--> 502\u001b[0m \u001b[39mreturn\u001b[39;00m arrays_to_mgr(arrays, columns, index, dtype\u001b[39m=\u001b[39;49mdtype, typ\u001b[39m=\u001b[39;49mtyp, consolidate\u001b[39m=\u001b[39;49mcopy)\n",
      "File \u001b[1;32mc:\\Users\\82104\\Anaconda3\\lib\\site-packages\\pandas\\core\\internals\\construction.py:120\u001b[0m, in \u001b[0;36marrays_to_mgr\u001b[1;34m(arrays, columns, index, dtype, verify_integrity, typ, consolidate)\u001b[0m\n\u001b[0;32m    117\u001b[0m \u001b[39mif\u001b[39;00m verify_integrity:\n\u001b[0;32m    118\u001b[0m     \u001b[39m# figure out the index, if necessary\u001b[39;00m\n\u001b[0;32m    119\u001b[0m     \u001b[39mif\u001b[39;00m index \u001b[39mis\u001b[39;00m \u001b[39mNone\u001b[39;00m:\n\u001b[1;32m--> 120\u001b[0m         index \u001b[39m=\u001b[39m _extract_index(arrays)\n\u001b[0;32m    121\u001b[0m     \u001b[39melse\u001b[39;00m:\n\u001b[0;32m    122\u001b[0m         index \u001b[39m=\u001b[39m ensure_index(index)\n",
      "File \u001b[1;32mc:\\Users\\82104\\Anaconda3\\lib\\site-packages\\pandas\\core\\internals\\construction.py:674\u001b[0m, in \u001b[0;36m_extract_index\u001b[1;34m(data)\u001b[0m\n\u001b[0;32m    672\u001b[0m lengths \u001b[39m=\u001b[39m \u001b[39mlist\u001b[39m(\u001b[39mset\u001b[39m(raw_lengths))\n\u001b[0;32m    673\u001b[0m \u001b[39mif\u001b[39;00m \u001b[39mlen\u001b[39m(lengths) \u001b[39m>\u001b[39m \u001b[39m1\u001b[39m:\n\u001b[1;32m--> 674\u001b[0m     \u001b[39mraise\u001b[39;00m \u001b[39mValueError\u001b[39;00m(\u001b[39m\"\u001b[39m\u001b[39mAll arrays must be of the same length\u001b[39m\u001b[39m\"\u001b[39m)\n\u001b[0;32m    676\u001b[0m \u001b[39mif\u001b[39;00m have_dicts:\n\u001b[0;32m    677\u001b[0m     \u001b[39mraise\u001b[39;00m \u001b[39mValueError\u001b[39;00m(\n\u001b[0;32m    678\u001b[0m         \u001b[39m\"\u001b[39m\u001b[39mMixing dicts with non-Series may lead to ambiguous ordering.\u001b[39m\u001b[39m\"\u001b[39m\n\u001b[0;32m    679\u001b[0m     )\n",
      "\u001b[1;31mValueError\u001b[0m: All arrays must be of the same length"
     ]
    }
   ],
   "source": [
    "amazon = pd.DataFrame(data)\n",
    "amazon"
   ]
  },
  {
   "cell_type": "code",
   "execution_count": 13,
   "id": "2b4de4a4",
   "metadata": {},
   "outputs": [
    {
     "name": "stderr",
     "output_type": "stream",
     "text": [
      "[nltk_data] Downloading package punkt to\n",
      "[nltk_data]     C:\\Users\\82104\\AppData\\Roaming\\nltk_data...\n",
      "[nltk_data]   Package punkt is already up-to-date!\n",
      "[nltk_data] Downloading package averaged_perceptron_tagger to\n",
      "[nltk_data]     C:\\Users\\82104\\AppData\\Roaming\\nltk_data...\n",
      "[nltk_data]   Package averaged_perceptron_tagger is already up-to-\n",
      "[nltk_data]       date!\n",
      "[nltk_data] Downloading package stopwords to\n",
      "[nltk_data]     C:\\Users\\82104\\AppData\\Roaming\\nltk_data...\n",
      "[nltk_data]   Package stopwords is already up-to-date!\n"
     ]
    },
    {
     "data": {
      "text/plain": [
       "True"
      ]
     },
     "execution_count": 13,
     "metadata": {},
     "output_type": "execute_result"
    }
   ],
   "source": [
    "import nltk\n",
    "from nltk import pos_tag\n",
    "from wordcloud import WordCloud\n",
    "from collections import Counter\n",
    "import matplotlib.pyplot as plt\n",
    "import pickle\n",
    "nltk.download('punkt')\n",
    "nltk.download('averaged_perceptron_tagger')\n",
    "nltk.download('stopwords')\n"
   ]
  },
  {
   "cell_type": "code",
   "execution_count": 14,
   "id": "fc5afa05",
   "metadata": {},
   "outputs": [
    {
     "data": {
      "text/plain": [
       "\"Like a lot of other reviewers, my usual coffee had just gotten too expensive, so I decided to give Amazon a try. I bought the Columbia and the Donut Shop varieties. Both are pretty good. Not the best coffee I've ever had, but good flavor, especially considering the price. I think both taste better than Whole Foods 365 coffee (but not better than Whole Food's Allegro line), Target's in house brand, and Trader Joe's basic whole bean coffee.\\n\\nLike some others noted, it appears the roasting is inconsistent. The donut shop description indicates it's a medium-light roast and the Columbia is a medium roast, but the bag of donut shop I received was darker than the Columbia. If you're particular about your roast, this may not be the coffee for you. However, it's not a deal breaker for me, so I plan on purchasing again.\""
      ]
     },
     "execution_count": 14,
     "metadata": {},
     "output_type": "execute_result"
    }
   ],
   "source": [
    "review_list[0]"
   ]
  },
  {
   "cell_type": "code",
   "execution_count": 15,
   "id": "aa336322",
   "metadata": {},
   "outputs": [],
   "source": [
    "review_list_nltk = ''\n",
    "for i in review_list:\n",
    "    review_list_nltk = review_list_nltk + i"
   ]
  },
  {
   "cell_type": "code",
   "execution_count": 60,
   "id": "f3fddd13",
   "metadata": {
    "scrolled": true
   },
   "outputs": [
    {
     "data": {
      "text/plain": [
       "'Like a lot of other reviewers, my usual coffee had just gotten too expensive, so I decided to give Amazon a try. I bought the Columbia and the Donut Shop varieties. Both are pretty good. Not the best coffee I\\'ve ever had, but good flavor, especially considering the price. I think both taste better than Whole Foods 365 coffee (but not better than Whole Food\\'s Allegro line), Target\\'s in house brand, and Trader Joe\\'s basic whole bean coffee.\\n\\nLike some others noted, it appears the roasting is inconsistent. The donut shop description indicates it\\'s a medium-light roast and the Columbia is a medium roast, but the bag of donut shop I received was darker than the Columbia. If you\\'re particular about your roast, this may not be the coffee for you. However, it\\'s not a deal breaker for me, so I plan on purchasing again.Dollars to donuts (with coffee,) the vast majority of people can\\'t tell, blind, the difference between good basic coffee and coffees costing 300% more. Stop with the silly-status-seeking and get this. Use the savings on something more worthy, like said donut.I think the only real draw to this is that it is a 2LB bag for a fairly low price delivered to your door. This doesn\\'t taste like a medium roast. Nor does it look it. More on the Dark for sure.\\n\\nFlavor is okay. Kind of a shock on my first cup coming from a Medium Roast from Intelligentsia. Was pretty dark tasting. The finish was bitter.\\n\\nI drink my coffee black. I like coffee to finish caramely and not too acidic. This was more on the burnt rubber side of flavor. But was probably exaggerated by my palate being used to the Intelligentsia coffee.\\n\\nI will finish off this bag (maybe). Then try a light roast from Amazon if they have one. Maybe the light roast will be a medium lol.I\\'ve been buying eight o\\'clock Columbian roast for quite a while and thought I\\'d dry Amazon\\'s brand to compare and see if I could save a bit of money. This tastes every bit as good as what I was buying before so as long as it\\'s the cheaper choice I\\'ll continue getting this.I look forward to drinking coffee every morning. These beans are super fresh and my mornings so much better. Takes only a few seconds to grind and brew in my coffee maker. YummmmmI\\'m normally a regular coffee guy, I\\'ve been grinding and brewing Dunkin Donuts whole bean for 10 plus years. I tried this as an inflation fighting measure and I don\\'t regret it. It\\'s a little darker than dunkin but tastes great! I am going to stick with this as long as the roast and flavor stays consistent. This is a winner.This is very flavorful delicious coffee, It\\'s the full bean so you must have a grinder, but you get a fresh cup of coffee. if you enjoy Columbian coffee and don\\'t want to have to drive to the big chained coffee place then you\\'ll appreciate this coffee I will recommendWhen we compare these coffee beans with other brands, these beans are extremely flavorful.\\nFor the price, these beans are one of the best purchases. We recommend these coffee beans.THE BOTTOM LINE: Gran Crema is an EXCELLENT blend of coffee to make cappuccinos and lattes, producing an incredibly velvety crema. The espresso drinker who prefers a stronger taste and full body will also certainly enjoy this roast blend.\\n\\nTastes: If everyone had the same tastes and liked the same things, there would only be one coffee in the world. Finding the \"perfect\" coffee is a personal decision tailored by your own taste and likes, and even then, many times you want to have something different or change, therefore in finding YOUR perfect coffee, it depends on your present tastes and moods at that one particular moment in time...which can change. My best advice is follow your feelings and have a try at different things to find NOT what you like, but what you DEFINITELY do not like. And most certainly do not buy or force yourself to like something, because others do like it or love it. Buy for you, not for them.\\n\\nCoffee basics: 2 types of beans. Arabica, which have a smoother taste in general but have lighter body and make less crema, and Robusto, which make more crema and have a stronger taste and body but carry more bitterness. Plants are grown in warmer climates all around the globe, and each place yields beans with distinct flavors regardless of the same bean used. The roasting of the coffee, different machines, water quality and grind quality also add to these differences. Tamping (espresso styles) and amount of coffee makes a very minimal difference compared to all the other factors, and everyone gets the hang of it with practice (i.e. no need to focus so much on pressures and exact weight and times). WHAT IS MOST IMPORTANT: the WATER!, the quality of the coffee, the right grind for the style you are making (finer for espresso and Turkish, coarser for other styles), and a good machine for that style, which is NOT synonymous with expensive (stove tops are not). You get these 4 things right, and all the other factors won\\'t matter much, and you will have an excellent coffee every time. The water here where I live is horrible, and so was my coffee, so I had to spend quite a lot on a filtration system for the water.\\n\\nItalian coffee: Our preferred styles are espresso, cappuccino, and latte (it really means milk and the original Italian name is caffè e latte, but we have dropped the \"e\" over time) and all are served hot. In Italy, flavors/things added to these styles are only found in places where tourists are (i.e. no creams, cinnamon, iced, etc) and most Italians do not even consider or have heard of adding anything else, other than sugar. In Italian bars (this is what we call coffee shops in Italy and why they\\'re called baristas) ALL coffee is a blend of arabica and robusta, making them versatile. ALL bars in Italy also use whole milk, typically what we call lunga conservazione which stores at room temperature until opened (hence less refrigeration storing space needed). You might find places that use more than just whole milk in tourist areas, but is not a certainty. Whole milk froths better than other milk. Coffee is quite important in Italy, so much that the price of coffee is strictly regulated and has been, long before the owners of Starbucks were even born.\\n\\nLavazza: Most sold coffee brand in Italy. Lavazza makes 2 lines of coffee geared to the preferred Italian styles, one for home use, and one commercial, but each and every one of them is different from each other and any coffee in the home line is totally different from any one in the commercial line. The home line consists of:\\n1. Qualità Oro - 100% Arabica beans from a blend of Central America and African highlands. Medium roast.\\n2. Qualità Rossa - 70% Brasilian arabica and 30% African robusta. Medium roast.\\n3. Gran Aroma - 60% arabica and 40% robusta. All Brasilian. Medium roast.\\n4. Gran Crema - 40% South America arabica and 60% Southeast Asia robusta. Dark roast.\\n5. Crema e Aroma - 30% South America arabica and 70% African robusta. Medium roast.\\n\\nQualità Rossa is the most readily available in Italy and hence the less expensive and most used/sold in Italy also. Qualità Oro is aimed at espresso style, Gran Crema is aimed at cappuccino and latte styles, with Gran Bar and Qualità Rossa being more versatile. Qualità Rossa seems to most to have a balance IN TASTE (smooth vs. strong) between arabica and robusta. The entire Lavazza home line is excellent Italian roast espresso coffee but is best to stick Gran Crema (mixing) and Qualità Oro (straight) for what they\\'re geared for, and in the proper use you will find the correct taste, smoothness, and next to no bitterness, if any at all. They are all superb for use in the right manner and none of them are oily.\\n\\nAbout me: I definitely do not like bitter or oily coffee (all coffee is oily per se, but I do not like coffee that has a distinct film of oil on top, which you can see at an angle and which is typically bitter coffee). I prefer cappuccinos and \"lattes\", but regardless I like a strong taste and therefore use Gran Crema, but I do enjoy espresso also so I do use Gran Aroma, which still has enough strong taste for my cappuccinos and lattes. My family in Italy in general prefer espressos and use Qualità Oro, but also use Qualità Rossa (much much less). You will only see me at Starbucks in case of dire emergency, which translates to 3 times in 20 years (once after an 18 hour travel marathon in planes). I\\'m not even mentioning any other coffee places. I use a Gaggia at home and drink tea while I travel. My entire family owns Gaggias. Not because we\\'re married to the brand, but because we have tried plenty others, but Gaggias last us much better than the rest. My mother\\'s must be at least 30 years old. However, one glance at her stove top will convince you it was around before Metusela.\\n\\nAnecdote: I was quite entertained when I learned about the craziness to obsess over tamping pressures, weighing, and stopwatches. Out of curiosity on a British espresso machine that uses no electricity or stove (but you have to have boiling water so you need it anyway), I found a video of this American guy showing the ROK coffee maker which was totally obsessed with this and I learned that it was quite common. I told my mother, who laughed, and shared it at the local bar in her neighborhood the next morning. The barista (our friend) had to call me at 4 a.m. my time (it\\'s ok, mamma has been doing it all these years). He almost didn\\'t believe me. I had to send him youtube links, including the ROK guy. He asked \"Are they crazy? People believe we use scales and stopwatches at the bars?\" About tamping he said it\\'s common sense. It has to be compact enough so that you get the flavor out of the coffee, but not too compact that breaks the pump on the machine.If yiu want to make Italian MOCHA coffee use these beans.\\n\\nI got a Zpresso Kmax plus hand grinder for these beans for use with my ten year old Bialletti mocha express 6 cup. I hand grind the beans, load up my Bialletti, and I have Italian mocha coffee. Mocha is NOT espresso, but this stovetop coffee is quintessential Italian coffee….no fluff, no wrinkled nose, no snobbery. Every Italian household has one. You will even see them in European films. If you do it right, you will curse the day you heard the name Starbucks. This is not snobby coffee. This is practical genuine Italian household coffee. Yiu will even have this coffee in Germany or Denmark or France.\\n\\nThese are the beans to use. So, I\\'m a big coffee enthusiast. I have been doing espresso and coffee roasting for about 10 years now. I\\'m a home roaster, and I\\'ve included a photo of my coffee battlestation: BES920XL, Vario, and Sette 270WI grinders, along with some bags of my green coffee beans. So, why am I prefacing my review with all this? Just so you know, I know coffee, and I really know espresso.\\n\\nAnyways, I got Lavazza\\'s stuff a LONG time ago when I first started espresso, and I thought it was pretty good back then. So, I saw this big sale on Amazon, and I thought I would give it another try. The price for 2.2 lbs was just too good, even for a home roaster. And, I was getting tired of home roasting every other weekend. I was thinking to just do a subscribe and save on Lavazza and see how it goes.\\n\\nSo, I first got the Super Crema, and I will do a review on it on its page. This is for the Espresso Italiano, which is my second Lavazza product on S&S. I got the product on Aug 29th, and when I opened the package, I noticed it was vac sealed in a plastic bag, and it was AIR TIGHT and completely vac sealed. As a home roaster, I knew this coffee wasn\\'t fresh at all. Freshly roasted coffee gives off LOTS of gassing in the first couple weeks after being roasted, and even after the first month, if you vac sealed it in some plastic bags, in a few days, the bags will no longer be a vacuum. I know, because I often vac seal coffee when I give it away to friends in Food Saver bags, and even on week 4, the coffee is still off gassing. So, I look on the bag to check for a roasted on date, and to be fair to Lavazza, they do have a MFD date (which I\\'m assuming is close to the roasted on date). Most coffee brands including Starbux doesn\\'t do this. They all have a Best By date, which is just pure garbage. Anyways, I noticed the coffee is nearly 2.5 months old. Now, why is this a problem for espresso?\\n\\nAnyone who is anyone in the world of coffee knows that for great espresso and crema, you need REALLY fresh coffee. Now, there will be a lot of debate on whether crema is necessary or even good for great tasting espresso. Most championship award winning baristas will infact swirl the crema away before tasting the coffee. However, crema, and a lot of crema, is a sign of fresh coffee, and is very important for lattes and latte art. You\\'re not going to be able to do latte art with flat espressos. I\\'ve included a shot of the crema layer on this coffee, and although it\\'s not bad, it\\'s not great either. On my freshly roasted coffee, the espresso layer is easily 1/3 to a half of the entire espresso shot. This coffee produced crema that\\'s maybe 1/6 of the entire shot. It\\'s not bad. It\\'s not stale to the point of not producing any crema, but it\\'s just ok.\\n\\nNow, for the flavor. Again, crema isn\\'t as important to the flavor of the espresso shot, and it\\'s here, this coffee shines a bit. It\\'s has a nice, woodsy undertone that is pretty common with espresso. But, there\\'s also a lemony, citrusy back bone which is pretty nice. The coffee is definitely not floral. I\\'m not really getting any notes of jasmine or earl grey, which is typical of floral coffees.\\n\\nThe roast level is on par with medium roast. Inspecting the beans, I don\\'t see any that went beyond first crack. It\\'s very even, and perfect medium roast. Which is weird they called this Italiano. If you\\'re expecting an Italian / French roast, this is not it. But, if you like Italian / French roasts, you really need to wonder about your palate. Medium / Light roasts are where it\\'s at.\\n\\nValue, this is very good value though for pretty decent coffee. I would rate this coffee overall as a 3.5 stars. But, It\\'s too bad Amazon is limited with their 5 star ranking system. I\\'m planning on sticking with the subscribe and save for awhile. So, if that\\'s any indication, I think it\\'s worth the trade off of not having to deal with roasting myself every few weeks.First Class Beans!\\nI have a Delongi Esam4000.b bean to cup machine and have tried many beans in it. I am a big lover of Costa\\'s Mocha Italia bean but its hard to find a reliable source of them as they do not offically sell them (last look was £29.50 per kg).\\nThese beans (Lavazza super crema) are just as good, infact i would say better. They have a nice sweetness to them and even if you crunch one in the mouth straight from the bag they are not to bitter.\\nOn my machine i have the grinder set to fine (2)and the dose set to max (bout 11g). The water i have set to about 30ml. These are the recommended settibgs on the bag.\\nThe results are great, about 4mm of crema on top of a lush dark shot. Nice rich taste.\\nSingle shot does a standard latte glass nicely and the milk does not drown it out.\\nDouble shot does a flat white (in my \"borrowed\" costa flat white cup) nicely. Though anyone with the same machine will know how hard it is to texture milk with the wand as it cant be angled.\\nOverall for the price £11.49 when bought and a yeild of about 90 shots (11g each) working out at just under 13p a shot i would highly recommended this bean.This coffee is certainly not for everyone. It is a strong, dark roast coffee made up with a mixture of both arabica and robusta beans. Arabica beans tend to have a sweeter, softer taste, with tones of sugar, fruit, and berries. Their acidity is higher, with that winey taste that characterises coffee with excellent acidity. Robusta, however, has a stronger, harsher taste, with a grain-like overtone and peanuty aftertaste. Good-quality robusta beans are used in traditional Italian espresso blends, at about 10-15%, to provide a full-bodied taste and a better foam head, often known as the crema.\\n\\nIn this regard especially, this blend of beans provides an excellent crema. But as hinted at earlier in my review, many might find this coffee too strong and perhaps on the bitter side.\\n\\nIndeed rather like a Portugeuse espresso, known as a \"bica\", even coffee aficionados may still reach for the sugar. In fact it is often said that many Lisbon locals claim that \"Bica\" is an acronym for \"Beba isso com açúcar\", literally meaning \"Drink this with sugar\".\\n\\nHaving becoming accustomed with the rich espressos in Portugal, this blend by Lavazza certainly replicates this experience.\\n\\nThe only drawback is the price which, at around £13+ a kilo, is a little expensive.This is to Lavazza Rossa what a single malt is to a £20 blend - whereas Rossa is a solid, flavoursome and great all-rounder, it is clumsy in its dependable delivery of decent coffee flavour. The Tierra is a more refined beast with more fruity, floral flavours that the robusta of rossa blockades. With this blend, you get dark chocolate, vanilla and almost a slight liquorice note like you do from dark cocoa. It’s a superior flavour and one that suits darker, more roasted palates but is not bitter or acrid at all. It’s really decent coffee and a happy bridge between a “medium” and an “espresso” roast. I’d buy it again. Happy I did.I usually buy from specialty roasters but was running low and wanted something to tide us over. I had previously noticed a lot of coffee drinkers were buying this Lavazza variety, at least when not going to a local, artisan, roaster. So I thought, let\\'s give it a go. The Kg price is very reasonable and with next day Prime delivery there wasn\\'t much to lose.\\nIn fact these beans were surprisingly good overall. They were not fresh roasted (around 3 months) and the roast itself is a little dark so hints of oil are beginning to form on the surface of the bean. However, I found this coffee pretty easy to dial in on the grinder and was quickly drawing about 40 grams of espresso in the cup from 18 grams in 28 seconds, which I found to work quite well with this coffee in my espresso machine.\\nThe taste has a typically chocolate nuttiness to it but is, for me, slightly swamped by the roast itself which pronounced in Americano. However, it excel best in milky based coffee drinks and, in particular, I found it worked very well in single or double shot Cappuccino - keeping to the ratio (mentioned above). Running off 50 + grams of espresso made for a sour cup and aftertaste.\\nSomewhat surprising also was that I didn\\'t find the crema particularly pronounced over other \\'regular\\' crema\\'s, at least from my espresso machine. Overall, though, these beans are more than capable of making a very good cup of coffee (cappo, latte, flat, etc.), and certainly better than what you will find in coffee shop chains.I have spent years refining my \\'go to\\' coffee bean for my machine and settled on the the standard red bag Lavazza. Yes, there are some really nice ones out there at higher prices, but for a good quality all rounder, you can\\'t beat this for value....\\nI stumbled on this \\'Top Class\\' one unintentionally and to be fair, was attracted by the blue and red bag. At a similar price to the other one, I gave it a go.... It is much better than the red bag. A more full flavour, so many more notes and depth. A moderate crème on top..... it is my relatively new \\'go to\\' coffee bean.\\n\\nGood long lasting date, foil packaged.... great value for moneyThere is a different flavor to this Hawaiian coffee. It is distinct, richer, and has a certain something to it. It is not KONA, nor does it taste like Kona coffee, but its a shade better than Columbian coffee whole beans. Shelf storage life I think has a lot to do with it. It is possible that Amazon puts their own coffee brands on the shelves or warehouses longer than a company like say Aldi\\'s supermarkets. But the Aldi\\'s Columbian ground coffee in a can is good for the first brew, and that\\'s it. After that all the Aldi\\'s coffee in the can tastes like regular coffee. In whole bean coffee, storage time counts. Staleness comes upon anything that is a food or beverage. Fast in, fast out matters. Still worth the buy. Try it, I think you\\'ll like it. It\\'s not Kona, but then again this is 1/4 the cost of pure Kona coffee. And you cannot taste the Kona in the blends.After a trip to Hawaii and having depleted my airport coffe purchase, I was in search of a Hawaiian coffee replacement. This coffee more than does the trick and it was available the next day. I almost didn’t pull the trigger, mulling over whether to buy from Kona and wait until it arrived, but I’m glad I rolled the dice because it is damn good coffee.\\n\\nTo that end, I wanted to drop a note and speak to others like me on the fence and holding off because of the 1 star reviews. This is really good coffee. Good as buying fresh in the islands? Perhaps just a touch off, but damn close. Deceptive? It says 10% right on the bag. Haters got to hate I guess, and candidly I simply don’t care if it’s 100% Hawaiian or not as long as it takes a good as it should. On top of that, it was almost instantly available.\\n\\nI certainly will buy again.I love to grind my own beans in the morning. I have bought the k-cups for this product and ove the product. When I found the whole bean version was availble I was ecstatic and bought 2 bags. I fill the kitchen with a marvelous aroma when grinding and brewingThis has got to be the best coffee I\\'ve ever had - and I\\'m 68 years old so I know of what I\\'m talking about! It has a deep, rich flavor that you can only get from volcanic/tropical coffee beans. I buy the whole beans because I have a built-in coffee grinder on my coffee maker and it makes it even better. I have also purchased the pods for my 1-cup unit. The dark roast and estate coffees are my favorites. Try it, you won\\'t be disappointed.Looked for coffee that didn\\'t taste bitter and finally accepted I\\'d have to pay more than $13 a pound. Searched for top rated coffees and this one was at the top of the list. Found it here on Amazon and figured I\\'d try it. It is worth the money to be able to brew a delicious pot of coffee or espresso at home. Of course I wish it were not so expensive.I love this coffee, I order every month and so far I have always received fresh whole beans that I grind myself always in date and great tasting coffee.Very good product, Great value for real Hawaiian coffee.We like the smooth flavor of this coffee.'"
      ]
     },
     "execution_count": 60,
     "metadata": {},
     "output_type": "execute_result"
    }
   ],
   "source": [
    "review_list_nltk"
   ]
  },
  {
   "cell_type": "code",
   "execution_count": 16,
   "id": "506e0686",
   "metadata": {},
   "outputs": [],
   "source": [
    "nltk.corpus.stopwords.words('english')\n",
    "stopwords = nltk.corpus.stopwords.words('english')"
   ]
  },
  {
   "cell_type": "code",
   "execution_count": 34,
   "id": "e5044bc8",
   "metadata": {},
   "outputs": [],
   "source": [
    "stopwords = ['i', 'be','see','lol.i','see','beans.i',\n",
    "            'have','want','joe','look','bit','continue','winner.this',\n",
    "            '”','t','bulletproof','say','“','do','me.i','coffee','try','use']"
   ]
  },
  {
   "cell_type": "code",
   "execution_count": 1,
   "id": "d25396b5",
   "metadata": {},
   "outputs": [],
   "source": [
    "def extract_tags_english(string):\n",
    "    word_list = []\n",
    "    string = string.lower()\n",
    "    string = nltk.word_tokenize(string)\n",
    "    string = nltk.pos_tag(string)\n",
    "       \n",
    "    for word, tag in string:\n",
    "        if tag in ['NN', 'VB']:\n",
    "            if word not in stopwords: #if word not in stopwords:\n",
    "                word_list.append(word)\n",
    "\n",
    "    return word_list"
   ]
  },
  {
   "cell_type": "code",
   "execution_count": 36,
   "id": "5cd14e71",
   "metadata": {
    "scrolled": true
   },
   "outputs": [
    {
     "data": {
      "text/plain": [
       "['lot',\n",
       " 'give',\n",
       " 'columbia',\n",
       " 'donut',\n",
       " 'shop',\n",
       " 'flavor',\n",
       " 'price',\n",
       " 'taste',\n",
       " 'food',\n",
       " 'line',\n",
       " 'target',\n",
       " 'house',\n",
       " 'brand',\n",
       " 'trader',\n",
       " 'bean',\n",
       " 'roasting',\n",
       " 'donut',\n",
       " 'shop',\n",
       " 'description',\n",
       " 'roast',\n",
       " 'columbia',\n",
       " 'medium',\n",
       " 'roast',\n",
       " 'bag',\n",
       " 'donut',\n",
       " 'shop',\n",
       " 'darker',\n",
       " 'columbia',\n",
       " 'roast',\n",
       " 'deal',\n",
       " 'breaker',\n",
       " 'plan',\n",
       " 'again.i',\n",
       " 'flavor',\n",
       " 'price',\n",
       " 'get',\n",
       " 'value',\n",
       " 'get',\n",
       " 'bag',\n",
       " 'decay.went',\n",
       " 'limb',\n",
       " 'buy',\n",
       " 'price',\n",
       " 'wow',\n",
       " 'price',\n",
       " 'purchase',\n",
       " 'work',\n",
       " 'draw',\n",
       " 'bag',\n",
       " 'price',\n",
       " 'door',\n",
       " 'taste',\n",
       " 'medium',\n",
       " 'roast',\n",
       " 'dark',\n",
       " 'flavor',\n",
       " 'kind',\n",
       " 'shock',\n",
       " 'cup',\n",
       " 'medium',\n",
       " 'roast',\n",
       " 'intelligentsia',\n",
       " 'tasting',\n",
       " 'finish',\n",
       " 'finish',\n",
       " 'side',\n",
       " 'flavor',\n",
       " 'palate',\n",
       " 'finish',\n",
       " 'bag',\n",
       " 'roast',\n",
       " 'amazon',\n",
       " 'maybe',\n",
       " 'roast',\n",
       " 'medium',\n",
       " 'donuts',\n",
       " 'majority',\n",
       " 'tell',\n",
       " 'blind',\n",
       " 'difference',\n",
       " '%',\n",
       " 'stop',\n",
       " 'silly-status-seeking',\n",
       " 'get',\n",
       " 'something',\n",
       " 'morning',\n",
       " 'grind',\n",
       " 'brew',\n",
       " 'maker',\n",
       " 'roast',\n",
       " 'while',\n",
       " 'dry',\n",
       " 'amazon',\n",
       " 'brand',\n",
       " 'compare',\n",
       " 'save',\n",
       " 'money',\n",
       " 'choice',\n",
       " 'guy',\n",
       " 'dunkin',\n",
       " 'bean',\n",
       " 'inflation',\n",
       " 'measure',\n",
       " 'regret',\n",
       " 'darker',\n",
       " 'stick',\n",
       " 'roast',\n",
       " 'flavor',\n",
       " 'consistent',\n",
       " 'winner.it',\n",
       " 'fall',\n",
       " 'florida',\n",
       " 'time',\n",
       " 'start',\n",
       " 'house',\n",
       " 'wife',\n",
       " 'brew',\n",
       " 'taste',\n",
       " 'lol',\n",
       " 'milder',\n",
       " 'brew',\n",
       " 'hand',\n",
       " 'give',\n",
       " 'decaf',\n",
       " 'everyone',\n",
       " 'enjoy',\n",
       " 'type',\n",
       " 'manufacturer',\n",
       " 'smell',\n",
       " 'package',\n",
       " 'house',\n",
       " 'night',\n",
       " 'oil',\n",
       " 'morning',\n",
       " 'breakfast',\n",
       " 'blend',\n",
       " 'smell',\n",
       " 'site',\n",
       " 'decaf',\n",
       " 'ground',\n",
       " 'week',\n",
       " 'bean',\n",
       " 'decaf',\n",
       " 'find',\n",
       " 'area',\n",
       " 'price.just',\n",
       " 'whim',\n",
       " 'taste',\n",
       " 'bitterness',\n",
       " 'night',\n",
       " 'sleep',\n",
       " 'good.this',\n",
       " 'money',\n",
       " 'saver',\n",
       " 'price',\n",
       " 'club',\n",
       " 'price',\n",
       " 'door',\n",
       " 'hassle',\n",
       " 'cup',\n",
       " 'line',\n",
       " 'perfecta',\n",
       " 'cappuccino',\n",
       " 'maker',\n",
       " 'husband',\n",
       " 'caffine.great',\n",
       " 'price.i',\n",
       " 'bag',\n",
       " 'refund',\n",
       " 'amazon',\n",
       " 'contact',\n",
       " 'company',\n",
       " 'get',\n",
       " 'bag',\n",
       " 'coffeei',\n",
       " 'bean',\n",
       " 'decafs',\n",
       " 'flavor',\n",
       " 'depth',\n",
       " 'make',\n",
       " 'roast',\n",
       " 'oil',\n",
       " 'bean',\n",
       " 'give',\n",
       " 'flavor',\n",
       " 'get',\n",
       " 'taste',\n",
       " 'spot',\n",
       " 'bean',\n",
       " 'co2',\n",
       " 'decaf',\n",
       " 'columbian',\n",
       " 'taste',\n",
       " 'chemical',\n",
       " 'decaf',\n",
       " 'method',\n",
       " 'flavor',\n",
       " 'richness',\n",
       " 'co2',\n",
       " 'version',\n",
       " 'package',\n",
       " 'size',\n",
       " 'stale',\n",
       " 'mason',\n",
       " 'jar',\n",
       " 'remove',\n",
       " 'air',\n",
       " 'food',\n",
       " 'vacuum',\n",
       " 'attachment',\n",
       " 'freezer',\n",
       " 'loss',\n",
       " 'flavor',\n",
       " 'let',\n",
       " 'jar',\n",
       " 'come',\n",
       " 'room',\n",
       " 'temperature',\n",
       " 'get',\n",
       " 'condensation',\n",
       " 'jar',\n",
       " 'sit',\n",
       " 'day',\n",
       " 'defrost',\n",
       " 're-freeze',\n",
       " 'jar',\n",
       " 'hold',\n",
       " 'week',\n",
       " 'size',\n",
       " 'jar',\n",
       " 'pound',\n",
       " 'bag',\n",
       " 'co2',\n",
       " 'decaf',\n",
       " 'aroma',\n",
       " 'freshness',\n",
       " 'bean',\n",
       " 'direct',\n",
       " 'reason',\n",
       " 'electricity',\n",
       " 'bag',\n",
       " 'move',\n",
       " 'decaf',\n",
       " 'know',\n",
       " 'co2',\n",
       " 'process',\n",
       " 'flavor',\n",
       " 'roast',\n",
       " 'portion',\n",
       " 'ground',\n",
       " 'maker',\n",
       " 'watery',\n",
       " 'smell',\n",
       " 'get',\n",
       " 'work',\n",
       " '%',\n",
       " 'brand',\n",
       " 'co2',\n",
       " 'decaf',\n",
       " 'roast',\n",
       " 'time.we',\n",
       " 'bean',\n",
       " 'decaf',\n",
       " 'order',\n",
       " 'stock',\n",
       " 'run',\n",
       " 'ship',\n",
       " 'order',\n",
       " 'dark',\n",
       " 'santos',\n",
       " 'bean',\n",
       " 'decaf',\n",
       " 'darker',\n",
       " 'show',\n",
       " 'oil',\n",
       " 'surface',\n",
       " 'sign',\n",
       " 'line',\n",
       " 'favor',\n",
       " 'pound',\n",
       " 'bag.i',\n",
       " 'price',\n",
       " 'quantity',\n",
       " 'satisfactory',\n",
       " 'flavor',\n",
       " 'compromise',\n",
       " 'wife',\n",
       " 'speak',\n",
       " 'flavor',\n",
       " 'tell',\n",
       " 'pleasing',\n",
       " 'aroma',\n",
       " 'drunk',\n",
       " 'let',\n",
       " 'add',\n",
       " 'criticism',\n",
       " 'package',\n",
       " 'size',\n",
       " 'company',\n",
       " 'need',\n",
       " 'include',\n",
       " 'mechanism',\n",
       " 'strip',\n",
       " 'secure',\n",
       " 'air',\n",
       " 'package',\n",
       " 'store',\n",
       " 'brand',\n",
       " 'package',\n",
       " 'packing',\n",
       " 'tape',\n",
       " 'keep',\n",
       " 'freshness',\n",
       " 'mild',\n",
       " 'call',\n",
       " 'spouse',\n",
       " 'mix',\n",
       " 'decaf',\n",
       " 'make',\n",
       " 'update',\n",
       " 'time',\n",
       " 'user',\n",
       " 'bean',\n",
       " 'grind',\n",
       " 'way',\n",
       " 'cup',\n",
       " 'product',\n",
       " 'month',\n",
       " 'brand',\n",
       " 'grocery',\n",
       " 'cost',\n",
       " 'amazon',\n",
       " 'come',\n",
       " 'product',\n",
       " 'get',\n",
       " 'product',\n",
       " 'cost',\n",
       " 'problem',\n",
       " 'one',\n",
       " 'pound',\n",
       " 'bag',\n",
       " 'store',\n",
       " 'container',\n",
       " 'put',\n",
       " 'time',\n",
       " 'grind',\n",
       " 'taste',\n",
       " 'aroma',\n",
       " 'waker-upper',\n",
       " 'morning']"
      ]
     },
     "execution_count": 36,
     "metadata": {},
     "output_type": "execute_result"
    }
   ],
   "source": [
    "review_list_nltk_update = extract_tags_english(review_list_nltk)\n",
    "review_list_nltk_updateb"
   ]
  },
  {
   "cell_type": "code",
   "execution_count": 37,
   "id": "6ace065b",
   "metadata": {
    "scrolled": true
   },
   "outputs": [
    {
     "data": {
      "text/plain": [
       "Counter({'lot': 1,\n",
       "         'give': 3,\n",
       "         'columbia': 3,\n",
       "         'donut': 3,\n",
       "         'shop': 3,\n",
       "         'flavor': 12,\n",
       "         'price': 8,\n",
       "         'taste': 7,\n",
       "         'food': 2,\n",
       "         'line': 3,\n",
       "         'target': 1,\n",
       "         'house': 3,\n",
       "         'brand': 5,\n",
       "         'trader': 1,\n",
       "         'bean': 10,\n",
       "         'roasting': 1,\n",
       "         'description': 1,\n",
       "         'roast': 12,\n",
       "         'medium': 4,\n",
       "         'bag': 9,\n",
       "         'darker': 3,\n",
       "         'deal': 1,\n",
       "         'breaker': 1,\n",
       "         'plan': 1,\n",
       "         'again.i': 1,\n",
       "         'get': 8,\n",
       "         'value': 1,\n",
       "         'decay.went': 1,\n",
       "         'limb': 1,\n",
       "         'buy': 1,\n",
       "         'wow': 1,\n",
       "         'purchase': 1,\n",
       "         'work': 2,\n",
       "         'draw': 1,\n",
       "         'door': 2,\n",
       "         'dark': 2,\n",
       "         'kind': 1,\n",
       "         'shock': 1,\n",
       "         'cup': 3,\n",
       "         'intelligentsia': 1,\n",
       "         'tasting': 1,\n",
       "         'finish': 3,\n",
       "         'side': 1,\n",
       "         'palate': 1,\n",
       "         'amazon': 4,\n",
       "         'maybe': 1,\n",
       "         'donuts': 1,\n",
       "         'majority': 1,\n",
       "         'tell': 2,\n",
       "         'blind': 1,\n",
       "         'difference': 1,\n",
       "         '%': 2,\n",
       "         'stop': 1,\n",
       "         'silly-status-seeking': 1,\n",
       "         'something': 1,\n",
       "         'morning': 3,\n",
       "         'grind': 3,\n",
       "         'brew': 3,\n",
       "         'maker': 3,\n",
       "         'while': 1,\n",
       "         'dry': 1,\n",
       "         'compare': 1,\n",
       "         'save': 1,\n",
       "         'money': 2,\n",
       "         'choice': 1,\n",
       "         'guy': 1,\n",
       "         'dunkin': 1,\n",
       "         'inflation': 1,\n",
       "         'measure': 1,\n",
       "         'regret': 1,\n",
       "         'stick': 1,\n",
       "         'consistent': 1,\n",
       "         'winner.it': 1,\n",
       "         'fall': 1,\n",
       "         'florida': 1,\n",
       "         'time': 3,\n",
       "         'start': 1,\n",
       "         'wife': 2,\n",
       "         'lol': 1,\n",
       "         'milder': 1,\n",
       "         'hand': 1,\n",
       "         'decaf': 11,\n",
       "         'everyone': 1,\n",
       "         'enjoy': 1,\n",
       "         'type': 1,\n",
       "         'manufacturer': 1,\n",
       "         'smell': 3,\n",
       "         'package': 5,\n",
       "         'night': 2,\n",
       "         'oil': 3,\n",
       "         'breakfast': 1,\n",
       "         'blend': 1,\n",
       "         'site': 1,\n",
       "         'ground': 2,\n",
       "         'week': 2,\n",
       "         'find': 1,\n",
       "         'area': 1,\n",
       "         'price.just': 1,\n",
       "         'whim': 1,\n",
       "         'bitterness': 1,\n",
       "         'sleep': 1,\n",
       "         'good.this': 1,\n",
       "         'saver': 1,\n",
       "         'club': 1,\n",
       "         'hassle': 1,\n",
       "         'perfecta': 1,\n",
       "         'cappuccino': 1,\n",
       "         'husband': 1,\n",
       "         'caffine.great': 1,\n",
       "         'price.i': 1,\n",
       "         'refund': 1,\n",
       "         'contact': 1,\n",
       "         'company': 2,\n",
       "         'coffeei': 1,\n",
       "         'decafs': 1,\n",
       "         'depth': 1,\n",
       "         'make': 2,\n",
       "         'spot': 1,\n",
       "         'co2': 5,\n",
       "         'columbian': 1,\n",
       "         'chemical': 1,\n",
       "         'method': 1,\n",
       "         'richness': 1,\n",
       "         'version': 1,\n",
       "         'size': 3,\n",
       "         'stale': 1,\n",
       "         'mason': 1,\n",
       "         'jar': 5,\n",
       "         'remove': 1,\n",
       "         'air': 2,\n",
       "         'vacuum': 1,\n",
       "         'attachment': 1,\n",
       "         'freezer': 1,\n",
       "         'loss': 1,\n",
       "         'let': 2,\n",
       "         'come': 2,\n",
       "         'room': 1,\n",
       "         'temperature': 1,\n",
       "         'condensation': 1,\n",
       "         'sit': 1,\n",
       "         'day': 1,\n",
       "         'defrost': 1,\n",
       "         're-freeze': 1,\n",
       "         'hold': 1,\n",
       "         'pound': 3,\n",
       "         'aroma': 3,\n",
       "         'freshness': 2,\n",
       "         'direct': 1,\n",
       "         'reason': 1,\n",
       "         'electricity': 1,\n",
       "         'move': 1,\n",
       "         'know': 1,\n",
       "         'process': 1,\n",
       "         'portion': 1,\n",
       "         'watery': 1,\n",
       "         'time.we': 1,\n",
       "         'order': 2,\n",
       "         'stock': 1,\n",
       "         'run': 1,\n",
       "         'ship': 1,\n",
       "         'santos': 1,\n",
       "         'show': 1,\n",
       "         'surface': 1,\n",
       "         'sign': 1,\n",
       "         'favor': 1,\n",
       "         'bag.i': 1,\n",
       "         'quantity': 1,\n",
       "         'satisfactory': 1,\n",
       "         'compromise': 1,\n",
       "         'speak': 1,\n",
       "         'pleasing': 1,\n",
       "         'drunk': 1,\n",
       "         'add': 1,\n",
       "         'criticism': 1,\n",
       "         'need': 1,\n",
       "         'include': 1,\n",
       "         'mechanism': 1,\n",
       "         'strip': 1,\n",
       "         'secure': 1,\n",
       "         'store': 2,\n",
       "         'packing': 1,\n",
       "         'tape': 1,\n",
       "         'keep': 1,\n",
       "         'mild': 1,\n",
       "         'call': 1,\n",
       "         'spouse': 1,\n",
       "         'mix': 1,\n",
       "         'update': 1,\n",
       "         'user': 1,\n",
       "         'way': 1,\n",
       "         'product': 3,\n",
       "         'month': 1,\n",
       "         'grocery': 1,\n",
       "         'cost': 2,\n",
       "         'problem': 1,\n",
       "         'one': 1,\n",
       "         'container': 1,\n",
       "         'put': 1,\n",
       "         'waker-upper': 1})"
      ]
     },
     "execution_count": 37,
     "metadata": {},
     "output_type": "execute_result"
    }
   ],
   "source": [
    "count = Counter(review_list_nltk_update)\n",
    "count"
   ]
  },
  {
   "cell_type": "code",
   "execution_count": 38,
   "id": "598f01b5",
   "metadata": {},
   "outputs": [
    {
     "data": {
      "text/plain": [
       "[('flavor', 12),\n",
       " ('roast', 12),\n",
       " ('decaf', 11),\n",
       " ('bean', 10),\n",
       " ('bag', 9),\n",
       " ('price', 8),\n",
       " ('get', 8),\n",
       " ('taste', 7),\n",
       " ('brand', 5),\n",
       " ('package', 5)]"
      ]
     },
     "execution_count": 38,
     "metadata": {},
     "output_type": "execute_result"
    }
   ],
   "source": [
    "count.most_common(10)"
   ]
  },
  {
   "cell_type": "code",
   "execution_count": 39,
   "id": "84eb2ef1",
   "metadata": {},
   "outputs": [],
   "source": [
    "from PIL import Image\n",
    "import numpy as np"
   ]
  },
  {
   "cell_type": "code",
   "execution_count": 40,
   "id": "b29ff429",
   "metadata": {
    "scrolled": true
   },
   "outputs": [
    {
     "data": {
      "text/plain": [
       "array([[[255, 255, 255],\n",
       "        [255, 255, 255],\n",
       "        [255, 255, 255],\n",
       "        ...,\n",
       "        [255, 255, 255],\n",
       "        [255, 255, 255],\n",
       "        [255, 255, 255]],\n",
       "\n",
       "       [[255, 255, 255],\n",
       "        [255, 255, 255],\n",
       "        [255, 255, 255],\n",
       "        ...,\n",
       "        [255, 255, 255],\n",
       "        [255, 255, 255],\n",
       "        [255, 255, 255]],\n",
       "\n",
       "       [[255, 255, 255],\n",
       "        [255, 255, 255],\n",
       "        [255, 255, 255],\n",
       "        ...,\n",
       "        [255, 255, 255],\n",
       "        [255, 255, 255],\n",
       "        [255, 255, 255]],\n",
       "\n",
       "       ...,\n",
       "\n",
       "       [[255, 255, 255],\n",
       "        [255, 255, 255],\n",
       "        [255, 255, 255],\n",
       "        ...,\n",
       "        [255, 255, 255],\n",
       "        [255, 255, 255],\n",
       "        [255, 255, 255]],\n",
       "\n",
       "       [[255, 255, 255],\n",
       "        [255, 255, 255],\n",
       "        [255, 255, 255],\n",
       "        ...,\n",
       "        [255, 255, 255],\n",
       "        [255, 255, 255],\n",
       "        [255, 255, 255]],\n",
       "\n",
       "       [[255, 255, 255],\n",
       "        [255, 255, 255],\n",
       "        [255, 255, 255],\n",
       "        ...,\n",
       "        [255, 255, 255],\n",
       "        [255, 255, 255],\n",
       "        [255, 255, 255]]], dtype=uint8)"
      ]
     },
     "execution_count": 40,
     "metadata": {},
     "output_type": "execute_result"
    }
   ],
   "source": [
    "mask_image = np.array(Image.open(r'C:\\Users\\82104\\Desktop\\image\\호랑이.jpg'))\n",
    "mask_image"
   ]
  },
  {
   "cell_type": "code",
   "execution_count": 41,
   "id": "7f73c2d9",
   "metadata": {},
   "outputs": [],
   "source": [
    "wordcloud = WordCloud(font_path='C:\\Windows\\Fonts\\gulim.ttc',\n",
    "                     width = 700,height=700\n",
    "                      ,background_color='black',colormap = 'summer'\n",
    "                      ,mask = mask_image\n",
    "                      ,random_state=1).generate_from_frequencies(count)"
   ]
  },
  {
   "cell_type": "code",
   "execution_count": 70,
   "id": "bc9de44e",
   "metadata": {},
   "outputs": [
    {
     "data": {
      "text/plain": [
       "<function matplotlib.pyplot.show(close=None, block=None)>"
      ]
     },
     "execution_count": 70,
     "metadata": {},
     "output_type": "execute_result"
    },
    {
     "data": {
      "image/png": "[encoded data removed]",
      "text/plain": [
       "<Figure size 720x720 with 1 Axes>"
      ]
     },
     "metadata": {
      "needs_background": "light"
     },
     "output_type": "display_data"
    }
   ],
   "source": [
    "plt.figure(figsize=(10,10))\n",
    "plt.imshow(wordcloud)\n",
    "plt.axis(\"off\")\n",
    "plt.title(\"^-^\", size = 30)\n",
    "plt.show"
   ]
  },
  {
   "cell_type": "code",
   "execution_count": null,
   "id": "98c06ede",
   "metadata": {},
   "outputs": [],
   "source": []
  }
 ],
 "metadata": {
  "kernelspec": {
   "display_name": "Python 3 (ipykernel)",
   "language": "python",
   "name": "python3"
  },
  "language_info": {
   "codemirror_mode": {
    "name": "ipython",
    "version": 3
   },
   "file_extension": ".py",
   "mimetype": "text/x-python",
   "name": "python",
   "nbconvert_exporter": "python",
   "pygments_lexer": "ipython3",
   "version": "3.9.12"
  },
  "vscode": {
   "interpreter": {
    "hash": "4fb426db0f3ee2be9e5ab359abf5d058c2a19de96b4d6eda446b2c3017042fa6"
   }
  }
 },
 "nbformat": 4,
 "nbformat_minor": 5
}
