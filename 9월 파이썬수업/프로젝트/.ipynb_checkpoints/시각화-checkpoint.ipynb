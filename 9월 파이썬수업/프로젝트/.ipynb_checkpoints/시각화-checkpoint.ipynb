{
 "cells": [
  {
   "cell_type": "code",
   "execution_count": 8,
   "id": "f20381cb",
   "metadata": {},
   "outputs": [],
   "source": [
    "import numpy as np\n",
    "import pandas as pd\n",
    "import matplotlib.pyplot as plt\n",
    "import seaborn as sns\n",
    "\n",
    "from sklearn.ensemble import RandomForestRegressor\n",
    "from sklearn.linear_model import LinearRegression\n",
    "\n",
    "import warnings\n",
    "warnings.filterwarnings('ignore')\n",
    "\n",
    "from matplotlib.pylab import rcParams\n",
    "rcParams['figure.figsize'] = 17, 8\n",
    "rcParams['font.family'] ='AppleGothic'"
   ]
  },
  {
   "cell_type": "code",
   "execution_count": 9,
   "id": "c93a3a5d",
   "metadata": {
    "scrolled": true
   },
   "outputs": [],
   "source": [
    "coffee = pd.read_csv('네스프레소.csv', encoding = 'utf-8')\n",
    "coffee2 = pd.read_csv('돌체.csv', encoding = 'utf-8')\n",
    "coffee3 = pd.read_csv('반자동.csv', encoding = 'utf-8')"
   ]
  },
  {
   "cell_type": "code",
   "execution_count": 3,
   "id": "baf6b40f",
   "metadata": {
    "scrolled": true
   },
   "outputs": [],
   "source": [
    "coffee = coffee.drop(['Unnamed: 0'],axis=1)\n",
    "coffee2 = coffee2.drop(['Unnamed: 0'],axis=1)\n",
    "coffee3 = coffee3.drop(['Unnamed: 0'],axis=1)"
   ]
  },
  {
   "cell_type": "code",
   "execution_count": 4,
   "id": "a1f2a33e",
   "metadata": {
    "scrolled": true
   },
   "outputs": [],
   "source": [
    "coffee = coffee.astype({'Date':'datetime64[ns]'})\n",
    "coffee2 = coffee2.astype({'Date':'datetime64[ns]'})\n",
    "coffee3 = coffee3.astype({'Date':'datetime64[ns]'})"
   ]
  },
  {
   "cell_type": "code",
   "execution_count": 5,
   "id": "b5b244d5",
   "metadata": {},
   "outputs": [
    {
     "name": "stdout",
     "output_type": "stream",
     "text": [
      "<class 'pandas.core.frame.DataFrame'>\n",
      "RangeIndex: 2090 entries, 0 to 2089\n",
      "Data columns (total 5 columns):\n",
      " #   Column  Non-Null Count  Dtype         \n",
      "---  ------  --------------  -----         \n",
      " 0   Star    2090 non-null   float64       \n",
      " 1   Date    2090 non-null   datetime64[ns]\n",
      " 2   Style   2090 non-null   object        \n",
      " 3   Color   2090 non-null   object        \n",
      " 4   Review  2083 non-null   object        \n",
      "dtypes: datetime64[ns](1), float64(1), object(3)\n",
      "memory usage: 81.8+ KB\n"
     ]
    }
   ],
   "source": [
    "coffee.info()"
   ]
  },
  {
   "cell_type": "code",
   "execution_count": 6,
   "id": "35b4319f",
   "metadata": {
    "scrolled": false
   },
   "outputs": [
    {
     "name": "stdout",
     "output_type": "stream",
     "text": [
      "<class 'pandas.core.frame.DataFrame'>\n",
      "RangeIndex: 581 entries, 0 to 580\n",
      "Data columns (total 4 columns):\n",
      " #   Column  Non-Null Count  Dtype         \n",
      "---  ------  --------------  -----         \n",
      " 0   Star    581 non-null    float64       \n",
      " 1   Date    581 non-null    datetime64[ns]\n",
      " 2   Style   581 non-null    object        \n",
      " 3   Review  576 non-null    object        \n",
      "dtypes: datetime64[ns](1), float64(1), object(2)\n",
      "memory usage: 18.3+ KB\n"
     ]
    }
   ],
   "source": [
    "coffee2.info()"
   ]
  },
  {
   "cell_type": "code",
   "execution_count": 7,
   "id": "1b157d4c",
   "metadata": {
    "scrolled": true
   },
   "outputs": [
    {
     "name": "stdout",
     "output_type": "stream",
     "text": [
      "<class 'pandas.core.frame.DataFrame'>\n",
      "RangeIndex: 4984 entries, 0 to 4983\n",
      "Data columns (total 4 columns):\n",
      " #   Column  Non-Null Count  Dtype         \n",
      "---  ------  --------------  -----         \n",
      " 0   Star    4984 non-null   float64       \n",
      " 1   Date    4984 non-null   datetime64[ns]\n",
      " 2   Style   4984 non-null   object        \n",
      " 3   Review  4976 non-null   object        \n",
      "dtypes: datetime64[ns](1), float64(1), object(2)\n",
      "memory usage: 155.9+ KB\n"
     ]
    }
   ],
   "source": [
    "coffee3.info()"
   ]
  },
  {
   "cell_type": "code",
   "execution_count": null,
   "id": "abca328d",
   "metadata": {},
   "outputs": [],
   "source": []
  }
 ],
 "metadata": {
  "kernelspec": {
   "display_name": "Python 3 (ipykernel)",
   "language": "python",
   "name": "python3"
  },
  "language_info": {
   "codemirror_mode": {
    "name": "ipython",
    "version": 3
   },
   "file_extension": ".py",
   "mimetype": "text/x-python",
   "name": "python",
   "nbconvert_exporter": "python",
   "pygments_lexer": "ipython3",
   "version": "3.9.12"
  },
  "vscode": {
   "interpreter": {
    "hash": "4fb426db0f3ee2be9e5ab359abf5d058c2a19de96b4d6eda446b2c3017042fa6"
   }
  }
 },
 "nbformat": 4,
 "nbformat_minor": 5
}
