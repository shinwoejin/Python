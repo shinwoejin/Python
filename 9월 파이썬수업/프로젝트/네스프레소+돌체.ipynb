{
 "cells": [
  {
   "cell_type": "code",
   "execution_count": 1,
   "id": "2e6b3a8e",
   "metadata": {},
   "outputs": [],
   "source": [
    "from selenium import webdriver\n",
    "from webdriver_manager.chrome import ChromeDriverManager\n",
    "import pandas as pd\n",
    "from bs4 import BeautifulSoup as bs\n",
    "from selenium.webdriver.common.keys import Keys\n",
    "from selenium.webdriver.common.action_chains import ActionChains\n",
    "import time\n",
    "from tqdm import tqdm_notebook as tqdm\n",
    "import requests as req\n",
    "import numpy as np\n",
    "import pandas as pd\n",
    "import matplotlib.pyplot as plt\n",
    "import seaborn as sns\n",
    "\n",
    "from sklearn.ensemble import RandomForestRegressor\n",
    "from sklearn.linear_model import LinearRegression\n",
    "\n",
    "import warnings\n",
    "warnings.filterwarnings('ignore')\n",
    "\n",
    "from matplotlib.pylab import rcParams\n",
    "rcParams['figure.figsize'] = 17, 8\n",
    "rcParams['font.family'] ='malgun Gothic' #AppleGothic"
   ]
  },
  {
   "cell_type": "code",
   "execution_count": 2,
   "id": "4fbc50f6",
   "metadata": {},
   "outputs": [
    {
     "name": "stdout",
     "output_type": "stream",
     "text": [
      "<class 'pandas.core.frame.DataFrame'>\n",
      "RangeIndex: 2090 entries, 0 to 2089\n",
      "Data columns (total 6 columns):\n",
      " #   Column      Non-Null Count  Dtype  \n",
      "---  ------      --------------  -----  \n",
      " 0   Unnamed: 0  2090 non-null   int64  \n",
      " 1   Star        2090 non-null   float64\n",
      " 2   Date        2090 non-null   object \n",
      " 3   Style       2090 non-null   object \n",
      " 4   Color       2090 non-null   object \n",
      " 5   Review      2083 non-null   object \n",
      "dtypes: float64(1), int64(1), object(4)\n",
      "memory usage: 98.1+ KB\n"
     ]
    }
   ],
   "source": [
    "#네스프레소.csv파일 가져오기\n",
    "nes = pd.read_csv(\"네스프레소.csv\", encoding = 'utf-8')\n",
    "#nes['Star'] = nes['Star'].str.extract(r'(\\d+.\\d+)')\n",
    "nes.info()"
   ]
  },
  {
   "cell_type": "code",
   "execution_count": 3,
   "id": "39e4494a",
   "metadata": {},
   "outputs": [
    {
     "data": {
      "text/html": [
       "<div>\n",
       "<style scoped>\n",
       "    .dataframe tbody tr th:only-of-type {\n",
       "        vertical-align: middle;\n",
       "    }\n",
       "\n",
       "    .dataframe tbody tr th {\n",
       "        vertical-align: top;\n",
       "    }\n",
       "\n",
       "    .dataframe thead th {\n",
       "        text-align: right;\n",
       "    }\n",
       "</style>\n",
       "<table border=\"1\" class=\"dataframe\">\n",
       "  <thead>\n",
       "    <tr style=\"text-align: right;\">\n",
       "      <th></th>\n",
       "      <th>Style</th>\n",
       "    </tr>\n",
       "  </thead>\n",
       "  <tbody>\n",
       "    <tr>\n",
       "      <th>0</th>\n",
       "      <td>머신 + 에어로</td>\n",
       "    </tr>\n",
       "    <tr>\n",
       "      <th>1</th>\n",
       "      <td>기계 전용</td>\n",
       "    </tr>\n",
       "    <tr>\n",
       "      <th>2</th>\n",
       "      <td>기계 전용</td>\n",
       "    </tr>\n",
       "    <tr>\n",
       "      <th>3</th>\n",
       "      <td>머신 + 에어로</td>\n",
       "    </tr>\n",
       "    <tr>\n",
       "      <th>4</th>\n",
       "      <td>기계 전용</td>\n",
       "    </tr>\n",
       "    <tr>\n",
       "      <th>...</th>\n",
       "      <td>...</td>\n",
       "    </tr>\n",
       "    <tr>\n",
       "      <th>2085</th>\n",
       "      <td>기계 전용</td>\n",
       "    </tr>\n",
       "    <tr>\n",
       "      <th>2086</th>\n",
       "      <td>머신 + 에어로</td>\n",
       "    </tr>\n",
       "    <tr>\n",
       "      <th>2087</th>\n",
       "      <td>기계 전용</td>\n",
       "    </tr>\n",
       "    <tr>\n",
       "      <th>2088</th>\n",
       "      <td>기계 전용</td>\n",
       "    </tr>\n",
       "    <tr>\n",
       "      <th>2089</th>\n",
       "      <td>머신 + 에어로</td>\n",
       "    </tr>\n",
       "  </tbody>\n",
       "</table>\n",
       "<p>2090 rows × 1 columns</p>\n",
       "</div>"
      ],
      "text/plain": [
       "         Style\n",
       "0     머신 + 에어로\n",
       "1        기계 전용\n",
       "2        기계 전용\n",
       "3     머신 + 에어로\n",
       "4        기계 전용\n",
       "...        ...\n",
       "2085     기계 전용\n",
       "2086  머신 + 에어로\n",
       "2087     기계 전용\n",
       "2088     기계 전용\n",
       "2089  머신 + 에어로\n",
       "\n",
       "[2090 rows x 1 columns]"
      ]
     },
     "execution_count": 3,
     "metadata": {},
     "output_type": "execute_result"
    }
   ],
   "source": [
    "homecafe = nes['Style'].str.split(\"색상:\", expand = True)\n",
    "homecafe[0] = homecafe[0].str.replace(\"스타일: \", \"\")\n",
    "homecafe.rename(columns={0: \"Style\", 1: \"Color\"}, inplace=True)\n",
    "homecafe"
   ]
  },
  {
   "cell_type": "code",
   "execution_count": 4,
   "id": "feb9c982",
   "metadata": {},
   "outputs": [
    {
     "data": {
      "text/plain": [
       "0      2017-12-15\n",
       "1      2018-11-28\n",
       "2      2018-12-10\n",
       "3      2022-09-15\n",
       "4      2022-09-24\n",
       "          ...    \n",
       "2085   2018-01-14\n",
       "2086   2021-12-28\n",
       "2087   2017-12-11\n",
       "2088   2017-12-15\n",
       "2089   2018-11-28\n",
       "Name: Date, Length: 2090, dtype: datetime64[ns]"
      ]
     },
     "execution_count": 4,
     "metadata": {},
     "output_type": "execute_result"
    }
   ],
   "source": [
    "ymd = nes['Date'].str.replace(\"Reviewed in the United States 🇺🇸 on \", \"\")\n",
    "ymd = ymd.str.replace(\"년 \", \"-\")\n",
    "ymd = ymd.str.replace(\"월 \", \"-\")\n",
    "ymd = ymd.str.replace(\"일\", \"\")\n",
    "ymdf = pd.to_datetime(ymd)\n",
    "ymdf"
   ]
  },
  {
   "cell_type": "code",
   "execution_count": null,
   "id": "6c50c9d4",
   "metadata": {
    "scrolled": true
   },
   "outputs": [],
   "source": [
    "# homecafe['Star'] = cafe1['Star']\n",
    "# homecafe = homecafe[['Star','Style','Color']]\n",
    "# homecafe['Review'] = cafe1['Review']"
   ]
  },
  {
   "cell_type": "code",
   "execution_count": 5,
   "id": "ef57bd04",
   "metadata": {},
   "outputs": [
    {
     "data": {
      "text/html": [
       "<div>\n",
       "<style scoped>\n",
       "    .dataframe tbody tr th:only-of-type {\n",
       "        vertical-align: middle;\n",
       "    }\n",
       "\n",
       "    .dataframe tbody tr th {\n",
       "        vertical-align: top;\n",
       "    }\n",
       "\n",
       "    .dataframe thead th {\n",
       "        text-align: right;\n",
       "    }\n",
       "</style>\n",
       "<table border=\"1\" class=\"dataframe\">\n",
       "  <thead>\n",
       "    <tr style=\"text-align: right;\">\n",
       "      <th></th>\n",
       "      <th>Style</th>\n",
       "      <th>Date</th>\n",
       "    </tr>\n",
       "  </thead>\n",
       "  <tbody>\n",
       "    <tr>\n",
       "      <th>0</th>\n",
       "      <td>머신 + 에어로</td>\n",
       "      <td>2017-12-15</td>\n",
       "    </tr>\n",
       "    <tr>\n",
       "      <th>1</th>\n",
       "      <td>기계 전용</td>\n",
       "      <td>2018-11-28</td>\n",
       "    </tr>\n",
       "    <tr>\n",
       "      <th>2</th>\n",
       "      <td>기계 전용</td>\n",
       "      <td>2018-12-10</td>\n",
       "    </tr>\n",
       "    <tr>\n",
       "      <th>3</th>\n",
       "      <td>머신 + 에어로</td>\n",
       "      <td>2022-09-15</td>\n",
       "    </tr>\n",
       "    <tr>\n",
       "      <th>4</th>\n",
       "      <td>기계 전용</td>\n",
       "      <td>2022-09-24</td>\n",
       "    </tr>\n",
       "    <tr>\n",
       "      <th>...</th>\n",
       "      <td>...</td>\n",
       "      <td>...</td>\n",
       "    </tr>\n",
       "    <tr>\n",
       "      <th>2085</th>\n",
       "      <td>기계 전용</td>\n",
       "      <td>2018-01-14</td>\n",
       "    </tr>\n",
       "    <tr>\n",
       "      <th>2086</th>\n",
       "      <td>머신 + 에어로</td>\n",
       "      <td>2021-12-28</td>\n",
       "    </tr>\n",
       "    <tr>\n",
       "      <th>2087</th>\n",
       "      <td>기계 전용</td>\n",
       "      <td>2017-12-11</td>\n",
       "    </tr>\n",
       "    <tr>\n",
       "      <th>2088</th>\n",
       "      <td>기계 전용</td>\n",
       "      <td>2017-12-15</td>\n",
       "    </tr>\n",
       "    <tr>\n",
       "      <th>2089</th>\n",
       "      <td>머신 + 에어로</td>\n",
       "      <td>2018-11-28</td>\n",
       "    </tr>\n",
       "  </tbody>\n",
       "</table>\n",
       "<p>2090 rows × 2 columns</p>\n",
       "</div>"
      ],
      "text/plain": [
       "         Style       Date\n",
       "0     머신 + 에어로 2017-12-15\n",
       "1        기계 전용 2018-11-28\n",
       "2        기계 전용 2018-12-10\n",
       "3     머신 + 에어로 2022-09-15\n",
       "4        기계 전용 2022-09-24\n",
       "...        ...        ...\n",
       "2085     기계 전용 2018-01-14\n",
       "2086  머신 + 에어로 2021-12-28\n",
       "2087     기계 전용 2017-12-11\n",
       "2088     기계 전용 2017-12-15\n",
       "2089  머신 + 에어로 2018-11-28\n",
       "\n",
       "[2090 rows x 2 columns]"
      ]
     },
     "execution_count": 5,
     "metadata": {},
     "output_type": "execute_result"
    }
   ],
   "source": [
    "homecafe['Date'] = ymdf\n",
    "homecafe"
   ]
  },
  {
   "cell_type": "code",
   "execution_count": null,
   "id": "6ab60ae0",
   "metadata": {
    "scrolled": true
   },
   "outputs": [],
   "source": [
    "# homecafe = homecafe[['Star','Date','Style','Color','Review']]\n",
    "# homecafe"
   ]
  },
  {
   "cell_type": "code",
   "execution_count": 6,
   "id": "6c090539",
   "metadata": {},
   "outputs": [],
   "source": [
    "homecafe = pd.DataFrame(homecafe)"
   ]
  },
  {
   "cell_type": "code",
   "execution_count": 7,
   "id": "b8865e1c",
   "metadata": {
    "scrolled": true
   },
   "outputs": [],
   "source": [
    "# homecafe = homecafe.astype({'Star':'float'})\n",
    "# homecafe"
   ]
  },
  {
   "cell_type": "code",
   "execution_count": 8,
   "id": "999b2862",
   "metadata": {},
   "outputs": [
    {
     "name": "stdout",
     "output_type": "stream",
     "text": [
      "<class 'pandas.core.frame.DataFrame'>\n",
      "RangeIndex: 2090 entries, 0 to 2089\n",
      "Data columns (total 2 columns):\n",
      " #   Column  Non-Null Count  Dtype         \n",
      "---  ------  --------------  -----         \n",
      " 0   Style   2090 non-null   object        \n",
      " 1   Date    2090 non-null   datetime64[ns]\n",
      "dtypes: datetime64[ns](1), object(1)\n",
      "memory usage: 32.8+ KB\n"
     ]
    }
   ],
   "source": [
    "homecafe.info()"
   ]
  },
  {
   "cell_type": "code",
   "execution_count": null,
   "id": "2c250b2d",
   "metadata": {
    "scrolled": true
   },
   "outputs": [],
   "source": [
    "# print(homecafe.Style.unique())\n",
    "# print(homecafe.Color.unique())"
   ]
  },
  {
   "cell_type": "code",
   "execution_count": null,
   "id": "dbad3c61",
   "metadata": {},
   "outputs": [
    {
     "data": {
      "text/plain": [
       "기계 전용                 1192\n",
       "머신 + 에어로               852\n",
       "기계 + 캡슐 세트              18\n",
       "기계 + 에어로치노 + 캡슐 세트      15\n",
       "기계 + 캡슐 VertuoLine       8\n",
       "머신 + 에어로치노               5\n",
       "Name: Style, dtype: int64"
      ]
     },
     "execution_count": 92,
     "metadata": {},
     "output_type": "execute_result"
    }
   ],
   "source": [
    "#옵션별 리뷰 갯수\n",
    "style1 = homecafe['Style'].value_counts()\n",
    "style1"
   ]
  },
  {
   "cell_type": "code",
   "execution_count": null,
   "id": "16df6cc5",
   "metadata": {},
   "outputs": [
    {
     "data": {
      "text/plain": [
       "기계 전용                 1192\n",
       "머신 + 에어로               852\n",
       "기계 + 캡슐 세트              18\n",
       "기계 + 에어로치노 + 캡슐 세트      15\n",
       "기계 + 캡슐 VertuoLine       8\n",
       "머신 + 에어로치노               5\n",
       "Name: Style, dtype: int64"
      ]
     },
     "execution_count": 93,
     "metadata": {},
     "output_type": "execute_result"
    }
   ],
   "source": [
    "y1 = style1[['기계 전용','머신 + 에어로','기계 + 캡슐 세트','기계 + 에어로치노 + 캡슐 세트','기계 + 캡슐 VertuoLine','머신 + 에어로치노'\n",
    "]]\n",
    "y1"
   ]
  },
  {
   "cell_type": "code",
   "execution_count": null,
   "id": "49a26963",
   "metadata": {
    "scrolled": false
   },
   "outputs": [
    {
     "data": {
      "image/png": "[encoded data removed]",
      "text/plain": [
       "<Figure size 1224x576 with 1 Axes>"
      ]
     },
     "metadata": {
      "needs_background": "light"
     },
     "output_type": "display_data"
    }
   ],
   "source": [
    "x = y1.index\n",
    "plt.bar(x,y1)\n",
    "plt.title('옵션 별 리뷰 수')\n",
    "plt.xlabel('옵션')\n",
    "plt.ylabel('리뷰 수').set_rotation(0)\n",
    "plt.show()"
   ]
  },
  {
   "cell_type": "code",
   "execution_count": null,
   "id": "a2f67581",
   "metadata": {},
   "outputs": [
    {
     "data": {
      "text/plain": [
       " 그레이         1106\n",
       " 블랙           440\n",
       " 레드           238\n",
       " 타이탄.         236\n",
       " LE 블랙 매트      54\n",
       " 잉크 블랙.        11\n",
       " 매트 블랙.         5\n",
       "Name: Color, dtype: int64"
      ]
     },
     "execution_count": 15,
     "metadata": {},
     "output_type": "execute_result"
    }
   ],
   "source": [
    "#색상별 리뷰 갯수\n",
    "color1 = homecafe['Color'].value_counts()\n",
    "color1"
   ]
  },
  {
   "cell_type": "code",
   "execution_count": null,
   "id": "8eb2197e",
   "metadata": {},
   "outputs": [
    {
     "data": {
      "text/plain": [
       "5.0    1250\n",
       "1.0     438\n",
       "4.0     142\n",
       "2.0     132\n",
       "3.0     128\n",
       "Name: Star, dtype: int64"
      ]
     },
     "execution_count": 16,
     "metadata": {},
     "output_type": "execute_result"
    }
   ],
   "source": [
    "#별점별 리뷰 갯수\n",
    "star1 = homecafe['Star'].value_counts()\n",
    "star1"
   ]
  },
  {
   "cell_type": "code",
   "execution_count": null,
   "id": "62a722d8",
   "metadata": {},
   "outputs": [
    {
     "data": {
      "text/plain": [
       "1.0     438\n",
       "2.0     132\n",
       "3.0     128\n",
       "4.0     142\n",
       "5.0    1250\n",
       "Name: Star, dtype: int64"
      ]
     },
     "execution_count": 31,
     "metadata": {},
     "output_type": "execute_result"
    }
   ],
   "source": [
    "y = star1[[1.0,2.0,3.0,4.0,5.0]]\n",
    "y"
   ]
  },
  {
   "cell_type": "code",
   "execution_count": null,
   "id": "5d0f03ca",
   "metadata": {
    "scrolled": false
   },
   "outputs": [
    {
     "data": {
      "image/png": "[encoded data removed]",
      "text/plain": [
       "<Figure size 1224x576 with 1 Axes>"
      ]
     },
     "metadata": {
      "needs_background": "light"
     },
     "output_type": "display_data"
    }
   ],
   "source": [
    "x = y.index\n",
    "plt.bar(x,y)\n",
    "plt.title('평점 별 리뷰 수')\n",
    "plt.xlabel('평점')\n",
    "plt.ylabel('리뷰 수').set_rotation(0)\n",
    "plt.show()"
   ]
  },
  {
   "cell_type": "code",
   "execution_count": null,
   "id": "f875cb92",
   "metadata": {},
   "outputs": [],
   "source": [
    "#년도별로 쪼개기\n",
    "homecafe['year'] = homecafe['Date'].dt.year\n",
    "homecafe['month'] = homecafe['Date'].dt.month\n",
    "homecafe['day'] = homecafe['Date'].dt.day"
   ]
  },
  {
   "cell_type": "code",
   "execution_count": null,
   "id": "ad882365",
   "metadata": {
    "scrolled": true
   },
   "outputs": [
    {
     "data": {
      "text/html": [
       "<div>\n",
       "<style scoped>\n",
       "    .dataframe tbody tr th:only-of-type {\n",
       "        vertical-align: middle;\n",
       "    }\n",
       "\n",
       "    .dataframe tbody tr th {\n",
       "        vertical-align: top;\n",
       "    }\n",
       "\n",
       "    .dataframe thead th {\n",
       "        text-align: right;\n",
       "    }\n",
       "</style>\n",
       "<table border=\"1\" class=\"dataframe\">\n",
       "  <thead>\n",
       "    <tr style=\"text-align: right;\">\n",
       "      <th></th>\n",
       "      <th>Star</th>\n",
       "      <th>Date</th>\n",
       "      <th>Style</th>\n",
       "      <th>Color</th>\n",
       "      <th>Review</th>\n",
       "      <th>year</th>\n",
       "      <th>month</th>\n",
       "      <th>day</th>\n",
       "    </tr>\n",
       "  </thead>\n",
       "  <tbody>\n",
       "    <tr>\n",
       "      <th>0</th>\n",
       "      <td>5.0</td>\n",
       "      <td>2017-12-15</td>\n",
       "      <td>머신 + 에어로</td>\n",
       "      <td>그레이</td>\n",
       "      <td>\"Is this a good coffee maker?\" Well, that's go...</td>\n",
       "      <td>2017</td>\n",
       "      <td>12</td>\n",
       "      <td>15</td>\n",
       "    </tr>\n",
       "    <tr>\n",
       "      <th>1</th>\n",
       "      <td>5.0</td>\n",
       "      <td>2018-11-28</td>\n",
       "      <td>기계 전용</td>\n",
       "      <td>블랙</td>\n",
       "      <td>We have used this machine daily since purchase...</td>\n",
       "      <td>2018</td>\n",
       "      <td>11</td>\n",
       "      <td>28</td>\n",
       "    </tr>\n",
       "    <tr>\n",
       "      <th>2</th>\n",
       "      <td>5.0</td>\n",
       "      <td>2018-12-10</td>\n",
       "      <td>기계 전용</td>\n",
       "      <td>그레이</td>\n",
       "      <td>The inside box that the machine came in had be...</td>\n",
       "      <td>2018</td>\n",
       "      <td>12</td>\n",
       "      <td>10</td>\n",
       "    </tr>\n",
       "    <tr>\n",
       "      <th>3</th>\n",
       "      <td>5.0</td>\n",
       "      <td>2022-09-15</td>\n",
       "      <td>머신 + 에어로</td>\n",
       "      <td>타이탄.</td>\n",
       "      <td>I’m loving this machine! I’ve had many differe...</td>\n",
       "      <td>2022</td>\n",
       "      <td>9</td>\n",
       "      <td>15</td>\n",
       "    </tr>\n",
       "    <tr>\n",
       "      <th>4</th>\n",
       "      <td>5.0</td>\n",
       "      <td>2022-09-24</td>\n",
       "      <td>기계 전용</td>\n",
       "      <td>블랙</td>\n",
       "      <td>This is the best purchase! My fiancé and I use...</td>\n",
       "      <td>2022</td>\n",
       "      <td>9</td>\n",
       "      <td>24</td>\n",
       "    </tr>\n",
       "    <tr>\n",
       "      <th>...</th>\n",
       "      <td>...</td>\n",
       "      <td>...</td>\n",
       "      <td>...</td>\n",
       "      <td>...</td>\n",
       "      <td>...</td>\n",
       "      <td>...</td>\n",
       "      <td>...</td>\n",
       "      <td>...</td>\n",
       "    </tr>\n",
       "    <tr>\n",
       "      <th>2085</th>\n",
       "      <td>5.0</td>\n",
       "      <td>2018-01-14</td>\n",
       "      <td>기계 전용</td>\n",
       "      <td>그레이</td>\n",
       "      <td>SO MUCH FLAVOR.</td>\n",
       "      <td>2018</td>\n",
       "      <td>1</td>\n",
       "      <td>14</td>\n",
       "    </tr>\n",
       "    <tr>\n",
       "      <th>2086</th>\n",
       "      <td>4.0</td>\n",
       "      <td>2021-12-28</td>\n",
       "      <td>머신 + 에어로</td>\n",
       "      <td>그레이</td>\n",
       "      <td>I've only had my Nespresso machine for a short...</td>\n",
       "      <td>2021</td>\n",
       "      <td>12</td>\n",
       "      <td>28</td>\n",
       "    </tr>\n",
       "    <tr>\n",
       "      <th>2087</th>\n",
       "      <td>5.0</td>\n",
       "      <td>2017-12-11</td>\n",
       "      <td>기계 전용</td>\n",
       "      <td>레드</td>\n",
       "      <td>Nice and elegant</td>\n",
       "      <td>2017</td>\n",
       "      <td>12</td>\n",
       "      <td>11</td>\n",
       "    </tr>\n",
       "    <tr>\n",
       "      <th>2088</th>\n",
       "      <td>5.0</td>\n",
       "      <td>2017-12-15</td>\n",
       "      <td>기계 전용</td>\n",
       "      <td>블랙</td>\n",
       "      <td>This machine has changed the way I do mornings...</td>\n",
       "      <td>2017</td>\n",
       "      <td>12</td>\n",
       "      <td>15</td>\n",
       "    </tr>\n",
       "    <tr>\n",
       "      <th>2089</th>\n",
       "      <td>5.0</td>\n",
       "      <td>2018-11-28</td>\n",
       "      <td>머신 + 에어로</td>\n",
       "      <td>그레이</td>\n",
       "      <td>I have waited forever to pull the trigger on t...</td>\n",
       "      <td>2018</td>\n",
       "      <td>11</td>\n",
       "      <td>28</td>\n",
       "    </tr>\n",
       "  </tbody>\n",
       "</table>\n",
       "<p>2090 rows × 8 columns</p>\n",
       "</div>"
      ],
      "text/plain": [
       "      Star       Date     Style  Color  \\\n",
       "0      5.0 2017-12-15  머신 + 에어로    그레이   \n",
       "1      5.0 2018-11-28     기계 전용     블랙   \n",
       "2      5.0 2018-12-10     기계 전용    그레이   \n",
       "3      5.0 2022-09-15  머신 + 에어로   타이탄.   \n",
       "4      5.0 2022-09-24     기계 전용     블랙   \n",
       "...    ...        ...       ...    ...   \n",
       "2085   5.0 2018-01-14     기계 전용    그레이   \n",
       "2086   4.0 2021-12-28  머신 + 에어로    그레이   \n",
       "2087   5.0 2017-12-11     기계 전용     레드   \n",
       "2088   5.0 2017-12-15     기계 전용     블랙   \n",
       "2089   5.0 2018-11-28  머신 + 에어로    그레이   \n",
       "\n",
       "                                                 Review  year  month  day  \n",
       "0     \"Is this a good coffee maker?\" Well, that's go...  2017     12   15  \n",
       "1     We have used this machine daily since purchase...  2018     11   28  \n",
       "2     The inside box that the machine came in had be...  2018     12   10  \n",
       "3     I’m loving this machine! I’ve had many differe...  2022      9   15  \n",
       "4     This is the best purchase! My fiancé and I use...  2022      9   24  \n",
       "...                                                 ...   ...    ...  ...  \n",
       "2085                                    SO MUCH FLAVOR.  2018      1   14  \n",
       "2086  I've only had my Nespresso machine for a short...  2021     12   28  \n",
       "2087                                   Nice and elegant  2017     12   11  \n",
       "2088  This machine has changed the way I do mornings...  2017     12   15  \n",
       "2089  I have waited forever to pull the trigger on t...  2018     11   28  \n",
       "\n",
       "[2090 rows x 8 columns]"
      ]
     },
     "execution_count": 53,
     "metadata": {},
     "output_type": "execute_result"
    }
   ],
   "source": [
    "homecafe"
   ]
  },
  {
   "cell_type": "code",
   "execution_count": null,
   "id": "d1557199",
   "metadata": {},
   "outputs": [
    {
     "data": {
      "text/plain": [
       "2020    441\n",
       "2019    389\n",
       "2021    357\n",
       "2018    351\n",
       "2022    298\n",
       "2017    254\n",
       "Name: year, dtype: int64"
      ]
     },
     "execution_count": 64,
     "metadata": {},
     "output_type": "execute_result"
    }
   ],
   "source": [
    "year = homecafe['year'].value_counts()\n",
    "year"
   ]
  },
  {
   "cell_type": "code",
   "execution_count": null,
   "id": "2d9e9cd8",
   "metadata": {
    "scrolled": true
   },
   "outputs": [],
   "source": [
    "# month= homecafe['month'].value_counts()\n",
    "# month"
   ]
  },
  {
   "cell_type": "code",
   "execution_count": null,
   "id": "4bba9374",
   "metadata": {},
   "outputs": [
    {
     "data": {
      "text/plain": [
       "2017    254\n",
       "2018    351\n",
       "2019    389\n",
       "2020    441\n",
       "2021    357\n",
       "2022    298\n",
       "Name: year, dtype: int64"
      ]
     },
     "execution_count": 69,
     "metadata": {},
     "output_type": "execute_result"
    }
   ],
   "source": [
    "y2 = year[[2017,2018,2019,2020,2021,2022]]\n",
    "y2"
   ]
  },
  {
   "cell_type": "code",
   "execution_count": null,
   "id": "381c2160",
   "metadata": {
    "scrolled": true
   },
   "outputs": [
    {
     "data": {
      "text/html": [
       "<div>\n",
       "<style scoped>\n",
       "    .dataframe tbody tr th:only-of-type {\n",
       "        vertical-align: middle;\n",
       "    }\n",
       "\n",
       "    .dataframe tbody tr th {\n",
       "        vertical-align: top;\n",
       "    }\n",
       "\n",
       "    .dataframe thead th {\n",
       "        text-align: right;\n",
       "    }\n",
       "</style>\n",
       "<table border=\"1\" class=\"dataframe\">\n",
       "  <thead>\n",
       "    <tr style=\"text-align: right;\">\n",
       "      <th></th>\n",
       "      <th>Star</th>\n",
       "      <th>month</th>\n",
       "      <th>day</th>\n",
       "    </tr>\n",
       "    <tr>\n",
       "      <th>year</th>\n",
       "      <th></th>\n",
       "      <th></th>\n",
       "      <th></th>\n",
       "    </tr>\n",
       "  </thead>\n",
       "  <tbody>\n",
       "    <tr>\n",
       "      <th>2017</th>\n",
       "      <td>905.0</td>\n",
       "      <td>2852</td>\n",
       "      <td>3894</td>\n",
       "    </tr>\n",
       "    <tr>\n",
       "      <th>2018</th>\n",
       "      <td>1280.0</td>\n",
       "      <td>3155</td>\n",
       "      <td>7822</td>\n",
       "    </tr>\n",
       "    <tr>\n",
       "      <th>2019</th>\n",
       "      <td>1418.0</td>\n",
       "      <td>2276</td>\n",
       "      <td>6085</td>\n",
       "    </tr>\n",
       "    <tr>\n",
       "      <th>2020</th>\n",
       "      <td>1661.0</td>\n",
       "      <td>2577</td>\n",
       "      <td>7077</td>\n",
       "    </tr>\n",
       "    <tr>\n",
       "      <th>2021</th>\n",
       "      <td>1364.0</td>\n",
       "      <td>2055</td>\n",
       "      <td>5503</td>\n",
       "    </tr>\n",
       "    <tr>\n",
       "      <th>2022</th>\n",
       "      <td>1276.0</td>\n",
       "      <td>1499</td>\n",
       "      <td>4637</td>\n",
       "    </tr>\n",
       "  </tbody>\n",
       "</table>\n",
       "</div>"
      ],
      "text/plain": [
       "        Star  month   day\n",
       "year                     \n",
       "2017   905.0   2852  3894\n",
       "2018  1280.0   3155  7822\n",
       "2019  1418.0   2276  6085\n",
       "2020  1661.0   2577  7077\n",
       "2021  1364.0   2055  5503\n",
       "2022  1276.0   1499  4637"
      ]
     },
     "execution_count": 75,
     "metadata": {},
     "output_type": "execute_result"
    }
   ],
   "source": [
    "#년도별 별점 \n",
    "#year2=homecafe.groupby('year').sum()[['star']]\n",
    "#year2"
   ]
  },
  {
   "cell_type": "code",
   "execution_count": null,
   "id": "9ef3e3b9",
   "metadata": {
    "scrolled": false
   },
   "outputs": [
    {
     "data": {
      "image/png": "[encoded data removed]",
      "text/plain": [
       "<Figure size 1224x576 with 1 Axes>"
      ]
     },
     "metadata": {
      "needs_background": "light"
     },
     "output_type": "display_data"
    }
   ],
   "source": [
    "x = y2.index\n",
    "plt.bar(y2,x)\n",
    "plt.title('연도 별 리뷰 수')\n",
    "plt.xlabel('연도')\n",
    "plt.ylabel('리뷰 수').set_rotation(0)\n",
    "plt.show()"
   ]
  },
  {
   "cell_type": "code",
   "execution_count": null,
   "id": "5746d6c0",
   "metadata": {
    "scrolled": true
   },
   "outputs": [
    {
     "data": {
      "text/html": [
       "<div>\n",
       "<style scoped>\n",
       "    .dataframe tbody tr th:only-of-type {\n",
       "        vertical-align: middle;\n",
       "    }\n",
       "\n",
       "    .dataframe tbody tr th {\n",
       "        vertical-align: top;\n",
       "    }\n",
       "\n",
       "    .dataframe thead th {\n",
       "        text-align: right;\n",
       "    }\n",
       "</style>\n",
       "<table border=\"1\" class=\"dataframe\">\n",
       "  <thead>\n",
       "    <tr style=\"text-align: right;\">\n",
       "      <th></th>\n",
       "      <th>Unnamed: 0</th>\n",
       "      <th>Star</th>\n",
       "      <th>Date</th>\n",
       "      <th>Style</th>\n",
       "      <th>Review</th>\n",
       "    </tr>\n",
       "  </thead>\n",
       "  <tbody>\n",
       "    <tr>\n",
       "      <th>0</th>\n",
       "      <td>0</td>\n",
       "      <td>5.0</td>\n",
       "      <td>2018-08-07</td>\n",
       "      <td>베스트 셀러 팩</td>\n",
       "      <td>I really enjoy this coffee , but, there is not...</td>\n",
       "    </tr>\n",
       "    <tr>\n",
       "      <th>1</th>\n",
       "      <td>1</td>\n",
       "      <td>5.0</td>\n",
       "      <td>2020-01-30</td>\n",
       "      <td>베스트 셀러 팩</td>\n",
       "      <td>You need something quick and to start your day...</td>\n",
       "    </tr>\n",
       "    <tr>\n",
       "      <th>2</th>\n",
       "      <td>2</td>\n",
       "      <td>5.0</td>\n",
       "      <td>2022-09-23</td>\n",
       "      <td>베스트 셀러 팩</td>\n",
       "      <td>It's usually not the freshness I have to worry...</td>\n",
       "    </tr>\n",
       "    <tr>\n",
       "      <th>3</th>\n",
       "      <td>3</td>\n",
       "      <td>5.0</td>\n",
       "      <td>2022-09-16</td>\n",
       "      <td>베스트 셀러 팩</td>\n",
       "      <td>I love a cup of Nespresso. I like coffee but N...</td>\n",
       "    </tr>\n",
       "    <tr>\n",
       "      <th>4</th>\n",
       "      <td>4</td>\n",
       "      <td>5.0</td>\n",
       "      <td>2022-09-14</td>\n",
       "      <td>베스트 셀러 팩</td>\n",
       "      <td>I love that I can quickly make a delicious cup...</td>\n",
       "    </tr>\n",
       "    <tr>\n",
       "      <th>...</th>\n",
       "      <td>...</td>\n",
       "      <td>...</td>\n",
       "      <td>...</td>\n",
       "      <td>...</td>\n",
       "      <td>...</td>\n",
       "    </tr>\n",
       "    <tr>\n",
       "      <th>2477</th>\n",
       "      <td>2477</td>\n",
       "      <td>5.0</td>\n",
       "      <td>2021-06-28</td>\n",
       "      <td>베스트 셀러 팩</td>\n",
       "      <td>I like the product</td>\n",
       "    </tr>\n",
       "    <tr>\n",
       "      <th>2478</th>\n",
       "      <td>2478</td>\n",
       "      <td>5.0</td>\n",
       "      <td>2021-12-21</td>\n",
       "      <td>베스트 셀러 팩</td>\n",
       "      <td>While I like these capsules and I love my nesp...</td>\n",
       "    </tr>\n",
       "    <tr>\n",
       "      <th>2479</th>\n",
       "      <td>2479</td>\n",
       "      <td>5.0</td>\n",
       "      <td>2020-04-19</td>\n",
       "      <td>베스트 셀러 팩</td>\n",
       "      <td>Good product</td>\n",
       "    </tr>\n",
       "    <tr>\n",
       "      <th>2480</th>\n",
       "      <td>2480</td>\n",
       "      <td>5.0</td>\n",
       "      <td>2017-08-23</td>\n",
       "      <td>베스트 셀러 팩</td>\n",
       "      <td>arrived in good condition</td>\n",
       "    </tr>\n",
       "    <tr>\n",
       "      <th>2481</th>\n",
       "      <td>2481</td>\n",
       "      <td>5.0</td>\n",
       "      <td>2021-08-11</td>\n",
       "      <td>베스트 셀러 팩</td>\n",
       "      <td>Read some reviews that pods were smashed when ...</td>\n",
       "    </tr>\n",
       "  </tbody>\n",
       "</table>\n",
       "<p>2482 rows × 5 columns</p>\n",
       "</div>"
      ],
      "text/plain": [
       "      Unnamed: 0  Star        Date     Style  \\\n",
       "0              0   5.0  2018-08-07  베스트 셀러 팩   \n",
       "1              1   5.0  2020-01-30  베스트 셀러 팩   \n",
       "2              2   5.0  2022-09-23  베스트 셀러 팩   \n",
       "3              3   5.0  2022-09-16  베스트 셀러 팩   \n",
       "4              4   5.0  2022-09-14  베스트 셀러 팩   \n",
       "...          ...   ...         ...       ...   \n",
       "2477        2477   5.0  2021-06-28  베스트 셀러 팩   \n",
       "2478        2478   5.0  2021-12-21  베스트 셀러 팩   \n",
       "2479        2479   5.0  2020-04-19  베스트 셀러 팩   \n",
       "2480        2480   5.0  2017-08-23  베스트 셀러 팩   \n",
       "2481        2481   5.0  2021-08-11  베스트 셀러 팩   \n",
       "\n",
       "                                                 Review  \n",
       "0     I really enjoy this coffee , but, there is not...  \n",
       "1     You need something quick and to start your day...  \n",
       "2     It's usually not the freshness I have to worry...  \n",
       "3     I love a cup of Nespresso. I like coffee but N...  \n",
       "4     I love that I can quickly make a delicious cup...  \n",
       "...                                                 ...  \n",
       "2477                                 I like the product  \n",
       "2478  While I like these capsules and I love my nesp...  \n",
       "2479                                       Good product  \n",
       "2480                          arrived in good condition  \n",
       "2481  Read some reviews that pods were smashed when ...  \n",
       "\n",
       "[2482 rows x 5 columns]"
      ]
     },
     "execution_count": 22,
     "metadata": {},
     "output_type": "execute_result"
    }
   ],
   "source": [
    "#캡슐.csv파일 가져오기\n",
    "capsule = pd.read_csv(\"네스프레소캡슐.csv\", encoding = 'utf-8')\n",
    "capsule"
   ]
  },
  {
   "cell_type": "code",
   "execution_count": null,
   "id": "8776d09c",
   "metadata": {
    "scrolled": true
   },
   "outputs": [
    {
     "name": "stdout",
     "output_type": "stream",
     "text": [
      "<class 'pandas.core.frame.DataFrame'>\n",
      "RangeIndex: 2482 entries, 0 to 2481\n",
      "Data columns (total 5 columns):\n",
      " #   Column      Non-Null Count  Dtype         \n",
      "---  ------      --------------  -----         \n",
      " 0   Unnamed: 0  2482 non-null   int64         \n",
      " 1   Star        2482 non-null   float64       \n",
      " 2   Date        2482 non-null   datetime64[ns]\n",
      " 3   Style       2482 non-null   object        \n",
      " 4   Review      2474 non-null   object        \n",
      "dtypes: datetime64[ns](1), float64(1), int64(1), object(2)\n",
      "memory usage: 97.1+ KB\n"
     ]
    }
   ],
   "source": [
    "capsule.info()"
   ]
  },
  {
   "cell_type": "code",
   "execution_count": null,
   "id": "924e35f9",
   "metadata": {},
   "outputs": [],
   "source": [
    "capsule = capsule.astype({'Date':'datetime64[ns]'})"
   ]
  },
  {
   "cell_type": "code",
   "execution_count": null,
   "id": "afd7a228",
   "metadata": {
    "scrolled": true
   },
   "outputs": [
    {
     "data": {
      "text/html": [
       "<div>\n",
       "<style scoped>\n",
       "    .dataframe tbody tr th:only-of-type {\n",
       "        vertical-align: middle;\n",
       "    }\n",
       "\n",
       "    .dataframe tbody tr th {\n",
       "        vertical-align: top;\n",
       "    }\n",
       "\n",
       "    .dataframe thead th {\n",
       "        text-align: right;\n",
       "    }\n",
       "</style>\n",
       "<table border=\"1\" class=\"dataframe\">\n",
       "  <thead>\n",
       "    <tr style=\"text-align: right;\">\n",
       "      <th></th>\n",
       "      <th>Star</th>\n",
       "      <th>Date</th>\n",
       "      <th>Style</th>\n",
       "      <th>Review</th>\n",
       "    </tr>\n",
       "  </thead>\n",
       "  <tbody>\n",
       "    <tr>\n",
       "      <th>0</th>\n",
       "      <td>5.0</td>\n",
       "      <td>2018-08-07</td>\n",
       "      <td>베스트 셀러 팩</td>\n",
       "      <td>I really enjoy this coffee , but, there is not...</td>\n",
       "    </tr>\n",
       "    <tr>\n",
       "      <th>1</th>\n",
       "      <td>5.0</td>\n",
       "      <td>2020-01-30</td>\n",
       "      <td>베스트 셀러 팩</td>\n",
       "      <td>You need something quick and to start your day...</td>\n",
       "    </tr>\n",
       "    <tr>\n",
       "      <th>2</th>\n",
       "      <td>5.0</td>\n",
       "      <td>2022-09-23</td>\n",
       "      <td>베스트 셀러 팩</td>\n",
       "      <td>It's usually not the freshness I have to worry...</td>\n",
       "    </tr>\n",
       "    <tr>\n",
       "      <th>3</th>\n",
       "      <td>5.0</td>\n",
       "      <td>2022-09-16</td>\n",
       "      <td>베스트 셀러 팩</td>\n",
       "      <td>I love a cup of Nespresso. I like coffee but N...</td>\n",
       "    </tr>\n",
       "    <tr>\n",
       "      <th>4</th>\n",
       "      <td>5.0</td>\n",
       "      <td>2022-09-14</td>\n",
       "      <td>베스트 셀러 팩</td>\n",
       "      <td>I love that I can quickly make a delicious cup...</td>\n",
       "    </tr>\n",
       "    <tr>\n",
       "      <th>...</th>\n",
       "      <td>...</td>\n",
       "      <td>...</td>\n",
       "      <td>...</td>\n",
       "      <td>...</td>\n",
       "    </tr>\n",
       "    <tr>\n",
       "      <th>2477</th>\n",
       "      <td>5.0</td>\n",
       "      <td>2021-06-28</td>\n",
       "      <td>베스트 셀러 팩</td>\n",
       "      <td>I like the product</td>\n",
       "    </tr>\n",
       "    <tr>\n",
       "      <th>2478</th>\n",
       "      <td>5.0</td>\n",
       "      <td>2021-12-21</td>\n",
       "      <td>베스트 셀러 팩</td>\n",
       "      <td>While I like these capsules and I love my nesp...</td>\n",
       "    </tr>\n",
       "    <tr>\n",
       "      <th>2479</th>\n",
       "      <td>5.0</td>\n",
       "      <td>2020-04-19</td>\n",
       "      <td>베스트 셀러 팩</td>\n",
       "      <td>Good product</td>\n",
       "    </tr>\n",
       "    <tr>\n",
       "      <th>2480</th>\n",
       "      <td>5.0</td>\n",
       "      <td>2017-08-23</td>\n",
       "      <td>베스트 셀러 팩</td>\n",
       "      <td>arrived in good condition</td>\n",
       "    </tr>\n",
       "    <tr>\n",
       "      <th>2481</th>\n",
       "      <td>5.0</td>\n",
       "      <td>2021-08-11</td>\n",
       "      <td>베스트 셀러 팩</td>\n",
       "      <td>Read some reviews that pods were smashed when ...</td>\n",
       "    </tr>\n",
       "  </tbody>\n",
       "</table>\n",
       "<p>2482 rows × 4 columns</p>\n",
       "</div>"
      ],
      "text/plain": [
       "      Star       Date     Style  \\\n",
       "0      5.0 2018-08-07  베스트 셀러 팩   \n",
       "1      5.0 2020-01-30  베스트 셀러 팩   \n",
       "2      5.0 2022-09-23  베스트 셀러 팩   \n",
       "3      5.0 2022-09-16  베스트 셀러 팩   \n",
       "4      5.0 2022-09-14  베스트 셀러 팩   \n",
       "...    ...        ...       ...   \n",
       "2477   5.0 2021-06-28  베스트 셀러 팩   \n",
       "2478   5.0 2021-12-21  베스트 셀러 팩   \n",
       "2479   5.0 2020-04-19  베스트 셀러 팩   \n",
       "2480   5.0 2017-08-23  베스트 셀러 팩   \n",
       "2481   5.0 2021-08-11  베스트 셀러 팩   \n",
       "\n",
       "                                                 Review  \n",
       "0     I really enjoy this coffee , but, there is not...  \n",
       "1     You need something quick and to start your day...  \n",
       "2     It's usually not the freshness I have to worry...  \n",
       "3     I love a cup of Nespresso. I like coffee but N...  \n",
       "4     I love that I can quickly make a delicious cup...  \n",
       "...                                                 ...  \n",
       "2477                                 I like the product  \n",
       "2478  While I like these capsules and I love my nesp...  \n",
       "2479                                       Good product  \n",
       "2480                          arrived in good condition  \n",
       "2481  Read some reviews that pods were smashed when ...  \n",
       "\n",
       "[2482 rows x 4 columns]"
      ]
     },
     "execution_count": 27,
     "metadata": {},
     "output_type": "execute_result"
    }
   ],
   "source": [
    "cap= capsule.drop(['Unnamed: 0'],axis = 1)\n",
    "cap"
   ]
  },
  {
   "cell_type": "code",
   "execution_count": null,
   "id": "346d666d",
   "metadata": {},
   "outputs": [],
   "source": [
    "#년도별로 쪼개기\n",
    "capsule['year'] = capsule['Date'].dt.year\n",
    "capsule['month'] = capsule['Date'].dt.month\n",
    "capsule['day'] = capsule['Date'].dt.day"
   ]
  },
  {
   "cell_type": "code",
   "execution_count": null,
   "id": "e8e787ab",
   "metadata": {
    "scrolled": true
   },
   "outputs": [
    {
     "data": {
      "text/html": [
       "<div>\n",
       "<style scoped>\n",
       "    .dataframe tbody tr th:only-of-type {\n",
       "        vertical-align: middle;\n",
       "    }\n",
       "\n",
       "    .dataframe tbody tr th {\n",
       "        vertical-align: top;\n",
       "    }\n",
       "\n",
       "    .dataframe thead th {\n",
       "        text-align: right;\n",
       "    }\n",
       "</style>\n",
       "<table border=\"1\" class=\"dataframe\">\n",
       "  <thead>\n",
       "    <tr style=\"text-align: right;\">\n",
       "      <th></th>\n",
       "      <th>Unnamed: 0</th>\n",
       "      <th>Star</th>\n",
       "      <th>Date</th>\n",
       "      <th>Style</th>\n",
       "      <th>Review</th>\n",
       "      <th>year</th>\n",
       "      <th>month</th>\n",
       "      <th>day</th>\n",
       "    </tr>\n",
       "  </thead>\n",
       "  <tbody>\n",
       "    <tr>\n",
       "      <th>0</th>\n",
       "      <td>0</td>\n",
       "      <td>5.0</td>\n",
       "      <td>2018-08-07</td>\n",
       "      <td>베스트 셀러 팩</td>\n",
       "      <td>I really enjoy this coffee , but, there is not...</td>\n",
       "      <td>2018</td>\n",
       "      <td>8</td>\n",
       "      <td>7</td>\n",
       "    </tr>\n",
       "    <tr>\n",
       "      <th>1</th>\n",
       "      <td>1</td>\n",
       "      <td>5.0</td>\n",
       "      <td>2020-01-30</td>\n",
       "      <td>베스트 셀러 팩</td>\n",
       "      <td>You need something quick and to start your day...</td>\n",
       "      <td>2020</td>\n",
       "      <td>1</td>\n",
       "      <td>30</td>\n",
       "    </tr>\n",
       "    <tr>\n",
       "      <th>2</th>\n",
       "      <td>2</td>\n",
       "      <td>5.0</td>\n",
       "      <td>2022-09-23</td>\n",
       "      <td>베스트 셀러 팩</td>\n",
       "      <td>It's usually not the freshness I have to worry...</td>\n",
       "      <td>2022</td>\n",
       "      <td>9</td>\n",
       "      <td>23</td>\n",
       "    </tr>\n",
       "    <tr>\n",
       "      <th>3</th>\n",
       "      <td>3</td>\n",
       "      <td>5.0</td>\n",
       "      <td>2022-09-16</td>\n",
       "      <td>베스트 셀러 팩</td>\n",
       "      <td>I love a cup of Nespresso. I like coffee but N...</td>\n",
       "      <td>2022</td>\n",
       "      <td>9</td>\n",
       "      <td>16</td>\n",
       "    </tr>\n",
       "    <tr>\n",
       "      <th>4</th>\n",
       "      <td>4</td>\n",
       "      <td>5.0</td>\n",
       "      <td>2022-09-14</td>\n",
       "      <td>베스트 셀러 팩</td>\n",
       "      <td>I love that I can quickly make a delicious cup...</td>\n",
       "      <td>2022</td>\n",
       "      <td>9</td>\n",
       "      <td>14</td>\n",
       "    </tr>\n",
       "    <tr>\n",
       "      <th>...</th>\n",
       "      <td>...</td>\n",
       "      <td>...</td>\n",
       "      <td>...</td>\n",
       "      <td>...</td>\n",
       "      <td>...</td>\n",
       "      <td>...</td>\n",
       "      <td>...</td>\n",
       "      <td>...</td>\n",
       "    </tr>\n",
       "    <tr>\n",
       "      <th>2477</th>\n",
       "      <td>2477</td>\n",
       "      <td>5.0</td>\n",
       "      <td>2021-06-28</td>\n",
       "      <td>베스트 셀러 팩</td>\n",
       "      <td>I like the product</td>\n",
       "      <td>2021</td>\n",
       "      <td>6</td>\n",
       "      <td>28</td>\n",
       "    </tr>\n",
       "    <tr>\n",
       "      <th>2478</th>\n",
       "      <td>2478</td>\n",
       "      <td>5.0</td>\n",
       "      <td>2021-12-21</td>\n",
       "      <td>베스트 셀러 팩</td>\n",
       "      <td>While I like these capsules and I love my nesp...</td>\n",
       "      <td>2021</td>\n",
       "      <td>12</td>\n",
       "      <td>21</td>\n",
       "    </tr>\n",
       "    <tr>\n",
       "      <th>2479</th>\n",
       "      <td>2479</td>\n",
       "      <td>5.0</td>\n",
       "      <td>2020-04-19</td>\n",
       "      <td>베스트 셀러 팩</td>\n",
       "      <td>Good product</td>\n",
       "      <td>2020</td>\n",
       "      <td>4</td>\n",
       "      <td>19</td>\n",
       "    </tr>\n",
       "    <tr>\n",
       "      <th>2480</th>\n",
       "      <td>2480</td>\n",
       "      <td>5.0</td>\n",
       "      <td>2017-08-23</td>\n",
       "      <td>베스트 셀러 팩</td>\n",
       "      <td>arrived in good condition</td>\n",
       "      <td>2017</td>\n",
       "      <td>8</td>\n",
       "      <td>23</td>\n",
       "    </tr>\n",
       "    <tr>\n",
       "      <th>2481</th>\n",
       "      <td>2481</td>\n",
       "      <td>5.0</td>\n",
       "      <td>2021-08-11</td>\n",
       "      <td>베스트 셀러 팩</td>\n",
       "      <td>Read some reviews that pods were smashed when ...</td>\n",
       "      <td>2021</td>\n",
       "      <td>8</td>\n",
       "      <td>11</td>\n",
       "    </tr>\n",
       "  </tbody>\n",
       "</table>\n",
       "<p>2482 rows × 8 columns</p>\n",
       "</div>"
      ],
      "text/plain": [
       "      Unnamed: 0  Star       Date     Style  \\\n",
       "0              0   5.0 2018-08-07  베스트 셀러 팩   \n",
       "1              1   5.0 2020-01-30  베스트 셀러 팩   \n",
       "2              2   5.0 2022-09-23  베스트 셀러 팩   \n",
       "3              3   5.0 2022-09-16  베스트 셀러 팩   \n",
       "4              4   5.0 2022-09-14  베스트 셀러 팩   \n",
       "...          ...   ...        ...       ...   \n",
       "2477        2477   5.0 2021-06-28  베스트 셀러 팩   \n",
       "2478        2478   5.0 2021-12-21  베스트 셀러 팩   \n",
       "2479        2479   5.0 2020-04-19  베스트 셀러 팩   \n",
       "2480        2480   5.0 2017-08-23  베스트 셀러 팩   \n",
       "2481        2481   5.0 2021-08-11  베스트 셀러 팩   \n",
       "\n",
       "                                                 Review  year  month  day  \n",
       "0     I really enjoy this coffee , but, there is not...  2018      8    7  \n",
       "1     You need something quick and to start your day...  2020      1   30  \n",
       "2     It's usually not the freshness I have to worry...  2022      9   23  \n",
       "3     I love a cup of Nespresso. I like coffee but N...  2022      9   16  \n",
       "4     I love that I can quickly make a delicious cup...  2022      9   14  \n",
       "...                                                 ...   ...    ...  ...  \n",
       "2477                                 I like the product  2021      6   28  \n",
       "2478  While I like these capsules and I love my nesp...  2021     12   21  \n",
       "2479                                       Good product  2020      4   19  \n",
       "2480                          arrived in good condition  2017      8   23  \n",
       "2481  Read some reviews that pods were smashed when ...  2021      8   11  \n",
       "\n",
       "[2482 rows x 8 columns]"
      ]
     },
     "execution_count": 30,
     "metadata": {},
     "output_type": "execute_result"
    }
   ],
   "source": [
    "capsule"
   ]
  },
  {
   "cell_type": "code",
   "execution_count": null,
   "id": "6dd6dac9",
   "metadata": {},
   "outputs": [
    {
     "data": {
      "text/plain": [
       "2020    734\n",
       "2019    441\n",
       "2018    437\n",
       "2021    418\n",
       "2022    364\n",
       "2017     88\n",
       "Name: year, dtype: int64"
      ]
     },
     "execution_count": 31,
     "metadata": {},
     "output_type": "execute_result"
    }
   ],
   "source": [
    "year = capsule['year'].value_counts()\n",
    "year"
   ]
  },
  {
   "cell_type": "code",
   "execution_count": null,
   "id": "082a6f90",
   "metadata": {},
   "outputs": [
    {
     "data": {
      "text/plain": [
       "2017     88\n",
       "2018    437\n",
       "2019    441\n",
       "2020    734\n",
       "2021    418\n",
       "2022    364\n",
       "Name: year, dtype: int64"
      ]
     },
     "execution_count": 32,
     "metadata": {},
     "output_type": "execute_result"
    }
   ],
   "source": [
    "y2 = year[[2017,2018,2019,2020,2021,2022]]\n",
    "y2"
   ]
  },
  {
   "cell_type": "code",
   "execution_count": null,
   "id": "85c1e777",
   "metadata": {},
   "outputs": [
    {
     "data": {
      "image/png": "[encoded data removed]",
      "text/plain": [
       "<Figure size 1224x576 with 1 Axes>"
      ]
     },
     "metadata": {
      "needs_background": "light"
     },
     "output_type": "display_data"
    }
   ],
   "source": [
    "x = y2.index\n",
    "plt.bar(x,y2)\n",
    "plt.title('연도 별 리뷰 수')\n",
    "plt.xlabel('연도')\n",
    "plt.ylabel('리뷰 수').set_rotation(0)\n",
    "plt.show()"
   ]
  },
  {
   "cell_type": "markdown",
   "id": "a064a1bf",
   "metadata": {},
   "source": [
    "#### 상관관계 분석"
   ]
  },
  {
   "cell_type": "code",
   "execution_count": null,
   "id": "3bde391b",
   "metadata": {
    "scrolled": false
   },
   "outputs": [
    {
     "data": {
      "text/html": [
       "<div>\n",
       "<style scoped>\n",
       "    .dataframe tbody tr th:only-of-type {\n",
       "        vertical-align: middle;\n",
       "    }\n",
       "\n",
       "    .dataframe tbody tr th {\n",
       "        vertical-align: top;\n",
       "    }\n",
       "\n",
       "    .dataframe thead th {\n",
       "        text-align: right;\n",
       "    }\n",
       "</style>\n",
       "<table border=\"1\" class=\"dataframe\">\n",
       "  <thead>\n",
       "    <tr style=\"text-align: right;\">\n",
       "      <th></th>\n",
       "      <th>date</th>\n",
       "      <th>corona</th>\n",
       "      <th>capsule</th>\n",
       "      <th>machine</th>\n",
       "    </tr>\n",
       "  </thead>\n",
       "  <tbody>\n",
       "    <tr>\n",
       "      <th>0</th>\n",
       "      <td>2018-01-01</td>\n",
       "      <td>0.00760</td>\n",
       "      <td>14.94429</td>\n",
       "      <td>26.77910</td>\n",
       "    </tr>\n",
       "    <tr>\n",
       "      <th>1</th>\n",
       "      <td>2018-01-02</td>\n",
       "      <td>0.00909</td>\n",
       "      <td>16.51940</td>\n",
       "      <td>34.91785</td>\n",
       "    </tr>\n",
       "    <tr>\n",
       "      <th>2</th>\n",
       "      <td>2018-01-03</td>\n",
       "      <td>0.00825</td>\n",
       "      <td>17.71033</td>\n",
       "      <td>35.31166</td>\n",
       "    </tr>\n",
       "    <tr>\n",
       "      <th>3</th>\n",
       "      <td>2018-01-04</td>\n",
       "      <td>0.00927</td>\n",
       "      <td>16.90357</td>\n",
       "      <td>29.87390</td>\n",
       "    </tr>\n",
       "    <tr>\n",
       "      <th>4</th>\n",
       "      <td>2018-01-05</td>\n",
       "      <td>0.00900</td>\n",
       "      <td>14.25278</td>\n",
       "      <td>25.96364</td>\n",
       "    </tr>\n",
       "    <tr>\n",
       "      <th>...</th>\n",
       "      <td>...</td>\n",
       "      <td>...</td>\n",
       "      <td>...</td>\n",
       "      <td>...</td>\n",
       "    </tr>\n",
       "    <tr>\n",
       "      <th>1515</th>\n",
       "      <td>2022-02-24</td>\n",
       "      <td>10.66069</td>\n",
       "      <td>50.94122</td>\n",
       "      <td>51.58518</td>\n",
       "    </tr>\n",
       "    <tr>\n",
       "      <th>1516</th>\n",
       "      <td>2022-02-25</td>\n",
       "      <td>8.07788</td>\n",
       "      <td>42.91202</td>\n",
       "      <td>42.51163</td>\n",
       "    </tr>\n",
       "    <tr>\n",
       "      <th>1517</th>\n",
       "      <td>2022-02-26</td>\n",
       "      <td>6.00255</td>\n",
       "      <td>51.32539</td>\n",
       "      <td>38.14391</td>\n",
       "    </tr>\n",
       "    <tr>\n",
       "      <th>1518</th>\n",
       "      <td>2022-02-27</td>\n",
       "      <td>5.26656</td>\n",
       "      <td>50.94122</td>\n",
       "      <td>40.27208</td>\n",
       "    </tr>\n",
       "    <tr>\n",
       "      <th>1519</th>\n",
       "      <td>2022-02-28</td>\n",
       "      <td>7.29310</td>\n",
       "      <td>44.10295</td>\n",
       "      <td>40.72556</td>\n",
       "    </tr>\n",
       "  </tbody>\n",
       "</table>\n",
       "<p>1520 rows × 4 columns</p>\n",
       "</div>"
      ],
      "text/plain": [
       "            date    corona   capsule   machine\n",
       "0     2018-01-01   0.00760  14.94429  26.77910\n",
       "1     2018-01-02   0.00909  16.51940  34.91785\n",
       "2     2018-01-03   0.00825  17.71033  35.31166\n",
       "3     2018-01-04   0.00927  16.90357  29.87390\n",
       "4     2018-01-05   0.00900  14.25278  25.96364\n",
       "...          ...       ...       ...       ...\n",
       "1515  2022-02-24  10.66069  50.94122  51.58518\n",
       "1516  2022-02-25   8.07788  42.91202  42.51163\n",
       "1517  2022-02-26   6.00255  51.32539  38.14391\n",
       "1518  2022-02-27   5.26656  50.94122  40.27208\n",
       "1519  2022-02-28   7.29310  44.10295  40.72556\n",
       "\n",
       "[1520 rows x 4 columns]"
      ]
     },
     "execution_count": 97,
     "metadata": {},
     "output_type": "execute_result"
    }
   ],
   "source": [
    "#trend.csv파일 가져오기\n",
    "trend = pd.read_csv(\"trend.csv\", encoding = 'utf-8')\n",
    "trend"
   ]
  },
  {
   "cell_type": "code",
   "execution_count": null,
   "id": "5c82482d",
   "metadata": {
    "scrolled": false
   },
   "outputs": [
    {
     "data": {
      "text/plain": [
       "[<matplotlib.lines.Line2D at 0x278d2752910>]"
      ]
     },
     "execution_count": 99,
     "metadata": {},
     "output_type": "execute_result"
    },
    {
     "data": {
      "image/png": "[encoded data removed]",
      "text/plain": [
       "<Figure size 1224x576 with 1 Axes>"
      ]
     },
     "metadata": {
      "needs_background": "light"
     },
     "output_type": "display_data"
    }
   ],
   "source": [
    "plt.plot(trend[\"capsule\"])"
   ]
  },
  {
   "cell_type": "code",
   "execution_count": null,
   "id": "4212e169",
   "metadata": {
    "scrolled": false
   },
   "outputs": [
    {
     "data": {
      "text/plain": [
       "[<matplotlib.lines.Line2D at 0x278d270af10>]"
      ]
     },
     "execution_count": 98,
     "metadata": {},
     "output_type": "execute_result"
    },
    {
     "data": {
      "image/png": "[encoded data removed]",
      "text/plain": [
       "<Figure size 1224x576 with 1 Axes>"
      ]
     },
     "metadata": {
      "needs_background": "light"
     },
     "output_type": "display_data"
    }
   ],
   "source": [
    "plt.plot(trend[\"machine\"])"
   ]
  },
  {
   "cell_type": "code",
   "execution_count": null,
   "id": "933e0039",
   "metadata": {},
   "outputs": [
    {
     "data": {
      "text/html": [
       "<div>\n",
       "<style scoped>\n",
       "    .dataframe tbody tr th:only-of-type {\n",
       "        vertical-align: middle;\n",
       "    }\n",
       "\n",
       "    .dataframe tbody tr th {\n",
       "        vertical-align: top;\n",
       "    }\n",
       "\n",
       "    .dataframe thead th {\n",
       "        text-align: right;\n",
       "    }\n",
       "</style>\n",
       "<table border=\"1\" class=\"dataframe\">\n",
       "  <thead>\n",
       "    <tr style=\"text-align: right;\">\n",
       "      <th></th>\n",
       "      <th>corona</th>\n",
       "      <th>capsule</th>\n",
       "      <th>machine</th>\n",
       "    </tr>\n",
       "  </thead>\n",
       "  <tbody>\n",
       "    <tr>\n",
       "      <th>corona</th>\n",
       "      <td>1.000000</td>\n",
       "      <td>0.484159</td>\n",
       "      <td>0.542067</td>\n",
       "    </tr>\n",
       "    <tr>\n",
       "      <th>capsule</th>\n",
       "      <td>0.484159</td>\n",
       "      <td>1.000000</td>\n",
       "      <td>0.743205</td>\n",
       "    </tr>\n",
       "    <tr>\n",
       "      <th>machine</th>\n",
       "      <td>0.542067</td>\n",
       "      <td>0.743205</td>\n",
       "      <td>1.000000</td>\n",
       "    </tr>\n",
       "  </tbody>\n",
       "</table>\n",
       "</div>"
      ],
      "text/plain": [
       "           corona   capsule   machine\n",
       "corona   1.000000  0.484159  0.542067\n",
       "capsule  0.484159  1.000000  0.743205\n",
       "machine  0.542067  0.743205  1.000000"
      ]
     },
     "execution_count": 13,
     "metadata": {},
     "output_type": "execute_result"
    }
   ],
   "source": [
    "#상관관계\n",
    "corr=trend.corr()\n",
    "corr"
   ]
  },
  {
   "cell_type": "code",
   "execution_count": null,
   "id": "49947310",
   "metadata": {
    "scrolled": true
   },
   "outputs": [
    {
     "data": {
      "text/plain": [
       "<AxesSubplot:>"
      ]
     },
     "execution_count": 18,
     "metadata": {},
     "output_type": "execute_result"
    },
    {
     "data": {
      "image/png": "[encoded data removed]",
      "text/plain": [
       "<Figure size 576x288 with 2 Axes>"
      ]
     },
     "metadata": {
      "needs_background": "light"
     },
     "output_type": "display_data"
    }
   ],
   "source": [
    "plt.figure(figsize=(8,4))\n",
    "sns.heatmap(data = trend.corr(), annot=True, fmt = '.2f', linewidths=.5, cmap='Blues')"
   ]
  },
  {
   "cell_type": "code",
   "execution_count": null,
   "id": "2271376d",
   "metadata": {
    "scrolled": true
   },
   "outputs": [
    {
     "data": {
      "text/html": [
       "<div>\n",
       "<style scoped>\n",
       "    .dataframe tbody tr th:only-of-type {\n",
       "        vertical-align: middle;\n",
       "    }\n",
       "\n",
       "    .dataframe tbody tr th {\n",
       "        vertical-align: top;\n",
       "    }\n",
       "\n",
       "    .dataframe thead th {\n",
       "        text-align: right;\n",
       "    }\n",
       "</style>\n",
       "<table border=\"1\" class=\"dataframe\">\n",
       "  <thead>\n",
       "    <tr style=\"text-align: right;\">\n",
       "      <th></th>\n",
       "      <th>Unnamed: 0</th>\n",
       "      <th>Star</th>\n",
       "      <th>Date</th>\n",
       "      <th>Style</th>\n",
       "      <th>Review</th>\n",
       "    </tr>\n",
       "  </thead>\n",
       "  <tbody>\n",
       "    <tr>\n",
       "      <th>0</th>\n",
       "      <td>0</td>\n",
       "      <td>5.0</td>\n",
       "      <td>2018-01-27</td>\n",
       "      <td>Brushed Stainless Steel</td>\n",
       "      <td>Despite some of the negative criticism sprinkl...</td>\n",
       "    </tr>\n",
       "    <tr>\n",
       "      <th>1</th>\n",
       "      <td>1</td>\n",
       "      <td>4.0</td>\n",
       "      <td>2017-06-16</td>\n",
       "      <td>Brushed Stainless Steel</td>\n",
       "      <td>This is the first espresso machine I've ever o...</td>\n",
       "    </tr>\n",
       "    <tr>\n",
       "      <th>2</th>\n",
       "      <td>2</td>\n",
       "      <td>4.0</td>\n",
       "      <td>2018-01-27</td>\n",
       "      <td>Black Sesame</td>\n",
       "      <td>Okay so it takes me around 15 minutes but I cl...</td>\n",
       "    </tr>\n",
       "    <tr>\n",
       "      <th>3</th>\n",
       "      <td>3</td>\n",
       "      <td>5.0</td>\n",
       "      <td>2020-12-06</td>\n",
       "      <td>Brushed Stainless Steel</td>\n",
       "      <td>Update 9/19/2020-- The machine continues to ma...</td>\n",
       "    </tr>\n",
       "    <tr>\n",
       "      <th>4</th>\n",
       "      <td>4</td>\n",
       "      <td>5.0</td>\n",
       "      <td>2022-08-14</td>\n",
       "      <td>Brushed Stainless Steel</td>\n",
       "      <td>Update June 2nd 2019: Still use it daily, and ...</td>\n",
       "    </tr>\n",
       "    <tr>\n",
       "      <th>...</th>\n",
       "      <td>...</td>\n",
       "      <td>...</td>\n",
       "      <td>...</td>\n",
       "      <td>...</td>\n",
       "      <td>...</td>\n",
       "    </tr>\n",
       "    <tr>\n",
       "      <th>4979</th>\n",
       "      <td>4979</td>\n",
       "      <td>5.0</td>\n",
       "      <td>2022-07-02</td>\n",
       "      <td>Brushed Stainless Steel</td>\n",
       "      <td>If you’re a coffee person, you can’t go wrong ...</td>\n",
       "    </tr>\n",
       "    <tr>\n",
       "      <th>4980</th>\n",
       "      <td>4980</td>\n",
       "      <td>5.0</td>\n",
       "      <td>2018-01-27</td>\n",
       "      <td>Brushed Stainless Steel</td>\n",
       "      <td>Play Video\\n I wanted this for a long time. Wa...</td>\n",
       "    </tr>\n",
       "    <tr>\n",
       "      <th>4981</th>\n",
       "      <td>4981</td>\n",
       "      <td>5.0</td>\n",
       "      <td>2017-06-16</td>\n",
       "      <td>Brushed Stainless Steel</td>\n",
       "      <td>Play Video\\n I recommend this coffee machine, ...</td>\n",
       "    </tr>\n",
       "    <tr>\n",
       "      <th>4982</th>\n",
       "      <td>4982</td>\n",
       "      <td>5.0</td>\n",
       "      <td>2020-01-18</td>\n",
       "      <td>Brushed Stainless Steel</td>\n",
       "      <td>Great so far</td>\n",
       "    </tr>\n",
       "    <tr>\n",
       "      <th>4983</th>\n",
       "      <td>4983</td>\n",
       "      <td>5.0</td>\n",
       "      <td>2013-11-12</td>\n",
       "      <td>Black Sesame</td>\n",
       "      <td>Bought this for my adult son. Loved it. Moved ...</td>\n",
       "    </tr>\n",
       "  </tbody>\n",
       "</table>\n",
       "<p>4984 rows × 5 columns</p>\n",
       "</div>"
      ],
      "text/plain": [
       "      Unnamed: 0  Star        Date                     Style  \\\n",
       "0              0   5.0  2018-01-27   Brushed Stainless Steel   \n",
       "1              1   4.0  2017-06-16   Brushed Stainless Steel   \n",
       "2              2   4.0  2018-01-27              Black Sesame   \n",
       "3              3   5.0  2020-12-06   Brushed Stainless Steel   \n",
       "4              4   5.0  2022-08-14   Brushed Stainless Steel   \n",
       "...          ...   ...         ...                       ...   \n",
       "4979        4979   5.0  2022-07-02   Brushed Stainless Steel   \n",
       "4980        4980   5.0  2018-01-27   Brushed Stainless Steel   \n",
       "4981        4981   5.0  2017-06-16   Brushed Stainless Steel   \n",
       "4982        4982   5.0  2020-01-18   Brushed Stainless Steel   \n",
       "4983        4983   5.0  2013-11-12              Black Sesame   \n",
       "\n",
       "                                                 Review  \n",
       "0     Despite some of the negative criticism sprinkl...  \n",
       "1     This is the first espresso machine I've ever o...  \n",
       "2     Okay so it takes me around 15 minutes but I cl...  \n",
       "3     Update 9/19/2020-- The machine continues to ma...  \n",
       "4     Update June 2nd 2019: Still use it daily, and ...  \n",
       "...                                                 ...  \n",
       "4979  If you’re a coffee person, you can’t go wrong ...  \n",
       "4980  Play Video\\n I wanted this for a long time. Wa...  \n",
       "4981  Play Video\\n I recommend this coffee machine, ...  \n",
       "4982                                       Great so far  \n",
       "4983  Bought this for my adult son. Loved it. Moved ...  \n",
       "\n",
       "[4984 rows x 5 columns]"
      ]
     },
     "execution_count": 35,
     "metadata": {},
     "output_type": "execute_result"
    }
   ],
   "source": [
    "ban = pd.read_csv(\"반자동.csv\", encoding = 'utf-8')\n",
    "ban"
   ]
  },
  {
   "cell_type": "code",
   "execution_count": null,
   "id": "77752c46",
   "metadata": {},
   "outputs": [],
   "source": [
    "ban = ban.astype({'Date':'datetime64[ns]'})"
   ]
  },
  {
   "cell_type": "code",
   "execution_count": null,
   "id": "24424840",
   "metadata": {
    "scrolled": true
   },
   "outputs": [
    {
     "data": {
      "text/html": [
       "<div>\n",
       "<style scoped>\n",
       "    .dataframe tbody tr th:only-of-type {\n",
       "        vertical-align: middle;\n",
       "    }\n",
       "\n",
       "    .dataframe tbody tr th {\n",
       "        vertical-align: top;\n",
       "    }\n",
       "\n",
       "    .dataframe thead th {\n",
       "        text-align: right;\n",
       "    }\n",
       "</style>\n",
       "<table border=\"1\" class=\"dataframe\">\n",
       "  <thead>\n",
       "    <tr style=\"text-align: right;\">\n",
       "      <th></th>\n",
       "      <th>Star</th>\n",
       "      <th>Date</th>\n",
       "      <th>Style</th>\n",
       "      <th>Review</th>\n",
       "    </tr>\n",
       "  </thead>\n",
       "  <tbody>\n",
       "    <tr>\n",
       "      <th>0</th>\n",
       "      <td>5.0</td>\n",
       "      <td>2018-01-27</td>\n",
       "      <td>Brushed Stainless Steel</td>\n",
       "      <td>Despite some of the negative criticism sprinkl...</td>\n",
       "    </tr>\n",
       "    <tr>\n",
       "      <th>1</th>\n",
       "      <td>4.0</td>\n",
       "      <td>2017-06-16</td>\n",
       "      <td>Brushed Stainless Steel</td>\n",
       "      <td>This is the first espresso machine I've ever o...</td>\n",
       "    </tr>\n",
       "    <tr>\n",
       "      <th>2</th>\n",
       "      <td>4.0</td>\n",
       "      <td>2018-01-27</td>\n",
       "      <td>Black Sesame</td>\n",
       "      <td>Okay so it takes me around 15 minutes but I cl...</td>\n",
       "    </tr>\n",
       "    <tr>\n",
       "      <th>3</th>\n",
       "      <td>5.0</td>\n",
       "      <td>2020-12-06</td>\n",
       "      <td>Brushed Stainless Steel</td>\n",
       "      <td>Update 9/19/2020-- The machine continues to ma...</td>\n",
       "    </tr>\n",
       "    <tr>\n",
       "      <th>4</th>\n",
       "      <td>5.0</td>\n",
       "      <td>2022-08-14</td>\n",
       "      <td>Brushed Stainless Steel</td>\n",
       "      <td>Update June 2nd 2019: Still use it daily, and ...</td>\n",
       "    </tr>\n",
       "    <tr>\n",
       "      <th>...</th>\n",
       "      <td>...</td>\n",
       "      <td>...</td>\n",
       "      <td>...</td>\n",
       "      <td>...</td>\n",
       "    </tr>\n",
       "    <tr>\n",
       "      <th>4979</th>\n",
       "      <td>5.0</td>\n",
       "      <td>2022-07-02</td>\n",
       "      <td>Brushed Stainless Steel</td>\n",
       "      <td>If you’re a coffee person, you can’t go wrong ...</td>\n",
       "    </tr>\n",
       "    <tr>\n",
       "      <th>4980</th>\n",
       "      <td>5.0</td>\n",
       "      <td>2018-01-27</td>\n",
       "      <td>Brushed Stainless Steel</td>\n",
       "      <td>Play Video\\n I wanted this for a long time. Wa...</td>\n",
       "    </tr>\n",
       "    <tr>\n",
       "      <th>4981</th>\n",
       "      <td>5.0</td>\n",
       "      <td>2017-06-16</td>\n",
       "      <td>Brushed Stainless Steel</td>\n",
       "      <td>Play Video\\n I recommend this coffee machine, ...</td>\n",
       "    </tr>\n",
       "    <tr>\n",
       "      <th>4982</th>\n",
       "      <td>5.0</td>\n",
       "      <td>2020-01-18</td>\n",
       "      <td>Brushed Stainless Steel</td>\n",
       "      <td>Great so far</td>\n",
       "    </tr>\n",
       "    <tr>\n",
       "      <th>4983</th>\n",
       "      <td>5.0</td>\n",
       "      <td>2013-11-12</td>\n",
       "      <td>Black Sesame</td>\n",
       "      <td>Bought this for my adult son. Loved it. Moved ...</td>\n",
       "    </tr>\n",
       "  </tbody>\n",
       "</table>\n",
       "<p>4984 rows × 4 columns</p>\n",
       "</div>"
      ],
      "text/plain": [
       "      Star       Date                     Style  \\\n",
       "0      5.0 2018-01-27   Brushed Stainless Steel   \n",
       "1      4.0 2017-06-16   Brushed Stainless Steel   \n",
       "2      4.0 2018-01-27              Black Sesame   \n",
       "3      5.0 2020-12-06   Brushed Stainless Steel   \n",
       "4      5.0 2022-08-14   Brushed Stainless Steel   \n",
       "...    ...        ...                       ...   \n",
       "4979   5.0 2022-07-02   Brushed Stainless Steel   \n",
       "4980   5.0 2018-01-27   Brushed Stainless Steel   \n",
       "4981   5.0 2017-06-16   Brushed Stainless Steel   \n",
       "4982   5.0 2020-01-18   Brushed Stainless Steel   \n",
       "4983   5.0 2013-11-12              Black Sesame   \n",
       "\n",
       "                                                 Review  \n",
       "0     Despite some of the negative criticism sprinkl...  \n",
       "1     This is the first espresso machine I've ever o...  \n",
       "2     Okay so it takes me around 15 minutes but I cl...  \n",
       "3     Update 9/19/2020-- The machine continues to ma...  \n",
       "4     Update June 2nd 2019: Still use it daily, and ...  \n",
       "...                                                 ...  \n",
       "4979  If you’re a coffee person, you can’t go wrong ...  \n",
       "4980  Play Video\\n I wanted this for a long time. Wa...  \n",
       "4981  Play Video\\n I recommend this coffee machine, ...  \n",
       "4982                                       Great so far  \n",
       "4983  Bought this for my adult son. Loved it. Moved ...  \n",
       "\n",
       "[4984 rows x 4 columns]"
      ]
     },
     "execution_count": 38,
     "metadata": {},
     "output_type": "execute_result"
    }
   ],
   "source": [
    "auto= ban.drop(['Unnamed: 0'],axis = 1)\n",
    "auto"
   ]
  },
  {
   "cell_type": "code",
   "execution_count": null,
   "id": "52ede83c",
   "metadata": {},
   "outputs": [],
   "source": [
    "auto['year'] = auto['Date'].dt.year\n",
    "auto['month'] = auto['Date'].dt.month\n",
    "auto['day'] = auto['Date'].dt.day"
   ]
  },
  {
   "cell_type": "code",
   "execution_count": null,
   "id": "ea67831d",
   "metadata": {
    "scrolled": true
   },
   "outputs": [
    {
     "data": {
      "text/plain": [
       "2020    919\n",
       "2018    852\n",
       "2017    768\n",
       "2019    739\n",
       "2021    690\n",
       "2022    387\n",
       "2016    266\n",
       "2015    181\n",
       "2014    140\n",
       "2013     42\n",
       "Name: year, dtype: int64"
      ]
     },
     "execution_count": 40,
     "metadata": {},
     "output_type": "execute_result"
    }
   ],
   "source": [
    "year = auto['year'].value_counts()\n",
    "year"
   ]
  },
  {
   "cell_type": "code",
   "execution_count": null,
   "id": "4b115db5",
   "metadata": {},
   "outputs": [
    {
     "data": {
      "text/plain": [
       "(2013     42\n",
       " 2014    140\n",
       " 2015    181\n",
       " 2016    266\n",
       " 2017    768\n",
       " 2018    852\n",
       " 2019    739\n",
       " 2020    919\n",
       " 2021    690\n",
       " 2022    387\n",
       " Name: year, dtype: int64,)"
      ]
     },
     "execution_count": 52,
     "metadata": {},
     "output_type": "execute_result"
    }
   ],
   "source": [
    "y2 = year[[2013,2014,2015,2016,2017,2018,2019,2020,2021,2022]]\n",
    "y2"
   ]
  },
  {
   "cell_type": "code",
   "execution_count": null,
   "id": "0e3dc553",
   "metadata": {
    "scrolled": false
   },
   "outputs": [
    {
     "data": {
      "image/png": "[encoded data removed]",
      "text/plain": [
       "<Figure size 1224x576 with 1 Axes>"
      ]
     },
     "metadata": {
      "needs_background": "light"
     },
     "output_type": "display_data"
    }
   ],
   "source": [
    "x = y2.index\n",
    "plt.bar(x,y2)\n",
    "plt.title('연도 별 리뷰 수')\n",
    "plt.xlabel('연도')\n",
    "plt.ylabel('리뷰 수').set_rotation(0)\n",
    "plt.show()"
   ]
  },
  {
   "cell_type": "code",
   "execution_count": null,
   "id": "d5f00209",
   "metadata": {
    "scrolled": true
   },
   "outputs": [
    {
     "data": {
      "text/html": [
       "<div>\n",
       "<style scoped>\n",
       "    .dataframe tbody tr th:only-of-type {\n",
       "        vertical-align: middle;\n",
       "    }\n",
       "\n",
       "    .dataframe tbody tr th {\n",
       "        vertical-align: top;\n",
       "    }\n",
       "\n",
       "    .dataframe thead th {\n",
       "        text-align: right;\n",
       "    }\n",
       "</style>\n",
       "<table border=\"1\" class=\"dataframe\">\n",
       "  <thead>\n",
       "    <tr style=\"text-align: right;\">\n",
       "      <th></th>\n",
       "      <th>Unnamed: 0</th>\n",
       "      <th>Star</th>\n",
       "      <th>Date</th>\n",
       "      <th>Style</th>\n",
       "      <th>Review</th>\n",
       "    </tr>\n",
       "  </thead>\n",
       "  <tbody>\n",
       "    <tr>\n",
       "      <th>0</th>\n",
       "      <td>0</td>\n",
       "      <td>4.0</td>\n",
       "      <td>2022-09-16</td>\n",
       "      <td>Genio 2</td>\n",
       "      <td>I used to own a Dolce gusto Circolo (beautiful...</td>\n",
       "    </tr>\n",
       "    <tr>\n",
       "      <th>1</th>\n",
       "      <td>1</td>\n",
       "      <td>5.0</td>\n",
       "      <td>2021-01-03</td>\n",
       "      <td>Genio 2</td>\n",
       "      <td>We had one of Dolce Gusto machines since 2012,...</td>\n",
       "    </tr>\n",
       "    <tr>\n",
       "      <th>2</th>\n",
       "      <td>2</td>\n",
       "      <td>3.0</td>\n",
       "      <td>2022-09-16</td>\n",
       "      <td>Genio 2</td>\n",
       "      <td>PROS\\n- Doesn't take up much space\\n- Easy to ...</td>\n",
       "    </tr>\n",
       "    <tr>\n",
       "      <th>3</th>\n",
       "      <td>3</td>\n",
       "      <td>5.0</td>\n",
       "      <td>2022-09-22</td>\n",
       "      <td>Genio 2</td>\n",
       "      <td>I already have an espresso machine, but bought...</td>\n",
       "    </tr>\n",
       "    <tr>\n",
       "      <th>4</th>\n",
       "      <td>4</td>\n",
       "      <td>4.0</td>\n",
       "      <td>2021-01-03</td>\n",
       "      <td>Genio 2</td>\n",
       "      <td>Trying desperately to ween myself off of expen...</td>\n",
       "    </tr>\n",
       "    <tr>\n",
       "      <th>...</th>\n",
       "      <td>...</td>\n",
       "      <td>...</td>\n",
       "      <td>...</td>\n",
       "      <td>...</td>\n",
       "      <td>...</td>\n",
       "    </tr>\n",
       "    <tr>\n",
       "      <th>576</th>\n",
       "      <td>576</td>\n",
       "      <td>5.0</td>\n",
       "      <td>2022-09-16</td>\n",
       "      <td>Genio 2</td>\n",
       "      <td>Good</td>\n",
       "    </tr>\n",
       "    <tr>\n",
       "      <th>577</th>\n",
       "      <td>577</td>\n",
       "      <td>5.0</td>\n",
       "      <td>2021-01-03</td>\n",
       "      <td>Genio 2</td>\n",
       "      <td>This is the BEST espresso machine ever! I have...</td>\n",
       "    </tr>\n",
       "    <tr>\n",
       "      <th>578</th>\n",
       "      <td>578</td>\n",
       "      <td>5.0</td>\n",
       "      <td>2020-01-18</td>\n",
       "      <td>Genio 2</td>\n",
       "      <td>Love it</td>\n",
       "    </tr>\n",
       "    <tr>\n",
       "      <th>579</th>\n",
       "      <td>579</td>\n",
       "      <td>5.0</td>\n",
       "      <td>2020-09-18</td>\n",
       "      <td>Genio 2</td>\n",
       "      <td>Good</td>\n",
       "    </tr>\n",
       "    <tr>\n",
       "      <th>580</th>\n",
       "      <td>580</td>\n",
       "      <td>5.0</td>\n",
       "      <td>2020-03-12</td>\n",
       "      <td>Genio 2</td>\n",
       "      <td>Great</td>\n",
       "    </tr>\n",
       "  </tbody>\n",
       "</table>\n",
       "<p>581 rows × 5 columns</p>\n",
       "</div>"
      ],
      "text/plain": [
       "     Unnamed: 0  Star        Date    Style  \\\n",
       "0             0   4.0  2022-09-16  Genio 2   \n",
       "1             1   5.0  2021-01-03  Genio 2   \n",
       "2             2   3.0  2022-09-16  Genio 2   \n",
       "3             3   5.0  2022-09-22  Genio 2   \n",
       "4             4   4.0  2021-01-03  Genio 2   \n",
       "..          ...   ...         ...      ...   \n",
       "576         576   5.0  2022-09-16  Genio 2   \n",
       "577         577   5.0  2021-01-03  Genio 2   \n",
       "578         578   5.0  2020-01-18  Genio 2   \n",
       "579         579   5.0  2020-09-18  Genio 2   \n",
       "580         580   5.0  2020-03-12  Genio 2   \n",
       "\n",
       "                                                Review  \n",
       "0    I used to own a Dolce gusto Circolo (beautiful...  \n",
       "1    We had one of Dolce Gusto machines since 2012,...  \n",
       "2    PROS\\n- Doesn't take up much space\\n- Easy to ...  \n",
       "3    I already have an espresso machine, but bought...  \n",
       "4    Trying desperately to ween myself off of expen...  \n",
       "..                                                 ...  \n",
       "576                                               Good  \n",
       "577  This is the BEST espresso machine ever! I have...  \n",
       "578                                            Love it  \n",
       "579                                               Good  \n",
       "580                                              Great  \n",
       "\n",
       "[581 rows x 5 columns]"
      ]
     },
     "execution_count": 76,
     "metadata": {},
     "output_type": "execute_result"
    }
   ],
   "source": [
    "dol = pd.read_csv(\"돌체.csv\", encoding = 'utf-8')\n",
    "dol"
   ]
  },
  {
   "cell_type": "code",
   "execution_count": null,
   "id": "e13ad098",
   "metadata": {
    "scrolled": true
   },
   "outputs": [
    {
     "name": "stdout",
     "output_type": "stream",
     "text": [
      "<class 'pandas.core.frame.DataFrame'>\n",
      "RangeIndex: 581 entries, 0 to 580\n",
      "Data columns (total 5 columns):\n",
      " #   Column      Non-Null Count  Dtype  \n",
      "---  ------      --------------  -----  \n",
      " 0   Unnamed: 0  581 non-null    int64  \n",
      " 1   Star        581 non-null    float64\n",
      " 2   Date        581 non-null    object \n",
      " 3   Style       581 non-null    object \n",
      " 4   Review      576 non-null    object \n",
      "dtypes: float64(1), int64(1), object(3)\n",
      "memory usage: 22.8+ KB\n"
     ]
    }
   ],
   "source": [
    "dol.info()"
   ]
  },
  {
   "cell_type": "code",
   "execution_count": null,
   "id": "faf9f289",
   "metadata": {},
   "outputs": [],
   "source": [
    "dol = dol.astype({'Date':'datetime64[ns]'})\n",
    "auto = auto.astype({'Date':'datetime64[ns]'})"
   ]
  },
  {
   "cell_type": "code",
   "execution_count": null,
   "id": "86353831",
   "metadata": {},
   "outputs": [
    {
     "name": "stdout",
     "output_type": "stream",
     "text": [
      "<class 'pandas.core.frame.DataFrame'>\n",
      "RangeIndex: 581 entries, 0 to 580\n",
      "Data columns (total 4 columns):\n",
      " #   Column  Non-Null Count  Dtype  \n",
      "---  ------  --------------  -----  \n",
      " 0   Star    581 non-null    float64\n",
      " 1   Date    581 non-null    object \n",
      " 2   Style   581 non-null    object \n",
      " 3   Review  576 non-null    object \n",
      "dtypes: float64(1), object(3)\n",
      "memory usage: 18.3+ KB\n"
     ]
    }
   ],
   "source": [
    "auto.info()"
   ]
  },
  {
   "cell_type": "code",
   "execution_count": null,
   "id": "8e88805b",
   "metadata": {
    "scrolled": true
   },
   "outputs": [
    {
     "data": {
      "text/html": [
       "<div>\n",
       "<style scoped>\n",
       "    .dataframe tbody tr th:only-of-type {\n",
       "        vertical-align: middle;\n",
       "    }\n",
       "\n",
       "    .dataframe tbody tr th {\n",
       "        vertical-align: top;\n",
       "    }\n",
       "\n",
       "    .dataframe thead th {\n",
       "        text-align: right;\n",
       "    }\n",
       "</style>\n",
       "<table border=\"1\" class=\"dataframe\">\n",
       "  <thead>\n",
       "    <tr style=\"text-align: right;\">\n",
       "      <th></th>\n",
       "      <th>Star</th>\n",
       "      <th>Date</th>\n",
       "      <th>Style</th>\n",
       "      <th>Review</th>\n",
       "    </tr>\n",
       "  </thead>\n",
       "  <tbody>\n",
       "    <tr>\n",
       "      <th>0</th>\n",
       "      <td>4.0</td>\n",
       "      <td>2022-09-16</td>\n",
       "      <td>Genio 2</td>\n",
       "      <td>I used to own a Dolce gusto Circolo (beautiful...</td>\n",
       "    </tr>\n",
       "    <tr>\n",
       "      <th>1</th>\n",
       "      <td>5.0</td>\n",
       "      <td>2021-01-03</td>\n",
       "      <td>Genio 2</td>\n",
       "      <td>We had one of Dolce Gusto machines since 2012,...</td>\n",
       "    </tr>\n",
       "    <tr>\n",
       "      <th>2</th>\n",
       "      <td>3.0</td>\n",
       "      <td>2022-09-16</td>\n",
       "      <td>Genio 2</td>\n",
       "      <td>PROS\\n- Doesn't take up much space\\n- Easy to ...</td>\n",
       "    </tr>\n",
       "    <tr>\n",
       "      <th>3</th>\n",
       "      <td>5.0</td>\n",
       "      <td>2022-09-22</td>\n",
       "      <td>Genio 2</td>\n",
       "      <td>I already have an espresso machine, but bought...</td>\n",
       "    </tr>\n",
       "    <tr>\n",
       "      <th>4</th>\n",
       "      <td>4.0</td>\n",
       "      <td>2021-01-03</td>\n",
       "      <td>Genio 2</td>\n",
       "      <td>Trying desperately to ween myself off of expen...</td>\n",
       "    </tr>\n",
       "    <tr>\n",
       "      <th>...</th>\n",
       "      <td>...</td>\n",
       "      <td>...</td>\n",
       "      <td>...</td>\n",
       "      <td>...</td>\n",
       "    </tr>\n",
       "    <tr>\n",
       "      <th>576</th>\n",
       "      <td>5.0</td>\n",
       "      <td>2022-09-16</td>\n",
       "      <td>Genio 2</td>\n",
       "      <td>Good</td>\n",
       "    </tr>\n",
       "    <tr>\n",
       "      <th>577</th>\n",
       "      <td>5.0</td>\n",
       "      <td>2021-01-03</td>\n",
       "      <td>Genio 2</td>\n",
       "      <td>This is the BEST espresso machine ever! I have...</td>\n",
       "    </tr>\n",
       "    <tr>\n",
       "      <th>578</th>\n",
       "      <td>5.0</td>\n",
       "      <td>2020-01-18</td>\n",
       "      <td>Genio 2</td>\n",
       "      <td>Love it</td>\n",
       "    </tr>\n",
       "    <tr>\n",
       "      <th>579</th>\n",
       "      <td>5.0</td>\n",
       "      <td>2020-09-18</td>\n",
       "      <td>Genio 2</td>\n",
       "      <td>Good</td>\n",
       "    </tr>\n",
       "    <tr>\n",
       "      <th>580</th>\n",
       "      <td>5.0</td>\n",
       "      <td>2020-03-12</td>\n",
       "      <td>Genio 2</td>\n",
       "      <td>Great</td>\n",
       "    </tr>\n",
       "  </tbody>\n",
       "</table>\n",
       "<p>581 rows × 4 columns</p>\n",
       "</div>"
      ],
      "text/plain": [
       "     Star        Date    Style  \\\n",
       "0     4.0  2022-09-16  Genio 2   \n",
       "1     5.0  2021-01-03  Genio 2   \n",
       "2     3.0  2022-09-16  Genio 2   \n",
       "3     5.0  2022-09-22  Genio 2   \n",
       "4     4.0  2021-01-03  Genio 2   \n",
       "..    ...         ...      ...   \n",
       "576   5.0  2022-09-16  Genio 2   \n",
       "577   5.0  2021-01-03  Genio 2   \n",
       "578   5.0  2020-01-18  Genio 2   \n",
       "579   5.0  2020-09-18  Genio 2   \n",
       "580   5.0  2020-03-12  Genio 2   \n",
       "\n",
       "                                                Review  \n",
       "0    I used to own a Dolce gusto Circolo (beautiful...  \n",
       "1    We had one of Dolce Gusto machines since 2012,...  \n",
       "2    PROS\\n- Doesn't take up much space\\n- Easy to ...  \n",
       "3    I already have an espresso machine, but bought...  \n",
       "4    Trying desperately to ween myself off of expen...  \n",
       "..                                                 ...  \n",
       "576                                               Good  \n",
       "577  This is the BEST espresso machine ever! I have...  \n",
       "578                                            Love it  \n",
       "579                                               Good  \n",
       "580                                              Great  \n",
       "\n",
       "[581 rows x 4 columns]"
      ]
     },
     "execution_count": 78,
     "metadata": {},
     "output_type": "execute_result"
    }
   ],
   "source": [
    "auto = dol.drop(['Unnamed: 0'],axis = 1)\n",
    "auto"
   ]
  },
  {
   "cell_type": "code",
   "execution_count": null,
   "id": "41af7a42",
   "metadata": {},
   "outputs": [],
   "source": [
    "auto['year'] = auto['Date'].dt.year\n",
    "auto['month'] = auto['Date'].dt.month\n",
    "auto['day'] = auto['Date'].dt.day"
   ]
  },
  {
   "cell_type": "code",
   "execution_count": null,
   "id": "66786040",
   "metadata": {
    "scrolled": true
   },
   "outputs": [
    {
     "data": {
      "text/html": [
       "<div>\n",
       "<style scoped>\n",
       "    .dataframe tbody tr th:only-of-type {\n",
       "        vertical-align: middle;\n",
       "    }\n",
       "\n",
       "    .dataframe tbody tr th {\n",
       "        vertical-align: top;\n",
       "    }\n",
       "\n",
       "    .dataframe thead th {\n",
       "        text-align: right;\n",
       "    }\n",
       "</style>\n",
       "<table border=\"1\" class=\"dataframe\">\n",
       "  <thead>\n",
       "    <tr style=\"text-align: right;\">\n",
       "      <th></th>\n",
       "      <th></th>\n",
       "      <th>Star</th>\n",
       "      <th>Date</th>\n",
       "      <th>Style</th>\n",
       "      <th>Review</th>\n",
       "      <th>year</th>\n",
       "      <th>month</th>\n",
       "      <th>day</th>\n",
       "    </tr>\n",
       "    <tr>\n",
       "      <th>년도</th>\n",
       "      <th>월</th>\n",
       "      <th></th>\n",
       "      <th></th>\n",
       "      <th></th>\n",
       "      <th></th>\n",
       "      <th></th>\n",
       "      <th></th>\n",
       "      <th></th>\n",
       "    </tr>\n",
       "  </thead>\n",
       "  <tbody>\n",
       "    <tr>\n",
       "      <th>2022</th>\n",
       "      <th>9</th>\n",
       "      <td>4.0</td>\n",
       "      <td>2022-09-16</td>\n",
       "      <td>Genio 2</td>\n",
       "      <td>I used to own a Dolce gusto Circolo (beautiful...</td>\n",
       "      <td>2022</td>\n",
       "      <td>9</td>\n",
       "      <td>16</td>\n",
       "    </tr>\n",
       "    <tr>\n",
       "      <th>2021</th>\n",
       "      <th>1</th>\n",
       "      <td>5.0</td>\n",
       "      <td>2021-01-03</td>\n",
       "      <td>Genio 2</td>\n",
       "      <td>We had one of Dolce Gusto machines since 2012,...</td>\n",
       "      <td>2021</td>\n",
       "      <td>1</td>\n",
       "      <td>3</td>\n",
       "    </tr>\n",
       "    <tr>\n",
       "      <th rowspan=\"2\" valign=\"top\">2022</th>\n",
       "      <th>9</th>\n",
       "      <td>3.0</td>\n",
       "      <td>2022-09-16</td>\n",
       "      <td>Genio 2</td>\n",
       "      <td>PROS\\n- Doesn't take up much space\\n- Easy to ...</td>\n",
       "      <td>2022</td>\n",
       "      <td>9</td>\n",
       "      <td>16</td>\n",
       "    </tr>\n",
       "    <tr>\n",
       "      <th>9</th>\n",
       "      <td>5.0</td>\n",
       "      <td>2022-09-22</td>\n",
       "      <td>Genio 2</td>\n",
       "      <td>I already have an espresso machine, but bought...</td>\n",
       "      <td>2022</td>\n",
       "      <td>9</td>\n",
       "      <td>22</td>\n",
       "    </tr>\n",
       "    <tr>\n",
       "      <th>2021</th>\n",
       "      <th>1</th>\n",
       "      <td>4.0</td>\n",
       "      <td>2021-01-03</td>\n",
       "      <td>Genio 2</td>\n",
       "      <td>Trying desperately to ween myself off of expen...</td>\n",
       "      <td>2021</td>\n",
       "      <td>1</td>\n",
       "      <td>3</td>\n",
       "    </tr>\n",
       "    <tr>\n",
       "      <th>...</th>\n",
       "      <th>...</th>\n",
       "      <td>...</td>\n",
       "      <td>...</td>\n",
       "      <td>...</td>\n",
       "      <td>...</td>\n",
       "      <td>...</td>\n",
       "      <td>...</td>\n",
       "      <td>...</td>\n",
       "    </tr>\n",
       "    <tr>\n",
       "      <th>2022</th>\n",
       "      <th>9</th>\n",
       "      <td>5.0</td>\n",
       "      <td>2022-09-16</td>\n",
       "      <td>Genio 2</td>\n",
       "      <td>Good</td>\n",
       "      <td>2022</td>\n",
       "      <td>9</td>\n",
       "      <td>16</td>\n",
       "    </tr>\n",
       "    <tr>\n",
       "      <th>2021</th>\n",
       "      <th>1</th>\n",
       "      <td>5.0</td>\n",
       "      <td>2021-01-03</td>\n",
       "      <td>Genio 2</td>\n",
       "      <td>This is the BEST espresso machine ever! I have...</td>\n",
       "      <td>2021</td>\n",
       "      <td>1</td>\n",
       "      <td>3</td>\n",
       "    </tr>\n",
       "    <tr>\n",
       "      <th rowspan=\"3\" valign=\"top\">2020</th>\n",
       "      <th>1</th>\n",
       "      <td>5.0</td>\n",
       "      <td>2020-01-18</td>\n",
       "      <td>Genio 2</td>\n",
       "      <td>Love it</td>\n",
       "      <td>2020</td>\n",
       "      <td>1</td>\n",
       "      <td>18</td>\n",
       "    </tr>\n",
       "    <tr>\n",
       "      <th>9</th>\n",
       "      <td>5.0</td>\n",
       "      <td>2020-09-18</td>\n",
       "      <td>Genio 2</td>\n",
       "      <td>Good</td>\n",
       "      <td>2020</td>\n",
       "      <td>9</td>\n",
       "      <td>18</td>\n",
       "    </tr>\n",
       "    <tr>\n",
       "      <th>3</th>\n",
       "      <td>5.0</td>\n",
       "      <td>2020-03-12</td>\n",
       "      <td>Genio 2</td>\n",
       "      <td>Great</td>\n",
       "      <td>2020</td>\n",
       "      <td>3</td>\n",
       "      <td>12</td>\n",
       "    </tr>\n",
       "  </tbody>\n",
       "</table>\n",
       "<p>581 rows × 7 columns</p>\n",
       "</div>"
      ],
      "text/plain": [
       "        Star       Date    Style  \\\n",
       "년도   월                             \n",
       "2022 9   4.0 2022-09-16  Genio 2   \n",
       "2021 1   5.0 2021-01-03  Genio 2   \n",
       "2022 9   3.0 2022-09-16  Genio 2   \n",
       "     9   5.0 2022-09-22  Genio 2   \n",
       "2021 1   4.0 2021-01-03  Genio 2   \n",
       "...      ...        ...      ...   \n",
       "2022 9   5.0 2022-09-16  Genio 2   \n",
       "2021 1   5.0 2021-01-03  Genio 2   \n",
       "2020 1   5.0 2020-01-18  Genio 2   \n",
       "     9   5.0 2020-09-18  Genio 2   \n",
       "     3   5.0 2020-03-12  Genio 2   \n",
       "\n",
       "                                                   Review  year  month  day  \n",
       "년도   월                                                                       \n",
       "2022 9  I used to own a Dolce gusto Circolo (beautiful...  2022      9   16  \n",
       "2021 1  We had one of Dolce Gusto machines since 2012,...  2021      1    3  \n",
       "2022 9  PROS\\n- Doesn't take up much space\\n- Easy to ...  2022      9   16  \n",
       "     9  I already have an espresso machine, but bought...  2022      9   22  \n",
       "2021 1  Trying desperately to ween myself off of expen...  2021      1    3  \n",
       "...                                                   ...   ...    ...  ...  \n",
       "2022 9                                               Good  2022      9   16  \n",
       "2021 1  This is the BEST espresso machine ever! I have...  2021      1    3  \n",
       "2020 1                                            Love it  2020      1   18  \n",
       "     9                                               Good  2020      9   18  \n",
       "     3                                              Great  2020      3   12  \n",
       "\n",
       "[581 rows x 7 columns]"
      ]
     },
     "execution_count": 104,
     "metadata": {},
     "output_type": "execute_result"
    }
   ],
   "source": [
    "auto.index = auto['Date']#pd.to_datetime(auto.index,format='%Y년%m월')\n",
    "auto.set_index([auto.index.year,auto.index.month],inplace=True)\n",
    "auto.index.names=['년도','월']\n",
    "auto"
   ]
  },
  {
   "cell_type": "code",
   "execution_count": null,
   "id": "12a1e0dc",
   "metadata": {
    "scrolled": true
   },
   "outputs": [
    {
     "data": {
      "text/html": [
       "<div>\n",
       "<style scoped>\n",
       "    .dataframe tbody tr th:only-of-type {\n",
       "        vertical-align: middle;\n",
       "    }\n",
       "\n",
       "    .dataframe tbody tr th {\n",
       "        vertical-align: top;\n",
       "    }\n",
       "\n",
       "    .dataframe thead th {\n",
       "        text-align: right;\n",
       "    }\n",
       "</style>\n",
       "<table border=\"1\" class=\"dataframe\">\n",
       "  <thead>\n",
       "    <tr style=\"text-align: right;\">\n",
       "      <th></th>\n",
       "      <th></th>\n",
       "      <th>Review</th>\n",
       "    </tr>\n",
       "    <tr>\n",
       "      <th>년도</th>\n",
       "      <th>월</th>\n",
       "      <th></th>\n",
       "    </tr>\n",
       "  </thead>\n",
       "  <tbody>\n",
       "    <tr>\n",
       "      <th rowspan=\"4\" valign=\"top\">2019</th>\n",
       "      <th>9</th>\n",
       "      <td>4</td>\n",
       "    </tr>\n",
       "    <tr>\n",
       "      <th>10</th>\n",
       "      <td>24</td>\n",
       "    </tr>\n",
       "    <tr>\n",
       "      <th>11</th>\n",
       "      <td>12</td>\n",
       "    </tr>\n",
       "    <tr>\n",
       "      <th>12</th>\n",
       "      <td>20</td>\n",
       "    </tr>\n",
       "    <tr>\n",
       "      <th rowspan=\"12\" valign=\"top\">2020</th>\n",
       "      <th>1</th>\n",
       "      <td>19</td>\n",
       "    </tr>\n",
       "    <tr>\n",
       "      <th>2</th>\n",
       "      <td>18</td>\n",
       "    </tr>\n",
       "    <tr>\n",
       "      <th>3</th>\n",
       "      <td>10</td>\n",
       "    </tr>\n",
       "    <tr>\n",
       "      <th>4</th>\n",
       "      <td>5</td>\n",
       "    </tr>\n",
       "    <tr>\n",
       "      <th>5</th>\n",
       "      <td>3</td>\n",
       "    </tr>\n",
       "    <tr>\n",
       "      <th>6</th>\n",
       "      <td>1</td>\n",
       "    </tr>\n",
       "    <tr>\n",
       "      <th>7</th>\n",
       "      <td>9</td>\n",
       "    </tr>\n",
       "    <tr>\n",
       "      <th>8</th>\n",
       "      <td>14</td>\n",
       "    </tr>\n",
       "    <tr>\n",
       "      <th>9</th>\n",
       "      <td>11</td>\n",
       "    </tr>\n",
       "    <tr>\n",
       "      <th>10</th>\n",
       "      <td>13</td>\n",
       "    </tr>\n",
       "    <tr>\n",
       "      <th>11</th>\n",
       "      <td>14</td>\n",
       "    </tr>\n",
       "    <tr>\n",
       "      <th>12</th>\n",
       "      <td>19</td>\n",
       "    </tr>\n",
       "    <tr>\n",
       "      <th rowspan=\"12\" valign=\"top\">2021</th>\n",
       "      <th>1</th>\n",
       "      <td>69</td>\n",
       "    </tr>\n",
       "    <tr>\n",
       "      <th>2</th>\n",
       "      <td>16</td>\n",
       "    </tr>\n",
       "    <tr>\n",
       "      <th>3</th>\n",
       "      <td>28</td>\n",
       "    </tr>\n",
       "    <tr>\n",
       "      <th>4</th>\n",
       "      <td>8</td>\n",
       "    </tr>\n",
       "    <tr>\n",
       "      <th>5</th>\n",
       "      <td>11</td>\n",
       "    </tr>\n",
       "    <tr>\n",
       "      <th>6</th>\n",
       "      <td>15</td>\n",
       "    </tr>\n",
       "    <tr>\n",
       "      <th>7</th>\n",
       "      <td>17</td>\n",
       "    </tr>\n",
       "    <tr>\n",
       "      <th>8</th>\n",
       "      <td>9</td>\n",
       "    </tr>\n",
       "    <tr>\n",
       "      <th>9</th>\n",
       "      <td>14</td>\n",
       "    </tr>\n",
       "    <tr>\n",
       "      <th>10</th>\n",
       "      <td>12</td>\n",
       "    </tr>\n",
       "    <tr>\n",
       "      <th>11</th>\n",
       "      <td>15</td>\n",
       "    </tr>\n",
       "    <tr>\n",
       "      <th>12</th>\n",
       "      <td>15</td>\n",
       "    </tr>\n",
       "    <tr>\n",
       "      <th rowspan=\"9\" valign=\"top\">2022</th>\n",
       "      <th>1</th>\n",
       "      <td>18</td>\n",
       "    </tr>\n",
       "    <tr>\n",
       "      <th>2</th>\n",
       "      <td>11</td>\n",
       "    </tr>\n",
       "    <tr>\n",
       "      <th>3</th>\n",
       "      <td>9</td>\n",
       "    </tr>\n",
       "    <tr>\n",
       "      <th>4</th>\n",
       "      <td>14</td>\n",
       "    </tr>\n",
       "    <tr>\n",
       "      <th>5</th>\n",
       "      <td>13</td>\n",
       "    </tr>\n",
       "    <tr>\n",
       "      <th>6</th>\n",
       "      <td>9</td>\n",
       "    </tr>\n",
       "    <tr>\n",
       "      <th>7</th>\n",
       "      <td>12</td>\n",
       "    </tr>\n",
       "    <tr>\n",
       "      <th>8</th>\n",
       "      <td>9</td>\n",
       "    </tr>\n",
       "    <tr>\n",
       "      <th>9</th>\n",
       "      <td>56</td>\n",
       "    </tr>\n",
       "  </tbody>\n",
       "</table>\n",
       "</div>"
      ],
      "text/plain": [
       "         Review\n",
       "년도   월         \n",
       "2019 9        4\n",
       "     10      24\n",
       "     11      12\n",
       "     12      20\n",
       "2020 1       19\n",
       "     2       18\n",
       "     3       10\n",
       "     4        5\n",
       "     5        3\n",
       "     6        1\n",
       "     7        9\n",
       "     8       14\n",
       "     9       11\n",
       "     10      13\n",
       "     11      14\n",
       "     12      19\n",
       "2021 1       69\n",
       "     2       16\n",
       "     3       28\n",
       "     4        8\n",
       "     5       11\n",
       "     6       15\n",
       "     7       17\n",
       "     8        9\n",
       "     9       14\n",
       "     10      12\n",
       "     11      15\n",
       "     12      15\n",
       "2022 1       18\n",
       "     2       11\n",
       "     3        9\n",
       "     4       14\n",
       "     5       13\n",
       "     6        9\n",
       "     7       12\n",
       "     8        9\n",
       "     9       56"
      ]
     },
     "execution_count": 109,
     "metadata": {},
     "output_type": "execute_result"
    }
   ],
   "source": [
    "y = auto.groupby(['년도','월']).count()[['Review']]\n",
    "y"
   ]
  },
  {
   "cell_type": "code",
   "execution_count": null,
   "id": "77f38cd5",
   "metadata": {
    "scrolled": false
   },
   "outputs": [
    {
     "data": {
      "image/png": "[encoded data removed]",
      "text/plain": [
       "<Figure size 1224x576 with 1 Axes>"
      ]
     },
     "metadata": {
      "needs_background": "light"
     },
     "output_type": "display_data"
    }
   ],
   "source": [
    "y.plot(kind='bar')\n",
    "plt.show()"
   ]
  },
  {
   "cell_type": "code",
   "execution_count": null,
   "id": "9c4ca29d",
   "metadata": {
    "scrolled": true
   },
   "outputs": [
    {
     "data": {
      "text/plain": [
       "2021    231\n",
       "2022    153\n",
       "2020    137\n",
       "2019     60\n",
       "Name: year, dtype: int64"
      ]
     },
     "execution_count": 83,
     "metadata": {},
     "output_type": "execute_result"
    }
   ],
   "source": [
    "year = auto['year'].value_counts()\n",
    "year"
   ]
  },
  {
   "cell_type": "code",
   "execution_count": null,
   "id": "ae8f3fa6",
   "metadata": {
    "scrolled": true
   },
   "outputs": [
    {
     "data": {
      "text/plain": [
       "2019     60\n",
       "2020    137\n",
       "2021    231\n",
       "2022    153\n",
       "Name: year, dtype: int64"
      ]
     },
     "execution_count": 84,
     "metadata": {},
     "output_type": "execute_result"
    }
   ],
   "source": [
    "y2 = year[[2019,2020,2021,2022]]\n",
    "y2"
   ]
  },
  {
   "cell_type": "code",
   "execution_count": null,
   "id": "ed102d91",
   "metadata": {
    "scrolled": false
   },
   "outputs": [
    {
     "data": {
      "image/png": "[encoded data removed]",
      "text/plain": [
       "<Figure size 1224x576 with 1 Axes>"
      ]
     },
     "metadata": {
      "needs_background": "light"
     },
     "output_type": "display_data"
    }
   ],
   "source": [
    "x = y2.index\n",
    "plt.bar(x,y2)\n",
    "plt.title('연도 별 리뷰 수')\n",
    "plt.xlabel('연도')\n",
    "plt.ylabel('리뷰 수').set_rotation(0)\n",
    "plt.show()"
   ]
  },
  {
   "cell_type": "code",
   "execution_count": null,
   "id": "76036709",
   "metadata": {},
   "outputs": [],
   "source": []
  },
  {
   "cell_type": "code",
   "execution_count": null,
   "id": "c6d7f075",
   "metadata": {},
   "outputs": [],
   "source": []
  },
  {
   "cell_type": "code",
   "execution_count": null,
   "id": "50fe8195",
   "metadata": {},
   "outputs": [],
   "source": []
  }
 ],
 "metadata": {
  "kernelspec": {
   "display_name": "Python 3 (ipykernel)",
   "language": "python",
   "name": "python3"
  },
  "language_info": {
   "codemirror_mode": {
    "name": "ipython",
    "version": 3
   },
   "file_extension": ".py",
   "mimetype": "text/x-python",
   "name": "python",
   "nbconvert_exporter": "python",
   "pygments_lexer": "ipython3",
   "version": "3.9.12"
  },
  "vscode": {
   "interpreter": {
    "hash": "4fb426db0f3ee2be9e5ab359abf5d058c2a19de96b4d6eda446b2c3017042fa6"
   }
  }
 },
 "nbformat": 4,
 "nbformat_minor": 5
}
