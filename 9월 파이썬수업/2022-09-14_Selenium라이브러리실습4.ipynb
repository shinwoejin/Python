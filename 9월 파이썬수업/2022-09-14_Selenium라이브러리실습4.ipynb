{
 "cells": [
  {
   "cell_type": "markdown",
   "id": "5fc9cc3e",
   "metadata": {},
   "source": [
    " - 원하는 유튜브 채널 선택 [제목, 조회수]"
   ]
  },
  {
   "cell_type": "code",
   "execution_count": 1,
   "id": "6c8c2c07",
   "metadata": {},
   "outputs": [],
   "source": [
    "from selenium import webdriver\n",
    "from webdriver_manager.chrome import ChromeDriverManager\n",
    "import pandas as pd\n",
    "import time"
   ]
  },
  {
   "cell_type": "code",
   "execution_count": 2,
   "id": "96f16a92",
   "metadata": {},
   "outputs": [],
   "source": [
    "driver = webdriver.Chrome(ChromeDriverManager().install())"
   ]
  },
  {
   "cell_type": "code",
   "execution_count": 3,
   "id": "2ece2bb1",
   "metadata": {},
   "outputs": [],
   "source": [
    "driver.get('https://www.youtube.com/channel/UC6vdgScn2cZ6hMeMQullT2w/videos')"
   ]
  },
  {
   "cell_type": "code",
   "execution_count": 4,
   "id": "eb763387",
   "metadata": {},
   "outputs": [],
   "source": [
    "#title = driver.find_elements_by_css_selector('h3.style-scope ytd-grid-video-renderer')"
   ]
  },
  {
   "cell_type": "code",
   "execution_count": 5,
   "id": "003af04d",
   "metadata": {},
   "outputs": [],
   "source": [
    "title = driver.find_elements_by_css_selector('#video-title')"
   ]
  },
  {
   "cell_type": "code",
   "execution_count": 6,
   "id": "805d19f5",
   "metadata": {},
   "outputs": [],
   "source": [
    "view = driver.find_elements_by_css_selector('#metadata-line > span:nth-child(1)')"
   ]
  },
  {
   "cell_type": "code",
   "execution_count": 7,
   "id": "810d49e5",
   "metadata": {},
   "outputs": [
    {
     "data": {
      "text/plain": [
       "(30, 30)"
      ]
     },
     "execution_count": 7,
     "metadata": {},
     "output_type": "execute_result"
    }
   ],
   "source": [
    "len(title), len(view)"
   ]
  },
  {
   "cell_type": "markdown",
   "id": "05372df4",
   "metadata": {},
   "source": [
    "### 스크롤링"
   ]
  },
  {
   "cell_type": "code",
   "execution_count": 8,
   "id": "967ddbb3",
   "metadata": {},
   "outputs": [],
   "source": [
    "from bs4 import BeautifulSoup as bs"
   ]
  },
  {
   "cell_type": "code",
   "execution_count": 9,
   "id": "b6a49a12",
   "metadata": {},
   "outputs": [],
   "source": [
    "from selenium.webdriver.common.keys import Keys"
   ]
  },
  {
   "cell_type": "code",
   "execution_count": 10,
   "id": "ecff46d7",
   "metadata": {},
   "outputs": [],
   "source": [
    "body = driver.find_element_by_css_selector('body')\n",
    "\n",
    "while True:\n",
    "    last = bs(driver.page_source, 'html.parser')\n",
    "    for i in range(20):\n",
    "        body.send_keys(Keys.END)\n",
    "    new = bs(driver.page_source, 'html.parser')\n",
    "    \n",
    "    if last == new:\n",
    "        break\n",
    "    else:\n",
    "        pass"
   ]
  },
  {
   "cell_type": "code",
   "execution_count": 11,
   "id": "317f88f2",
   "metadata": {},
   "outputs": [],
   "source": [
    "view = driver.find_elements_by_css_selector('#metadata-line > span:nth-child(1)')\n",
    "title = driver.find_elements_by_css_selector('#video-title')"
   ]
  },
  {
   "cell_type": "code",
   "execution_count": 12,
   "id": "3e075040",
   "metadata": {},
   "outputs": [
    {
     "data": {
      "text/plain": [
       "(242, 242)"
      ]
     },
     "execution_count": 12,
     "metadata": {},
     "output_type": "execute_result"
    }
   ],
   "source": [
    "len(view), len(title)"
   ]
  },
  {
   "cell_type": "code",
   "execution_count": 13,
   "id": "59009e64",
   "metadata": {},
   "outputs": [],
   "source": [
    "view_list = []\n",
    "for i in view:\n",
    "    string = i.text\n",
    "    string = string.replace('조회수 ', '')\n",
    "    string = string.replace('회', '')\n",
    "    string = string.replace('.', '')\n",
    "    string = string.replace('천', '000')\n",
    "    string = string.replace('만', '0000')\n",
    "    string = int(string)\n",
    "    view_list.append(string)"
   ]
  },
  {
   "cell_type": "code",
   "execution_count": 14,
   "id": "f8e42b2d",
   "metadata": {},
   "outputs": [],
   "source": [
    "title_list = []\n",
    "for i in title:\n",
    "    title_list.append(i.text)"
   ]
  },
  {
   "cell_type": "code",
   "execution_count": 15,
   "id": "65cabe60",
   "metadata": {},
   "outputs": [],
   "source": [
    "data = {'제목' : title_list, '조회수' : view_list}"
   ]
  },
  {
   "cell_type": "code",
   "execution_count": 19,
   "id": "a2002f1b",
   "metadata": {},
   "outputs": [
    {
     "data": {
      "text/html": [
       "<div>\n",
       "<style scoped>\n",
       "    .dataframe tbody tr th:only-of-type {\n",
       "        vertical-align: middle;\n",
       "    }\n",
       "\n",
       "    .dataframe tbody tr th {\n",
       "        vertical-align: top;\n",
       "    }\n",
       "\n",
       "    .dataframe thead th {\n",
       "        text-align: right;\n",
       "    }\n",
       "</style>\n",
       "<table border=\"1\" class=\"dataframe\">\n",
       "  <thead>\n",
       "    <tr style=\"text-align: right;\">\n",
       "      <th></th>\n",
       "      <th>제목</th>\n",
       "      <th>조회수</th>\n",
       "    </tr>\n",
       "  </thead>\n",
       "  <tbody>\n",
       "    <tr>\n",
       "      <th>0</th>\n",
       "      <td>사람처럼 자는 고양이</td>\n",
       "      <td>85000</td>\n",
       "    </tr>\n",
       "    <tr>\n",
       "      <th>1</th>\n",
       "      <td>볼따구</td>\n",
       "      <td>540000</td>\n",
       "    </tr>\n",
       "    <tr>\n",
       "      <th>2</th>\n",
       "      <td>나고 털 빗기기</td>\n",
       "      <td>260000</td>\n",
       "    </tr>\n",
       "    <tr>\n",
       "      <th>3</th>\n",
       "      <td>그냥 쓰다듬기</td>\n",
       "      <td>630000</td>\n",
       "    </tr>\n",
       "    <tr>\n",
       "      <th>4</th>\n",
       "      <td>집 오지마자 앵김</td>\n",
       "      <td>560000</td>\n",
       "    </tr>\n",
       "    <tr>\n",
       "      <th>...</th>\n",
       "      <td>...</td>\n",
       "      <td>...</td>\n",
       "    </tr>\n",
       "    <tr>\n",
       "      <th>237</th>\n",
       "      <td>안경을 대하는 태도</td>\n",
       "      <td>250000</td>\n",
       "    </tr>\n",
       "    <tr>\n",
       "      <th>238</th>\n",
       "      <td>발가락사냥</td>\n",
       "      <td>250000</td>\n",
       "    </tr>\n",
       "    <tr>\n",
       "      <th>239</th>\n",
       "      <td>꼬리를 주목하세요</td>\n",
       "      <td>450000</td>\n",
       "    </tr>\n",
       "    <tr>\n",
       "      <th>240</th>\n",
       "      <td>나고가 작업을 방해하는 모습</td>\n",
       "      <td>580000</td>\n",
       "    </tr>\n",
       "    <tr>\n",
       "      <th>241</th>\n",
       "      <td>나고가 고로롱 거리는 소리</td>\n",
       "      <td>120000</td>\n",
       "    </tr>\n",
       "  </tbody>\n",
       "</table>\n",
       "<p>242 rows × 2 columns</p>\n",
       "</div>"
      ],
      "text/plain": [
       "                  제목     조회수\n",
       "0        사람처럼 자는 고양이   85000\n",
       "1                볼따구  540000\n",
       "2           나고 털 빗기기  260000\n",
       "3            그냥 쓰다듬기  630000\n",
       "4          집 오지마자 앵김  560000\n",
       "..               ...     ...\n",
       "237       안경을 대하는 태도  250000\n",
       "238            발가락사냥  250000\n",
       "239        꼬리를 주목하세요  450000\n",
       "240  나고가 작업을 방해하는 모습  580000\n",
       "241   나고가 고로롱 거리는 소리  120000\n",
       "\n",
       "[242 rows x 2 columns]"
      ]
     },
     "execution_count": 19,
     "metadata": {},
     "output_type": "execute_result"
    }
   ],
   "source": [
    "Youtube = pd.DataFrame(data)\n",
    "Youtube"
   ]
  },
  {
   "cell_type": "code",
   "execution_count": 28,
   "id": "c349eb24",
   "metadata": {
    "scrolled": true
   },
   "outputs": [
    {
     "data": {
      "text/html": [
       "<div>\n",
       "<style scoped>\n",
       "    .dataframe tbody tr th:only-of-type {\n",
       "        vertical-align: middle;\n",
       "    }\n",
       "\n",
       "    .dataframe tbody tr th {\n",
       "        vertical-align: top;\n",
       "    }\n",
       "\n",
       "    .dataframe thead th {\n",
       "        text-align: right;\n",
       "    }\n",
       "</style>\n",
       "<table border=\"1\" class=\"dataframe\">\n",
       "  <thead>\n",
       "    <tr style=\"text-align: right;\">\n",
       "      <th></th>\n",
       "      <th>level_0</th>\n",
       "      <th>index</th>\n",
       "      <th>제목</th>\n",
       "      <th>조회수</th>\n",
       "    </tr>\n",
       "  </thead>\n",
       "  <tbody>\n",
       "    <tr>\n",
       "      <th>218</th>\n",
       "      <td>218</td>\n",
       "      <td>218</td>\n",
       "      <td>나고 씻기기 (나고 vs 사나고)</td>\n",
       "      <td>3390000</td>\n",
       "    </tr>\n",
       "    <tr>\n",
       "      <th>168</th>\n",
       "      <td>168</td>\n",
       "      <td>168</td>\n",
       "      <td>고양이를 쪼물대보자</td>\n",
       "      <td>3020000</td>\n",
       "    </tr>\n",
       "    <tr>\n",
       "      <th>164</th>\n",
       "      <td>164</td>\n",
       "      <td>164</td>\n",
       "      <td>말하는 고양이 (앙뚜와 나고 목욕하는 날)</td>\n",
       "      <td>1710000</td>\n",
       "    </tr>\n",
       "    <tr>\n",
       "      <th>175</th>\n",
       "      <td>175</td>\n",
       "      <td>175</td>\n",
       "      <td>새벽5시에 꾹꾹이로 깨우는 나고</td>\n",
       "      <td>1290000</td>\n",
       "    </tr>\n",
       "    <tr>\n",
       "      <th>95</th>\n",
       "      <td>95</td>\n",
       "      <td>95</td>\n",
       "      <td>폴더블 솜방망이</td>\n",
       "      <td>990000</td>\n",
       "    </tr>\n",
       "    <tr>\n",
       "      <th>...</th>\n",
       "      <td>...</td>\n",
       "      <td>...</td>\n",
       "      <td>...</td>\n",
       "      <td>...</td>\n",
       "    </tr>\n",
       "    <tr>\n",
       "      <th>193</th>\n",
       "      <td>193</td>\n",
       "      <td>193</td>\n",
       "      <td>투닥거리는 고양이 두마리</td>\n",
       "      <td>40000</td>\n",
       "    </tr>\n",
       "    <tr>\n",
       "      <th>11</th>\n",
       "      <td>11</td>\n",
       "      <td>11</td>\n",
       "      <td>츄르먹방 맨틀시점</td>\n",
       "      <td>40000</td>\n",
       "    </tr>\n",
       "    <tr>\n",
       "      <th>7</th>\n",
       "      <td>7</td>\n",
       "      <td>7</td>\n",
       "      <td>발 맛있게 먹기</td>\n",
       "      <td>40000</td>\n",
       "    </tr>\n",
       "    <tr>\n",
       "      <th>235</th>\n",
       "      <td>235</td>\n",
       "      <td>235</td>\n",
       "      <td>그루밍 체험하기(이어폰 필수)</td>\n",
       "      <td>30000</td>\n",
       "    </tr>\n",
       "    <tr>\n",
       "      <th>181</th>\n",
       "      <td>181</td>\n",
       "      <td>181</td>\n",
       "      <td>구독자7만명달성기념</td>\n",
       "      <td>30000</td>\n",
       "    </tr>\n",
       "  </tbody>\n",
       "</table>\n",
       "<p>242 rows × 4 columns</p>\n",
       "</div>"
      ],
      "text/plain": [
       "     level_0  index                       제목      조회수\n",
       "218      218    218       나고 씻기기 (나고 vs 사나고)  3390000\n",
       "168      168    168               고양이를 쪼물대보자  3020000\n",
       "164      164    164  말하는 고양이 (앙뚜와 나고 목욕하는 날)  1710000\n",
       "175      175    175        새벽5시에 꾹꾹이로 깨우는 나고  1290000\n",
       "95        95     95                 폴더블 솜방망이   990000\n",
       "..       ...    ...                      ...      ...\n",
       "193      193    193            투닥거리는 고양이 두마리    40000\n",
       "11        11     11                츄르먹방 맨틀시점    40000\n",
       "7          7      7                 발 맛있게 먹기    40000\n",
       "235      235    235         그루밍 체험하기(이어폰 필수)    30000\n",
       "181      181    181               구독자7만명달성기념    30000\n",
       "\n",
       "[242 rows x 4 columns]"
      ]
     },
     "execution_count": 28,
     "metadata": {},
     "output_type": "execute_result"
    }
   ],
   "source": [
    "Youtube.sort_values(by=['조회수'], ascending=False)"
   ]
  },
  {
   "cell_type": "code",
   "execution_count": 29,
   "id": "4e1ecfc6",
   "metadata": {},
   "outputs": [
    {
     "data": {
      "text/html": [
       "<div>\n",
       "<style scoped>\n",
       "    .dataframe tbody tr th:only-of-type {\n",
       "        vertical-align: middle;\n",
       "    }\n",
       "\n",
       "    .dataframe tbody tr th {\n",
       "        vertical-align: top;\n",
       "    }\n",
       "\n",
       "    .dataframe thead th {\n",
       "        text-align: right;\n",
       "    }\n",
       "</style>\n",
       "<table border=\"1\" class=\"dataframe\">\n",
       "  <thead>\n",
       "    <tr style=\"text-align: right;\">\n",
       "      <th></th>\n",
       "      <th>level_0</th>\n",
       "      <th>index</th>\n",
       "      <th>제목</th>\n",
       "      <th>조회수</th>\n",
       "    </tr>\n",
       "  </thead>\n",
       "  <tbody>\n",
       "    <tr>\n",
       "      <th>0</th>\n",
       "      <td>0</td>\n",
       "      <td>0</td>\n",
       "      <td>사람처럼 자는 고양이</td>\n",
       "      <td>85000</td>\n",
       "    </tr>\n",
       "    <tr>\n",
       "      <th>1</th>\n",
       "      <td>1</td>\n",
       "      <td>1</td>\n",
       "      <td>볼따구</td>\n",
       "      <td>540000</td>\n",
       "    </tr>\n",
       "    <tr>\n",
       "      <th>2</th>\n",
       "      <td>2</td>\n",
       "      <td>2</td>\n",
       "      <td>나고 털 빗기기</td>\n",
       "      <td>260000</td>\n",
       "    </tr>\n",
       "    <tr>\n",
       "      <th>3</th>\n",
       "      <td>3</td>\n",
       "      <td>3</td>\n",
       "      <td>그냥 쓰다듬기</td>\n",
       "      <td>630000</td>\n",
       "    </tr>\n",
       "    <tr>\n",
       "      <th>4</th>\n",
       "      <td>4</td>\n",
       "      <td>4</td>\n",
       "      <td>집 오지마자 앵김</td>\n",
       "      <td>560000</td>\n",
       "    </tr>\n",
       "    <tr>\n",
       "      <th>...</th>\n",
       "      <td>...</td>\n",
       "      <td>...</td>\n",
       "      <td>...</td>\n",
       "      <td>...</td>\n",
       "    </tr>\n",
       "    <tr>\n",
       "      <th>237</th>\n",
       "      <td>237</td>\n",
       "      <td>237</td>\n",
       "      <td>안경을 대하는 태도</td>\n",
       "      <td>250000</td>\n",
       "    </tr>\n",
       "    <tr>\n",
       "      <th>238</th>\n",
       "      <td>238</td>\n",
       "      <td>238</td>\n",
       "      <td>발가락사냥</td>\n",
       "      <td>250000</td>\n",
       "    </tr>\n",
       "    <tr>\n",
       "      <th>239</th>\n",
       "      <td>239</td>\n",
       "      <td>239</td>\n",
       "      <td>꼬리를 주목하세요</td>\n",
       "      <td>450000</td>\n",
       "    </tr>\n",
       "    <tr>\n",
       "      <th>240</th>\n",
       "      <td>240</td>\n",
       "      <td>240</td>\n",
       "      <td>나고가 작업을 방해하는 모습</td>\n",
       "      <td>580000</td>\n",
       "    </tr>\n",
       "    <tr>\n",
       "      <th>241</th>\n",
       "      <td>241</td>\n",
       "      <td>241</td>\n",
       "      <td>나고가 고로롱 거리는 소리</td>\n",
       "      <td>120000</td>\n",
       "    </tr>\n",
       "  </tbody>\n",
       "</table>\n",
       "<p>242 rows × 4 columns</p>\n",
       "</div>"
      ],
      "text/plain": [
       "     level_0  index               제목     조회수\n",
       "0          0      0      사람처럼 자는 고양이   85000\n",
       "1          1      1              볼따구  540000\n",
       "2          2      2         나고 털 빗기기  260000\n",
       "3          3      3          그냥 쓰다듬기  630000\n",
       "4          4      4        집 오지마자 앵김  560000\n",
       "..       ...    ...              ...     ...\n",
       "237      237    237       안경을 대하는 태도  250000\n",
       "238      238    238            발가락사냥  250000\n",
       "239      239    239        꼬리를 주목하세요  450000\n",
       "240      240    240  나고가 작업을 방해하는 모습  580000\n",
       "241      241    241   나고가 고로롱 거리는 소리  120000\n",
       "\n",
       "[242 rows x 4 columns]"
      ]
     },
     "execution_count": 29,
     "metadata": {},
     "output_type": "execute_result"
    }
   ],
   "source": [
    "Youtube.reset_index(drop=True)"
   ]
  }
 ],
 "metadata": {
  "kernelspec": {
   "display_name": "Python 3 (ipykernel)",
   "language": "python",
   "name": "python3"
  },
  "language_info": {
   "codemirror_mode": {
    "name": "ipython",
    "version": 3
   },
   "file_extension": ".py",
   "mimetype": "text/x-python",
   "name": "python",
   "nbconvert_exporter": "python",
   "pygments_lexer": "ipython3",
   "version": "3.9.12"
  },
  "vscode": {
   "interpreter": {
    "hash": "369f2c481f4da34e4445cda3fffd2e751bd1c4d706f27375911949ba6bb62e1c"
   }
  }
 },
 "nbformat": 4,
 "nbformat_minor": 5
}
