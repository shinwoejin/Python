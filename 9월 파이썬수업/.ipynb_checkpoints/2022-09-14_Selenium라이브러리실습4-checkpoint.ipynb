{
 "cells": [
  {
   "cell_type": "markdown",
   "id": "5fc9cc3e",
   "metadata": {},
   "source": [
    " - 원하는 유튜브 채널 선택 [제목, 조회수]"
   ]
  },
  {
   "cell_type": "code",
   "execution_count": 37,
   "id": "6c8c2c07",
   "metadata": {},
   "outputs": [],
   "source": [
    "from selenium import webdriver\n",
    "from webdriver_manager.chrome import ChromeDriverManager\n",
    "import pandas as pd\n",
    "import time"
   ]
  },
  {
   "cell_type": "code",
   "execution_count": 38,
   "id": "96f16a92",
   "metadata": {},
   "outputs": [],
   "source": [
    "driver = webdriver.Chrome(ChromeDriverManager().install())"
   ]
  },
  {
   "cell_type": "code",
   "execution_count": 39,
   "id": "2ece2bb1",
   "metadata": {},
   "outputs": [],
   "source": [
    "driver.get('https://www.youtube.com/channel/UC6vdgScn2cZ6hMeMQullT2w/videos')"
   ]
  },
  {
   "cell_type": "code",
   "execution_count": 40,
   "id": "eb763387",
   "metadata": {},
   "outputs": [],
   "source": [
    "title = driver.find_elements_by_css_selector('h3.style-scope ytd-grid-video-renderer')"
   ]
  },
  {
   "cell_type": "code",
   "execution_count": 41,
   "id": "003af04d",
   "metadata": {},
   "outputs": [],
   "source": [
    "title2 = driver.find_elements_by_css_selector('#video-title')"
   ]
  },
  {
   "cell_type": "code",
   "execution_count": 42,
   "id": "805d19f5",
   "metadata": {},
   "outputs": [],
   "source": [
    "view = driver.find_elements_by_css_selector('#metadata-line > span:nth-child(1)')"
   ]
  },
  {
   "cell_type": "code",
   "execution_count": 43,
   "id": "810d49e5",
   "metadata": {},
   "outputs": [
    {
     "data": {
      "text/plain": [
       "(0, 30)"
      ]
     },
     "execution_count": 43,
     "metadata": {},
     "output_type": "execute_result"
    }
   ],
   "source": [
    "len(title), len(view)"
   ]
  },
  {
   "cell_type": "markdown",
   "id": "05372df4",
   "metadata": {},
   "source": [
    "### 스크롤링"
   ]
  },
  {
   "cell_type": "code",
   "execution_count": 44,
   "id": "28f891a0",
   "metadata": {},
   "outputs": [],
   "source": [
    "from bs4 import BeautifulSoup as bs"
   ]
  },
  {
   "cell_type": "code",
   "execution_count": 45,
   "id": "b6a49a12",
   "metadata": {},
   "outputs": [],
   "source": [
    "from selenium.webdriver.common.keys import Keys"
   ]
  },
  {
   "cell_type": "code",
   "execution_count": 57,
   "id": "ecff46d7",
   "metadata": {},
   "outputs": [
    {
     "ename": "AttributeError",
     "evalue": "'list' object has no attribute 'text'",
     "output_type": "error",
     "traceback": [
      "\u001b[1;31m---------------------------------------------------------------------------\u001b[0m",
      "\u001b[1;31mAttributeError\u001b[0m                            Traceback (most recent call last)",
      "Input \u001b[1;32mIn [57]\u001b[0m, in \u001b[0;36m<cell line: 18>\u001b[1;34m()\u001b[0m\n\u001b[0;32m     15\u001b[0m         \u001b[38;5;28;01mpass\u001b[39;00m\n\u001b[0;32m     17\u001b[0m title \u001b[38;5;241m=\u001b[39m driver\u001b[38;5;241m.\u001b[39mfind_elements_by_css_selector(\u001b[38;5;124m'\u001b[39m\u001b[38;5;124mh3.style-scope ytd-grid-video-renderer\u001b[39m\u001b[38;5;124m'\u001b[39m)\n\u001b[1;32m---> 18\u001b[0m title_list\u001b[38;5;241m.\u001b[39mappend(\u001b[43mtitle\u001b[49m\u001b[38;5;241;43m.\u001b[39;49m\u001b[43mtext\u001b[49m)\n\u001b[0;32m     19\u001b[0m title2 \u001b[38;5;241m=\u001b[39m driver\u001b[38;5;241m.\u001b[39mfind_elements_by_css_selector(\u001b[38;5;124m'\u001b[39m\u001b[38;5;124m#video-title\u001b[39m\u001b[38;5;124m'\u001b[39m)\n\u001b[0;32m     20\u001b[0m title2_list\u001b[38;5;241m.\u001b[39mappend(title2\u001b[38;5;241m.\u001b[39mtext)\n",
      "\u001b[1;31mAttributeError\u001b[0m: 'list' object has no attribute 'text'"
     ]
    }
   ],
   "source": [
    "title_list = []\n",
    "title2_list = []\n",
    "view_list= []\n",
    "body = driver.find_element_by_css_selector('body')\n",
    "\n",
    "while True:\n",
    "    last = bs(driver.page_source, 'html.parser')\n",
    "    for i in range(20):\n",
    "        body.send_keys(Keys.END)\n",
    "    new = bs(driver.page_source, 'html.parser')\n",
    "    \n",
    "    if last == new:\n",
    "        break\n",
    "    else:\n",
    "        pass"
   ]
  },
  {
   "cell_type": "code",
   "execution_count": null,
   "id": "fc65db44",
   "metadata": {},
   "outputs": [],
   "source": [
    "view = driver.find_elements_by_css_selector('#metadata-line > span:nth-child(1)')\n",
    "title = driver.find_elements_by_css_selector('h3.style-scope ytd-grid-video-renderer')"
   ]
  },
  {
   "cell_type": "code",
   "execution_count": 55,
   "id": "65cabe60",
   "metadata": {},
   "outputs": [],
   "source": [
    "data = {'제목' : title_list, '조회수' : view_list}"
   ]
  },
  {
   "cell_type": "code",
   "execution_count": 56,
   "id": "a2002f1b",
   "metadata": {},
   "outputs": [
    {
     "data": {
      "text/html": [
       "<div>\n",
       "<style scoped>\n",
       "    .dataframe tbody tr th:only-of-type {\n",
       "        vertical-align: middle;\n",
       "    }\n",
       "\n",
       "    .dataframe tbody tr th {\n",
       "        vertical-align: top;\n",
       "    }\n",
       "\n",
       "    .dataframe thead th {\n",
       "        text-align: right;\n",
       "    }\n",
       "</style>\n",
       "<table border=\"1\" class=\"dataframe\">\n",
       "  <thead>\n",
       "    <tr style=\"text-align: right;\">\n",
       "      <th></th>\n",
       "      <th>제목</th>\n",
       "      <th>조회수</th>\n",
       "    </tr>\n",
       "  </thead>\n",
       "  <tbody>\n",
       "    <tr>\n",
       "      <th>0</th>\n",
       "      <td>사람처럼 자는 고양이</td>\n",
       "      <td>조회수 5.1천회</td>\n",
       "    </tr>\n",
       "    <tr>\n",
       "      <th>1</th>\n",
       "      <td>볼따구</td>\n",
       "      <td>조회수 5.2만회</td>\n",
       "    </tr>\n",
       "    <tr>\n",
       "      <th>2</th>\n",
       "      <td>나고 털 빗기기</td>\n",
       "      <td>조회수 26만회</td>\n",
       "    </tr>\n",
       "    <tr>\n",
       "      <th>3</th>\n",
       "      <td>그냥 쓰다듬기</td>\n",
       "      <td>조회수 6.3만회</td>\n",
       "    </tr>\n",
       "    <tr>\n",
       "      <th>4</th>\n",
       "      <td>집 오지마자 앵김</td>\n",
       "      <td>조회수 5.5만회</td>\n",
       "    </tr>\n",
       "    <tr>\n",
       "      <th>...</th>\n",
       "      <td>...</td>\n",
       "      <td>...</td>\n",
       "    </tr>\n",
       "    <tr>\n",
       "      <th>85</th>\n",
       "      <td>나고살려</td>\n",
       "      <td>조회수 12만회</td>\n",
       "    </tr>\n",
       "    <tr>\n",
       "      <th>86</th>\n",
       "      <td>놔, 놓으라고</td>\n",
       "      <td>조회수 9.2만회</td>\n",
       "    </tr>\n",
       "    <tr>\n",
       "      <th>87</th>\n",
       "      <td>나고가방에들어가신다</td>\n",
       "      <td>조회수 9.8만회</td>\n",
       "    </tr>\n",
       "    <tr>\n",
       "      <th>88</th>\n",
       "      <td>관심이 필요한 나고</td>\n",
       "      <td>조회수 10만회</td>\n",
       "    </tr>\n",
       "    <tr>\n",
       "      <th>89</th>\n",
       "      <td>메롱메롱</td>\n",
       "      <td>조회수 17만회</td>\n",
       "    </tr>\n",
       "  </tbody>\n",
       "</table>\n",
       "<p>90 rows × 2 columns</p>\n",
       "</div>"
      ],
      "text/plain": [
       "             제목        조회수\n",
       "0   사람처럼 자는 고양이  조회수 5.1천회\n",
       "1           볼따구  조회수 5.2만회\n",
       "2      나고 털 빗기기   조회수 26만회\n",
       "3       그냥 쓰다듬기  조회수 6.3만회\n",
       "4     집 오지마자 앵김  조회수 5.5만회\n",
       "..          ...        ...\n",
       "85         나고살려   조회수 12만회\n",
       "86      놔, 놓으라고  조회수 9.2만회\n",
       "87   나고가방에들어가신다  조회수 9.8만회\n",
       "88   관심이 필요한 나고   조회수 10만회\n",
       "89         메롱메롱   조회수 17만회\n",
       "\n",
       "[90 rows x 2 columns]"
      ]
     },
     "execution_count": 56,
     "metadata": {},
     "output_type": "execute_result"
    }
   ],
   "source": [
    "Youtube = pd.DataFrame(data)\n",
    "Youtube"
   ]
  }
 ],
 "metadata": {
  "kernelspec": {
   "display_name": "Python 3 (ipykernel)",
   "language": "python",
   "name": "python3"
  },
  "language_info": {
   "codemirror_mode": {
    "name": "ipython",
    "version": 3
   },
   "file_extension": ".py",
   "mimetype": "text/x-python",
   "name": "python",
   "nbconvert_exporter": "python",
   "pygments_lexer": "ipython3",
   "version": "3.9.12"
  }
 },
 "nbformat": 4,
 "nbformat_minor": 5
}
