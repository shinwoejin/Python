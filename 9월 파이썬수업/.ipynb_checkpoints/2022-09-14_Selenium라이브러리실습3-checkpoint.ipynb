{
 "cells": [
  {
   "cell_type": "markdown",
   "id": "f9324f9c",
   "metadata": {},
   "source": [
    "지마켓 베스트상품 100개 이름 가격 출력"
   ]
  },
  {
   "cell_type": "code",
   "execution_count": 1,
   "id": "6ba74ee8",
   "metadata": {},
   "outputs": [],
   "source": [
    "from tqdm import tqdm_notebook as tqdm"
   ]
  },
  {
   "cell_type": "code",
   "execution_count": 2,
   "id": "55b52e69",
   "metadata": {},
   "outputs": [],
   "source": [
    "from selenium import webdriver\n",
    "from webdriver_manager.chrome import ChromeDriverManager\n",
    "import pandas as pd\n",
    "import time"
   ]
  },
  {
   "cell_type": "code",
   "execution_count": 3,
   "id": "235ddf12",
   "metadata": {},
   "outputs": [],
   "source": [
    "driver = webdriver.Chrome(ChromeDriverManager().install())\n",
    "driver.get('https://corners.gmarket.co.kr/Bestsellers')\n",
    "time.sleep(1)"
   ]
  },
  {
   "cell_type": "code",
   "execution_count": 4,
   "id": "8b0be46f",
   "metadata": {},
   "outputs": [],
   "source": [
    "img = driver.find_elements_by_css_selector('img.lazy')"
   ]
  },
  {
   "cell_type": "code",
   "execution_count": 5,
   "id": "5a319c92",
   "metadata": {},
   "outputs": [
    {
     "data": {
      "text/plain": [
       "200"
      ]
     },
     "execution_count": 5,
     "metadata": {},
     "output_type": "execute_result"
    }
   ],
   "source": [
    "len(img)"
   ]
  },
  {
   "cell_type": "code",
   "execution_count": null,
   "id": "1b031fa9",
   "metadata": {},
   "outputs": [],
   "source": [
    "# 카테고리\n",
    "cate = driver.find_element_by_css_selector('li.on > a')\n",
    "cate.text"
   ]
  },
  {
   "cell_type": "code",
   "execution_count": null,
   "id": "8b21c64f",
   "metadata": {},
   "outputs": [],
   "source": [
    "# 가격\n",
    "price = driver.find_element_by_css_selector('strong.price_real')\n",
    "price.text"
   ]
  },
  {
   "cell_type": "code",
   "execution_count": null,
   "id": "4a2c6fea",
   "metadata": {},
   "outputs": [],
   "source": [
    "# 이름\n",
    "title = driver.find_element_by_css_selector('h1.itemtit')\n",
    "title.text"
   ]
  },
  {
   "cell_type": "code",
   "execution_count": 9,
   "id": "b16bc90f",
   "metadata": {},
   "outputs": [
    {
     "name": "stderr",
     "output_type": "stream",
     "text": [
      "C:\\Users\\82104\\AppData\\Local\\Temp\\ipykernel_8592\\3780357489.py:4: TqdmDeprecationWarning: This function will be removed in tqdm==5.0.0\n",
      "Please use `tqdm.notebook.tqdm` instead of `tqdm.tqdm_notebook`\n",
      "  for i in tqdm(range(10)):\n"
     ]
    },
    {
     "data": {
      "application/vnd.jupyter.widget-view+json": {
       "model_id": "cffd2eb7996340d7b3cf9f0ac5efdd18",
       "version_major": 2,
       "version_minor": 0
      },
      "text/plain": [
       "  0%|          | 0/10 [00:00<?, ?it/s]"
      ]
     },
     "metadata": {},
     "output_type": "display_data"
    },
    {
     "ename": "AttributeError",
     "evalue": "'int' object has no attribute 'text'",
     "output_type": "error",
     "traceback": [
      "\u001b[1;31m---------------------------------------------------------------------------\u001b[0m",
      "\u001b[1;31mAttributeError\u001b[0m                            Traceback (most recent call last)",
      "Input \u001b[1;32mIn [9]\u001b[0m, in \u001b[0;36m<cell line: 4>\u001b[1;34m()\u001b[0m\n\u001b[0;32m      9\u001b[0m driver\u001b[38;5;241m.\u001b[39mimplicitly_wait(\u001b[38;5;241m5\u001b[39m)\n\u001b[0;32m     11\u001b[0m cate \u001b[38;5;241m=\u001b[39m driver\u001b[38;5;241m.\u001b[39mfind_element_by_css_selector(\u001b[38;5;124m'\u001b[39m\u001b[38;5;124mli.on > a\u001b[39m\u001b[38;5;124m'\u001b[39m)\n\u001b[1;32m---> 12\u001b[0m cate_list\u001b[38;5;241m.\u001b[39mappend(\u001b[43mi\u001b[49m\u001b[38;5;241;43m.\u001b[39;49m\u001b[43mtext\u001b[49m)\n\u001b[0;32m     13\u001b[0m price \u001b[38;5;241m=\u001b[39m driver\u001b[38;5;241m.\u001b[39mfind_element_by_css_selector(\u001b[38;5;124m'\u001b[39m\u001b[38;5;124mstrong.price_real\u001b[39m\u001b[38;5;124m'\u001b[39m)\n\u001b[0;32m     14\u001b[0m price_list\u001b[38;5;241m.\u001b[39mappend(i\u001b[38;5;241m.\u001b[39mtext)\n",
      "\u001b[1;31mAttributeError\u001b[0m: 'int' object has no attribute 'text'"
     ]
    }
   ],
   "source": [
    "cate_list = []\n",
    "price_list = []\n",
    "title_list= []\n",
    "for i in tqdm(range(10)):\n",
    "    img = driver.find_elements_by_css_selector('img.lazy')\n",
    "    img[i].click()\n",
    "    \n",
    "    # 상세페이지\n",
    "    driver.implicitly_wait(5)\n",
    "    \n",
    "    cate = driver.find_element_by_css_selector('li.on > a')\n",
    "    cate_list.append(cate.text)\n",
    "    price = driver.find_element_by_css_selector('strong.price_real')\n",
    "    price_list.append(price.text)\n",
    "    title = driver.find_element_by_css_selector('h1.itemtit')\n",
    "    title_list.append(title.text)\n",
    "    \n",
    "    driver.back()\n",
    "    time.sleep(1)"
   ]
  },
  {
   "cell_type": "code",
   "execution_count": null,
   "id": "5644f85e",
   "metadata": {},
   "outputs": [],
   "source": [
    "data = {'카테고리' : cate_list, '상품명' : title_list, '가격' : price_list}"
   ]
  },
  {
   "cell_type": "code",
   "execution_count": null,
   "id": "d8d13cd4",
   "metadata": {},
   "outputs": [],
   "source": [
    "gmarket = pd.DataFrame(data)\n",
    "gmarket"
   ]
  }
 ],
 "metadata": {
  "kernelspec": {
   "display_name": "Python 3 (ipykernel)",
   "language": "python",
   "name": "python3"
  },
  "language_info": {
   "codemirror_mode": {
    "name": "ipython",
    "version": 3
   },
   "file_extension": ".py",
   "mimetype": "text/x-python",
   "name": "python",
   "nbconvert_exporter": "python",
   "pygments_lexer": "ipython3",
   "version": "3.9.12"
  }
 },
 "nbformat": 4,
 "nbformat_minor": 5
}
