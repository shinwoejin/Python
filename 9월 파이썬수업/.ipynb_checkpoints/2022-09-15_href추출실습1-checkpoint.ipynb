{
 "cells": [
  {
   "cell_type": "code",
   "execution_count": 11,
   "id": "6172b349",
   "metadata": {},
   "outputs": [],
   "source": [
    "from selenium import webdriver\n",
    "from webdriver_manager.chrome import ChromeDriverManager\n",
    "import pandas as pd\n",
    "from bs4 import BeautifulSoup as bs\n",
    "from selenium.webdriver.common.keys import Keys\n",
    "from selenium.webdriver.common.action_chains import ActionChains\n",
    "import time\n",
    "from tqdm import tqdm_notebook as tqdm"
   ]
  },
  {
   "cell_type": "code",
   "execution_count": 19,
   "id": "74cbad62",
   "metadata": {},
   "outputs": [],
   "source": [
    "driver = webdriver.Chrome(ChromeDriverManager().install())"
   ]
  },
  {
   "cell_type": "code",
   "execution_count": 20,
   "id": "2d742849",
   "metadata": {},
   "outputs": [],
   "source": [
    "driver.get('https://news.sbs.co.kr/news/newsflash.do?plink=NEW&cooper=SBSNEWSMAIN')"
   ]
  },
  {
   "cell_type": "code",
   "execution_count": 21,
   "id": "ad7bd21b",
   "metadata": {},
   "outputs": [],
   "source": [
    "soup = bs(driver.page_source, 'html.parser')"
   ]
  },
  {
   "cell_type": "code",
   "execution_count": 23,
   "id": "48e3786c",
   "metadata": {},
   "outputs": [],
   "source": [
    "search = soup.select('a.news')"
   ]
  },
  {
   "cell_type": "code",
   "execution_count": 16,
   "id": "92f2543f",
   "metadata": {
    "scrolled": false
   },
   "outputs": [
    {
     "name": "stdout",
     "output_type": "stream",
     "text": [
      "https://news.sbs.co.kr//news/endPage.do?news_id=N1006896879\n",
      "https://news.sbs.co.kr//news/endPage.do?news_id=N1006897043\n",
      "https://news.sbs.co.kr//news/endPage.do?news_id=N1006897044\n",
      "https://news.sbs.co.kr//news/endPage.do?news_id=N1006896949\n",
      "https://news.sbs.co.kr//news/endPage.do?news_id=N1006896893\n",
      "https://news.sbs.co.kr//news/endPage.do?news_id=N1006896370\n",
      "https://news.sbs.co.kr//news/endPage.do?news_id=N1006896934\n",
      "https://news.sbs.co.kr//news/endPage.do?news_id=N1006896910\n",
      "https://news.sbs.co.kr//news/endPage.do?news_id=N1006896317\n",
      "https://news.sbs.co.kr//news/endPage.do?news_id=N1006896854\n"
     ]
    }
   ],
   "source": [
    "for i in search:\n",
    "    print('https://news.sbs.co.kr/'+i['href'])"
   ]
  },
  {
   "cell_type": "markdown",
   "id": "701b456b",
   "metadata": {},
   "source": [
    "### findall 사용"
   ]
  },
  {
   "cell_type": "code",
   "execution_count": null,
   "id": "88b93294",
   "metadata": {},
   "outputs": [],
   "source": [
    "search2 = soup.find_all('a', class_='news')"
   ]
  },
  {
   "cell_type": "code",
   "execution_count": null,
   "id": "6762866e",
   "metadata": {},
   "outputs": [],
   "source": [
    "for i in search2:\n",
    "    print('https://news.sbs.co.kr/'+i['href'])"
   ]
  },
  {
   "cell_type": "markdown",
   "id": "58420f7b",
   "metadata": {},
   "source": [
    "### 기사 제목"
   ]
  },
  {
   "cell_type": "code",
   "execution_count": 17,
   "id": "08b071b1",
   "metadata": {},
   "outputs": [],
   "source": [
    "#1~5페이지의 뉴스 상세 url 수집\n",
    "url_list = []\n",
    "for i in range(1,6):\n",
    "    page_url = 'https://news.sbs.co.kr/news/newsflash.do?plink=NEW&cooper=SBSNEWSMAIN&pageIdx={}'.format(i)\n",
    "    driver.get(page_url)\n",
    "    time.sleep(1)\n",
    "    soup = bs(driver.page_source, 'html.parser')\n",
    "    search = soup.select('a.news')\n",
    "    for i in search:\n",
    "        url_list.append('https://news.sbs.co.kr/'+i['href'])"
   ]
  },
  {
   "cell_type": "code",
   "execution_count": 18,
   "id": "c6c49bc3",
   "metadata": {
    "scrolled": true
   },
   "outputs": [
    {
     "data": {
      "text/plain": [
       "50"
      ]
     },
     "execution_count": 18,
     "metadata": {},
     "output_type": "execute_result"
    }
   ],
   "source": [
    "len(url_list)"
   ]
  },
  {
   "cell_type": "markdown",
   "id": "80fb89bb",
   "metadata": {},
   "source": [
    "### 상세페이지 내 기사 제목 & 내용"
   ]
  },
  {
   "cell_type": "code",
   "execution_count": 28,
   "id": "85ca1844",
   "metadata": {},
   "outputs": [],
   "source": [
    "soup = bs(driver.page_source, 'html.parser')"
   ]
  },
  {
   "cell_type": "code",
   "execution_count": 29,
   "id": "b83a60b5",
   "metadata": {},
   "outputs": [],
   "source": [
    "title = soup.select('h2.blind.ir')\n",
    "for i in title:\n",
    "    print(i.text)"
   ]
  },
  {
   "cell_type": "code",
   "execution_count": null,
   "id": "9a225829",
   "metadata": {},
   "outputs": [],
   "source": [
    "content = soup.select('div.text_area')\n",
    "for i in content:\n",
    "    print(i.text)"
   ]
  },
  {
   "cell_type": "code",
   "execution_count": null,
   "id": "ef89f904",
   "metadata": {},
   "outputs": [],
   "source": [
    "title_list = []\n",
    "contents_list = []\n",
    "\n",
    "for url in url_list:\n",
    "    driver.get(url)\n",
    "    time.sleep(1)\n",
    "    soup = bs(driver.page_source, 'html.parser')\n",
    "    #제목\n",
    "    title = soup.select('h2.blind.ir')\n",
    "    #for i in title:\n",
    "    #title_list.append(i.text)\n",
    "    \n",
    "    title_list.append(title[0].text)\n",
    "    \n",
    "    #내용\n",
    "    content = soup.select('div.text_area')\n",
    "    #for i in content:\n",
    "    #content_list.append(i.text)\n",
    "    content_list.append(contend[0].text)\n",
    "    "
   ]
  }
 ],
 "metadata": {
  "kernelspec": {
   "display_name": "Python 3 (ipykernel)",
   "language": "python",
   "name": "python3"
  },
  "language_info": {
   "codemirror_mode": {
    "name": "ipython",
    "version": 3
   },
   "file_extension": ".py",
   "mimetype": "text/x-python",
   "name": "python",
   "nbconvert_exporter": "python",
   "pygments_lexer": "ipython3",
   "version": "3.9.12"
  }
 },
 "nbformat": 4,
 "nbformat_minor": 5
}
