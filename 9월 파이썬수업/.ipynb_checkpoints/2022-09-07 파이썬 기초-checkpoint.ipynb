{
 "cells": [
  {
   "cell_type": "markdown",
   "id": "5b6719fc",
   "metadata": {},
   "source": [
    "### 변수 설정\n",
    "- 정수 (integer)\n",
    "- 실수 (float)\n",
    "- 문자 (string)\n",
    "- 논리 (boolean)"
   ]
  },
  {
   "cell_type": "code",
   "execution_count": 3,
   "id": "07daadac",
   "metadata": {},
   "outputs": [
    {
     "name": "stdout",
     "output_type": "stream",
     "text": [
      "10\n"
     ]
    }
   ],
   "source": [
    "num = 10\n",
    "print(num)"
   ]
  },
  {
   "cell_type": "code",
   "execution_count": 5,
   "id": "5b7078e6",
   "metadata": {},
   "outputs": [
    {
     "data": {
      "text/plain": [
       "20"
      ]
     },
     "execution_count": 5,
     "metadata": {},
     "output_type": "execute_result"
    }
   ],
   "source": [
    "num = 10 + 10\n",
    "num"
   ]
  },
  {
   "cell_type": "code",
   "execution_count": 6,
   "id": "0f6663e4",
   "metadata": {},
   "outputs": [
    {
     "data": {
      "text/plain": [
       "25"
      ]
     },
     "execution_count": 6,
     "metadata": {},
     "output_type": "execute_result"
    }
   ],
   "source": [
    "num = num + 5\n",
    "num"
   ]
  },
  {
   "cell_type": "code",
   "execution_count": 8,
   "id": "78fd30c5",
   "metadata": {},
   "outputs": [],
   "source": [
    "num += 5"
   ]
  },
  {
   "cell_type": "code",
   "execution_count": null,
   "id": "cf0685f1",
   "metadata": {},
   "outputs": [],
   "source": [
    "n = n + 1\n",
    "if n%100 == 0:\n",
    "    print(\"지금 n번째 돌아가는 중\")"
   ]
  },
  {
   "cell_type": "code",
   "execution_count": 10,
   "id": "cf6ac8fb",
   "metadata": {},
   "outputs": [
    {
     "data": {
      "text/plain": [
       "str"
      ]
     },
     "execution_count": 10,
     "metadata": {},
     "output_type": "execute_result"
    }
   ],
   "source": [
    "string = \"오늘 점심 뭐먹지?\"\n",
    "type(string)"
   ]
  },
  {
   "cell_type": "markdown",
   "id": "5df66140",
   "metadata": {},
   "source": [
    "- 문자열은 덧셈과 곱셈(정수)만 가능"
   ]
  },
  {
   "cell_type": "code",
   "execution_count": 11,
   "id": "43e29672",
   "metadata": {},
   "outputs": [
    {
     "name": "stdout",
     "output_type": "stream",
     "text": [
      "오늘점심뭐먹지?\n"
     ]
    }
   ],
   "source": [
    "print(\"오늘\" + \"점심\" + \"뭐먹지?\")"
   ]
  },
  {
   "cell_type": "code",
   "execution_count": 13,
   "id": "99269656",
   "metadata": {},
   "outputs": [
    {
     "data": {
      "text/plain": [
       "True"
      ]
     },
     "execution_count": 13,
     "metadata": {},
     "output_type": "execute_result"
    }
   ],
   "source": [
    "\"점심\" * 3 == \"점심\" + \"점심\" + \"점심\""
   ]
  },
  {
   "cell_type": "code",
   "execution_count": 14,
   "id": "18a69999",
   "metadata": {},
   "outputs": [
    {
     "data": {
      "text/plain": [
       "'점심점심점심'"
      ]
     },
     "execution_count": 14,
     "metadata": {},
     "output_type": "execute_result"
    }
   ],
   "source": [
    "\"점심\" * 3"
   ]
  },
  {
   "cell_type": "markdown",
   "id": "534536aa",
   "metadata": {},
   "source": [
    "- 모든 언어에는 순서가 있다\n",
    "- 각 음운, 알파벳들 마다 순서가 있다\n",
    "- 인덱싱이란 문자의 순서를 지칭하는것\n",
    "- 0부터 시작하고 띄어쓰기도 새야한다"
   ]
  },
  {
   "cell_type": "markdown",
   "id": "4be95db2",
   "metadata": {},
   "source": [
    "- \"오늘 점심 뭐먹지?\"\n",
    "- 0 = 오 , 1 = 늘, 2 = 빈칸, 3 = 점, 4 = 심, 5 = 빈칸, 6 = 뭐, 7 = 먹, 8 = 지, 9 = ?\n",
    "- -10 = 오 , -9 = 늘, -8 = 빈칸, -7 = 점, -6 = 심, -5 = 빈칸, -4 = 뭐, -3 = 먹, -2 = 지, -1 = ?\n",
    "- 뒷부분을 비우면 끝까지 출력 앞부분을 지우면 처음부터 출력"
   ]
  },
  {
   "cell_type": "code",
   "execution_count": 21,
   "id": "18fa2b3a",
   "metadata": {},
   "outputs": [
    {
     "data": {
      "text/plain": [
       "'점'"
      ]
     },
     "execution_count": 21,
     "metadata": {},
     "output_type": "execute_result"
    }
   ],
   "source": [
    "\"오늘 점심 뭐먹지?\"[3]"
   ]
  },
  {
   "cell_type": "code",
   "execution_count": 18,
   "id": "bc3f43ca",
   "metadata": {},
   "outputs": [
    {
     "data": {
      "text/plain": [
       "'점심'"
      ]
     },
     "execution_count": 18,
     "metadata": {},
     "output_type": "execute_result"
    }
   ],
   "source": [
    "\"오늘 점심 뭐먹지?\"[3:5]"
   ]
  },
  {
   "cell_type": "code",
   "execution_count": 22,
   "id": "f5bc3abe",
   "metadata": {},
   "outputs": [
    {
     "data": {
      "text/plain": [
       "'점심'"
      ]
     },
     "execution_count": 22,
     "metadata": {},
     "output_type": "execute_result"
    }
   ],
   "source": [
    "\"오늘 점심 뭐먹지?\"[-7 : -5]"
   ]
  },
  {
   "cell_type": "code",
   "execution_count": 23,
   "id": "21553fa8",
   "metadata": {},
   "outputs": [
    {
     "data": {
      "text/plain": [
       "'점심 뭐먹지?'"
      ]
     },
     "execution_count": 23,
     "metadata": {},
     "output_type": "execute_result"
    }
   ],
   "source": [
    "\"오늘 점심 뭐먹지?\"[-7 :]"
   ]
  },
  {
   "cell_type": "code",
   "execution_count": 19,
   "id": "adbdc068",
   "metadata": {},
   "outputs": [
    {
     "data": {
      "text/plain": [
       "'l'"
      ]
     },
     "execution_count": 19,
     "metadata": {},
     "output_type": "execute_result"
    }
   ],
   "source": [
    "\"apple\"[3]"
   ]
  },
  {
   "cell_type": "code",
   "execution_count": 25,
   "id": "b524b9a6",
   "metadata": {},
   "outputs": [
    {
     "name": "stdout",
     "output_type": "stream",
     "text": [
      "오늘 점심 메뉴는 참치김밥입니다.\n"
     ]
    }
   ],
   "source": [
    "# menu = \"김치볶음밥\"\n",
    "menu = \"참치김밥\"\n",
    "# menu = \"우동\"\n",
    "print(\"오늘 점심 메뉴는 %s입니다.\" %menu)"
   ]
  },
  {
   "cell_type": "code",
   "execution_count": 26,
   "id": "3ec0948e",
   "metadata": {},
   "outputs": [
    {
     "name": "stdout",
     "output_type": "stream",
     "text": [
      "오늘 점심 메뉴는 참치김밥입니다.\n"
     ]
    }
   ],
   "source": [
    "# menu = \"김치볶음밥\"\n",
    "menu = \"참치김밥\"\n",
    "# menu = \"우동\"\n",
    "print(\"오늘 점심 메뉴는 {}입니다.\" .format(menu))"
   ]
  },
  {
   "cell_type": "code",
   "execution_count": 27,
   "id": "c23b464b",
   "metadata": {},
   "outputs": [
    {
     "name": "stdout",
     "output_type": "stream",
     "text": [
      "오늘 점심 메뉴는 참치김밥입니다.\n"
     ]
    }
   ],
   "source": [
    "# menu = \"김치볶음밥\"\n",
    "menu = \"참치김밥\"\n",
    "# menu = \"우동\"\n",
    "print(f\"오늘 점심 메뉴는 {menu}입니다.\")"
   ]
  },
  {
   "cell_type": "code",
   "execution_count": 28,
   "id": "8604ff98",
   "metadata": {},
   "outputs": [],
   "source": [
    "lyrics = \"sorry sorry sorry sorry 내가 내가 내가 먼저 네게 네게 네게 빠져\""
   ]
  },
  {
   "cell_type": "code",
   "execution_count": 30,
   "id": "f98f1eca",
   "metadata": {},
   "outputs": [
    {
     "data": {
      "text/plain": [
       "4"
      ]
     },
     "execution_count": 30,
     "metadata": {},
     "output_type": "execute_result"
    }
   ],
   "source": [
    "lyrics.count(\"sorry\") #괄호안의 문자 count"
   ]
  },
  {
   "cell_type": "code",
   "execution_count": 31,
   "id": "8ce8a955",
   "metadata": {},
   "outputs": [
    {
     "data": {
      "text/plain": [
       "'SORRY SORRY SORRY SORRY 내가 내가 내가 먼저 네게 네게 네게 빠져'"
      ]
     },
     "execution_count": 31,
     "metadata": {},
     "output_type": "execute_result"
    }
   ],
   "source": [
    "lyrics.upper() #대문자로 변환"
   ]
  },
  {
   "cell_type": "code",
   "execution_count": 32,
   "id": "e08d0d6b",
   "metadata": {},
   "outputs": [
    {
     "data": {
      "text/plain": [
       "'sorry sorry sorry sorry 내가 내가 내가 먼저 네게 네게 네게 빠져'"
      ]
     },
     "execution_count": 32,
     "metadata": {},
     "output_type": "execute_result"
    }
   ],
   "source": [
    "lyrics.lower() #소문자로 변환"
   ]
  },
  {
   "cell_type": "code",
   "execution_count": 34,
   "id": "f49ca16a",
   "metadata": {},
   "outputs": [
    {
     "data": {
      "text/plain": [
       "-1"
      ]
     },
     "execution_count": 34,
     "metadata": {},
     "output_type": "execute_result"
    }
   ],
   "source": [
    "lyrics.find(\"not sorry\") # 해당 문자열이 있는지 확인 : 0이면 있다는뜻 -1은 없다는뜻"
   ]
  },
  {
   "cell_type": "code",
   "execution_count": 44,
   "id": "628e9530",
   "metadata": {},
   "outputs": [
    {
     "data": {
      "text/plain": [
       "'sorry sorry sorry sorry 내가 내가 내가 먼저 네게 네게 네게 빠져'"
      ]
     },
     "execution_count": 44,
     "metadata": {},
     "output_type": "execute_result"
    }
   ],
   "source": [
    "lyrics.replace(\"내가\", \"너가\") #문자 변환\n",
    "lyrics.replace(\"네게\", \"내게\")\n",
    "lyrics"
   ]
  },
  {
   "cell_type": "code",
   "execution_count": 38,
   "id": "701788e4",
   "metadata": {},
   "outputs": [
    {
     "data": {
      "text/plain": [
       "['sorry',\n",
       " 'sorry',\n",
       " 'sorry',\n",
       " 'sorry',\n",
       " '내가',\n",
       " '내가',\n",
       " '내가',\n",
       " '먼저',\n",
       " '네게',\n",
       " '네게',\n",
       " '네게',\n",
       " '빠져']"
      ]
     },
     "execution_count": 38,
     "metadata": {},
     "output_type": "execute_result"
    }
   ],
   "source": [
    "lyrics.split()"
   ]
  },
  {
   "cell_type": "code",
   "execution_count": 39,
   "id": "df5a8451",
   "metadata": {},
   "outputs": [
    {
     "data": {
      "text/plain": [
       "['sorry sorry sorry sorry 내', ' 내', ' 내', ' 먼저 네게 네게 네게 빠져']"
      ]
     },
     "execution_count": 39,
     "metadata": {},
     "output_type": "execute_result"
    }
   ],
   "source": [
    "lyrics.split(\"가\")"
   ]
  },
  {
   "cell_type": "markdown",
   "id": "f242ef9f",
   "metadata": {},
   "source": [
    "- 파이썬에서 = 은 변수 할당\n",
    "- ==를 사용하자"
   ]
  },
  {
   "cell_type": "code",
   "execution_count": 47,
   "id": "13cdbe6c",
   "metadata": {},
   "outputs": [
    {
     "data": {
      "text/plain": [
       "bool"
      ]
     },
     "execution_count": 47,
     "metadata": {},
     "output_type": "execute_result"
    }
   ],
   "source": [
    "type(1 + 1 == 2)"
   ]
  },
  {
   "cell_type": "code",
   "execution_count": 49,
   "id": "961f9948",
   "metadata": {},
   "outputs": [
    {
     "data": {
      "text/plain": [
       "True"
      ]
     },
     "execution_count": 49,
     "metadata": {},
     "output_type": "execute_result"
    }
   ],
   "source": [
    "1 + 2 >= 2"
   ]
  },
  {
   "cell_type": "code",
   "execution_count": 50,
   "id": "6856e6bd",
   "metadata": {},
   "outputs": [
    {
     "data": {
      "text/plain": [
       "True"
      ]
     },
     "execution_count": 50,
     "metadata": {},
     "output_type": "execute_result"
    }
   ],
   "source": [
    "1 + 2 != 2"
   ]
  },
  {
   "cell_type": "code",
   "execution_count": 53,
   "id": "4f0bc498",
   "metadata": {},
   "outputs": [
    {
     "data": {
      "text/plain": [
       "False"
      ]
     },
     "execution_count": 53,
     "metadata": {},
     "output_type": "execute_result"
    }
   ],
   "source": [
    "not 1 + 2 != 2"
   ]
  },
  {
   "cell_type": "code",
   "execution_count": 54,
   "id": "a33e7124",
   "metadata": {},
   "outputs": [],
   "source": [
    "a = 1 + 1 == 2"
   ]
  },
  {
   "cell_type": "code",
   "execution_count": 57,
   "id": "ccb23167",
   "metadata": {},
   "outputs": [
    {
     "name": "stdout",
     "output_type": "stream",
     "text": [
      "True\n"
     ]
    },
    {
     "data": {
      "text/plain": [
       "1"
      ]
     },
     "execution_count": 57,
     "metadata": {},
     "output_type": "execute_result"
    }
   ],
   "source": [
    "print(a)\n",
    "type(a)\n",
    "int(a) # 1은 true 0,-1은 false"
   ]
  },
  {
   "cell_type": "code",
   "execution_count": 58,
   "id": "59102e65",
   "metadata": {},
   "outputs": [
    {
     "data": {
      "text/plain": [
       "2"
      ]
     },
     "execution_count": 58,
     "metadata": {},
     "output_type": "execute_result"
    }
   ],
   "source": [
    "a + a"
   ]
  },
  {
   "cell_type": "markdown",
   "id": "615ef853",
   "metadata": {},
   "source": [
    "- 명제 and 명제 # 두 명제가 모두 참일때만 True\n",
    "- 명제 or 명제 # 두 명제중 하나만 참이여도 True"
   ]
  },
  {
   "cell_type": "code",
   "execution_count": 59,
   "id": "e3b5c3bf",
   "metadata": {},
   "outputs": [
    {
     "data": {
      "text/plain": [
       "False"
      ]
     },
     "execution_count": 59,
     "metadata": {},
     "output_type": "execute_result"
    }
   ],
   "source": [
    "1 + 1 == 2 and 1 + 2 == 2"
   ]
  },
  {
   "cell_type": "code",
   "execution_count": 60,
   "id": "b2737b74",
   "metadata": {},
   "outputs": [
    {
     "data": {
      "text/plain": [
       "True"
      ]
     },
     "execution_count": 60,
     "metadata": {},
     "output_type": "execute_result"
    }
   ],
   "source": [
    "1 + 1 == 2 or 1 + 2 == 2"
   ]
  },
  {
   "cell_type": "markdown",
   "id": "3d50cba6",
   "metadata": {},
   "source": [
    "### 조건문"
   ]
  },
  {
   "cell_type": "markdown",
   "id": "2e03cf15",
   "metadata": {},
   "source": [
    "- if 명제 :\n",
    "    명제가 참일 경우에 실행되는 코드\n",
    "- elif 명제2 :\n",
    "    명제 1은 거짓이지만, 명제2가 참일경우에 실행되는 코드\n",
    "- else :\n",
    "    명제1과 명제2가 모두 거짓일 경우에 실행되는 코드\n",
    "- 드려쓰기 중요"
   ]
  },
  {
   "cell_type": "code",
   "execution_count": 64,
   "id": "0feddc89",
   "metadata": {},
   "outputs": [
    {
     "name": "stdout",
     "output_type": "stream",
     "text": [
      "걸어서 간다.\n"
     ]
    }
   ],
   "source": [
    "money = 200\n",
    "if money >= 1250:\n",
    "    print(\"버스를 타고간다.\")\n",
    "else:\n",
    "    print(\"걸어서 간다.\")"
   ]
  },
  {
   "cell_type": "code",
   "execution_count": 72,
   "id": "1fcf1710",
   "metadata": {},
   "outputs": [
    {
     "name": "stdout",
     "output_type": "stream",
     "text": [
      "버스를 타고간다.\n"
     ]
    }
   ],
   "source": [
    "money = 6000\n",
    "if money >= 1250:\n",
    "    print(\"버스를 타고간다.\")\n",
    "elif money >= 5000:\n",
    "    print(\"택시를 타고간다.\")\n",
    "else:\n",
    "    print(\"걸어서 간다.\")"
   ]
  },
  {
   "cell_type": "code",
   "execution_count": 82,
   "id": "e1bc7cb4",
   "metadata": {},
   "outputs": [
    {
     "name": "stdout",
     "output_type": "stream",
     "text": [
      "버스를 타고간다.\n"
     ]
    }
   ],
   "source": [
    "money = 4900\n",
    "if money >= 5000:\n",
    "    print(\"택시를 타고간다.\")\n",
    "elif (money >= 1250 and money < 5000) :\n",
    "    print(\"버스를 타고간다.\")\n",
    "else:\n",
    "    print(\"걸어서 간다.\")"
   ]
  },
  {
   "cell_type": "code",
   "execution_count": 83,
   "id": "4bcd4c47",
   "metadata": {},
   "outputs": [
    {
     "name": "stdout",
     "output_type": "stream",
     "text": [
      "버스를 타고간다.\n"
     ]
    }
   ],
   "source": [
    "threshold_taxi = 5000\n",
    "threshold_bus = 1250\n",
    "\n",
    "money = 2000\n",
    "if money >= threshold_taxi:\n",
    "    print(\"택시를 타고간다.\")\n",
    "elif (money >= threshold_bus and money < threshold_taxi):\n",
    "    print(\"버스를 타고간다.\")\n",
    "else:\n",
    "    print(\"걸어서 간다.\")"
   ]
  },
  {
   "cell_type": "code",
   "execution_count": null,
   "id": "d8d762ba",
   "metadata": {},
   "outputs": [],
   "source": [
    "((나 == 주먹) and (상대 == 가위)) or ((나 == 가위) and (상대 == 보자기)) or ((나 == 보자기) and (상대 == 주먹))"
   ]
  },
  {
   "cell_type": "markdown",
   "id": "53be7358",
   "metadata": {},
   "source": [
    "### 리스트, 튜플"
   ]
  },
  {
   "cell_type": "code",
   "execution_count": 84,
   "id": "f28a169a",
   "metadata": {},
   "outputs": [],
   "source": [
    "a = [1,2]\n",
    "b = (\"가\", \"나\")"
   ]
  },
  {
   "cell_type": "code",
   "execution_count": 85,
   "id": "c4cbd57d",
   "metadata": {},
   "outputs": [
    {
     "name": "stdout",
     "output_type": "stream",
     "text": [
      "[1, 2]\n",
      "('가', '나')\n"
     ]
    }
   ],
   "source": [
    "print(a)\n",
    "print(b)"
   ]
  },
  {
   "cell_type": "code",
   "execution_count": 86,
   "id": "9c0b477c",
   "metadata": {},
   "outputs": [
    {
     "name": "stdout",
     "output_type": "stream",
     "text": [
      "[1, 2, [1, 2]]\n"
     ]
    }
   ],
   "source": [
    "c = [1, 2, a]\n",
    "print(c)"
   ]
  },
  {
   "cell_type": "markdown",
   "id": "ba855850",
   "metadata": {},
   "source": [
    "#### 리스트는 조작할수 있지만, 튜플은 조작할 수 없다.\n",
    "- 조작 : 원소를 추가하거나, 없애거나, 교체하거나, 순서를 바꾸는 행위"
   ]
  },
  {
   "cell_type": "markdown",
   "id": "4816eb50",
   "metadata": {},
   "source": [
    "### 원소 추가\n",
    "- 리스트"
   ]
  },
  {
   "cell_type": "code",
   "execution_count": 87,
   "id": "6740bf8c",
   "metadata": {},
   "outputs": [
    {
     "data": {
      "text/plain": [
       "'짜장면'"
      ]
     },
     "execution_count": 87,
     "metadata": {},
     "output_type": "execute_result"
    }
   ],
   "source": [
    "\"짜장\" + \"면\""
   ]
  },
  {
   "cell_type": "code",
   "execution_count": 90,
   "id": "4549780d",
   "metadata": {},
   "outputs": [
    {
     "data": {
      "text/plain": [
       "'면'"
      ]
     },
     "execution_count": 90,
     "metadata": {},
     "output_type": "execute_result"
    }
   ],
   "source": [
    "\"짜장면\"[2]"
   ]
  },
  {
   "cell_type": "code",
   "execution_count": 93,
   "id": "25a4be25",
   "metadata": {},
   "outputs": [
    {
     "data": {
      "text/plain": [
       "'면'"
      ]
     },
     "execution_count": 93,
     "metadata": {},
     "output_type": "execute_result"
    }
   ],
   "source": [
    "a[2]"
   ]
  },
  {
   "cell_type": "code",
   "execution_count": 100,
   "id": "46e8ec21",
   "metadata": {},
   "outputs": [
    {
     "data": {
      "text/plain": [
       "4"
      ]
     },
     "execution_count": 100,
     "metadata": {},
     "output_type": "execute_result"
    }
   ],
   "source": [
    "b = [1, 2, [3, 4],5]\n",
    "b[2][1]"
   ]
  },
  {
   "cell_type": "code",
   "execution_count": 89,
   "id": "db9863f9",
   "metadata": {},
   "outputs": [
    {
     "data": {
      "text/plain": [
       "['짜', '장', '면']"
      ]
     },
     "execution_count": 89,
     "metadata": {},
     "output_type": "execute_result"
    }
   ],
   "source": [
    "a = [\"짜\", \"장\"]\n",
    "a.append(\"면\") #맨 뒤에 추가\n",
    "a"
   ]
  },
  {
   "cell_type": "code",
   "execution_count": 106,
   "id": "ced3e554",
   "metadata": {},
   "outputs": [
    {
     "data": {
      "text/plain": [
       "['간', '짜', '장', '면']"
      ]
     },
     "execution_count": 106,
     "metadata": {},
     "output_type": "execute_result"
    }
   ],
   "source": [
    "a.insert(0,\"간\") #원하는 자리에 추가\n",
    "a"
   ]
  },
  {
   "cell_type": "code",
   "execution_count": 107,
   "id": "292f534f",
   "metadata": {},
   "outputs": [
    {
     "data": {
      "text/plain": [
       "['짜', '장', '면']"
      ]
     },
     "execution_count": 107,
     "metadata": {},
     "output_type": "execute_result"
    }
   ],
   "source": [
    "del a[0]\n",
    "a"
   ]
  },
  {
   "cell_type": "code",
   "execution_count": 108,
   "id": "ebba19b5",
   "metadata": {},
   "outputs": [
    {
     "data": {
      "text/plain": [
       "['짜', '장']"
      ]
     },
     "execution_count": 108,
     "metadata": {},
     "output_type": "execute_result"
    }
   ],
   "source": [
    "a.remove(\"면\")\n",
    "a"
   ]
  },
  {
   "cell_type": "code",
   "execution_count": 110,
   "id": "60fd1f23",
   "metadata": {},
   "outputs": [
    {
     "data": {
      "text/plain": [
       "['짜', '왕']"
      ]
     },
     "execution_count": 110,
     "metadata": {},
     "output_type": "execute_result"
    }
   ],
   "source": [
    "a[1] = \"왕\"\n",
    "a"
   ]
  },
  {
   "cell_type": "code",
   "execution_count": 113,
   "id": "ad22c4fc",
   "metadata": {},
   "outputs": [
    {
     "data": {
      "text/plain": [
       "'짜장면'"
      ]
     },
     "execution_count": 113,
     "metadata": {},
     "output_type": "execute_result"
    }
   ],
   "source": [
    "m = \"간짜장면\"\n",
    "m.replace(\"간\",\"\")"
   ]
  },
  {
   "cell_type": "code",
   "execution_count": 114,
   "id": "fcb3b5c4",
   "metadata": {},
   "outputs": [
    {
     "data": {
      "text/plain": [
       "'짜왕'"
      ]
     },
     "execution_count": 114,
     "metadata": {},
     "output_type": "execute_result"
    }
   ],
   "source": [
    "m = \"짜장\"\n",
    "m.replace(\"장\", \"왕\")"
   ]
  },
  {
   "cell_type": "code",
   "execution_count": 115,
   "id": "d75d98b0",
   "metadata": {},
   "outputs": [
    {
     "data": {
      "text/plain": [
       "['다', '마', '라', '다', '나', '가']"
      ]
     },
     "execution_count": 115,
     "metadata": {},
     "output_type": "execute_result"
    }
   ],
   "source": [
    "k = [\"가\", \"나\", \"다\", \"라\", \"마\", \"다\"]\n",
    "k.reverse() #순서 변경\n",
    "k"
   ]
  },
  {
   "cell_type": "code",
   "execution_count": 117,
   "id": "51f53f3a",
   "metadata": {},
   "outputs": [
    {
     "data": {
      "text/plain": [
       "['마', '라', '다', '다', '나', '가']"
      ]
     },
     "execution_count": 117,
     "metadata": {},
     "output_type": "execute_result"
    }
   ],
   "source": [
    "k.sort() #오름차순\n",
    "k.reverse() #이렇게 되면 내림차순으로 바뀜\n",
    "k "
   ]
  },
  {
   "cell_type": "code",
   "execution_count": 118,
   "id": "49003132",
   "metadata": {},
   "outputs": [
    {
     "data": {
      "text/plain": [
       "['마', '라', '다', '다', '나', '가']"
      ]
     },
     "execution_count": 118,
     "metadata": {},
     "output_type": "execute_result"
    }
   ],
   "source": [
    "k.sort(reverse = True) #내림차순\n",
    "k"
   ]
  },
  {
   "cell_type": "code",
   "execution_count": 119,
   "id": "26a0cccb",
   "metadata": {},
   "outputs": [
    {
     "data": {
      "text/plain": [
       "9"
      ]
     },
     "execution_count": 119,
     "metadata": {},
     "output_type": "execute_result"
    }
   ],
   "source": [
    "#len # 길이를 나타내는 줄임말 length\n",
    "len(\"짜장면은 맛있다.\")"
   ]
  },
  {
   "cell_type": "code",
   "execution_count": 120,
   "id": "9cbeb2a8",
   "metadata": {},
   "outputs": [
    {
     "data": {
      "text/plain": [
       "6"
      ]
     },
     "execution_count": 120,
     "metadata": {},
     "output_type": "execute_result"
    }
   ],
   "source": [
    "len(k) #len 으로 인덱스의 수를 샘"
   ]
  },
  {
   "cell_type": "code",
   "execution_count": 121,
   "id": "fbff4ae2",
   "metadata": {},
   "outputs": [],
   "source": [
    "fruit = [\"사과\", \"바나나\", \"키위\", \"망고\", \"파인애플\"]"
   ]
  },
  {
   "cell_type": "code",
   "execution_count": 123,
   "id": "18fe999c",
   "metadata": {},
   "outputs": [
    {
     "data": {
      "text/plain": [
       "4"
      ]
     },
     "execution_count": 123,
     "metadata": {},
     "output_type": "execute_result"
    }
   ],
   "source": [
    "len(fruit[4])"
   ]
  },
  {
   "cell_type": "code",
   "execution_count": null,
   "id": "f5a4feb0",
   "metadata": {},
   "outputs": [],
   "source": [
    "\"사과\" in fruit # True\n",
    "\"배\" in fruit #False\n",
    "\"사과\" in \"사과는 맛있어\" #True"
   ]
  },
  {
   "cell_type": "code",
   "execution_count": null,
   "id": "09ee005d",
   "metadata": {},
   "outputs": [],
   "source": [
    "['사과', '바나나'] in fruit #False\n",
    "(\"사과\" in fruit) and (\"바나나\" in fruit) #True\n",
    "'사과' not in fruit #False"
   ]
  },
  {
   "cell_type": "markdown",
   "id": "59eb7579",
   "metadata": {},
   "source": [
    "### 반복문"
   ]
  },
  {
   "cell_type": "code",
   "execution_count": null,
   "id": "dd80e5db",
   "metadata": {},
   "outputs": [],
   "source": [
    "while 명제:\n",
    "    명제가 참인 한 실행되는 코드\n",
    "# 조건, break 를 넣어 무한루프에 빠지지 않게 하기"
   ]
  },
  {
   "cell_type": "code",
   "execution_count": 132,
   "id": "b60feda5",
   "metadata": {},
   "outputs": [
    {
     "name": "stdout",
     "output_type": "stream",
     "text": [
      "1\n",
      "2\n"
     ]
    }
   ],
   "source": [
    "n = 1\n",
    "while n < 3:\n",
    "    print(n)\n",
    "    n = n + 1"
   ]
  },
  {
   "cell_type": "code",
   "execution_count": null,
   "id": "d260b20b",
   "metadata": {},
   "outputs": [],
   "source": [
    "n = 1\n",
    "while True:\n",
    "    print(1)\n",
    "    n = n + 1\n",
    "    if n == 100:\n",
    "        break\n",
    "    else :\n",
    "        pass\n",
    "# 1을 100번 출력후 break"
   ]
  },
  {
   "cell_type": "code",
   "execution_count": null,
   "id": "0ecbaa4b",
   "metadata": {},
   "outputs": [],
   "source": [
    "for 변수 in 인덱싱이 가능한 자료형:\n",
    "    코드"
   ]
  },
  {
   "cell_type": "code",
   "execution_count": 136,
   "id": "0d1c412a",
   "metadata": {},
   "outputs": [
    {
     "name": "stdout",
     "output_type": "stream",
     "text": [
      "1\n",
      "2\n",
      "3\n",
      "4\n",
      "5\n"
     ]
    }
   ],
   "source": [
    "for i in [1,2,3,4,5]:\n",
    "    print(i)"
   ]
  },
  {
   "cell_type": "code",
   "execution_count": 137,
   "id": "476f9807",
   "metadata": {},
   "outputs": [
    {
     "name": "stdout",
     "output_type": "stream",
     "text": [
      "가\n",
      "나\n",
      "다\n",
      "라\n",
      "마\n"
     ]
    }
   ],
   "source": [
    "for i in (\"가\", \"나\", \"다\", \"라\", \"마\"):\n",
    "    print(i)"
   ]
  },
  {
   "cell_type": "code",
   "execution_count": 142,
   "id": "074328c4",
   "metadata": {},
   "outputs": [
    {
     "data": {
      "text/plain": [
       "[0, 1, 2, 3, 4, 5, 6, 7, 8, 9]"
      ]
     },
     "execution_count": 142,
     "metadata": {},
     "output_type": "execute_result"
    }
   ],
   "source": [
    "list(range(10))"
   ]
  },
  {
   "cell_type": "code",
   "execution_count": 140,
   "id": "8788e105",
   "metadata": {
    "collapsed": true
   },
   "outputs": [
    {
     "name": "stdout",
     "output_type": "stream",
     "text": [
      "3 x 1 = 3\n",
      "3 x 2 = 6\n",
      "3 x 3 = 9\n",
      "3 x 4 = 12\n",
      "3 x 5 = 15\n",
      "3 x 6 = 18\n",
      "3 x 7 = 21\n",
      "3 x 8 = 24\n",
      "3 x 9 = 27\n"
     ]
    }
   ],
   "source": [
    "for num in range(1,10):\n",
    "    print('3 x {} = {}'.format(num, 3*num))"
   ]
  },
  {
   "cell_type": "code",
   "execution_count": 146,
   "id": "9f69aee1",
   "metadata": {
    "collapsed": true
   },
   "outputs": [
    {
     "name": "stdout",
     "output_type": "stream",
     "text": [
      "1 x 1 = 1\n",
      "1 x 2 = 2\n",
      "1 x 3 = 3\n",
      "1 x 4 = 4\n",
      "1 x 5 = 5\n",
      "1 x 6 = 6\n",
      "1 x 7 = 7\n",
      "1 x 8 = 8\n",
      "1 x 9 = 9\n",
      "2 x 1 = 2\n",
      "2 x 2 = 4\n",
      "2 x 3 = 6\n",
      "2 x 4 = 8\n",
      "2 x 5 = 10\n",
      "2 x 6 = 12\n",
      "2 x 7 = 14\n",
      "2 x 8 = 16\n",
      "2 x 9 = 18\n",
      "3 x 1 = 3\n",
      "3 x 2 = 6\n",
      "3 x 3 = 9\n",
      "3 x 4 = 12\n",
      "3 x 5 = 15\n",
      "3 x 6 = 18\n",
      "3 x 7 = 21\n",
      "3 x 8 = 24\n",
      "3 x 9 = 27\n",
      "4 x 1 = 4\n",
      "4 x 2 = 8\n",
      "4 x 3 = 12\n",
      "4 x 4 = 16\n",
      "4 x 5 = 20\n",
      "4 x 6 = 24\n",
      "4 x 7 = 28\n",
      "4 x 8 = 32\n",
      "4 x 9 = 36\n",
      "5 x 1 = 5\n",
      "5 x 2 = 10\n",
      "5 x 3 = 15\n",
      "5 x 4 = 20\n",
      "5 x 5 = 25\n",
      "5 x 6 = 30\n",
      "5 x 7 = 35\n",
      "5 x 8 = 40\n",
      "5 x 9 = 45\n",
      "6 x 1 = 6\n",
      "6 x 2 = 12\n",
      "6 x 3 = 18\n",
      "6 x 4 = 24\n",
      "6 x 5 = 30\n",
      "6 x 6 = 36\n",
      "6 x 7 = 42\n",
      "6 x 8 = 48\n",
      "6 x 9 = 54\n",
      "7 x 1 = 7\n",
      "7 x 2 = 14\n",
      "7 x 3 = 21\n",
      "7 x 4 = 28\n",
      "7 x 5 = 35\n",
      "7 x 6 = 42\n",
      "7 x 7 = 49\n",
      "7 x 8 = 56\n",
      "7 x 9 = 63\n",
      "8 x 1 = 8\n",
      "8 x 2 = 16\n",
      "8 x 3 = 24\n",
      "8 x 4 = 32\n",
      "8 x 5 = 40\n",
      "8 x 6 = 48\n",
      "8 x 7 = 56\n",
      "8 x 8 = 64\n",
      "8 x 9 = 72\n",
      "9 x 1 = 9\n",
      "9 x 2 = 18\n",
      "9 x 3 = 27\n",
      "9 x 4 = 36\n",
      "9 x 5 = 45\n",
      "9 x 6 = 54\n",
      "9 x 7 = 63\n",
      "9 x 8 = 72\n",
      "9 x 9 = 81\n"
     ]
    }
   ],
   "source": [
    "for i in range(1, 10):\n",
    "    for w in range(1, 10):\n",
    "        print('{} x {} = {}'.format(i, w, i*w))"
   ]
  },
  {
   "cell_type": "markdown",
   "id": "7d77b30f",
   "metadata": {},
   "source": [
    "### 너무 중요한 반복문\n",
    "- 10,000 보다 큰 57과 83의 공배수 중 가장 작은 수를 출력해주세요\n",
    "- 공배수 : 57 과 83을 모두 약수로 가지는 수"
   ]
  },
  {
   "cell_type": "code",
   "execution_count": 153,
   "id": "f320b4cb",
   "metadata": {},
   "outputs": [
    {
     "name": "stdout",
     "output_type": "stream",
     "text": [
      "14193\n"
     ]
    }
   ],
   "source": [
    "a = 1\n",
    "b = 1\n",
    "while b < 10000:\n",
    "    b = a * 57 * 83\n",
    "    a += 1\n",
    "print(b)"
   ]
  },
  {
   "cell_type": "code",
   "execution_count": 164,
   "id": "095b74b3",
   "metadata": {},
   "outputs": [
    {
     "name": "stdout",
     "output_type": "stream",
     "text": [
      "14193\n"
     ]
    }
   ],
   "source": [
    "n = 10000\n",
    "while not((n % 57 == 0) and (n % 83 == 0)):\n",
    "    n = n + 1\n",
    "print(n)"
   ]
  },
  {
   "cell_type": "code",
   "execution_count": 162,
   "id": "99e65132",
   "metadata": {},
   "outputs": [
    {
     "name": "stdout",
     "output_type": "stream",
     "text": [
      "14193\n"
     ]
    }
   ],
   "source": [
    "n = 10000\n",
    "while (n % 57 != 0) or (n % 83 != 0):\n",
    "    n = n + 1\n",
    "print(n)"
   ]
  },
  {
   "cell_type": "code",
   "execution_count": 165,
   "id": "1ad4dea8",
   "metadata": {},
   "outputs": [
    {
     "name": "stdout",
     "output_type": "stream",
     "text": [
      "14193\n"
     ]
    }
   ],
   "source": [
    "n = 10000\n",
    "while True:\n",
    "    if (n % 57 == 0 and n % 83 == 0):\n",
    "        break\n",
    "    else:\n",
    "        n = n + 1\n",
    "print(n)"
   ]
  },
  {
   "cell_type": "markdown",
   "id": "31590b25",
   "metadata": {},
   "source": [
    "### 예외처리"
   ]
  },
  {
   "cell_type": "code",
   "execution_count": 167,
   "id": "856e4962",
   "metadata": {
    "collapsed": true
   },
   "outputs": [
    {
     "name": "stdout",
     "output_type": "stream",
     "text": [
      "-0.14285714285714285\n",
      "-0.16666666666666666\n",
      "-0.2\n",
      "-0.25\n",
      "-0.3333333333333333\n",
      "-0.5\n",
      "-1.0\n"
     ]
    },
    {
     "ename": "ZeroDivisionError",
     "evalue": "division by zero",
     "output_type": "error",
     "traceback": [
      "\u001b[1;31m---------------------------------------------------------------------------\u001b[0m",
      "\u001b[1;31mZeroDivisionError\u001b[0m                         Traceback (most recent call last)",
      "Input \u001b[1;32mIn [167]\u001b[0m, in \u001b[0;36m<cell line: 1>\u001b[1;34m()\u001b[0m\n\u001b[0;32m      1\u001b[0m \u001b[38;5;28;01mfor\u001b[39;00m i \u001b[38;5;129;01min\u001b[39;00m \u001b[38;5;28mrange\u001b[39m(\u001b[38;5;241m10\u001b[39m):\n\u001b[1;32m----> 2\u001b[0m     \u001b[38;5;28mprint\u001b[39m(\u001b[38;5;241;43m1\u001b[39;49m\u001b[38;5;241;43m/\u001b[39;49m\u001b[43m(\u001b[49m\u001b[43mi\u001b[49m\u001b[38;5;241;43m-\u001b[39;49m\u001b[38;5;241;43m7\u001b[39;49m\u001b[43m)\u001b[49m)\n",
      "\u001b[1;31mZeroDivisionError\u001b[0m: division by zero"
     ]
    }
   ],
   "source": [
    "for i in range(10):\n",
    "    print(1/(i-7))"
   ]
  },
  {
   "cell_type": "code",
   "execution_count": null,
   "id": "e2e81f82",
   "metadata": {},
   "outputs": [],
   "source": [
    "try:\n",
    "    코드\n",
    "except:\n",
    "    코드가 에러가 날 경우 실행되는 코드"
   ]
  },
  {
   "cell_type": "code",
   "execution_count": 170,
   "id": "b5dc24b3",
   "metadata": {},
   "outputs": [
    {
     "name": "stdout",
     "output_type": "stream",
     "text": [
      "-0.14285714285714285\n",
      "-0.16666666666666666\n",
      "-0.2\n",
      "-0.25\n",
      "-0.3333333333333333\n",
      "-0.5\n",
      "-1.0\n",
      "삐용삐용\n",
      "1.0\n",
      "0.5\n"
     ]
    }
   ],
   "source": [
    "for i in range(10):\n",
    "    try:\n",
    "        print(1/(i-7))\n",
    "    except: # 파이썬이 허용하지 않는 오류들을 개발자가 허용하고 싶을때\n",
    "        print(\"삐용삐용\")"
   ]
  },
  {
   "cell_type": "code",
   "execution_count": 173,
   "id": "b49f19ae",
   "metadata": {
    "collapsed": true
   },
   "outputs": [
    {
     "name": "stdout",
     "output_type": "stream",
     "text": [
      "3의 배수를 입력하시오: 4\n"
     ]
    },
    {
     "ename": "Exception",
     "evalue": "3의 배수가 아닙니다.",
     "output_type": "error",
     "traceback": [
      "\u001b[1;31m---------------------------------------------------------------------------\u001b[0m",
      "\u001b[1;31mException\u001b[0m                                 Traceback (most recent call last)",
      "Input \u001b[1;32mIn [173]\u001b[0m, in \u001b[0;36m<cell line: 2>\u001b[1;34m()\u001b[0m\n\u001b[0;32m      3\u001b[0m     \u001b[38;5;28;01mpass\u001b[39;00m\n\u001b[0;32m      4\u001b[0m \u001b[38;5;28;01melse\u001b[39;00m:\n\u001b[1;32m----> 5\u001b[0m     \u001b[38;5;28;01mraise\u001b[39;00m \u001b[38;5;167;01mException\u001b[39;00m(\u001b[38;5;124m\"\u001b[39m\u001b[38;5;124m3의 배수가 아닙니다.\u001b[39m\u001b[38;5;124m\"\u001b[39m)\n\u001b[0;32m      6\u001b[0m \u001b[38;5;28mprint\u001b[39m(a)\n",
      "\u001b[1;31mException\u001b[0m: 3의 배수가 아닙니다."
     ]
    }
   ],
   "source": [
    "a = int(input(\"3의 배수를 입력하시오: \"))\n",
    "if a % 3 == 0 :\n",
    "    pass\n",
    "else:\n",
    "    raise Exception(\"3의 배수가 아닙니다.\")\n",
    "print(a)"
   ]
  },
  {
   "cell_type": "markdown",
   "id": "8904bb00",
   "metadata": {},
   "source": [
    "### 딕셔너리"
   ]
  },
  {
   "cell_type": "code",
   "execution_count": 176,
   "id": "ed597d72",
   "metadata": {},
   "outputs": [],
   "source": [
    "dictionary = {\"A\" : \"가\", \"B\" : \"나\", \"C\" : \"다\", \"D\" : \"라\"}"
   ]
  },
  {
   "cell_type": "code",
   "execution_count": 174,
   "id": "7c27ed8c",
   "metadata": {},
   "outputs": [
    {
     "data": {
      "text/plain": [
       "'가'"
      ]
     },
     "execution_count": 174,
     "metadata": {},
     "output_type": "execute_result"
    }
   ],
   "source": [
    "list = [\"가\", \"나\", \"다\", \"라\"]\n",
    "list[0]"
   ]
  },
  {
   "cell_type": "code",
   "execution_count": 177,
   "id": "720a6f96",
   "metadata": {},
   "outputs": [
    {
     "data": {
      "text/plain": [
       "'가'"
      ]
     },
     "execution_count": 177,
     "metadata": {},
     "output_type": "execute_result"
    }
   ],
   "source": [
    "dictionary[\"A\"]"
   ]
  },
  {
   "cell_type": "code",
   "execution_count": 179,
   "id": "a7ca1e8c",
   "metadata": {},
   "outputs": [],
   "source": [
    "csb = {\"이름\" : [\"홍길동\", \"임꺽정\", \"장길산\"], \"나이\" : [20, 35, 52], \"키\" : [160, 170, 180]}"
   ]
  },
  {
   "cell_type": "code",
   "execution_count": 180,
   "id": "7b9feaac",
   "metadata": {},
   "outputs": [
    {
     "data": {
      "text/plain": [
       "['홍길동', '임꺽정', '장길산']"
      ]
     },
     "execution_count": 180,
     "metadata": {},
     "output_type": "execute_result"
    }
   ],
   "source": [
    "csb [\"이름\"]\n",
    "# select * from 이름;"
   ]
  },
  {
   "cell_type": "code",
   "execution_count": 181,
   "id": "bbfa1064",
   "metadata": {
    "collapsed": true
   },
   "outputs": [
    {
     "ename": "KeyError",
     "evalue": "0",
     "output_type": "error",
     "traceback": [
      "\u001b[1;31m---------------------------------------------------------------------------\u001b[0m",
      "\u001b[1;31mKeyError\u001b[0m                                  Traceback (most recent call last)",
      "Input \u001b[1;32mIn [181]\u001b[0m, in \u001b[0;36m<cell line: 1>\u001b[1;34m()\u001b[0m\n\u001b[1;32m----> 1\u001b[0m \u001b[43mcsb\u001b[49m\u001b[43m[\u001b[49m\u001b[38;5;241;43m0\u001b[39;49m\u001b[43m]\u001b[49m\n",
      "\u001b[1;31mKeyError\u001b[0m: 0"
     ]
    }
   ],
   "source": [
    "csb[0]"
   ]
  },
  {
   "cell_type": "code",
   "execution_count": 182,
   "id": "f29aba68",
   "metadata": {},
   "outputs": [
    {
     "data": {
      "text/plain": [
       "dict_keys(['이름', '나이', '키'])"
      ]
     },
     "execution_count": 182,
     "metadata": {},
     "output_type": "execute_result"
    }
   ],
   "source": [
    "csb.keys()"
   ]
  },
  {
   "cell_type": "code",
   "execution_count": 183,
   "id": "2aff5966",
   "metadata": {},
   "outputs": [
    {
     "data": {
      "text/plain": [
       "dict_values([['홍길동', '임꺽정', '장길산'], [20, 35, 52], [160, 170, 180]])"
      ]
     },
     "execution_count": 183,
     "metadata": {},
     "output_type": "execute_result"
    }
   ],
   "source": [
    "csb.values()"
   ]
  },
  {
   "cell_type": "code",
   "execution_count": 184,
   "id": "66d61d18",
   "metadata": {},
   "outputs": [],
   "source": [
    "csb[\"성별\"] = [\"남\", \"남\", \"남\"]"
   ]
  },
  {
   "cell_type": "code",
   "execution_count": 185,
   "id": "f34417f7",
   "metadata": {},
   "outputs": [
    {
     "data": {
      "text/plain": [
       "{'이름': ['홍길동', '임꺽정', '장길산'],\n",
       " '나이': [20, 35, 52],\n",
       " '키': [160, 170, 180],\n",
       " '성별': ['남', '남', '남']}"
      ]
     },
     "execution_count": 185,
     "metadata": {},
     "output_type": "execute_result"
    }
   ],
   "source": [
    "csb"
   ]
  },
  {
   "cell_type": "code",
   "execution_count": 187,
   "id": "d8badc6a",
   "metadata": {},
   "outputs": [
    {
     "data": {
      "text/plain": [
       "{'이름': ['홍길동', '임꺽정', '장길산'], '나이': [20, 35, 52], '키': [160, 170, 180]}"
      ]
     },
     "execution_count": 187,
     "metadata": {},
     "output_type": "execute_result"
    }
   ],
   "source": [
    "# remove 는중복 될수있기때문에 효율이 떨어짐 del 사용 추천\n",
    "# csb.remove([\"남\", \"남\", \"남\"]) \n",
    "del csb[\"성별\"]\n",
    "csb"
   ]
  },
  {
   "cell_type": "code",
   "execution_count": 188,
   "id": "c81184af",
   "metadata": {},
   "outputs": [
    {
     "name": "stdout",
     "output_type": "stream",
     "text": [
      "이름\n",
      "나이\n",
      "키\n"
     ]
    }
   ],
   "source": [
    "# csb.keys() 과 같다\n",
    "for i in csb:\n",
    "    print(i)"
   ]
  },
  {
   "cell_type": "code",
   "execution_count": 1,
   "id": "b6431350",
   "metadata": {},
   "outputs": [],
   "source": [
    "csb = {\"이름\" : [\"홍길동\", \"임꺽정\", \"장길산\"], \n",
    "       \"나이\" : [20, 35, 52], \n",
    "       \"키\" : [160, 200, 180], \n",
    "       \"발 사이즈\" : [260, 290, 270]}"
   ]
  },
  {
   "cell_type": "markdown",
   "id": "632ac0cf",
   "metadata": {},
   "source": [
    "- for 문을 활용해서 홍길동, 임꺽정, 장길산의 나이 평균, \n",
    "키 평균, 발사이즈 평균을 구해주세요"
   ]
  },
  {
   "cell_type": "code",
   "execution_count": 8,
   "id": "7b7ce720",
   "metadata": {},
   "outputs": [
    {
     "data": {
      "text/plain": [
       "['나이', '키', '발 사이즈', '평균들']"
      ]
     },
     "execution_count": 8,
     "metadata": {},
     "output_type": "execute_result"
    }
   ],
   "source": [
    "list(csb.keys())[1:]"
   ]
  },
  {
   "cell_type": "code",
   "execution_count": 2,
   "id": "21b2e10f",
   "metadata": {},
   "outputs": [
    {
     "data": {
      "text/plain": [
       "{'이름': ['홍길동', '임꺽정', '장길산'],\n",
       " '나이': [20, 35, 52],\n",
       " '키': [160, 200, 180],\n",
       " '발 사이즈': [260, 290, 270],\n",
       " '평균들': [35.666666666666664, 180.0, 273.3333333333333]}"
      ]
     },
     "execution_count": 2,
     "metadata": {},
     "output_type": "execute_result"
    }
   ],
   "source": [
    "averages = []\n",
    "for i in list(csb.keys())[1:]:\n",
    "    n = 0\n",
    "    for w in csb[i]:\n",
    "        n = n + w\n",
    "    averages.append(n/len(csb[i]))\n",
    "csb[\"평균들\"] = averages\n",
    "csb"
   ]
  },
  {
   "cell_type": "code",
   "execution_count": 233,
   "id": "2256edda",
   "metadata": {},
   "outputs": [
    {
     "data": {
      "text/plain": [
       "{'이름': ['홍길동', '임꺽정', '장길산'],\n",
       " '나이': [20, 35, 52],\n",
       " '키': [160, 200, 180],\n",
       " '발 사이즈': [260, 290, 270],\n",
       " '평균들': [35.666666666666664, 180.0, 273.3333333333333]}"
      ]
     },
     "execution_count": 233,
     "metadata": {},
     "output_type": "execute_result"
    }
   ],
   "source": [
    "averages = []\n",
    "for i in csb:\n",
    "    try:\n",
    "        n = 0\n",
    "        for w in csb[i]:\n",
    "            n = n + w\n",
    "        averages.append(n/len(csb[i]))\n",
    "    except:\n",
    "        pass\n",
    "csb[\"평균들\"] = averages\n",
    "csb"
   ]
  },
  {
   "cell_type": "code",
   "execution_count": null,
   "id": "aa5c6de1",
   "metadata": {},
   "outputs": [],
   "source": []
  }
 ],
 "metadata": {
  "kernelspec": {
   "display_name": "Python 3 (ipykernel)",
   "language": "python",
   "name": "python3"
  },
  "language_info": {
   "codemirror_mode": {
    "name": "ipython",
    "version": 3
   },
   "file_extension": ".py",
   "mimetype": "text/x-python",
   "name": "python",
   "nbconvert_exporter": "python",
   "pygments_lexer": "ipython3",
   "version": "3.9.12"
  }
 },
 "nbformat": 4,
 "nbformat_minor": 5
}
