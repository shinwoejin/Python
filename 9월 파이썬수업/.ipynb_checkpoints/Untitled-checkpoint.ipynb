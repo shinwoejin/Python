{
 "cells": [
  {
   "cell_type": "code",
   "execution_count": null,
   "id": "a8671f5c",
   "metadata": {},
   "outputs": [],
   "source": [
    "from selenium import webdriver\n",
    "from webdriver_manager.chrome import ChromeDriverManager\n",
    "import pandas as pd\n",
    "from bs4 import BeautifulSoup as bs\n",
    "from selenium.webdriver.common.keys import Keys\n",
    "from selenium.webdriver.common.action_chains import ActionChains\n",
    "import time\n",
    "from tqdm import tqdm_notebook as tqdm\n",
    "import requests as req"
   ]
  },
  {
   "cell_type": "code",
   "execution_count": 28,
   "id": "0b3734c5",
   "metadata": {},
   "outputs": [],
   "source": [
    "driver = webdriver.Chrome(ChromeDriverManager().install())"
   ]
  },
  {
   "cell_type": "code",
   "execution_count": 29,
   "id": "7571be5a",
   "metadata": {},
   "outputs": [],
   "source": [
    "driver.get('https://lovinegar.com/entry/%EC%BB%A4%ED%94%BC-%EC%9B%90%EB%91%90%EC%9D%98-%EC%A2%85%EB%A5%98-%EC%BB%A4%ED%94%BC-%ED%9A%A8%EB%8A%A5%EA%B3%BC-%EB%82%B4-%EB%AA%B8%EC%97%90-%EB%A7%9E%EB%8A%94-%EC%BB%A4%ED%94%BC-%EC%84%AD%EC%B7%A8%EB%B2%95')"
   ]
  },
  {
   "cell_type": "code",
   "execution_count": 30,
   "id": "607b6ab3",
   "metadata": {},
   "outputs": [],
   "source": [
    "soup = bs(driver.page_source, 'html.parser')"
   ]
  },
  {
   "cell_type": "code",
   "execution_count": 46,
   "id": "7e807144",
   "metadata": {},
   "outputs": [
    {
     "data": {
      "text/plain": [
       "'■ 원두커피 추천☕'"
      ]
     },
     "execution_count": 46,
     "metadata": {},
     "output_type": "execute_result"
    }
   ],
   "source": [
    "title = driver.find_elements_by_css_selector('span > b')\n",
    "title.text"
   ]
  },
  {
   "cell_type": "code",
   "execution_count": 47,
   "id": "4e0694a8",
   "metadata": {},
   "outputs": [
    {
     "data": {
      "text/plain": [
       "' 현대인들의 일상에서 빼놓을 수 없는 것 중에 하나가 바로 커피입니다. '"
      ]
     },
     "execution_count": 47,
     "metadata": {},
     "output_type": "execute_result"
    }
   ],
   "source": [
    "contents = driver.find_elements_by_css_selector('p > span')\n",
    "contents.text"
   ]
  },
  {
   "cell_type": "code",
   "execution_count": 48,
   "id": "4ab6b3d6",
   "metadata": {
    "collapsed": true
   },
   "outputs": [
    {
     "ename": "TypeError",
     "evalue": "'WebElement' object is not iterable",
     "output_type": "error",
     "traceback": [
      "\u001b[1;31m---------------------------------------------------------------------------\u001b[0m",
      "\u001b[1;31mTypeError\u001b[0m                                 Traceback (most recent call last)",
      "Input \u001b[1;32mIn [48]\u001b[0m, in \u001b[0;36m<cell line: 3>\u001b[1;34m()\u001b[0m\n\u001b[0;32m      1\u001b[0m title_list \u001b[38;5;241m=\u001b[39m []\n\u001b[0;32m      2\u001b[0m contents_list \u001b[38;5;241m=\u001b[39m []\n\u001b[1;32m----> 3\u001b[0m \u001b[38;5;28;01mfor\u001b[39;00m i \u001b[38;5;129;01min\u001b[39;00m title:\n\u001b[0;32m      4\u001b[0m     title \u001b[38;5;241m=\u001b[39m driver\u001b[38;5;241m.\u001b[39mfind_elements_by_css_selector(\u001b[38;5;124m'\u001b[39m\u001b[38;5;124mspan > b\u001b[39m\u001b[38;5;124m'\u001b[39m)\n\u001b[0;32m      5\u001b[0m     title_list\u001b[38;5;241m.\u001b[39mappend(i\u001b[38;5;241m.\u001b[39mtext)\n",
      "\u001b[1;31mTypeError\u001b[0m: 'WebElement' object is not iterable"
     ]
    }
   ],
   "source": [
    "title_list = []\n",
    "\n",
    "for i in title:\n",
    "    title_list.append(i.text)\n"
   ]
  },
  {
   "cell_type": "code",
   "execution_count": null,
   "id": "3e652ed8",
   "metadata": {},
   "outputs": [],
   "source": [
    "contents_list = []\n",
    "for i in contents:\n",
    "    contents_list.append(i.text)"
   ]
  },
  {
   "cell_type": "code",
   "execution_count": null,
   "id": "0c9be686",
   "metadata": {},
   "outputs": [],
   "source": []
  }
 ],
 "metadata": {
  "kernelspec": {
   "display_name": "Python 3 (ipykernel)",
   "language": "python",
   "name": "python3"
  },
  "language_info": {
   "codemirror_mode": {
    "name": "ipython",
    "version": 3
   },
   "file_extension": ".py",
   "mimetype": "text/x-python",
   "name": "python",
   "nbconvert_exporter": "python",
   "pygments_lexer": "ipython3",
   "version": "3.9.12"
  }
 },
 "nbformat": 4,
 "nbformat_minor": 5
}
