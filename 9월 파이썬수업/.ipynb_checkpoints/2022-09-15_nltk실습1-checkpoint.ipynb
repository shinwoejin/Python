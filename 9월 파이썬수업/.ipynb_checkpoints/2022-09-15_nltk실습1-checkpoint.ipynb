{
 "cells": [
  {
   "cell_type": "code",
   "execution_count": null,
   "id": "cf8825ca",
   "metadata": {},
   "outputs": [],
   "source": [
    "!pip install nltk"
   ]
  },
  {
   "cell_type": "code",
   "execution_count": 1,
   "id": "1886613f",
   "metadata": {},
   "outputs": [],
   "source": [
    "import nltk\n",
    "from nltk import pos_tag"
   ]
  },
  {
   "cell_type": "code",
   "execution_count": 10,
   "id": "457ad8ce",
   "metadata": {},
   "outputs": [
    {
     "name": "stderr",
     "output_type": "stream",
     "text": [
      "[nltk_data] Downloading package punkt to\n",
      "[nltk_data]     C:\\Users\\82104\\AppData\\Roaming\\nltk_data...\n",
      "[nltk_data]   Package punkt is already up-to-date!\n",
      "[nltk_data] Downloading package averaged_perceptron_tagger to\n",
      "[nltk_data]     C:\\Users\\82104\\AppData\\Roaming\\nltk_data...\n",
      "[nltk_data]   Package averaged_perceptron_tagger is already up-to-\n",
      "[nltk_data]       date!\n",
      "[nltk_data] Downloading package stopwords to\n",
      "[nltk_data]     C:\\Users\\82104\\AppData\\Roaming\\nltk_data...\n",
      "[nltk_data]   Unzipping corpora\\stopwords.zip.\n"
     ]
    },
    {
     "data": {
      "text/plain": [
       "True"
      ]
     },
     "execution_count": 10,
     "metadata": {},
     "output_type": "execute_result"
    }
   ],
   "source": [
    "nltk.download('punkt')\n",
    "nltk.download('averaged_perceptron_tagger')\n",
    "nltk.download('stopwords')"
   ]
  },
  {
   "cell_type": "code",
   "execution_count": 3,
   "id": "5d6831e3",
   "metadata": {},
   "outputs": [],
   "source": [
    "text = 'The little yellow dog barked at the Persian cat'"
   ]
  },
  {
   "cell_type": "code",
   "execution_count": 4,
   "id": "aafb4b21",
   "metadata": {},
   "outputs": [
    {
     "data": {
      "text/plain": [
       "['The', 'little', 'yellow', 'dog', 'barked', 'at', 'the', 'Persian', 'cat']"
      ]
     },
     "execution_count": 4,
     "metadata": {},
     "output_type": "execute_result"
    }
   ],
   "source": [
    "split_text = nltk.word_tokenize(text)\n",
    "split_text"
   ]
  },
  {
   "cell_type": "code",
   "execution_count": 9,
   "id": "b1c628d8",
   "metadata": {},
   "outputs": [
    {
     "data": {
      "text/plain": [
       "[('The', 'DT'),\n",
       " ('little', 'JJ'),\n",
       " ('yellow', 'JJ'),\n",
       " ('dog', 'NN'),\n",
       " ('barked', 'VBD'),\n",
       " ('at', 'IN'),\n",
       " ('the', 'DT'),\n",
       " ('Persian', 'JJ'),\n",
       " ('cat', 'NN')]"
      ]
     },
     "execution_count": 9,
     "metadata": {},
     "output_type": "execute_result"
    }
   ],
   "source": [
    "nltk.pos_tag(split_text)"
   ]
  },
  {
   "cell_type": "code",
   "execution_count": 21,
   "id": "302edd6f",
   "metadata": {},
   "outputs": [],
   "source": [
    "nltk.corpus.stopwords.words('english')\n",
    "# 영어만 가능, 소문자만 가능\n",
    "stopwords = nltk.corpus.stopwords.words('english')"
   ]
  },
  {
   "cell_type": "code",
   "execution_count": 14,
   "id": "6c2ded1a",
   "metadata": {},
   "outputs": [
    {
     "data": {
      "text/plain": [
       "'the little yellow dog barked at the persian cat'"
      ]
     },
     "execution_count": 14,
     "metadata": {},
     "output_type": "execute_result"
    }
   ],
   "source": [
    "text.lower()\n",
    "# 대문자를 소문자로"
   ]
  },
  {
   "cell_type": "markdown",
   "id": "be009559",
   "metadata": {},
   "source": [
    "### 내가 한거"
   ]
  },
  {
   "cell_type": "code",
   "execution_count": 15,
   "id": "23ea96bf",
   "metadata": {},
   "outputs": [],
   "source": [
    "def extract_tag(string):\n",
    "    result_words = []\n",
    "    result = nltk.pos_tag(split_text)\n",
    "    for word, tag in result:\n",
    "        if tag in['NN', 'NNS', 'NNP','NNPS', 'JJ', 'JJR', 'JJS', 'VB', 'VBD', 'VBG','VBN', 'VBP', 'VBZ']:\n",
    "            if word not in nltk.corpus.stopwords.words('english'):\n",
    "                result_words.append(word)\n",
    "    return result_words"
   ]
  },
  {
   "cell_type": "code",
   "execution_count": 16,
   "id": "43309e36",
   "metadata": {
    "scrolled": true
   },
   "outputs": [
    {
     "data": {
      "text/plain": [
       "['little', 'yellow', 'dog', 'barked', 'Persian', 'cat']"
      ]
     },
     "execution_count": 16,
     "metadata": {},
     "output_type": "execute_result"
    }
   ],
   "source": [
    "extract_tag(text)"
   ]
  },
  {
   "cell_type": "markdown",
   "id": "7e0677df",
   "metadata": {},
   "source": [
    "### 선생님"
   ]
  },
  {
   "cell_type": "code",
   "execution_count": 30,
   "id": "9c10ae8b",
   "metadata": {},
   "outputs": [],
   "source": [
    "text = 'The little yellow dog barked at the Persian cat'"
   ]
  },
  {
   "cell_type": "code",
   "execution_count": 35,
   "id": "30b81509",
   "metadata": {},
   "outputs": [],
   "source": [
    "def extract_tags_english(string):\n",
    "    word_list = []\n",
    "    #string = string.lower()\n",
    "    string = nltk.word_tokenize(string)\n",
    "    string = nltk.pos_tag(string)\n",
    "       \n",
    "    for word, tag in string:\n",
    "        if tag in ['NN', 'NNS', 'NNP','NNPS', 'JJ', 'JJR', 'JJS', 'VB', 'VBD', 'VBG','VBN', 'VBP', 'VBZ']:\n",
    "            if word.lower not in stopwords: #if word not in stopwords:\n",
    "                word_list.append(word)\n",
    "\n",
    "    return word_list"
   ]
  },
  {
   "cell_type": "code",
   "execution_count": 36,
   "id": "f6de1821",
   "metadata": {},
   "outputs": [],
   "source": [
    "result = extract_tags_english(text)"
   ]
  },
  {
   "cell_type": "code",
   "execution_count": 37,
   "id": "05e89679",
   "metadata": {},
   "outputs": [
    {
     "data": {
      "text/plain": [
       "['little', 'yellow', 'dog', 'barked', 'Persian', 'cat']"
      ]
     },
     "execution_count": 37,
     "metadata": {},
     "output_type": "execute_result"
    }
   ],
   "source": [
    "result"
   ]
  },
  {
   "cell_type": "code",
   "execution_count": 38,
   "id": "8b5ad347",
   "metadata": {},
   "outputs": [],
   "source": [
    "import pickle"
   ]
  },
  {
   "cell_type": "code",
   "execution_count": 40,
   "id": "b268388b",
   "metadata": {},
   "outputs": [],
   "source": [
    "with open('save_data.pkl', 'wb') as f:\n",
    "    pickle.dump(result, f)"
   ]
  },
  {
   "cell_type": "code",
   "execution_count": null,
   "id": "fd905d74",
   "metadata": {},
   "outputs": [],
   "source": [
    "with open('save_data.pkl', \"rb\") as f:\n",
    "    data = pickle.load(f)"
   ]
  }
 ],
 "metadata": {
  "kernelspec": {
   "display_name": "Python 3 (ipykernel)",
   "language": "python",
   "name": "python3"
  },
  "language_info": {
   "codemirror_mode": {
    "name": "ipython",
    "version": 3
   },
   "file_extension": ".py",
   "mimetype": "text/x-python",
   "name": "python",
   "nbconvert_exporter": "python",
   "pygments_lexer": "ipython3",
   "version": "3.9.12"
  }
 },
 "nbformat": 4,
 "nbformat_minor": 5
}
