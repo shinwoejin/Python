{
 "cells": [
  {
   "cell_type": "code",
   "execution_count": 29,
   "metadata": {},
   "outputs": [],
   "source": [
    "from selenium import webdriver\n",
    "from webdriver_manager.chrome import ChromeDriverManager\n",
    "import pandas as pd"
   ]
  },
  {
   "cell_type": "code",
   "execution_count": 30,
   "metadata": {},
   "outputs": [],
   "source": [
    "driver = webdriver.Chrome(ChromeDriverManager().install())"
   ]
  },
  {
   "cell_type": "code",
   "execution_count": 31,
   "metadata": {},
   "outputs": [],
   "source": [
    "driver.get(\"https://www.hsd.co.kr/\")"
   ]
  },
  {
   "cell_type": "code",
   "execution_count": 32,
   "metadata": {},
   "outputs": [],
   "source": [
    "# 창 최대화 하기\n",
    "driver.maximize_window()"
   ]
  },
  {
   "cell_type": "code",
   "execution_count": 33,
   "metadata": {},
   "outputs": [],
   "source": [
    "# 메뉴 xpath 주소\n",
    "menu = driver.find_element_by_xpath('//*[@id=\"gnb\"]/div[2]/ul/li[3]/p/a')\n",
    "# 전체 메뉴 xpath 주소\n",
    "all_menu = driver.find_element_by_xpath('//*[@id=\"gnb\"]/div[2]/ul/li[3]/div/ul/li[1]/a')"
   ]
  },
  {
   "cell_type": "code",
   "execution_count": 34,
   "metadata": {},
   "outputs": [],
   "source": [
    "#액션 체인 만들기\n",
    "from selenium.webdriver.common.action_chains import ActionChains"
   ]
  },
  {
   "cell_type": "code",
   "execution_count": 35,
   "metadata": {},
   "outputs": [],
   "source": [
    "# 액션 만들기\n",
    "actions = ActionChains(driver)\n",
    "#메뉴 버튼\n",
    "actions.move_to_element(menu)\n",
    "#전체메뉴클릭하기\n",
    "actions.click(all_menu)\n",
    "actions.perform()"
   ]
  },
  {
   "cell_type": "markdown",
   "metadata": {},
   "source": [
    "### 메뉴이름 / 가격수집 + 더보기버튼(while문 사용)"
   ]
  },
  {
   "cell_type": "code",
   "execution_count": 36,
   "metadata": {},
   "outputs": [],
   "source": [
    "import time"
   ]
  },
  {
   "cell_type": "code",
   "execution_count": 37,
   "metadata": {},
   "outputs": [],
   "source": [
    "# 전체 정리\n",
    "\n",
    "# 더보기버튼 누르기\n",
    "while True:\n",
    "    try:\n",
    "        btn = driver.find_element_by_css_selector('#btn_more > span > a')\n",
    "        btn.click()\n",
    "        time.sleep(1) # 더보기 버튼이 다 눌릴때까지 슬립\n",
    "    except:\n",
    "        break\n",
    "        \n",
    "        \n",
    "# 메뉴\n",
    "title = driver.find_elements_by_css_selector('h4.h.fz_03')\n",
    "\n",
    "# 가격\n",
    "price = driver.find_elements_by_css_selector('div.item-price > strong')\n",
    "\n"
   ]
  },
  {
   "cell_type": "code",
   "execution_count": 38,
   "metadata": {},
   "outputs": [],
   "source": [
    "title_list = []\n",
    "for i in title:\n",
    "    title_list.append(i.text)\n",
    "    \n",
    "price_list = []\n",
    "for i in price:\n",
    "    price_list.append(i.text)"
   ]
  },
  {
   "cell_type": "code",
   "execution_count": 39,
   "metadata": {},
   "outputs": [],
   "source": [
    "data = {'메뉴명' : title_list, '가격' : price_list}"
   ]
  },
  {
   "cell_type": "code",
   "execution_count": 40,
   "metadata": {},
   "outputs": [
    {
     "data": {
      "text/html": [
       "<div>\n",
       "<style scoped>\n",
       "    .dataframe tbody tr th:only-of-type {\n",
       "        vertical-align: middle;\n",
       "    }\n",
       "\n",
       "    .dataframe tbody tr th {\n",
       "        vertical-align: top;\n",
       "    }\n",
       "\n",
       "    .dataframe thead th {\n",
       "        text-align: right;\n",
       "    }\n",
       "</style>\n",
       "<table border=\"1\" class=\"dataframe\">\n",
       "  <thead>\n",
       "    <tr style=\"text-align: right;\">\n",
       "      <th></th>\n",
       "      <th>메뉴명</th>\n",
       "      <th>가격</th>\n",
       "    </tr>\n",
       "  </thead>\n",
       "  <tbody>\n",
       "    <tr>\n",
       "      <th>0</th>\n",
       "      <td>데미햄버그 불고기 파스타</td>\n",
       "      <td>5,200</td>\n",
       "    </tr>\n",
       "    <tr>\n",
       "      <th>1</th>\n",
       "      <td>데미햄버그 불고기 덮밥</td>\n",
       "      <td>4,800</td>\n",
       "    </tr>\n",
       "    <tr>\n",
       "      <th>2</th>\n",
       "      <td>아보카도 게맛살 명란비빔밥</td>\n",
       "      <td>6,500</td>\n",
       "    </tr>\n",
       "    <tr>\n",
       "      <th>3</th>\n",
       "      <td>아보카도 소고기 명란비빔밥</td>\n",
       "      <td>6,500</td>\n",
       "    </tr>\n",
       "    <tr>\n",
       "      <th>4</th>\n",
       "      <td>핫 치즈 닭갈비덮밥</td>\n",
       "      <td>5,900</td>\n",
       "    </tr>\n",
       "    <tr>\n",
       "      <th>...</th>\n",
       "      <td>...</td>\n",
       "      <td>...</td>\n",
       "    </tr>\n",
       "    <tr>\n",
       "      <th>89</th>\n",
       "      <td>무말랭이 무침</td>\n",
       "      <td>400</td>\n",
       "    </tr>\n",
       "    <tr>\n",
       "      <th>90</th>\n",
       "      <td>한솥밥</td>\n",
       "      <td>1,000</td>\n",
       "    </tr>\n",
       "    <tr>\n",
       "      <th>91</th>\n",
       "      <td>현미밥</td>\n",
       "      <td>1,700</td>\n",
       "    </tr>\n",
       "    <tr>\n",
       "      <th>92</th>\n",
       "      <td>리얼 티라미수 찰떡</td>\n",
       "      <td>1,500</td>\n",
       "    </tr>\n",
       "    <tr>\n",
       "      <th>93</th>\n",
       "      <td>리얼꿀 미니호떡</td>\n",
       "      <td>2,200</td>\n",
       "    </tr>\n",
       "  </tbody>\n",
       "</table>\n",
       "<p>94 rows × 2 columns</p>\n",
       "</div>"
      ],
      "text/plain": [
       "               메뉴명     가격\n",
       "0    데미햄버그 불고기 파스타  5,200\n",
       "1     데미햄버그 불고기 덮밥  4,800\n",
       "2   아보카도 게맛살 명란비빔밥  6,500\n",
       "3   아보카도 소고기 명란비빔밥  6,500\n",
       "4       핫 치즈 닭갈비덮밥  5,900\n",
       "..             ...    ...\n",
       "89         무말랭이 무침    400\n",
       "90             한솥밥  1,000\n",
       "91             현미밥  1,700\n",
       "92      리얼 티라미수 찰떡  1,500\n",
       "93        리얼꿀 미니호떡  2,200\n",
       "\n",
       "[94 rows x 2 columns]"
      ]
     },
     "execution_count": 40,
     "metadata": {},
     "output_type": "execute_result"
    }
   ],
   "source": [
    "food = pd.DataFrame(data)\n",
    "food"
   ]
  },
  {
   "cell_type": "markdown",
   "metadata": {},
   "source": [
    "### Beautifulsoup"
   ]
  },
  {
   "cell_type": "code",
   "execution_count": 42,
   "metadata": {},
   "outputs": [],
   "source": [
    "from bs4 import BeautifulSoup as bs"
   ]
  },
  {
   "cell_type": "code",
   "execution_count": 43,
   "metadata": {},
   "outputs": [],
   "source": [
    "driver = webdriver.Chrome(ChromeDriverManager().install())\n",
    "driver.get(\"https://www.hsd.co.kr/\")\n",
    "driver.maximize_window()"
   ]
  },
  {
   "cell_type": "code",
   "execution_count": 44,
   "metadata": {},
   "outputs": [],
   "source": [
    "# 메뉴 xpath 주소\n",
    "menu = driver.find_element_by_xpath('//*[@id=\"gnb\"]/div[2]/ul/li[3]/p/a')\n",
    "# 전체 메뉴 xpath 주소\n",
    "all_menu = driver.find_element_by_xpath('//*[@id=\"gnb\"]/div[2]/ul/li[3]/div/ul/li[1]/a')"
   ]
  },
  {
   "cell_type": "code",
   "execution_count": 46,
   "metadata": {},
   "outputs": [],
   "source": [
    "# 액션 만들기\n",
    "actions = ActionChains(driver)\n",
    "#메뉴 버튼\n",
    "actions.move_to_element(menu)\n",
    "#전체메뉴클릭하기\n",
    "actions.click(all_menu)\n",
    "actions.perform()"
   ]
  },
  {
   "cell_type": "code",
   "execution_count": 47,
   "metadata": {},
   "outputs": [],
   "source": [
    "# 더보기버튼 누르기\n",
    "while True:\n",
    "    try:\n",
    "        btn = driver.find_element_by_css_selector('#btn_more > span > a')\n",
    "        btn.click()\n",
    "        time.sleep(1) # 더보기 버튼이 다 눌릴때까지 슬립\n",
    "    except:\n",
    "        break"
   ]
  },
  {
   "cell_type": "code",
   "execution_count": 48,
   "metadata": {},
   "outputs": [],
   "source": [
    "soup = bs(driver.page_source, 'html.parser')"
   ]
  },
  {
   "cell_type": "code",
   "execution_count": 49,
   "metadata": {},
   "outputs": [],
   "source": [
    "title_bs = soup.select('h4.h.fz_03')"
   ]
  },
  {
   "cell_type": "code",
   "execution_count": 51,
   "metadata": {},
   "outputs": [],
   "source": [
    "price_bs = soup.select('div.item-price > strong')"
   ]
  }
 ],
 "metadata": {
  "kernelspec": {
   "display_name": "Python 3 (ipykernel)",
   "language": "python",
   "name": "python3"
  },
  "language_info": {
   "codemirror_mode": {
    "name": "ipython",
    "version": 3
   },
   "file_extension": ".py",
   "mimetype": "text/x-python",
   "name": "python",
   "nbconvert_exporter": "python",
   "pygments_lexer": "ipython3",
   "version": "3.10.7"
  },
  "vscode": {
   "interpreter": {
    "hash": "369f2c481f4da34e4445cda3fffd2e751bd1c4d706f27375911949ba6bb62e1c"
   }
  }
 },
 "nbformat": 4,
 "nbformat_minor": 2
}
