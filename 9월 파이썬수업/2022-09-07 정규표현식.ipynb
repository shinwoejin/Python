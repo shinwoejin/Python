{
 "cells": [
  {
   "cell_type": "code",
   "execution_count": 2,
   "id": "039fc829",
   "metadata": {},
   "outputs": [],
   "source": [
    "# 모든 특수 문자를 지우고 싶다면\n",
    "# Regular Expression 기반의 워드 인코딩\n",
    "import re"
   ]
  },
  {
   "cell_type": "code",
   "execution_count": 3,
   "id": "e3cda2cf",
   "metadata": {},
   "outputs": [
    {
     "data": {
      "text/plain": [
       "re.compile(r'배고파', re.UNICODE)"
      ]
     },
     "execution_count": 3,
     "metadata": {},
     "output_type": "execute_result"
    }
   ],
   "source": [
    "a = re.compile(\"배고파\")\n",
    "a"
   ]
  },
  {
   "cell_type": "code",
   "execution_count": 4,
   "id": "590cd2ba",
   "metadata": {},
   "outputs": [
    {
     "data": {
      "text/plain": [
       "<re.Match object; span=(0, 3), match='배고파'>"
      ]
     },
     "execution_count": 4,
     "metadata": {},
     "output_type": "execute_result"
    }
   ],
   "source": [
    "a.match(\"배고파\")"
   ]
  },
  {
   "cell_type": "code",
   "execution_count": 7,
   "id": "114fbb09",
   "metadata": {},
   "outputs": [
    {
     "data": {
      "text/plain": [
       "['배고파', '배고파', '배고파']"
      ]
     },
     "execution_count": 7,
     "metadata": {},
     "output_type": "execute_result"
    }
   ],
   "source": [
    "a.findall(\"배고파서 아 배고파 배고파 노래를 불렀다.\")"
   ]
  },
  {
   "cell_type": "code",
   "execution_count": 9,
   "id": "f45c9017",
   "metadata": {},
   "outputs": [
    {
     "data": {
      "text/plain": [
       "<re.Match object; span=(0, 3), match='배고파'>"
      ]
     },
     "execution_count": 9,
     "metadata": {},
     "output_type": "execute_result"
    }
   ],
   "source": [
    "a.search(\"배고파서 아 배고파 배고파 노래를 불렀다.\")"
   ]
  },
  {
   "cell_type": "code",
   "execution_count": 6,
   "id": "86fb2298",
   "metadata": {},
   "outputs": [
    {
     "name": "stdout",
     "output_type": "stream",
     "text": [
      "<re.Match object; span=(0, 3), match='배고파'>\n",
      "<re.Match object; span=(0, 3), match='배아파'>\n"
     ]
    }
   ],
   "source": [
    "a = re.compile(\"배.파\")\n",
    "print(a.match(\"배고파\"))\n",
    "print(a.match(\"배아파\"))"
   ]
  },
  {
   "cell_type": "markdown",
   "id": "367fd5cf",
   "metadata": {},
   "source": [
    "### 정규표현식 기본문법 1\n",
    "- 문법적인 영향력을 갖고있음\n",
    "- 정규표현식은 문자열만 가능\n",
    "- 1 . : 모든것\n",
    "- 2 * : 0번 이상 반복\n",
    "- 3 + : 1번 이상 반복\n",
    "- 4 {m} : m번 반복\n",
    "- 5 {m,n} : m번이상, n번 이하 반복\n",
    "- 6 ? : 있어도 되고, 없어도 됨\n"
   ]
  },
  {
   "cell_type": "code",
   "execution_count": 10,
   "id": "fa45e44f",
   "metadata": {},
   "outputs": [
    {
     "name": "stdout",
     "output_type": "stream",
     "text": [
      "<re.Match object; span=(0, 3), match='배고파'>\n",
      "<re.Match object; span=(0, 3), match='배아파'>\n",
      "<re.Match object; span=(0, 3), match='배흙파'>\n"
     ]
    }
   ],
   "source": [
    "b = re.compile(\"배.파\")\n",
    "print(b.match(\"배고파\"))\n",
    "print(b.match(\"배아파\"))\n",
    "print(b.match(\"배흙파\"))"
   ]
  },
  {
   "cell_type": "code",
   "execution_count": 11,
   "id": "db60b8c3",
   "metadata": {},
   "outputs": [
    {
     "name": "stdout",
     "output_type": "stream",
     "text": [
      "None\n"
     ]
    }
   ],
   "source": [
    "b = re.compile(\"배..파\")\n",
    "print(b.match(\"배고파\"))"
   ]
  },
  {
   "cell_type": "code",
   "execution_count": 12,
   "id": "fc8ac029",
   "metadata": {},
   "outputs": [
    {
     "name": "stdout",
     "output_type": "stream",
     "text": [
      "<re.Match object; span=(0, 2), match='배파'>\n",
      "<re.Match object; span=(0, 3), match='배고파'>\n",
      "<re.Match object; span=(0, 4), match='배고고파'>\n",
      "<re.Match object; span=(0, 5), match='배고고고파'>\n"
     ]
    }
   ],
   "source": [
    "b = re.compile(\"배고*파\") # * 앞에 한글자만 반복되게 \n",
    "print(b.match(\"배파\"))\n",
    "print(b.match(\"배고파\"))\n",
    "print(b.match(\"배고고파\"))\n",
    "print(b.match(\"배고고고파\"))"
   ]
  },
  {
   "cell_type": "code",
   "execution_count": 14,
   "id": "15ba32a7",
   "metadata": {},
   "outputs": [
    {
     "name": "stdout",
     "output_type": "stream",
     "text": [
      "None\n",
      "<re.Match object; span=(0, 3), match='배고파'>\n",
      "<re.Match object; span=(0, 4), match='배고고파'>\n",
      "<re.Match object; span=(0, 5), match='배고고고파'>\n"
     ]
    }
   ],
   "source": [
    "b = re.compile(\"배고+파\") # + 한번 이상 반복되게\n",
    "print(b.match(\"배파\")) # 한번이상 반복되지 않아서 안됨\n",
    "print(b.match(\"배고파\"))\n",
    "print(b.match(\"배고고파\"))\n",
    "print(b.match(\"배고고고파\"))"
   ]
  },
  {
   "cell_type": "code",
   "execution_count": 15,
   "id": "08238352",
   "metadata": {},
   "outputs": [
    {
     "name": "stdout",
     "output_type": "stream",
     "text": [
      "None\n",
      "None\n",
      "<re.Match object; span=(0, 4), match='배고고파'>\n",
      "None\n"
     ]
    }
   ],
   "source": [
    "b = re.compile(\"배고{2}파\") # 2번 반복\n",
    "print(b.match(\"배파\")) #None\n",
    "print(b.match(\"배고파\")) #None\n",
    "print(b.match(\"배고고파\"))\n",
    "print(b.match(\"배고고고파\")) #None"
   ]
  },
  {
   "cell_type": "code",
   "execution_count": 17,
   "id": "6bce4816",
   "metadata": {},
   "outputs": [
    {
     "name": "stdout",
     "output_type": "stream",
     "text": [
      "None\n",
      "<re.Match object; span=(0, 3), match='배고파'>\n",
      "<re.Match object; span=(0, 4), match='배고고파'>\n",
      "None\n"
     ]
    }
   ],
   "source": [
    "b = re.compile(\"배고{1,2}파\") # 1 이상 2 이하 반복\n",
    "print(b.match(\"배파\")) #None\n",
    "print(b.match(\"배고파\"))\n",
    "print(b.match(\"배고고파\"))\n",
    "print(b.match(\"배고고고파\")) #None"
   ]
  },
  {
   "cell_type": "code",
   "execution_count": 18,
   "id": "bde16976",
   "metadata": {},
   "outputs": [
    {
     "name": "stdout",
     "output_type": "stream",
     "text": [
      "<re.Match object; span=(0, 2), match='배파'>\n",
      "<re.Match object; span=(0, 3), match='배고파'>\n",
      "None\n",
      "None\n"
     ]
    }
   ],
   "source": [
    "b = re.compile(\"배고?파\") # ?앞에 문자가 등장할수도있고 안할수도있다\n",
    "print(b.match(\"배파\"))\n",
    "print(b.match(\"배고파\"))\n",
    "print(b.match(\"배고고파\")) # 반복에 의미는 없음\n",
    "print(b.match(\"배고고고파\")) #None"
   ]
  },
  {
   "cell_type": "code",
   "execution_count": 23,
   "id": "9478ceb2",
   "metadata": {},
   "outputs": [
    {
     "name": "stdout",
     "output_type": "stream",
     "text": [
      "<re.Match object; span=(0, 10), match='나는 밥을 먹었다.'>\n",
      "<re.Match object; span=(0, 10), match='나는 밥을 먹었다ㅋ'>\n"
     ]
    }
   ],
   "source": [
    "b = re.compile(\"나는 밥을 먹었다.\")\n",
    "print(b.match(\"나는 밥을 먹었다.\"))\n",
    "print(b.match(\"나는 밥을 먹었다ㅋ\"))"
   ]
  },
  {
   "cell_type": "code",
   "execution_count": 24,
   "id": "b0adbc1c",
   "metadata": {},
   "outputs": [
    {
     "name": "stdout",
     "output_type": "stream",
     "text": [
      "<re.Match object; span=(0, 10), match='나는 밥을 먹었다.'>\n",
      "None\n"
     ]
    }
   ],
   "source": [
    "b = re.compile(\"나는 밥을 먹었다\\.\") # 역슬레시\\를 넣어 .으로 쓸수있음\n",
    "print(b.match(\"나는 밥을 먹었다.\"))\n",
    "print(b.match(\"나는 밥을 먹었다ㅋ\"))"
   ]
  },
  {
   "cell_type": "markdown",
   "id": "d0dc9b29",
   "metadata": {},
   "source": [
    "### 괄호의 활용"
   ]
  },
  {
   "cell_type": "code",
   "execution_count": 30,
   "id": "39935b03",
   "metadata": {},
   "outputs": [
    {
     "name": "stdout",
     "output_type": "stream",
     "text": [
      "None\n",
      "<re.Match object; span=(0, 3), match='배고파'>\n",
      "<re.Match object; span=(0, 5), match='배고파고파'>\n",
      "None\n"
     ]
    }
   ],
   "source": [
    "c = re.compile(\"배(고파)+\")\n",
    "print(c.match(\"배\"))\n",
    "print(c.match(\"배고파\"))\n",
    "print(c.match(\"배고파고파\"))\n",
    "print(c.match(\"배고고파\"))"
   ]
  },
  {
   "cell_type": "code",
   "execution_count": 33,
   "id": "daa705e0",
   "metadata": {},
   "outputs": [
    {
     "name": "stdout",
     "output_type": "stream",
     "text": [
      "None\n",
      "<re.Match object; span=(0, 2), match='배고'>\n",
      "<re.Match object; span=(0, 2), match='배파'>\n",
      "<re.Match object; span=(0, 2), match='배고'>\n"
     ]
    }
   ],
   "source": [
    "c = re.compile(\"배[고파]\") # 대괄호의 의미는 두글자중 한글자라도 있으면 가능\n",
    "print(c.match(\"배\"))\n",
    "print(c.match(\"배고\"))\n",
    "print(c.match(\"배파\"))\n",
    "print(c.match(\"배고파\"))"
   ]
  },
  {
   "cell_type": "code",
   "execution_count": 34,
   "id": "c3e6109c",
   "metadata": {},
   "outputs": [
    {
     "name": "stdout",
     "output_type": "stream",
     "text": [
      "None\n",
      "<re.Match object; span=(0, 2), match='배고'>\n",
      "<re.Match object; span=(0, 2), match='배파'>\n",
      "<re.Match object; span=(0, 3), match='배고파'>\n"
     ]
    }
   ],
   "source": [
    "c = re.compile(\"배[고파]+\") # 대괄호는 경우의 수만 나타낼뿐 한글자씩 인식한다.\n",
    "print(c.match(\"배\"))\n",
    "print(c.match(\"배고\"))\n",
    "print(c.match(\"배파\"))\n",
    "print(c.match(\"배고파\"))"
   ]
  },
  {
   "cell_type": "code",
   "execution_count": 43,
   "id": "51279add",
   "metadata": {},
   "outputs": [
    {
     "name": "stdout",
     "output_type": "stream",
     "text": [
      "<re.Match object; span=(0, 2), match='외고'>\n",
      "None\n",
      "None\n"
     ]
    }
   ],
   "source": [
    "c = re.compile(\"[여남공외]고\") \n",
    "# 대괄호 안의 문자는 한글자만 인식한다.\n",
    "# 맨앞글자에서 매칭이 안되면 매칭 안됨\n",
    "print(c.match(\"외고\"))\n",
    "print(c.match(\"자율고\"))\n",
    "print(c.match(\"남공고\"))"
   ]
  },
  {
   "cell_type": "code",
   "execution_count": 47,
   "id": "159c20f4",
   "metadata": {},
   "outputs": [
    {
     "name": "stdout",
     "output_type": "stream",
     "text": [
      "<re.Match object; span=(0, 7), match='외국어고등학교'>\n",
      "<re.Match object; span=(0, 8), match='여자여자고등학교'>\n"
     ]
    }
   ],
   "source": [
    "c = re.compile(\"(여자|외국어|남자|공업)+고등학교\")\n",
    "print(c.match(\"외국어고등학교\"))\n",
    "print(c.match(\"여자여자고등학교\"))"
   ]
  },
  {
   "cell_type": "code",
   "execution_count": 49,
   "id": "c48ba7c0",
   "metadata": {},
   "outputs": [
    {
     "name": "stdout",
     "output_type": "stream",
     "text": [
      "<re.Match object; span=(0, 7), match='외국어고등학교'>\n",
      "<re.Match object; span=(0, 8), match='여자여자고등학교'>\n"
     ]
    }
   ],
   "source": [
    "c = re.compile(\"(여자|외국어|남자|공업)+고등학교\")\n",
    "print(c.match(\"외국어고등학교\"))\n",
    "print(c.match(\"여자여자고등학교\"))"
   ]
  },
  {
   "cell_type": "markdown",
   "id": "3d9c828d",
   "metadata": {},
   "source": [
    "#### 대괄호만의 구간표현"
   ]
  },
  {
   "cell_type": "markdown",
   "id": "82f001f3",
   "metadata": {},
   "source": [
    "c = re.compile(\"[0-9]\") = re.compile(\"[0123456789]\")"
   ]
  },
  {
   "cell_type": "code",
   "execution_count": 52,
   "id": "88c1353e",
   "metadata": {},
   "outputs": [
    {
     "name": "stdout",
     "output_type": "stream",
     "text": [
      "<re.Match object; span=(0, 1), match='1'>\n"
     ]
    }
   ],
   "source": [
    "c = re.compile(\"[0-9]\")\n",
    "print(c.match(\"10\"))\n",
    "\n",
    "c = re.compile(\"[a-z]\")\n",
    "print(c.match(\"k)\"))\n",
    "\n",
    "c = re.compile(\"[A-Z]\")\n",
    "print(c.match(\"K)\"))"
   ]
  },
  {
   "cell_type": "code",
   "execution_count": 55,
   "id": "9a378a83",
   "metadata": {},
   "outputs": [
    {
     "name": "stdout",
     "output_type": "stream",
     "text": [
      "<re.Match object; span=(0, 1), match='뺡'>\n"
     ]
    }
   ],
   "source": [
    "c = re.compile(\"[가-힣]\")\n",
    "print(c.match(\"뺡)\"))\n",
    "\n",
    "c = re.compile(\"[가-하]\")\n",
    "print(c.match(\"뺡)\"))\n",
    "\n",
    "c = re.compile(\"[ㄱ-ㅎ]\")\n",
    "print(c.match(\"ㅋ)\"))\n",
    "\n",
    "c = re.compile(\"[ㅏ-ㅣ]\")\n",
    "print(c.match(\"ㅔ)\"))"
   ]
  },
  {
   "cell_type": "code",
   "execution_count": 60,
   "id": "b0f68123",
   "metadata": {},
   "outputs": [
    {
     "name": "stdout",
     "output_type": "stream",
     "text": [
      "<re.Match object; span=(0, 1), match='3'>\n",
      "<re.Match object; span=(0, 1), match='a'>\n",
      "<re.Match object; span=(0, 1), match='A'>\n"
     ]
    }
   ],
   "source": [
    "c = re.compile(\"[a-zA-Z0-9]\")\n",
    "print(c.match(\"3)\"))\n",
    "print(c.match(\"a)\"))\n",
    "print(c.match(\"A)\"))"
   ]
  },
  {
   "cell_type": "code",
   "execution_count": 63,
   "id": "a705ee0b",
   "metadata": {},
   "outputs": [
    {
     "name": "stdout",
     "output_type": "stream",
     "text": [
      "<re.Match object; span=(0, 1), match='가'>\n"
     ]
    }
   ],
   "source": [
    "c = re.compile(\"[^0-9]\") # 0~9를 제외하고 나머지 다 가능\n",
    "print(c.match(\"가\"))"
   ]
  },
  {
   "cell_type": "markdown",
   "id": "133654b4",
   "metadata": {},
   "source": [
    "### 정규표현식 특수문법\n",
    "- 정규표현식은 문자열만 가능"
   ]
  },
  {
   "cell_type": "code",
   "execution_count": 68,
   "id": "6ded22c0",
   "metadata": {},
   "outputs": [
    {
     "name": "stdout",
     "output_type": "stream",
     "text": [
      "<re.Match object; span=(0, 1), match='가'>\n",
      "<re.Match object; span=(0, 1), match='9'>\n"
     ]
    }
   ],
   "source": [
    "# re.compile(\"[^0-9]\") 과 같다\n",
    "d = re.compile('\\D') #모든 문자\n",
    "print(d.match('가'))\n",
    "\n",
    "\n",
    "d = re.compile('\\d') #모든 숫자\n",
    "print(d.match('9'))"
   ]
  },
  {
   "cell_type": "code",
   "execution_count": 73,
   "id": "4a33d8ea",
   "metadata": {},
   "outputs": [
    {
     "name": "stdout",
     "output_type": "stream",
     "text": [
      "<re.Match object; span=(0, 1), match=' '>\n",
      "<re.Match object; span=(0, 1), match='가'>\n"
     ]
    }
   ],
   "source": [
    "d = re.compile(\"\\s\") #공백에 대한 모든것\n",
    "print(d.match(\" \"))\n",
    "\n",
    "d = re.compile(\"\\S\") #공백이 아닌 모든것\n",
    "print(d.match(\"가\"))"
   ]
  },
  {
   "cell_type": "code",
   "execution_count": 81,
   "id": "1ef77ee7",
   "metadata": {
    "scrolled": true
   },
   "outputs": [
    {
     "name": "stdout",
     "output_type": "stream",
     "text": [
      "<re.Match object; span=(0, 1), match='가'>\n",
      "<re.Match object; span=(0, 1), match='_'>\n",
      "None\n",
      "<re.Match object; span=(0, 1), match=' '>\n",
      "<re.Match object; span=(0, 1), match='+'>\n",
      "None\n",
      "<re.Match object; span=(0, 1), match='@'>\n"
     ]
    }
   ],
   "source": [
    "d = re.compile(\"\\w\") #특수문자가 아닌 모든것\n",
    "print(d.match(\"가\"))\n",
    "print(d.match(\"_\")) # 언더바(_)는 인식가능\n",
    "print(d.match(\"+\"))\n",
    "\n",
    "d = re.compile(\"\\W\") #언더바(_)를 제외한 특수문자의 모든것\n",
    "print(d.match(\" \"))\n",
    "print(d.match(\"+\"))\n",
    "print(d.match(\"가\"))\n",
    "print(d.match(\"@\"))"
   ]
  },
  {
   "cell_type": "markdown",
   "id": "d72efc53",
   "metadata": {},
   "source": [
    "### 이메일 지칭하기\n",
    "- abcdefg123@gmail.com\n",
    "- abcdefg123@daum.net\n",
    "- abcdefg123@yahoo.co.kr"
   ]
  },
  {
   "cell_type": "markdown",
   "id": "2dccaeec",
   "metadata": {},
   "source": [
    "- d = re.compile(\"\\W\") d = re.compile('\\D') d = re.compile('\\d')"
   ]
  },
  {
   "cell_type": "code",
   "execution_count": 8,
   "id": "a50736d8",
   "metadata": {},
   "outputs": [
    {
     "data": {
      "text/plain": [
       "<re.Match object; span=(0, 19), match='abcdefg123@daum.net'>"
      ]
     },
     "execution_count": 8,
     "metadata": {},
     "output_type": "execute_result"
    }
   ],
   "source": [
    "#d = re.compile(\"\\S+@[a-zA-z0-9]+\\.[a-zA-z0-9]\\.?[a-zA-z0-9]*\")\n",
    "#d = re.compile(\"([a-zA-Z0-9_]+)@([a-z]+)\\.([a-z]+)\")\n",
    "#d = re.compile(\"[\\S]*[@][\\S]*\")\n",
    "d = re.compile(\".*[@].*\")\n",
    "\n",
    "#d.match(\"abcdefg123@gmail.com\")\n",
    "d.match(\"abcdefg123@daum.net\")\n",
    "#d.match(\"abcdefg123@yahoo.co.kr\")"
   ]
  },
  {
   "cell_type": "markdown",
   "id": "6d53d16d",
   "metadata": {},
   "source": [
    "### 전화번호 지칭하기\n",
    "- 010-1234-5678\n",
    "- 02-123-4567\n",
    "- 031)1234567\n",
    "- 0321234567\n",
    "- 112\n",
    "- 1588-5588"
   ]
  },
  {
   "cell_type": "code",
   "execution_count": 5,
   "id": "425759b2",
   "metadata": {},
   "outputs": [
    {
     "data": {
      "text/plain": [
       "<re.Match object; span=(0, 3), match='112'>"
      ]
     },
     "execution_count": 5,
     "metadata": {},
     "output_type": "execute_result"
    }
   ],
   "source": [
    "#d = re.compile(\"\\S+@[a-zA-z0-9]+\\.[a-zA-Z0-9]+\\.?[a-zA-Z0-9]*\")\n",
    "d = re.compile(\"[0-9]+\\W?[0-9]+-?[0-9]+\")\n",
    "#d = re.compile(\"[.*[\\W]*.*[\\W]*.*\")\n",
    "#d = re.compile(\"[\\d]*[\\W]*[\\d]*[\\W]*[\\d]*\")\n",
    "\n",
    "#d.match(\"010-1234-5678\")\n",
    "#d.match(\"031)1234567\")\n",
    "#d.match(\"02-123-4567\")\n",
    "d.match(\"112\")"
   ]
  },
  {
   "cell_type": "code",
   "execution_count": null,
   "id": "e3823cac",
   "metadata": {},
   "outputs": [],
   "source": []
  }
 ],
 "metadata": {
  "kernelspec": {
   "display_name": "Python 3.9.12 ('base')",
   "language": "python",
   "name": "python3"
  },
  "language_info": {
   "codemirror_mode": {
    "name": "ipython",
    "version": 3
   },
   "file_extension": ".py",
   "mimetype": "text/x-python",
   "name": "python",
   "nbconvert_exporter": "python",
   "pygments_lexer": "ipython3",
   "version": "3.9.12"
  },
  "vscode": {
   "interpreter": {
    "hash": "4fb426db0f3ee2be9e5ab359abf5d058c2a19de96b4d6eda446b2c3017042fa6"
   }
  }
 },
 "nbformat": 4,
 "nbformat_minor": 5
}
