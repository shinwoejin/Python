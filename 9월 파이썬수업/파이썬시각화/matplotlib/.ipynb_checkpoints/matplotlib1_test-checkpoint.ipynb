{
 "cells": [
  {
   "cell_type": "code",
   "execution_count": 1,
   "metadata": {},
   "outputs": [],
   "source": [
    "import matplotlib.pyplot as plt\n",
    "import numpy as np\n",
    "import pandas as pd\n",
    "from matplotlib import font_manager, rc\n",
    "font_name = font_manager.FontProperties(fname = 'C:/Windows/Fonts/malgun.ttf').get_name()\n",
    "rc('font',family=font_name)"
   ]
  },
  {
   "cell_type": "markdown",
   "metadata": {},
   "source": [
    "### 연습문제\n",
    "#### 전국 사망교통사고 2017을 시각화 해보자.\n",
    "#### (요일별 사망교통사고 시각화)"
   ]
  },
  {
   "cell_type": "code",
   "execution_count": 2,
   "metadata": {},
   "outputs": [
    {
     "data": {
      "text/html": [
       "<div>\n",
       "<style scoped>\n",
       "    .dataframe tbody tr th:only-of-type {\n",
       "        vertical-align: middle;\n",
       "    }\n",
       "\n",
       "    .dataframe tbody tr th {\n",
       "        vertical-align: top;\n",
       "    }\n",
       "\n",
       "    .dataframe thead th {\n",
       "        text-align: right;\n",
       "    }\n",
       "</style>\n",
       "<table border=\"1\" class=\"dataframe\">\n",
       "  <thead>\n",
       "    <tr style=\"text-align: right;\">\n",
       "      <th></th>\n",
       "      <th>발생년</th>\n",
       "      <th>발생년월일시</th>\n",
       "      <th>발생분</th>\n",
       "      <th>주야</th>\n",
       "      <th>요일</th>\n",
       "      <th>사망자수</th>\n",
       "      <th>사상자수</th>\n",
       "      <th>중상자수</th>\n",
       "      <th>경상자수</th>\n",
       "      <th>부상신고자수</th>\n",
       "      <th>...</th>\n",
       "      <th>도로형태_대분류</th>\n",
       "      <th>도로형태</th>\n",
       "      <th>당사자종별_1당_대분류</th>\n",
       "      <th>당사자종별_1당</th>\n",
       "      <th>당사자종별_2당_대분류</th>\n",
       "      <th>당사자종별_2당</th>\n",
       "      <th>발생위치X_UTMK</th>\n",
       "      <th>발생위치Y_UTMK</th>\n",
       "      <th>경도</th>\n",
       "      <th>위도</th>\n",
       "    </tr>\n",
       "  </thead>\n",
       "  <tbody>\n",
       "    <tr>\n",
       "      <th>0</th>\n",
       "      <td>2017</td>\n",
       "      <td>2017010101</td>\n",
       "      <td>15</td>\n",
       "      <td>야간</td>\n",
       "      <td>일</td>\n",
       "      <td>1</td>\n",
       "      <td>2</td>\n",
       "      <td>1</td>\n",
       "      <td>0</td>\n",
       "      <td>0</td>\n",
       "      <td>...</td>\n",
       "      <td>단일로</td>\n",
       "      <td>기타단일로</td>\n",
       "      <td>승용차</td>\n",
       "      <td>승용차</td>\n",
       "      <td>승용차</td>\n",
       "      <td>승용차</td>\n",
       "      <td>933501</td>\n",
       "      <td>1700129</td>\n",
       "      <td>126.768634</td>\n",
       "      <td>35.294464</td>\n",
       "    </tr>\n",
       "    <tr>\n",
       "      <th>1</th>\n",
       "      <td>2017</td>\n",
       "      <td>2017010102</td>\n",
       "      <td>28</td>\n",
       "      <td>야간</td>\n",
       "      <td>일</td>\n",
       "      <td>1</td>\n",
       "      <td>1</td>\n",
       "      <td>0</td>\n",
       "      <td>0</td>\n",
       "      <td>0</td>\n",
       "      <td>...</td>\n",
       "      <td>교차로</td>\n",
       "      <td>교차로부근</td>\n",
       "      <td>승용차</td>\n",
       "      <td>승용차</td>\n",
       "      <td>보행자</td>\n",
       "      <td>보행자</td>\n",
       "      <td>967570</td>\n",
       "      <td>1944453</td>\n",
       "      <td>127.133107</td>\n",
       "      <td>37.498741</td>\n",
       "    </tr>\n",
       "    <tr>\n",
       "      <th>2</th>\n",
       "      <td>2017</td>\n",
       "      <td>2017010102</td>\n",
       "      <td>43</td>\n",
       "      <td>야간</td>\n",
       "      <td>일</td>\n",
       "      <td>1</td>\n",
       "      <td>2</td>\n",
       "      <td>0</td>\n",
       "      <td>1</td>\n",
       "      <td>0</td>\n",
       "      <td>...</td>\n",
       "      <td>단일로</td>\n",
       "      <td>기타단일로</td>\n",
       "      <td>승용차</td>\n",
       "      <td>승용차</td>\n",
       "      <td>승용차</td>\n",
       "      <td>승용차</td>\n",
       "      <td>916497</td>\n",
       "      <td>1842880</td>\n",
       "      <td>126.566631</td>\n",
       "      <td>36.580069</td>\n",
       "    </tr>\n",
       "    <tr>\n",
       "      <th>3</th>\n",
       "      <td>2017</td>\n",
       "      <td>2017010102</td>\n",
       "      <td>22</td>\n",
       "      <td>야간</td>\n",
       "      <td>일</td>\n",
       "      <td>1</td>\n",
       "      <td>1</td>\n",
       "      <td>0</td>\n",
       "      <td>0</td>\n",
       "      <td>0</td>\n",
       "      <td>...</td>\n",
       "      <td>단일로</td>\n",
       "      <td>기타단일로</td>\n",
       "      <td>승용차</td>\n",
       "      <td>승용차</td>\n",
       "      <td>없음</td>\n",
       "      <td>없음</td>\n",
       "      <td>961608</td>\n",
       "      <td>1864573</td>\n",
       "      <td>127.069759</td>\n",
       "      <td>36.778505</td>\n",
       "    </tr>\n",
       "    <tr>\n",
       "      <th>4</th>\n",
       "      <td>2017</td>\n",
       "      <td>2017010104</td>\n",
       "      <td>37</td>\n",
       "      <td>야간</td>\n",
       "      <td>일</td>\n",
       "      <td>1</td>\n",
       "      <td>1</td>\n",
       "      <td>0</td>\n",
       "      <td>0</td>\n",
       "      <td>0</td>\n",
       "      <td>...</td>\n",
       "      <td>단일로</td>\n",
       "      <td>기타단일로</td>\n",
       "      <td>승용차</td>\n",
       "      <td>승용차</td>\n",
       "      <td>보행자</td>\n",
       "      <td>보행자</td>\n",
       "      <td>946778</td>\n",
       "      <td>1941695</td>\n",
       "      <td>126.898094</td>\n",
       "      <td>37.472946</td>\n",
       "    </tr>\n",
       "    <tr>\n",
       "      <th>...</th>\n",
       "      <td>...</td>\n",
       "      <td>...</td>\n",
       "      <td>...</td>\n",
       "      <td>...</td>\n",
       "      <td>...</td>\n",
       "      <td>...</td>\n",
       "      <td>...</td>\n",
       "      <td>...</td>\n",
       "      <td>...</td>\n",
       "      <td>...</td>\n",
       "      <td>...</td>\n",
       "      <td>...</td>\n",
       "      <td>...</td>\n",
       "      <td>...</td>\n",
       "      <td>...</td>\n",
       "      <td>...</td>\n",
       "      <td>...</td>\n",
       "      <td>...</td>\n",
       "      <td>...</td>\n",
       "      <td>...</td>\n",
       "      <td>...</td>\n",
       "    </tr>\n",
       "    <tr>\n",
       "      <th>4060</th>\n",
       "      <td>2017</td>\n",
       "      <td>2017123118</td>\n",
       "      <td>10</td>\n",
       "      <td>야간</td>\n",
       "      <td>일</td>\n",
       "      <td>1</td>\n",
       "      <td>4</td>\n",
       "      <td>1</td>\n",
       "      <td>0</td>\n",
       "      <td>2</td>\n",
       "      <td>...</td>\n",
       "      <td>단일로</td>\n",
       "      <td>기타단일로</td>\n",
       "      <td>화물차</td>\n",
       "      <td>화물차</td>\n",
       "      <td>화물차</td>\n",
       "      <td>화물차</td>\n",
       "      <td>1044531</td>\n",
       "      <td>1682838</td>\n",
       "      <td>127.988833</td>\n",
       "      <td>35.139774</td>\n",
       "    </tr>\n",
       "    <tr>\n",
       "      <th>4061</th>\n",
       "      <td>2017</td>\n",
       "      <td>2017123118</td>\n",
       "      <td>25</td>\n",
       "      <td>야간</td>\n",
       "      <td>일</td>\n",
       "      <td>1</td>\n",
       "      <td>1</td>\n",
       "      <td>0</td>\n",
       "      <td>0</td>\n",
       "      <td>0</td>\n",
       "      <td>...</td>\n",
       "      <td>단일로</td>\n",
       "      <td>기타단일로</td>\n",
       "      <td>원동기장치자전거</td>\n",
       "      <td>원동기장치자전거</td>\n",
       "      <td>없음</td>\n",
       "      <td>없음</td>\n",
       "      <td>1160683</td>\n",
       "      <td>1704380</td>\n",
       "      <td>129.267745</td>\n",
       "      <td>35.322087</td>\n",
       "    </tr>\n",
       "    <tr>\n",
       "      <th>4062</th>\n",
       "      <td>2017</td>\n",
       "      <td>2017123119</td>\n",
       "      <td>55</td>\n",
       "      <td>야간</td>\n",
       "      <td>일</td>\n",
       "      <td>1</td>\n",
       "      <td>1</td>\n",
       "      <td>0</td>\n",
       "      <td>0</td>\n",
       "      <td>0</td>\n",
       "      <td>...</td>\n",
       "      <td>단일로</td>\n",
       "      <td>기타단일로</td>\n",
       "      <td>화물차</td>\n",
       "      <td>화물차</td>\n",
       "      <td>없음</td>\n",
       "      <td>없음</td>\n",
       "      <td>1067639</td>\n",
       "      <td>1980346</td>\n",
       "      <td>128.268522</td>\n",
       "      <td>37.820351</td>\n",
       "    </tr>\n",
       "    <tr>\n",
       "      <th>4063</th>\n",
       "      <td>2017</td>\n",
       "      <td>2017123120</td>\n",
       "      <td>40</td>\n",
       "      <td>야간</td>\n",
       "      <td>일</td>\n",
       "      <td>1</td>\n",
       "      <td>11</td>\n",
       "      <td>1</td>\n",
       "      <td>9</td>\n",
       "      <td>0</td>\n",
       "      <td>...</td>\n",
       "      <td>단일로</td>\n",
       "      <td>기타단일로</td>\n",
       "      <td>승용차</td>\n",
       "      <td>승용차</td>\n",
       "      <td>승용차</td>\n",
       "      <td>승용차</td>\n",
       "      <td>961004</td>\n",
       "      <td>1987481</td>\n",
       "      <td>127.056525</td>\n",
       "      <td>37.886331</td>\n",
       "    </tr>\n",
       "    <tr>\n",
       "      <th>4064</th>\n",
       "      <td>2017</td>\n",
       "      <td>2017123123</td>\n",
       "      <td>15</td>\n",
       "      <td>야간</td>\n",
       "      <td>일</td>\n",
       "      <td>1</td>\n",
       "      <td>1</td>\n",
       "      <td>0</td>\n",
       "      <td>0</td>\n",
       "      <td>0</td>\n",
       "      <td>...</td>\n",
       "      <td>단일로</td>\n",
       "      <td>기타단일로</td>\n",
       "      <td>이륜차</td>\n",
       "      <td>이륜차</td>\n",
       "      <td>보행자</td>\n",
       "      <td>보행자</td>\n",
       "      <td>995304</td>\n",
       "      <td>1814453</td>\n",
       "      <td>127.447679</td>\n",
       "      <td>36.327435</td>\n",
       "    </tr>\n",
       "  </tbody>\n",
       "</table>\n",
       "<p>4065 rows × 27 columns</p>\n",
       "</div>"
      ],
      "text/plain": [
       "       발생년      발생년월일시  발생분  주야 요일  사망자수  사상자수  중상자수  경상자수  부상신고자수  ...  \\\n",
       "0     2017  2017010101   15  야간  일     1     2     1     0       0  ...   \n",
       "1     2017  2017010102   28  야간  일     1     1     0     0       0  ...   \n",
       "2     2017  2017010102   43  야간  일     1     2     0     1       0  ...   \n",
       "3     2017  2017010102   22  야간  일     1     1     0     0       0  ...   \n",
       "4     2017  2017010104   37  야간  일     1     1     0     0       0  ...   \n",
       "...    ...         ...  ...  .. ..   ...   ...   ...   ...     ...  ...   \n",
       "4060  2017  2017123118   10  야간  일     1     4     1     0       2  ...   \n",
       "4061  2017  2017123118   25  야간  일     1     1     0     0       0  ...   \n",
       "4062  2017  2017123119   55  야간  일     1     1     0     0       0  ...   \n",
       "4063  2017  2017123120   40  야간  일     1    11     1     9       0  ...   \n",
       "4064  2017  2017123123   15  야간  일     1     1     0     0       0  ...   \n",
       "\n",
       "     도로형태_대분류   도로형태 당사자종별_1당_대분류  당사자종별_1당 당사자종별_2당_대분류 당사자종별_2당 발생위치X_UTMK  \\\n",
       "0         단일로  기타단일로          승용차       승용차          승용차      승용차     933501   \n",
       "1         교차로  교차로부근          승용차       승용차          보행자      보행자     967570   \n",
       "2         단일로  기타단일로          승용차       승용차          승용차      승용차     916497   \n",
       "3         단일로  기타단일로          승용차       승용차           없음       없음     961608   \n",
       "4         단일로  기타단일로          승용차       승용차          보행자      보행자     946778   \n",
       "...       ...    ...          ...       ...          ...      ...        ...   \n",
       "4060      단일로  기타단일로          화물차       화물차          화물차      화물차    1044531   \n",
       "4061      단일로  기타단일로     원동기장치자전거  원동기장치자전거           없음       없음    1160683   \n",
       "4062      단일로  기타단일로          화물차       화물차           없음       없음    1067639   \n",
       "4063      단일로  기타단일로          승용차       승용차          승용차      승용차     961004   \n",
       "4064      단일로  기타단일로          이륜차       이륜차          보행자      보행자     995304   \n",
       "\n",
       "     발생위치Y_UTMK          경도         위도  \n",
       "0       1700129  126.768634  35.294464  \n",
       "1       1944453  127.133107  37.498741  \n",
       "2       1842880  126.566631  36.580069  \n",
       "3       1864573  127.069759  36.778505  \n",
       "4       1941695  126.898094  37.472946  \n",
       "...         ...         ...        ...  \n",
       "4060    1682838  127.988833  35.139774  \n",
       "4061    1704380  129.267745  35.322087  \n",
       "4062    1980346  128.268522  37.820351  \n",
       "4063    1987481  127.056525  37.886331  \n",
       "4064    1814453  127.447679  36.327435  \n",
       "\n",
       "[4065 rows x 27 columns]"
      ]
     },
     "execution_count": 2,
     "metadata": {},
     "output_type": "execute_result"
    }
   ],
   "source": [
    "date = pd.read_csv('Traffic_Accident_2017.csv',encoding='euc-kr')\n",
    "date"
   ]
  },
  {
   "cell_type": "code",
   "execution_count": 3,
   "metadata": {},
   "outputs": [
    {
     "data": {
      "text/plain": [
       "월    603\n",
       "화    608\n",
       "수    565\n",
       "목    586\n",
       "금    603\n",
       "토    596\n",
       "일    504\n",
       "Name: 요일, dtype: int64"
      ]
     },
     "execution_count": 3,
     "metadata": {},
     "output_type": "execute_result"
    }
   ],
   "source": [
    "# 요일별 사고 건수를 세봅시다\n",
    "temp = date['요일'].value_counts()\n",
    "y = temp[['월','화','수','목','금','토','일']]\n",
    "y"
   ]
  },
  {
   "cell_type": "code",
   "execution_count": 4,
   "metadata": {
    "scrolled": true
   },
   "outputs": [
    {
     "data": {
      "image/png": "[encoded data removed]",
      "text/plain": [
       "<Figure size 432x288 with 1 Axes>"
      ]
     },
     "metadata": {
      "needs_background": "light"
     },
     "output_type": "display_data"
    }
   ],
   "source": [
    "x = y.index\n",
    "plt.bar(x,y)\n",
    "plt.xlabel('요일')\n",
    "plt.ylabel('사고 건수').set_rotation(720)\n",
    "plt.title('요일별 사망 교통사고 건수')\n",
    "plt.ylim(500, 620)\n",
    "plt.show()"
   ]
  },
  {
   "cell_type": "markdown",
   "metadata": {},
   "source": [
    "### 연습문제2"
   ]
  },
  {
   "cell_type": "code",
   "execution_count": 5,
   "metadata": {},
   "outputs": [
    {
     "data": {
      "text/html": [
       "<div>\n",
       "<style scoped>\n",
       "    .dataframe tbody tr th:only-of-type {\n",
       "        vertical-align: middle;\n",
       "    }\n",
       "\n",
       "    .dataframe tbody tr th {\n",
       "        vertical-align: top;\n",
       "    }\n",
       "\n",
       "    .dataframe thead th {\n",
       "        text-align: right;\n",
       "    }\n",
       "</style>\n",
       "<table border=\"1\" class=\"dataframe\">\n",
       "  <thead>\n",
       "    <tr style=\"text-align: right;\">\n",
       "      <th></th>\n",
       "      <th>발생년</th>\n",
       "      <th>발생년월일시</th>\n",
       "      <th>발생분</th>\n",
       "      <th>주야</th>\n",
       "      <th>요일</th>\n",
       "      <th>사망자수</th>\n",
       "      <th>사상자수</th>\n",
       "      <th>중상자수</th>\n",
       "      <th>경상자수</th>\n",
       "      <th>부상신고자수</th>\n",
       "      <th>...</th>\n",
       "      <th>도로형태_대분류</th>\n",
       "      <th>도로형태</th>\n",
       "      <th>당사자종별_1당_대분류</th>\n",
       "      <th>당사자종별_1당</th>\n",
       "      <th>당사자종별_2당_대분류</th>\n",
       "      <th>당사자종별_2당</th>\n",
       "      <th>발생위치X_UTMK</th>\n",
       "      <th>발생위치Y_UTMK</th>\n",
       "      <th>경도</th>\n",
       "      <th>위도</th>\n",
       "    </tr>\n",
       "  </thead>\n",
       "  <tbody>\n",
       "    <tr>\n",
       "      <th>0</th>\n",
       "      <td>2017</td>\n",
       "      <td>2017010101</td>\n",
       "      <td>15</td>\n",
       "      <td>야간</td>\n",
       "      <td>일</td>\n",
       "      <td>1</td>\n",
       "      <td>2</td>\n",
       "      <td>1</td>\n",
       "      <td>0</td>\n",
       "      <td>0</td>\n",
       "      <td>...</td>\n",
       "      <td>단일로</td>\n",
       "      <td>기타단일로</td>\n",
       "      <td>승용차</td>\n",
       "      <td>승용차</td>\n",
       "      <td>승용차</td>\n",
       "      <td>승용차</td>\n",
       "      <td>933501</td>\n",
       "      <td>1700129</td>\n",
       "      <td>126.768634</td>\n",
       "      <td>35.294464</td>\n",
       "    </tr>\n",
       "    <tr>\n",
       "      <th>2</th>\n",
       "      <td>2017</td>\n",
       "      <td>2017010102</td>\n",
       "      <td>43</td>\n",
       "      <td>야간</td>\n",
       "      <td>일</td>\n",
       "      <td>1</td>\n",
       "      <td>2</td>\n",
       "      <td>0</td>\n",
       "      <td>1</td>\n",
       "      <td>0</td>\n",
       "      <td>...</td>\n",
       "      <td>단일로</td>\n",
       "      <td>기타단일로</td>\n",
       "      <td>승용차</td>\n",
       "      <td>승용차</td>\n",
       "      <td>승용차</td>\n",
       "      <td>승용차</td>\n",
       "      <td>916497</td>\n",
       "      <td>1842880</td>\n",
       "      <td>126.566631</td>\n",
       "      <td>36.580069</td>\n",
       "    </tr>\n",
       "    <tr>\n",
       "      <th>8</th>\n",
       "      <td>2017</td>\n",
       "      <td>2017010118</td>\n",
       "      <td>33</td>\n",
       "      <td>야간</td>\n",
       "      <td>일</td>\n",
       "      <td>1</td>\n",
       "      <td>3</td>\n",
       "      <td>1</td>\n",
       "      <td>1</td>\n",
       "      <td>0</td>\n",
       "      <td>...</td>\n",
       "      <td>단일로</td>\n",
       "      <td>기타단일로</td>\n",
       "      <td>승용차</td>\n",
       "      <td>승용차</td>\n",
       "      <td>화물차</td>\n",
       "      <td>화물차</td>\n",
       "      <td>922514</td>\n",
       "      <td>1476665</td>\n",
       "      <td>126.667913</td>\n",
       "      <td>33.278582</td>\n",
       "    </tr>\n",
       "    <tr>\n",
       "      <th>9</th>\n",
       "      <td>2017</td>\n",
       "      <td>2017010120</td>\n",
       "      <td>0</td>\n",
       "      <td>야간</td>\n",
       "      <td>일</td>\n",
       "      <td>1</td>\n",
       "      <td>7</td>\n",
       "      <td>4</td>\n",
       "      <td>2</td>\n",
       "      <td>0</td>\n",
       "      <td>...</td>\n",
       "      <td>단일로</td>\n",
       "      <td>기타단일로</td>\n",
       "      <td>승용차</td>\n",
       "      <td>승용차</td>\n",
       "      <td>승용차</td>\n",
       "      <td>승용차</td>\n",
       "      <td>962530</td>\n",
       "      <td>1823895</td>\n",
       "      <td>127.082074</td>\n",
       "      <td>36.411838</td>\n",
       "    </tr>\n",
       "    <tr>\n",
       "      <th>17</th>\n",
       "      <td>2017</td>\n",
       "      <td>2017010209</td>\n",
       "      <td>0</td>\n",
       "      <td>주간</td>\n",
       "      <td>월</td>\n",
       "      <td>1</td>\n",
       "      <td>2</td>\n",
       "      <td>1</td>\n",
       "      <td>0</td>\n",
       "      <td>0</td>\n",
       "      <td>...</td>\n",
       "      <td>단일로</td>\n",
       "      <td>기타단일로</td>\n",
       "      <td>승용차</td>\n",
       "      <td>승용차</td>\n",
       "      <td>승용차</td>\n",
       "      <td>승용차</td>\n",
       "      <td>1134705</td>\n",
       "      <td>1810932</td>\n",
       "      <td>128.999992</td>\n",
       "      <td>36.286293</td>\n",
       "    </tr>\n",
       "    <tr>\n",
       "      <th>...</th>\n",
       "      <td>...</td>\n",
       "      <td>...</td>\n",
       "      <td>...</td>\n",
       "      <td>...</td>\n",
       "      <td>...</td>\n",
       "      <td>...</td>\n",
       "      <td>...</td>\n",
       "      <td>...</td>\n",
       "      <td>...</td>\n",
       "      <td>...</td>\n",
       "      <td>...</td>\n",
       "      <td>...</td>\n",
       "      <td>...</td>\n",
       "      <td>...</td>\n",
       "      <td>...</td>\n",
       "      <td>...</td>\n",
       "      <td>...</td>\n",
       "      <td>...</td>\n",
       "      <td>...</td>\n",
       "      <td>...</td>\n",
       "      <td>...</td>\n",
       "    </tr>\n",
       "    <tr>\n",
       "      <th>4050</th>\n",
       "      <td>2017</td>\n",
       "      <td>2017123009</td>\n",
       "      <td>58</td>\n",
       "      <td>주간</td>\n",
       "      <td>토</td>\n",
       "      <td>1</td>\n",
       "      <td>1</td>\n",
       "      <td>0</td>\n",
       "      <td>0</td>\n",
       "      <td>0</td>\n",
       "      <td>...</td>\n",
       "      <td>단일로</td>\n",
       "      <td>기타단일로</td>\n",
       "      <td>승용차</td>\n",
       "      <td>승용차</td>\n",
       "      <td>건설기계</td>\n",
       "      <td>건설기계</td>\n",
       "      <td>1030259</td>\n",
       "      <td>1674021</td>\n",
       "      <td>127.831844</td>\n",
       "      <td>35.060801</td>\n",
       "    </tr>\n",
       "    <tr>\n",
       "      <th>4055</th>\n",
       "      <td>2017</td>\n",
       "      <td>2017123023</td>\n",
       "      <td>50</td>\n",
       "      <td>야간</td>\n",
       "      <td>토</td>\n",
       "      <td>1</td>\n",
       "      <td>6</td>\n",
       "      <td>2</td>\n",
       "      <td>3</td>\n",
       "      <td>0</td>\n",
       "      <td>...</td>\n",
       "      <td>단일로</td>\n",
       "      <td>기타단일로</td>\n",
       "      <td>승용차</td>\n",
       "      <td>승용차</td>\n",
       "      <td>승용차</td>\n",
       "      <td>승용차</td>\n",
       "      <td>948703</td>\n",
       "      <td>1679181</td>\n",
       "      <td>126.937322</td>\n",
       "      <td>35.106089</td>\n",
       "    </tr>\n",
       "    <tr>\n",
       "      <th>4058</th>\n",
       "      <td>2017</td>\n",
       "      <td>2017123112</td>\n",
       "      <td>10</td>\n",
       "      <td>주간</td>\n",
       "      <td>일</td>\n",
       "      <td>1</td>\n",
       "      <td>1</td>\n",
       "      <td>0</td>\n",
       "      <td>0</td>\n",
       "      <td>0</td>\n",
       "      <td>...</td>\n",
       "      <td>교차로</td>\n",
       "      <td>교차로부근</td>\n",
       "      <td>이륜차</td>\n",
       "      <td>이륜차</td>\n",
       "      <td>승합차</td>\n",
       "      <td>승합차</td>\n",
       "      <td>1111054</td>\n",
       "      <td>1758873</td>\n",
       "      <td>128.729654</td>\n",
       "      <td>35.820218</td>\n",
       "    </tr>\n",
       "    <tr>\n",
       "      <th>4060</th>\n",
       "      <td>2017</td>\n",
       "      <td>2017123118</td>\n",
       "      <td>10</td>\n",
       "      <td>야간</td>\n",
       "      <td>일</td>\n",
       "      <td>1</td>\n",
       "      <td>4</td>\n",
       "      <td>1</td>\n",
       "      <td>0</td>\n",
       "      <td>2</td>\n",
       "      <td>...</td>\n",
       "      <td>단일로</td>\n",
       "      <td>기타단일로</td>\n",
       "      <td>화물차</td>\n",
       "      <td>화물차</td>\n",
       "      <td>화물차</td>\n",
       "      <td>화물차</td>\n",
       "      <td>1044531</td>\n",
       "      <td>1682838</td>\n",
       "      <td>127.988833</td>\n",
       "      <td>35.139774</td>\n",
       "    </tr>\n",
       "    <tr>\n",
       "      <th>4063</th>\n",
       "      <td>2017</td>\n",
       "      <td>2017123120</td>\n",
       "      <td>40</td>\n",
       "      <td>야간</td>\n",
       "      <td>일</td>\n",
       "      <td>1</td>\n",
       "      <td>11</td>\n",
       "      <td>1</td>\n",
       "      <td>9</td>\n",
       "      <td>0</td>\n",
       "      <td>...</td>\n",
       "      <td>단일로</td>\n",
       "      <td>기타단일로</td>\n",
       "      <td>승용차</td>\n",
       "      <td>승용차</td>\n",
       "      <td>승용차</td>\n",
       "      <td>승용차</td>\n",
       "      <td>961004</td>\n",
       "      <td>1987481</td>\n",
       "      <td>127.056525</td>\n",
       "      <td>37.886331</td>\n",
       "    </tr>\n",
       "  </tbody>\n",
       "</table>\n",
       "<p>1642 rows × 27 columns</p>\n",
       "</div>"
      ],
      "text/plain": [
       "       발생년      발생년월일시  발생분  주야 요일  사망자수  사상자수  중상자수  경상자수  부상신고자수  ...  \\\n",
       "0     2017  2017010101   15  야간  일     1     2     1     0       0  ...   \n",
       "2     2017  2017010102   43  야간  일     1     2     0     1       0  ...   \n",
       "8     2017  2017010118   33  야간  일     1     3     1     1       0  ...   \n",
       "9     2017  2017010120    0  야간  일     1     7     4     2       0  ...   \n",
       "17    2017  2017010209    0  주간  월     1     2     1     0       0  ...   \n",
       "...    ...         ...  ...  .. ..   ...   ...   ...   ...     ...  ...   \n",
       "4050  2017  2017123009   58  주간  토     1     1     0     0       0  ...   \n",
       "4055  2017  2017123023   50  야간  토     1     6     2     3       0  ...   \n",
       "4058  2017  2017123112   10  주간  일     1     1     0     0       0  ...   \n",
       "4060  2017  2017123118   10  야간  일     1     4     1     0       2  ...   \n",
       "4063  2017  2017123120   40  야간  일     1    11     1     9       0  ...   \n",
       "\n",
       "     도로형태_대분류   도로형태 당사자종별_1당_대분류 당사자종별_1당 당사자종별_2당_대분류 당사자종별_2당 발생위치X_UTMK  \\\n",
       "0         단일로  기타단일로          승용차      승용차          승용차      승용차     933501   \n",
       "2         단일로  기타단일로          승용차      승용차          승용차      승용차     916497   \n",
       "8         단일로  기타단일로          승용차      승용차          화물차      화물차     922514   \n",
       "9         단일로  기타단일로          승용차      승용차          승용차      승용차     962530   \n",
       "17        단일로  기타단일로          승용차      승용차          승용차      승용차    1134705   \n",
       "...       ...    ...          ...      ...          ...      ...        ...   \n",
       "4050      단일로  기타단일로          승용차      승용차         건설기계     건설기계    1030259   \n",
       "4055      단일로  기타단일로          승용차      승용차          승용차      승용차     948703   \n",
       "4058      교차로  교차로부근          이륜차      이륜차          승합차      승합차    1111054   \n",
       "4060      단일로  기타단일로          화물차      화물차          화물차      화물차    1044531   \n",
       "4063      단일로  기타단일로          승용차      승용차          승용차      승용차     961004   \n",
       "\n",
       "     발생위치Y_UTMK          경도         위도  \n",
       "0       1700129  126.768634  35.294464  \n",
       "2       1842880  126.566631  36.580069  \n",
       "8       1476665  126.667913  33.278582  \n",
       "9       1823895  127.082074  36.411838  \n",
       "17      1810932  128.999992  36.286293  \n",
       "...         ...         ...        ...  \n",
       "4050    1674021  127.831844  35.060801  \n",
       "4055    1679181  126.937322  35.106089  \n",
       "4058    1758873  128.729654  35.820218  \n",
       "4060    1682838  127.988833  35.139774  \n",
       "4063    1987481  127.056525  37.886331  \n",
       "\n",
       "[1642 rows x 27 columns]"
      ]
     },
     "execution_count": 5,
     "metadata": {},
     "output_type": "execute_result"
    }
   ],
   "source": [
    "# 사고유형_대분류에서 차대차만 출력\n",
    "car = date[date['사고유형_대분류'] == '차대차']\n",
    "car\n"
   ]
  },
  {
   "cell_type": "code",
   "execution_count": 6,
   "metadata": {},
   "outputs": [
    {
     "data": {
      "text/html": [
       "<div>\n",
       "<style scoped>\n",
       "    .dataframe tbody tr th:only-of-type {\n",
       "        vertical-align: middle;\n",
       "    }\n",
       "\n",
       "    .dataframe tbody tr th {\n",
       "        vertical-align: top;\n",
       "    }\n",
       "\n",
       "    .dataframe thead th {\n",
       "        text-align: right;\n",
       "    }\n",
       "</style>\n",
       "<table border=\"1\" class=\"dataframe\">\n",
       "  <thead>\n",
       "    <tr style=\"text-align: right;\">\n",
       "      <th></th>\n",
       "      <th>사상자수</th>\n",
       "    </tr>\n",
       "    <tr>\n",
       "      <th>발생지시도</th>\n",
       "      <th></th>\n",
       "    </tr>\n",
       "  </thead>\n",
       "  <tbody>\n",
       "    <tr>\n",
       "      <th>강원</th>\n",
       "      <td>214</td>\n",
       "    </tr>\n",
       "    <tr>\n",
       "      <th>경기</th>\n",
       "      <td>824</td>\n",
       "    </tr>\n",
       "    <tr>\n",
       "      <th>경남</th>\n",
       "      <td>248</td>\n",
       "    </tr>\n",
       "    <tr>\n",
       "      <th>경북</th>\n",
       "      <td>287</td>\n",
       "    </tr>\n",
       "    <tr>\n",
       "      <th>광주</th>\n",
       "      <td>87</td>\n",
       "    </tr>\n",
       "    <tr>\n",
       "      <th>대구</th>\n",
       "      <td>115</td>\n",
       "    </tr>\n",
       "    <tr>\n",
       "      <th>대전</th>\n",
       "      <td>61</td>\n",
       "    </tr>\n",
       "    <tr>\n",
       "      <th>부산</th>\n",
       "      <td>107</td>\n",
       "    </tr>\n",
       "    <tr>\n",
       "      <th>서울</th>\n",
       "      <td>197</td>\n",
       "    </tr>\n",
       "    <tr>\n",
       "      <th>세종</th>\n",
       "      <td>17</td>\n",
       "    </tr>\n",
       "    <tr>\n",
       "      <th>울산</th>\n",
       "      <td>73</td>\n",
       "    </tr>\n",
       "    <tr>\n",
       "      <th>인천</th>\n",
       "      <td>66</td>\n",
       "    </tr>\n",
       "    <tr>\n",
       "      <th>전남</th>\n",
       "      <td>298</td>\n",
       "    </tr>\n",
       "    <tr>\n",
       "      <th>전북</th>\n",
       "      <td>244</td>\n",
       "    </tr>\n",
       "    <tr>\n",
       "      <th>제주</th>\n",
       "      <td>50</td>\n",
       "    </tr>\n",
       "    <tr>\n",
       "      <th>충남</th>\n",
       "      <td>351</td>\n",
       "    </tr>\n",
       "    <tr>\n",
       "      <th>충북</th>\n",
       "      <td>261</td>\n",
       "    </tr>\n",
       "  </tbody>\n",
       "</table>\n",
       "</div>"
      ],
      "text/plain": [
       "       사상자수\n",
       "발생지시도      \n",
       "강원      214\n",
       "경기      824\n",
       "경남      248\n",
       "경북      287\n",
       "광주       87\n",
       "대구      115\n",
       "대전       61\n",
       "부산      107\n",
       "서울      197\n",
       "세종       17\n",
       "울산       73\n",
       "인천       66\n",
       "전남      298\n",
       "전북      244\n",
       "제주       50\n",
       "충남      351\n",
       "충북      261"
      ]
     },
     "execution_count": 6,
     "metadata": {},
     "output_type": "execute_result"
    }
   ],
   "source": [
    "# car에서 발생지시도를 기준으로 사상자수의 합계 구하기\n",
    "place = car[['사상자수','발생지시도']].groupby('발생지시도').sum()\n",
    "place"
   ]
  },
  {
   "cell_type": "code",
   "execution_count": 7,
   "metadata": {},
   "outputs": [
    {
     "data": {
      "image/png": "[encoded data removed]",
      "text/plain": [
       "<Figure size 432x288 with 1 Axes>"
      ]
     },
     "metadata": {
      "needs_background": "light"
     },
     "output_type": "display_data"
    }
   ],
   "source": [
    "x = place.index\n",
    "y = place.values\n",
    "plt.plot(x,y)\n",
    "plt.xlabel('장소/지역')\n",
    "plt.ylabel('사망자수').set_rotation(0)\n",
    "plt.title('차 vs 차 교통사고의 사상자수')\n",
    "plt.show()"
   ]
  },
  {
   "cell_type": "markdown",
   "metadata": {},
   "source": [
    "### 연습문제"
   ]
  },
  {
   "cell_type": "code",
   "execution_count": 8,
   "metadata": {},
   "outputs": [],
   "source": [
    "# 파이 차트\n",
    "# 교통사고가 가장 많이 발생하는 시간대를 알아보기\n",
    "# 0~2, 3~5, 6~8 ... 21~23"
   ]
  },
  {
   "cell_type": "code",
   "execution_count": 9,
   "metadata": {},
   "outputs": [
    {
     "data": {
      "text/plain": [
       "0        1\n",
       "2        2\n",
       "8       18\n",
       "9       20\n",
       "17       9\n",
       "        ..\n",
       "4050     9\n",
       "4055    23\n",
       "4058    12\n",
       "4060    18\n",
       "4063    20\n",
       "Name: 발생년월일시, Length: 1642, dtype: int64"
      ]
     },
     "execution_count": 9,
     "metadata": {},
     "output_type": "execute_result"
    }
   ],
   "source": [
    "time = car['발생년월일시']\n",
    "time %= 100 #100으로 나눠서 뒤에 두자리만 출력\n",
    "time"
   ]
  },
  {
   "cell_type": "code",
   "execution_count": 10,
   "metadata": {},
   "outputs": [
    {
     "data": {
      "text/plain": [
       "0         0~2\n",
       "2         0~2\n",
       "8       18~20\n",
       "9       18~20\n",
       "17       9~11\n",
       "        ...  \n",
       "4050     9~11\n",
       "4055    21~23\n",
       "4058    12~14\n",
       "4060    18~20\n",
       "4063    18~20\n",
       "Name: 발생년월일시, Length: 1642, dtype: category\n",
       "Categories (8, object): ['0~2' < '3~5' < '6~8' < '9~11' < '12~14' < '15~17' < '18~20' < '21~23']"
      ]
     },
     "execution_count": 10,
     "metadata": {},
     "output_type": "execute_result"
    }
   ],
   "source": [
    "bins = [-1,2,5,8,11,14,17,20,23]\n",
    "labels = [\"0~2\", \"3~5\", \"6~8\", \"9~11\", \"12~14\", \"15~17\", \"18~20\", \"21~23\"]\n",
    "result = pd.cut(time,bins,labels=labels)\n",
    "result"
   ]
  },
  {
   "cell_type": "code",
   "execution_count": 11,
   "metadata": {},
   "outputs": [
    {
     "data": {
      "text/plain": [
       "0~2      124\n",
       "3~5      161\n",
       "6~8      204\n",
       "9~11     248\n",
       "12~14    232\n",
       "15~17    260\n",
       "18~20    231\n",
       "21~23    182\n",
       "Name: 발생년월일시, dtype: int64"
      ]
     },
     "execution_count": 11,
     "metadata": {},
     "output_type": "execute_result"
    }
   ],
   "source": [
    "rs = result.value_counts().sort_index()\n",
    "rs"
   ]
  },
  {
   "cell_type": "code",
   "execution_count": 12,
   "metadata": {},
   "outputs": [
    {
     "data": {
      "image/png": "[encoded data removed]",
      "text/plain": [
       "<Figure size 360x360 with 1 Axes>"
      ]
     },
     "metadata": {},
     "output_type": "display_data"
    }
   ],
   "source": [
    "plt.figure(figsize=(5,5))\n",
    "plt.pie(rs, labels=labels,autopct=\"%1.1f%%\",counterclock=True) \n",
    "#autopct=\"%1.2f%%\" 소숫점 2자리 #counterclock=False 순서반대로\n",
    "plt.show()"
   ]
  },
  {
   "cell_type": "code",
   "execution_count": 13,
   "metadata": {},
   "outputs": [
    {
     "data": {
      "image/png": "[encoded data removed]",
      "text/plain": [
       "<Figure size 360x360 with 1 Axes>"
      ]
     },
     "metadata": {},
     "output_type": "display_data"
    }
   ],
   "source": [
    "rs = result.value_counts().sort_index()\n",
    "plt.figure(figsize=(5,5))\n",
    "explode = [0,0.10,0,0.10,0,0.10,0,0.10]\n",
    "plt.pie(rs, labels=labels,autopct=\"%1.1f%%\", explode=explode) \n",
    "plt.show()"
   ]
  },
  {
   "cell_type": "code",
   "execution_count": 14,
   "metadata": {},
   "outputs": [
    {
     "data": {
      "image/png": "[encoded data removed]",
      "text/plain": [
       "<Figure size 360x360 with 1 Axes>"
      ]
     },
     "metadata": {},
     "output_type": "display_data"
    }
   ],
   "source": [
    "rs = result.value_counts().sort_index()\n",
    "plt.figure(figsize=(5,5))\n",
    "explode = [0,0.10,0,0.10,0,0.10,0,0.10]\n",
    "plt.pie(rs, labels=labels,autopct=\"%1.1f%%\", explode=explode,shadow=True) \n",
    "#shadow=True 음영효과\n",
    "plt.show()"
   ]
  },
  {
   "cell_type": "markdown",
   "metadata": {},
   "source": [
    "#### GDP 실습"
   ]
  },
  {
   "cell_type": "code",
   "execution_count": 15,
   "metadata": {},
   "outputs": [],
   "source": [
    "\n",
    "years = [1950,1960,1970,1980,1990,2000,2010]\n",
    "gdp = [67.0,80.0,257.0,1686.0,6505,11865.3,22105.3]"
   ]
  },
  {
   "cell_type": "code",
   "execution_count": 16,
   "metadata": {},
   "outputs": [
    {
     "data": {
      "image/png": "[encoded data removed]",
      "text/plain": [
       "<Figure size 432x288 with 1 Axes>"
      ]
     },
     "metadata": {
      "needs_background": "light"
     },
     "output_type": "display_data"
    }
   ],
   "source": [
    "plt.plot(years,gdp,c='g', marker='o', linestyle='solid')\n",
    "plt.title('GDP per capita')\n",
    "plt.ylabel('dollars').set_rotation(0)\n",
    "plt.savefig(\"gdp_per_carita.png\", dpi=600) #png로 저장\n",
    "plt.show()"
   ]
  },
  {
   "cell_type": "code",
   "execution_count": 25,
   "metadata": {},
   "outputs": [
    {
     "name": "stderr",
     "output_type": "stream",
     "text": [
      "c:\\Users\\82104\\Anaconda3\\lib\\site-packages\\IPython\\core\\pylabtools.py:151: UserWarning: Glyph 8722 (\\N{MINUS SIGN}) missing from current font.\n",
      "  fig.canvas.print_figure(bytes_io, **kw)\n"
     ]
    },
    {
     "data": {
      "image/png": "[encoded data removed]",
      "text/plain": [
       "<Figure size 432x288 with 1 Axes>"
      ]
     },
     "metadata": {
      "needs_background": "light"
     },
     "output_type": "display_data"
    }
   ],
   "source": [
    "x = [x for x in range(-10,10)]\n",
    "y = [2*t for t in x]\n",
    "plt.plot(x,y,marker='o')\n",
    "plt.axis([-20,20,-20,20])\n",
    "plt.show()"
   ]
  },
  {
   "cell_type": "code",
   "execution_count": 20,
   "metadata": {},
   "outputs": [
    {
     "data": {
      "image/png": "[encoded data removed]",
      "text/plain": [
       "<Figure size 432x288 with 1 Axes>"
      ]
     },
     "metadata": {
      "needs_background": "light"
     },
     "output_type": "display_data"
    }
   ],
   "source": [
    "x = [x for x in range(20)]\n",
    "y = [x**2 for x in range(20)]\n",
    "z = [x**3 for x in range(20)]\n",
    "plt.plot(x,x, label='linear')\n",
    "plt.plot(x,y, label='quardratic')\n",
    "plt.plot(x,z, label='qubic')\n",
    "\n",
    "plt.xlabel('x label')\n",
    "plt.ylabel('y label').set_rotation(0)\n",
    "plt.title('Title')\n",
    "plt.legend()\n",
    "plt.show()"
   ]
  },
  {
   "cell_type": "code",
   "execution_count": 25,
   "metadata": {},
   "outputs": [
    {
     "data": {
      "text/plain": [
       "짱구     90\n",
       "유리     90\n",
       "훈이     55\n",
       "맹구     60\n",
       "흰둥이    76\n",
       "이슬     80\n",
       "수지     76\n",
       "철수1    88\n",
       "철수2    30\n",
       "철수3    25\n",
       "dtype: int64"
      ]
     },
     "execution_count": 25,
     "metadata": {},
     "output_type": "execute_result"
    }
   ],
   "source": [
    "sr = pd.Series([90,90,55,60,76,80,76,88,30,25])\n",
    "sr.index=['짱구','유리','훈이','맹구','흰둥이','이슬','수지','철수1','철수2','철수3']\n",
    "sr"
   ]
  },
  {
   "cell_type": "code",
   "execution_count": 26,
   "metadata": {},
   "outputs": [
    {
     "data": {
      "text/plain": [
       "90"
      ]
     },
     "execution_count": 26,
     "metadata": {},
     "output_type": "execute_result"
    }
   ],
   "source": [
    "# 영어 점수 중 가장 높은 것은?\n",
    "sr.max()"
   ]
  },
  {
   "cell_type": "code",
   "execution_count": 38,
   "metadata": {},
   "outputs": [
    {
     "data": {
      "text/plain": [
       "Index(['짱구', '유리'], dtype='object')"
      ]
     },
     "execution_count": 38,
     "metadata": {},
     "output_type": "execute_result"
    }
   ],
   "source": [
    "# 영어 점수가 가장 높은 학생은? #keep='all' 다 대려오기\n",
    "sr.nlargest(1,keep='all').index"
   ]
  },
  {
   "cell_type": "code",
   "execution_count": 40,
   "metadata": {},
   "outputs": [
    {
     "data": {
      "text/plain": [
       "짱구     90\n",
       "유리     90\n",
       "이슬     80\n",
       "철수1    88\n",
       "dtype: int64"
      ]
     },
     "execution_count": 40,
     "metadata": {},
     "output_type": "execute_result"
    }
   ],
   "source": [
    "#영어 점수가 80점 이상인 학생의 이름+점수를 보고싶어요\n",
    "sr[sr>=80]"
   ]
  },
  {
   "cell_type": "code",
   "execution_count": 43,
   "metadata": {},
   "outputs": [
    {
     "data": {
      "text/plain": [
       "훈이     55\n",
       "맹구     60\n",
       "흰둥이    76\n",
       "이슬     80\n",
       "수지     76\n",
       "dtype: int64"
      ]
     },
     "execution_count": 43,
     "metadata": {},
     "output_type": "execute_result"
    }
   ],
   "source": [
    "#영어 점수가 50점 이상 80점 이하인 학생의 이름 + 점수를 보고싶어요\n",
    "sr[(sr >= 50) & (sr <= 80)]"
   ]
  },
  {
   "cell_type": "code",
   "execution_count": 46,
   "metadata": {},
   "outputs": [
    {
     "data": {
      "text/plain": [
       "67.0"
      ]
     },
     "execution_count": 46,
     "metadata": {},
     "output_type": "execute_result"
    }
   ],
   "source": [
    "#영어 점수 평균\n",
    "sr.mean()"
   ]
  },
  {
   "cell_type": "code",
   "execution_count": 56,
   "metadata": {},
   "outputs": [
    {
     "data": {
      "image/png": "[encoded data removed]",
      "text/plain": [
       "<Figure size 432x288 with 1 Axes>"
      ]
     },
     "metadata": {
      "needs_background": "light"
     },
     "output_type": "display_data"
    }
   ],
   "source": [
    "# 영어 점수가 50점 이상인 학생의 바 차트\n",
    "sr50 = sr[sr>=50]\n",
    "sr50.plot(kind='bar')\n",
    "plt.show()"
   ]
  },
  {
   "cell_type": "code",
   "execution_count": 57,
   "metadata": {},
   "outputs": [
    {
     "name": "stdout",
     "output_type": "stream",
     "text": [
      "학생의 이름을 입력하세요:흰둥이\n"
     ]
    },
    {
     "data": {
      "text/plain": [
       "76"
      ]
     },
     "execution_count": 57,
     "metadata": {},
     "output_type": "execute_result"
    }
   ],
   "source": [
    "# 키보드로 학생들의 이름을 입력받고, 그 학생의 영어 점수를 출력받아봅시다\n",
    "search=input('학생의 이름을 입력하세요:')\n",
    "sr[search]"
   ]
  },
  {
   "cell_type": "code",
   "execution_count": 63,
   "metadata": {},
   "outputs": [
    {
     "name": "stdout",
     "output_type": "stream",
     "text": [
      "--------------------\n",
      "이름\t영어\t등급\n",
      "--------------------\n"
     ]
    },
    {
     "data": {
      "text/plain": [
       "짱구     A\n",
       "유리     A\n",
       "훈이     F\n",
       "맹구     D\n",
       "흰둥이    C\n",
       "이슬     B\n",
       "수지     C\n",
       "철수1    B\n",
       "철수2    F\n",
       "철수3    F\n",
       "dtype: category\n",
       "Categories (5, object): ['F' < 'D' < 'C' < 'B' < 'A']"
      ]
     },
     "execution_count": 63,
     "metadata": {},
     "output_type": "execute_result"
    }
   ],
   "source": [
    "#영어 점수 등급을 매겨봅시다\n",
    "#F = 0~59점, D = 60~69점, C = 70~79점, B = 80~89점, A = 90~100점\n",
    "print('-'*20)\n",
    "print('이름','영어점수','등급',sep='\\t')\n",
    "print('-'*20)\n",
    "sr_cut = pd.cut(sr,[-1,59,69,79,89,100],labels=['F','D','C','B','A'])\n",
    "sr_cut"
   ]
  },
  {
   "cell_type": "code",
   "execution_count": null,
   "metadata": {},
   "outputs": [],
   "source": []
  }
 ],
 "metadata": {
  "kernelspec": {
   "display_name": "Python 3 (ipykernel)",
   "language": "python",
   "name": "python3"
  },
  "language_info": {
   "codemirror_mode": {
    "name": "ipython",
    "version": 3
   },
   "file_extension": ".py",
   "mimetype": "text/x-python",
   "name": "python",
   "nbconvert_exporter": "python",
   "pygments_lexer": "ipython3",
   "version": "3.9.12"
  },
  "vscode": {
   "interpreter": {
    "hash": "4fb426db0f3ee2be9e5ab359abf5d058c2a19de96b4d6eda446b2c3017042fa6"
   }
  }
 },
 "nbformat": 4,
 "nbformat_minor": 2
}
