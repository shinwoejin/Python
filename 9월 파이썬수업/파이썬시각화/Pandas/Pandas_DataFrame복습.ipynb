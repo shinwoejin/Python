{
 "cells": [
  {
   "cell_type": "code",
   "execution_count": 1,
   "id": "8fde62ef",
   "metadata": {},
   "outputs": [],
   "source": [
    "import pandas as pd"
   ]
  },
  {
   "cell_type": "code",
   "execution_count": 2,
   "id": "defd1809",
   "metadata": {},
   "outputs": [],
   "source": [
    "# 00중학교 1학년 1반의 중간고사 평균 성적(국어, 영어, 수학, 과학, 사회) 점수를\n",
    "# Series 로 생성해주세요\n",
    "# 국어 : 75점 영어 : 80점 수학 : 90점 과학 : 95점 사회 : 70점"
   ]
  },
  {
   "cell_type": "code",
   "execution_count": 3,
   "id": "4f15b5c1",
   "metadata": {},
   "outputs": [
    {
     "data": {
      "text/plain": [
       "국어    75\n",
       "영어    80\n",
       "수학    90\n",
       "과학    95\n",
       "사회    70\n",
       "dtype: int64"
      ]
     },
     "execution_count": 3,
     "metadata": {},
     "output_type": "execute_result"
    }
   ],
   "source": [
    "middle_school = pd.Series([75,80,90,95,70],\n",
    "                          index = ['국어', '영어', '수학', '과학', '사회'])\n",
    "middle_school"
   ]
  },
  {
   "cell_type": "code",
   "execution_count": 4,
   "id": "549587b2",
   "metadata": {},
   "outputs": [
    {
     "data": {
      "text/plain": [
       "과목\n",
       "국어    75\n",
       "영어    80\n",
       "수학    90\n",
       "과학    95\n",
       "사회    70\n",
       "Name: 중간고사 성적, dtype: int64"
      ]
     },
     "execution_count": 4,
     "metadata": {},
     "output_type": "execute_result"
    }
   ],
   "source": [
    "middle_school.name = '중간고사 성적'\n",
    "middle_school.index.name = '과목'\n",
    "middle_school"
   ]
  },
  {
   "cell_type": "code",
   "execution_count": 5,
   "id": "21fe4bcb",
   "metadata": {},
   "outputs": [
    {
     "name": "stdout",
     "output_type": "stream",
     "text": [
      "과목\n",
      "국어    75\n",
      "영어    80\n",
      "수학    90\n",
      "Name: 중간고사 성적, dtype: int64\n"
     ]
    }
   ],
   "source": [
    "print(middle_school[['국어','영어','수학']])\n",
    "# print(middle_school[0:3])\n",
    "# print(middle_school[\"국어\":\"수학\"])"
   ]
  },
  {
   "cell_type": "code",
   "execution_count": 6,
   "id": "a68b7355",
   "metadata": {},
   "outputs": [
    {
     "data": {
      "text/plain": [
       "과목\n",
       "수학    90\n",
       "과학    95\n",
       "Name: 중간고사 성적, dtype: int64"
      ]
     },
     "execution_count": 6,
     "metadata": {},
     "output_type": "execute_result"
    }
   ],
   "source": [
    "# 중간고사 평균 성적이 85점 이상인 과목만 뽑아주세요\n",
    "middle_school[(middle_school >= 85)]"
   ]
  },
  {
   "cell_type": "code",
   "execution_count": 7,
   "id": "0d5a7203",
   "metadata": {},
   "outputs": [
    {
     "data": {
      "text/plain": [
       "과목\n",
       "영어    80\n",
       "수학    90\n",
       "Name: 중간고사 성적, dtype: int64"
      ]
     },
     "execution_count": 7,
     "metadata": {},
     "output_type": "execute_result"
    }
   ],
   "source": [
    "# 중간고사 평균 성적이 80점 이상 90점 이하인 과목만 뽑아주세요\n",
    "middle_school[(middle_school >= 80) & (middle_school <= 90)]\n"
   ]
  },
  {
   "cell_type": "code",
   "execution_count": 8,
   "id": "89b169fb",
   "metadata": {},
   "outputs": [
    {
     "name": "stdout",
     "output_type": "stream",
     "text": [
      "82.0\n",
      "410\n",
      "95\n"
     ]
    }
   ],
   "source": [
    "# 5개 과목의 평균점수, 합계점수, 최대값 (가장 높은 점수)를 출력해주세요\n",
    "import numpy as np\n",
    "print(np.mean(middle_school))\n",
    "print(np.sum(middle_school))\n",
    "print(middle_school.max())"
   ]
  },
  {
   "cell_type": "code",
   "execution_count": null,
   "id": "04a26530",
   "metadata": {},
   "outputs": [],
   "source": []
  }
 ],
 "metadata": {
  "kernelspec": {
   "display_name": "Python 3.9.12 ('base')",
   "language": "python",
   "name": "python3"
  },
  "language_info": {
   "codemirror_mode": {
    "name": "ipython",
    "version": 3
   },
   "file_extension": ".py",
   "mimetype": "text/x-python",
   "name": "python",
   "nbconvert_exporter": "python",
   "pygments_lexer": "ipython3",
   "version": "3.9.12"
  },
  "vscode": {
   "interpreter": {
    "hash": "4fb426db0f3ee2be9e5ab359abf5d058c2a19de96b4d6eda446b2c3017042fa6"
   }
  }
 },
 "nbformat": 4,
 "nbformat_minor": 5
}
