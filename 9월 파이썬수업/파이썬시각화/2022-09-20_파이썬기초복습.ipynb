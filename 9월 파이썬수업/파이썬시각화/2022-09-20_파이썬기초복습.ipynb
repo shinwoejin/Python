{
 "cells": [
  {
   "cell_type": "code",
   "execution_count": 12,
   "metadata": {},
   "outputs": [
    {
     "data": {
      "text/plain": [
       "'파이썬'"
      ]
     },
     "execution_count": 12,
     "metadata": {},
     "output_type": "execute_result"
    }
   ],
   "source": [
    "a = '파이썬'\n",
    "a"
   ]
  },
  {
   "cell_type": "code",
   "execution_count": 13,
   "metadata": {},
   "outputs": [
    {
     "data": {
      "text/plain": [
       "['윤석열', '문재인', '박근혜', '노무현', '김대중']"
      ]
     },
     "execution_count": 13,
     "metadata": {},
     "output_type": "execute_result"
    }
   ],
   "source": [
    "korean_presidents = ['윤석열', '문재인', '박근혜', '노무현', '김대중']\n",
    "korean_presidents"
   ]
  },
  {
   "cell_type": "code",
   "execution_count": 14,
   "metadata": {},
   "outputs": [
    {
     "data": {
      "text/plain": [
       "['윤석열', '문재인', '박근혜', '노무현', '김대중', '이명박']"
      ]
     },
     "execution_count": 14,
     "metadata": {},
     "output_type": "execute_result"
    }
   ],
   "source": [
    "korean_presidents.append('이명박')\n",
    "korean_presidents"
   ]
  },
  {
   "cell_type": "code",
   "execution_count": 15,
   "metadata": {},
   "outputs": [
    {
     "data": {
      "text/plain": [
       "['윤석열', '문재인', '박근혜', '노무현', '김대중']"
      ]
     },
     "execution_count": 15,
     "metadata": {},
     "output_type": "execute_result"
    }
   ],
   "source": [
    "korean_presidents.remove('이명박')\n",
    "korean_presidents"
   ]
  },
  {
   "cell_type": "code",
   "execution_count": 16,
   "metadata": {},
   "outputs": [],
   "source": [
    "from random import randint"
   ]
  },
  {
   "cell_type": "code",
   "execution_count": 17,
   "metadata": {},
   "outputs": [
    {
     "data": {
      "text/plain": [
       "9"
      ]
     },
     "execution_count": 17,
     "metadata": {},
     "output_type": "execute_result"
    }
   ],
   "source": [
    "randint(0,10)"
   ]
  },
  {
   "cell_type": "markdown",
   "metadata": {},
   "source": [
    "#### 방금 배운 randint 함수를 사용해서 korean_presidents 리스트의 대통령을 랜덤하게 출력"
   ]
  },
  {
   "cell_type": "code",
   "execution_count": 18,
   "metadata": {},
   "outputs": [
    {
     "data": {
      "text/plain": [
       "'문재인'"
      ]
     },
     "execution_count": 18,
     "metadata": {},
     "output_type": "execute_result"
    }
   ],
   "source": [
    "korean_presidents[randint(0,4)]"
   ]
  },
  {
   "cell_type": "code",
   "execution_count": 19,
   "metadata": {},
   "outputs": [],
   "source": [
    "korean_presidents.insert(3, '이명박')"
   ]
  },
  {
   "cell_type": "code",
   "execution_count": 20,
   "metadata": {},
   "outputs": [
    {
     "data": {
      "text/plain": [
       "['윤석열', '문재인', '박근혜', '이명박', '노무현', '김대중']"
      ]
     },
     "execution_count": 20,
     "metadata": {},
     "output_type": "execute_result"
    }
   ],
   "source": [
    "korean_presidents"
   ]
  },
  {
   "cell_type": "code",
   "execution_count": 21,
   "metadata": {},
   "outputs": [
    {
     "data": {
      "text/plain": [
       "'태연은 바나나 5개와 사과 6개를 7일동안 먹었다'"
      ]
     },
     "execution_count": 21,
     "metadata": {},
     "output_type": "execute_result"
    }
   ],
   "source": [
    "name = \"태연\"\n",
    "banana = 5\n",
    "apple = 6\n",
    "days = 7\n",
    "\"%s은 바나나 %d개와 사과 %d개를 %d일동안 먹었다\"%(name, banana, apple, days)"
   ]
  },
  {
   "cell_type": "code",
   "execution_count": 22,
   "metadata": {},
   "outputs": [
    {
     "data": {
      "text/plain": [
       "'태연은 바나나 5개와 사과 6개를 7일동안 먹었다'"
      ]
     },
     "execution_count": 22,
     "metadata": {},
     "output_type": "execute_result"
    }
   ],
   "source": [
    "name = \"태연\"\n",
    "banana = 5\n",
    "apple = 6\n",
    "days = 7\n",
    "\"{0}은 바나나 {1}개와 사과 {2}개를 {3}일동안 먹었다\".format(name, banana, apple, days)"
   ]
  },
  {
   "cell_type": "code",
   "execution_count": 23,
   "metadata": {},
   "outputs": [
    {
     "data": {
      "text/plain": [
       "'태연은 바나나 5개와 사과 6개를 7일동안 먹었다'"
      ]
     },
     "execution_count": 23,
     "metadata": {},
     "output_type": "execute_result"
    }
   ],
   "source": [
    "name = \"태연\"\n",
    "banana = 5\n",
    "apple = 6\n",
    "days = 7\n",
    "f\"{name}은 바나나 {banana}개와 사과 {apple}개를 {days}일동안 먹었다\""
   ]
  },
  {
   "cell_type": "markdown",
   "metadata": {},
   "source": [
    "#### 논리형"
   ]
  },
  {
   "cell_type": "code",
   "execution_count": 24,
   "metadata": {},
   "outputs": [],
   "source": [
    "a = True # 1\n",
    "b = False # 0"
   ]
  },
  {
   "cell_type": "code",
   "execution_count": 25,
   "metadata": {},
   "outputs": [
    {
     "data": {
      "text/plain": [
       "True"
      ]
     },
     "execution_count": 25,
     "metadata": {},
     "output_type": "execute_result"
    }
   ],
   "source": [
    "a + b # 1\n",
    "a and b # False\n",
    "a or b # True\n",
    "not a # False\n",
    "not a # True\n",
    "not b # True\n",
    "a == b #False\n",
    "a != b #True"
   ]
  },
  {
   "cell_type": "markdown",
   "metadata": {},
   "source": [
    "### 반복문"
   ]
  },
  {
   "cell_type": "code",
   "execution_count": null,
   "metadata": {},
   "outputs": [],
   "source": [
    "현재 i의 값은 0 입니다\n",
    "현재 i의 값은 1 입니다\n",
    "...\n",
    "현재 i의 값은 9 입니다"
   ]
  },
  {
   "cell_type": "code",
   "execution_count": 8,
   "metadata": {},
   "outputs": [
    {
     "name": "stdout",
     "output_type": "stream",
     "text": [
      "현재 i의 값은 0입니다.\n",
      "현재 i의 값은 1입니다.\n",
      "현재 i의 값은 2입니다.\n",
      "현재 i의 값은 3입니다.\n",
      "현재 i의 값은 4입니다.\n",
      "현재 i의 값은 5입니다.\n",
      "현재 i의 값은 6입니다.\n",
      "현재 i의 값은 7입니다.\n",
      "현재 i의 값은 8입니다.\n",
      "현재 i의 값은 9입니다.\n"
     ]
    }
   ],
   "source": [
    "i = 0\n",
    "while i < 10:\n",
    "    print(\"현재 i의 값은 %d입니다.\"%i)\n",
    "    i += 1"
   ]
  },
  {
   "cell_type": "code",
   "execution_count": 11,
   "metadata": {
    "scrolled": true
   },
   "outputs": [
    {
     "name": "stdout",
     "output_type": "stream",
     "text": [
      "현재 i의 값은 0입니다.\n",
      "현재 i의 값은 1입니다.\n",
      "현재 i의 값은 2입니다.\n",
      "현재 i의 값은 3입니다.\n",
      "현재 i의 값은 4입니다.\n",
      "현재 i의 값은 5입니다.\n",
      "현재 i의 값은 6입니다.\n",
      "현재 i의 값은 7입니다.\n",
      "현재 i의 값은 8입니다.\n",
      "현재 i의 값은 9입니다.\n"
     ]
    }
   ],
   "source": [
    "for i in range(0, 10):\n",
    "    print(f\"현재 i의 값은 {i}입니다.\")"
   ]
  },
  {
   "cell_type": "code",
   "execution_count": null,
   "metadata": {},
   "outputs": [],
   "source": [
    "# for문을 사용해서 대통령들의 이름 출력하기\n",
    "ex. 대통령의 이름은 윤석열입니다\n",
    "    대통형의 이름은 문재인입니다\n",
    "    ...\n",
    "    대통형의 이름은 김대중입니다"
   ]
  },
  {
   "cell_type": "code",
   "execution_count": 26,
   "metadata": {},
   "outputs": [
    {
     "data": {
      "text/plain": [
       "['윤석열', '문재인', '박근혜', '이명박', '노무현', '김대중']"
      ]
     },
     "execution_count": 26,
     "metadata": {},
     "output_type": "execute_result"
    }
   ],
   "source": [
    "korean_presidents"
   ]
  },
  {
   "cell_type": "code",
   "execution_count": 28,
   "metadata": {},
   "outputs": [
    {
     "name": "stdout",
     "output_type": "stream",
     "text": [
      "대통형의 이름은 윤석열입니다.\n",
      "대통형의 이름은 문재인입니다.\n",
      "대통형의 이름은 박근혜입니다.\n",
      "대통형의 이름은 이명박입니다.\n",
      "대통형의 이름은 노무현입니다.\n",
      "대통형의 이름은 김대중입니다.\n"
     ]
    }
   ],
   "source": [
    "for i in korean_presidents:\n",
    "    print(f'대통형의 이름은 {i}입니다.')"
   ]
  },
  {
   "cell_type": "markdown",
   "metadata": {},
   "source": [
    "### 구구단 3단과 4단을 출력해주세요"
   ]
  },
  {
   "cell_type": "code",
   "execution_count": 37,
   "metadata": {},
   "outputs": [
    {
     "name": "stdout",
     "output_type": "stream",
     "text": [
      "==3단시작==\n",
      "3X1=3\n",
      "3X2=6\n",
      "3X3=9\n",
      "3X4=12\n",
      "3X5=15\n",
      "3X6=18\n",
      "3X7=21\n",
      "3X8=24\n",
      "3X9=27\n",
      "==4단시작==\n",
      "4X1=4\n",
      "4X2=8\n",
      "4X3=12\n",
      "4X4=16\n",
      "4X5=20\n",
      "4X6=24\n",
      "4X7=28\n",
      "4X8=32\n",
      "4X9=36\n"
     ]
    }
   ],
   "source": [
    "for a in range(3,5):\n",
    "    print(f'=={a}단시작==')\n",
    "    for b in range (1,10):\n",
    "        print(f'{a}X{b}={a*b}')"
   ]
  },
  {
   "cell_type": "code",
   "execution_count": null,
   "metadata": {},
   "outputs": [],
   "source": []
  }
 ],
 "metadata": {
  "kernelspec": {
   "display_name": "Python 3 (ipykernel)",
   "language": "python",
   "name": "python3"
  },
  "language_info": {
   "codemirror_mode": {
    "name": "ipython",
    "version": 3
   },
   "file_extension": ".py",
   "mimetype": "text/x-python",
   "name": "python",
   "nbconvert_exporter": "python",
   "pygments_lexer": "ipython3",
   "version": "3.9.12"
  },
  "vscode": {
   "interpreter": {
    "hash": "4fb426db0f3ee2be9e5ab359abf5d058c2a19de96b4d6eda446b2c3017042fa6"
   }
  }
 },
 "nbformat": 4,
 "nbformat_minor": 2
}
