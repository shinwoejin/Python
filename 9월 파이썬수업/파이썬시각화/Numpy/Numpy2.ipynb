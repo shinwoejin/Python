{
 "cells": [
  {
   "cell_type": "code",
   "execution_count": 1,
   "metadata": {},
   "outputs": [],
   "source": [
    "mid_score = [10,20,30]\n",
    "final_score = [70,80,90]"
   ]
  },
  {
   "cell_type": "code",
   "execution_count": 2,
   "metadata": {},
   "outputs": [
    {
     "name": "stdout",
     "output_type": "stream",
     "text": [
      "[10, 20, 30, 70, 80, 90]\n"
     ]
    }
   ],
   "source": [
    "total = mid_score + final_score\n",
    "print(total)"
   ]
  },
  {
   "cell_type": "code",
   "execution_count": 29,
   "metadata": {},
   "outputs": [],
   "source": [
    "import numpy as np"
   ]
  },
  {
   "cell_type": "code",
   "execution_count": 2,
   "metadata": {},
   "outputs": [],
   "source": [
    "mid_score = np.array([10,20,30])\n",
    "final_score = np.array([70,80,90])"
   ]
  },
  {
   "cell_type": "code",
   "execution_count": 3,
   "metadata": {},
   "outputs": [
    {
     "name": "stdout",
     "output_type": "stream",
     "text": [
      "[ 80 100 120]\n"
     ]
    }
   ],
   "source": [
    "total = mid_score + final_score\n",
    "print(total)"
   ]
  },
  {
   "cell_type": "code",
   "execution_count": 5,
   "metadata": {},
   "outputs": [
    {
     "name": "stdout",
     "output_type": "stream",
     "text": [
      "시험 성적의 합계: [ 80 100 120]\n"
     ]
    }
   ],
   "source": [
    "print(\"시험 성적의 합계:\",total)"
   ]
  },
  {
   "cell_type": "code",
   "execution_count": 8,
   "metadata": {},
   "outputs": [
    {
     "name": "stdout",
     "output_type": "stream",
     "text": [
      "시험 성적의 합계: [40. 50. 60.]\n"
     ]
    }
   ],
   "source": [
    "print(\"시험 성적의 합계:\",total/2)"
   ]
  },
  {
   "cell_type": "code",
   "execution_count": 24,
   "metadata": {},
   "outputs": [
    {
     "name": "stdout",
     "output_type": "stream",
     "text": [
      "[0 2 4 6 8]\n"
     ]
    }
   ],
   "source": [
    "array_a = np.arange(0,10)\n",
    "array_b = np.array(range(10))\n",
    "array_c = np.arange(0,10,2)\n",
    "print(array_c)"
   ]
  },
  {
   "cell_type": "code",
   "execution_count": 19,
   "metadata": {},
   "outputs": [
    {
     "data": {
      "text/plain": [
       "(5,)"
      ]
     },
     "execution_count": 19,
     "metadata": {},
     "output_type": "execute_result"
    }
   ],
   "source": [
    "array_c.shape #(5,)\n",
    "array_c.ndim #1\n",
    "array_c.dtype #dtype('int32')\n",
    "array_c.size #5"
   ]
  },
  {
   "cell_type": "code",
   "execution_count": 25,
   "metadata": {},
   "outputs": [
    {
     "data": {
      "text/plain": [
       "4"
      ]
     },
     "execution_count": 25,
     "metadata": {},
     "output_type": "execute_result"
    }
   ],
   "source": [
    "array_c.itemsize #byte단위"
   ]
  },
  {
   "cell_type": "code",
   "execution_count": 3,
   "metadata": {},
   "outputs": [],
   "source": [
    "salary = np.array([220,250,230])\n"
   ]
  },
  {
   "cell_type": "code",
   "execution_count": 4,
   "metadata": {},
   "outputs": [
    {
     "data": {
      "text/plain": [
       "array([320, 350, 330])"
      ]
     },
     "execution_count": 4,
     "metadata": {},
     "output_type": "execute_result"
    }
   ],
   "source": [
    "salary = salary + 100\n",
    "salary"
   ]
  },
  {
   "cell_type": "code",
   "execution_count": 5,
   "metadata": {},
   "outputs": [
    {
     "data": {
      "text/plain": [
       "array([640, 700, 660])"
      ]
     },
     "execution_count": 5,
     "metadata": {},
     "output_type": "execute_result"
    }
   ],
   "source": [
    "salary = salary * 2\n",
    "salary"
   ]
  },
  {
   "cell_type": "code",
   "execution_count": 19,
   "metadata": {},
   "outputs": [],
   "source": [
    "players = [[170,76.4],[183,86.2],[171,73.5],[176,80.1]]"
   ]
  },
  {
   "cell_type": "code",
   "execution_count": 20,
   "metadata": {},
   "outputs": [
    {
     "name": "stdout",
     "output_type": "stream",
     "text": [
      "[[170.   76.4]\n",
      " [183.   86.2]\n",
      " [171.   73.5]\n",
      " [176.   80.1]]\n"
     ]
    }
   ],
   "source": [
    "np_players = np.array(players)\n",
    "print(np_players)"
   ]
  },
  {
   "cell_type": "code",
   "execution_count": 24,
   "metadata": {},
   "outputs": [
    {
     "name": "stdout",
     "output_type": "stream",
     "text": [
      "몸무게가 80이상인 선수의 정보 [[183.   86.2]\n",
      " [176.   80.1]]\n"
     ]
    }
   ],
   "source": [
    "print('몸무게가 80이상인 선수의 정보',np_players[np_players[:,1]>=80.0])"
   ]
  },
  {
   "cell_type": "code",
   "execution_count": 28,
   "metadata": {},
   "outputs": [
    {
     "name": "stdout",
     "output_type": "stream",
     "text": [
      "키가 180이상인 선수의 정보 [[183.   86.2]]\n"
     ]
    }
   ],
   "source": [
    "print('키가 180이상인 선수의 정보',np_players[np_players[:,0]>=180.0])"
   ]
  },
  {
   "cell_type": "code",
   "execution_count": 49,
   "metadata": {},
   "outputs": [],
   "source": [
    "revenue_in_yen = [320, 240, 450, 120, 300,320, 240, 450, 120, 300,320, 240, 450, 120, 300,320, 240, 450, 120, 300,320, 240, 450, 120, 300,320, 240, 450, 120, 300]"
   ]
  },
  {
   "cell_type": "code",
   "execution_count": 50,
   "metadata": {},
   "outputs": [
    {
     "data": {
      "text/plain": [
       "array([320, 240, 450, 120, 300, 320, 240, 450, 120, 300, 320, 240, 450,\n",
       "       120, 300, 320, 240, 450, 120, 300, 320, 240, 450, 120, 300, 320,\n",
       "       240, 450, 120, 300])"
      ]
     },
     "execution_count": 50,
     "metadata": {},
     "output_type": "execute_result"
    }
   ],
   "source": [
    "yen_array = np.array(revenue_in_yen)\n",
    "yen_array"
   ]
  },
  {
   "cell_type": "code",
   "execution_count": 37,
   "metadata": {},
   "outputs": [
    {
     "data": {
      "text/plain": [
       "30"
      ]
     },
     "execution_count": 37,
     "metadata": {},
     "output_type": "execute_result"
    }
   ],
   "source": [
    "yen_array.size"
   ]
  },
  {
   "cell_type": "code",
   "execution_count": 51,
   "metadata": {},
   "outputs": [
    {
     "data": {
      "text/plain": [
       "array([3104., 2328., 4365., 1164., 2910., 3104., 2328., 4365., 1164.,\n",
       "       2910., 3104., 2328., 4365., 1164., 2910., 3104., 2328., 4365.,\n",
       "       1164., 2910., 3104., 2328., 4365., 1164., 2910., 3104., 2328.,\n",
       "       4365., 1164., 2910.])"
      ]
     },
     "execution_count": 51,
     "metadata": {},
     "output_type": "execute_result"
    }
   ],
   "source": [
    "won_array = yen_array * 9.7 #엔화를 원화로 변환\n",
    "won_array"
   ]
  },
  {
   "cell_type": "code",
   "execution_count": 52,
   "metadata": {},
   "outputs": [
    {
     "data": {
      "text/plain": [
       "array([47616., 35712., 66960., 17856., 44640., 47616., 35712., 66960.,\n",
       "       17856., 44640., 47616., 35712., 66960., 17856., 44640., 47616.,\n",
       "       35712., 66960., 17856., 44640., 47616., 35712., 66960., 17856.,\n",
       "       44640., 47616., 35712., 66960., 17856., 44640.])"
      ]
     },
     "execution_count": 52,
     "metadata": {},
     "output_type": "execute_result"
    }
   ],
   "source": [
    "won_array = yen_array * 9.7 + dollar_array * 1391\n",
    "won_array"
   ]
  },
  {
   "cell_type": "code",
   "execution_count": 53,
   "metadata": {},
   "outputs": [
    {
     "data": {
      "text/plain": [
       "array([476160., 357120., 669600., 178560., 446400., 476160., 357120.,\n",
       "       669600., 178560., 446400., 476160., 357120., 669600., 178560.,\n",
       "       446400., 476160., 357120., 669600., 178560., 446400., 476160.,\n",
       "       357120., 669600., 178560., 446400., 476160., 357120., 669600.,\n",
       "       178560., 446400.])"
      ]
     },
     "execution_count": 53,
     "metadata": {},
     "output_type": "execute_result"
    }
   ],
   "source": [
    "new_array = won_array * 10\n",
    "new_array"
   ]
  },
  {
   "cell_type": "code",
   "execution_count": 47,
   "metadata": {},
   "outputs": [
    {
     "data": {
      "text/plain": [
       "array([32, 24, 45, 12, 30, 32, 24, 45, 12, 30, 32, 24, 45, 12, 30, 32, 24,\n",
       "       45, 12, 30, 32, 24, 45, 12, 30, 32, 24, 45, 12, 30])"
      ]
     },
     "execution_count": 47,
     "metadata": {},
     "output_type": "execute_result"
    }
   ],
   "source": [
    "dollar_array = np.array([32,24,45,12,30,32,24,45,12,30,32,24,45,12,30,32,24,45,12,30,32,24,45,12,30,32,24,45,12,30])\n",
    "dollar_array"
   ]
  },
  {
   "cell_type": "code",
   "execution_count": 48,
   "metadata": {},
   "outputs": [
    {
     "data": {
      "text/plain": [
       "array([44522.88, 33392.16, 62610.3 , 16696.08, 41740.2 , 44522.88,\n",
       "       33392.16, 62610.3 , 16696.08, 41740.2 , 44522.88, 33392.16,\n",
       "       62610.3 , 16696.08, 41740.2 , 44522.88, 33392.16, 62610.3 ,\n",
       "       16696.08, 41740.2 , 44522.88, 33392.16, 62610.3 , 16696.08,\n",
       "       41740.2 , 44522.88, 33392.16, 62610.3 , 16696.08, 41740.2 ])"
      ]
     },
     "execution_count": 48,
     "metadata": {},
     "output_type": "execute_result"
    }
   ],
   "source": [
    "won_array = dollar_array * 1391.34\n",
    "won_array"
   ]
  },
  {
   "cell_type": "code",
   "execution_count": 54,
   "metadata": {},
   "outputs": [
    {
     "data": {
      "text/plain": [
       "array([47616, 35712, 66960, 17856, 44640, 47616, 35712, 66960, 17856,\n",
       "       44640, 47616, 35712, 66960, 17856, 44640, 47616, 35712, 66960,\n",
       "       17856, 44640, 47616, 35712, 66960, 17856, 44640, 47616, 35712,\n",
       "       66960, 17856, 44640], dtype=int64)"
      ]
     },
     "execution_count": 54,
     "metadata": {},
     "output_type": "execute_result"
    }
   ],
   "source": [
    "won_array.astype(\"int64\")"
   ]
  },
  {
   "cell_type": "code",
   "execution_count": 55,
   "metadata": {},
   "outputs": [
    {
     "name": "stdout",
     "output_type": "stream",
     "text": [
      "[4761600. 3571200. 6696000. 1785600. 4464000. 4761600. 3571200. 6696000.\n",
      " 1785600. 4464000. 4761600. 3571200. 6696000. 1785600. 4464000. 4761600.\n",
      " 3571200. 6696000. 1785600. 4464000. 4761600. 3571200. 6696000. 1785600.\n",
      " 4464000. 4761600. 3571200. 6696000. 1785600. 4464000.]\n"
     ]
    }
   ],
   "source": [
    "new_array = won_array*100\n",
    "print(new_array)"
   ]
  },
  {
   "cell_type": "code",
   "execution_count": 57,
   "metadata": {},
   "outputs": [
    {
     "name": "stdout",
     "output_type": "stream",
     "text": [
      "won_array에서 수익이 50000이하인 날은 [47616. 35712. 17856. 44640. 47616. 35712. 17856. 44640. 47616. 35712.\n",
      " 17856. 44640. 47616. 35712. 17856. 44640. 47616. 35712. 17856. 44640.\n",
      " 47616. 35712. 17856. 44640.]\n"
     ]
    }
   ],
   "source": [
    "print('won_array에서 수익이 50000이하인 날은',won_array[won_array<=50000])"
   ]
  },
  {
   "cell_type": "code",
   "execution_count": 58,
   "metadata": {},
   "outputs": [
    {
     "data": {
      "text/plain": [
       "array([47616., 35712., 17856., 44640., 47616., 35712., 17856., 44640.,\n",
       "       47616., 35712., 17856., 44640., 47616., 35712., 17856., 44640.,\n",
       "       47616., 35712., 17856., 44640., 47616., 35712., 17856., 44640.])"
      ]
     },
     "execution_count": 58,
     "metadata": {},
     "output_type": "execute_result"
    }
   ],
   "source": [
    "sad_days_revenue = won_array[won_array<=50000]\n",
    "sad_days_revenue"
   ]
  },
  {
   "cell_type": "code",
   "execution_count": null,
   "metadata": {},
   "outputs": [],
   "source": []
  }
 ],
 "metadata": {
  "kernelspec": {
   "display_name": "Python 3.9.12 ('base')",
   "language": "python",
   "name": "python3"
  },
  "language_info": {
   "codemirror_mode": {
    "name": "ipython",
    "version": 3
   },
   "file_extension": ".py",
   "mimetype": "text/x-python",
   "name": "python",
   "nbconvert_exporter": "python",
   "pygments_lexer": "ipython3",
   "version": "3.9.12"
  },
  "orig_nbformat": 4,
  "vscode": {
   "interpreter": {
    "hash": "4fb426db0f3ee2be9e5ab359abf5d058c2a19de96b4d6eda446b2c3017042fa6"
   }
  }
 },
 "nbformat": 4,
 "nbformat_minor": 2
}
