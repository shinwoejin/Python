{
 "cells": [
  {
   "cell_type": "code",
   "execution_count": 1,
   "id": "e0351a25",
   "metadata": {},
   "outputs": [
    {
     "ename": "ModuleNotFoundError",
     "evalue": "No module named 'modul_test'",
     "output_type": "error",
     "traceback": [
      "\u001b[1;31m---------------------------------------------------------------------------\u001b[0m",
      "\u001b[1;31mModuleNotFoundError\u001b[0m                       Traceback (most recent call last)",
      "Cell \u001b[1;32mIn [1], line 2\u001b[0m\n\u001b[0;32m      1\u001b[0m \u001b[38;5;28;01mimport\u001b[39;00m \u001b[38;5;21;01mmodule_test\u001b[39;00m\n\u001b[1;32m----> 2\u001b[0m \u001b[38;5;28;01mfrom\u001b[39;00m \u001b[38;5;21;01mmodul_test\u001b[39;00m \u001b[38;5;28;01mimport\u001b[39;00m add\n\u001b[0;32m      3\u001b[0m \u001b[38;5;28;01mfrom\u001b[39;00m \u001b[38;5;21;01mmodul_test\u001b[39;00m \u001b[38;5;28;01mimport\u001b[39;00m subtraction\n\u001b[0;32m      4\u001b[0m \u001b[38;5;28;01mfrom\u001b[39;00m \u001b[38;5;21;01mmodul_test\u001b[39;00m \u001b[38;5;28;01mimport\u001b[39;00m Multiplication\n",
      "\u001b[1;31mModuleNotFoundError\u001b[0m: No module named 'modul_test'"
     ]
    }
   ],
   "source": [
    "import module_test\n",
    "from modul_test import add\n",
    "from modul_test import subtraction\n",
    "from modul_test import Multiplication\n",
    "from modul_test import division"
   ]
  },
  {
   "cell_type": "code",
   "execution_count": 8,
   "id": "a26c5b88",
   "metadata": {},
   "outputs": [
    {
     "data": {
      "text/plain": [
       "70"
      ]
     },
     "execution_count": 8,
     "metadata": {},
     "output_type": "execute_result"
    }
   ],
   "source": [
    "add(20, 50)"
   ]
  },
  {
   "cell_type": "code",
   "execution_count": 21,
   "id": "b1415d3a",
   "metadata": {},
   "outputs": [
    {
     "data": {
      "text/plain": [
       "10"
      ]
     },
     "execution_count": 21,
     "metadata": {},
     "output_type": "execute_result"
    }
   ],
   "source": [
    "module_test.subtraction(20,10)"
   ]
  },
  {
   "cell_type": "code",
   "execution_count": 24,
   "id": "3a0f65fa",
   "metadata": {},
   "outputs": [
    {
     "data": {
      "text/plain": [
       "100"
      ]
     },
     "execution_count": 24,
     "metadata": {},
     "output_type": "execute_result"
    }
   ],
   "source": [
    "module_test.Multiplication(10,10)"
   ]
  },
  {
   "cell_type": "code",
   "execution_count": 23,
   "id": "4e41c164",
   "metadata": {},
   "outputs": [
    {
     "data": {
      "text/plain": [
       "6.666666666666667"
      ]
     },
     "execution_count": 23,
     "metadata": {},
     "output_type": "execute_result"
    }
   ],
   "source": [
    "module_test.division(20,3)"
   ]
  }
 ],
 "metadata": {
  "kernelspec": {
   "display_name": "Python 3.10.7 64-bit",
   "language": "python",
   "name": "python3"
  },
  "language_info": {
   "codemirror_mode": {
    "name": "ipython",
    "version": 3
   },
   "file_extension": ".py",
   "mimetype": "text/x-python",
   "name": "python",
   "nbconvert_exporter": "python",
   "pygments_lexer": "ipython3",
   "version": "3.10.7"
  },
  "vscode": {
   "interpreter": {
    "hash": "369f2c481f4da34e4445cda3fffd2e751bd1c4d706f27375911949ba6bb62e1c"
   }
  }
 },
 "nbformat": 4,
 "nbformat_minor": 5
}
