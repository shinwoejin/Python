{
 "cells": [
  {
   "cell_type": "markdown",
   "id": "179d36fe",
   "metadata": {},
   "source": [
    "Chrome driver 설치하기(기본)"
   ]
  },
  {
   "cell_type": "code",
   "execution_count": 1,
   "id": "a7ff88f7",
   "metadata": {},
   "outputs": [
    {
     "name": "stdout",
     "output_type": "stream",
     "text": [
      "Collecting selenium==3.141.0\n",
      "  Downloading selenium-3.141.0-py2.py3-none-any.whl (904 kB)\n",
      "Requirement already satisfied: urllib3 in c:\\users\\82104\\anaconda3\\lib\\site-packages (from selenium==3.141.0) (1.26.9)\n",
      "Installing collected packages: selenium\n",
      "Successfully installed selenium-3.141.0\n"
     ]
    }
   ],
   "source": [
    "!pip install selenium==3.141.0"
   ]
  },
  {
   "cell_type": "code",
   "execution_count": 2,
   "id": "25328106",
   "metadata": {},
   "outputs": [],
   "source": [
    "from selenium import webdriver"
   ]
  },
  {
   "cell_type": "code",
   "execution_count": 6,
   "id": "75340a6c",
   "metadata": {},
   "outputs": [],
   "source": [
    "driver = webdriver.Chrome(r\"C:\\Users\\82104\\Python\\9월 파이썬수업\\chromedriver.exe\")"
   ]
  },
  {
   "cell_type": "markdown",
   "id": "71ff14e3",
   "metadata": {},
   "source": [
    "Chrome driver(manager 버전)"
   ]
  },
  {
   "cell_type": "code",
   "execution_count": 1,
   "id": "1d39224b",
   "metadata": {},
   "outputs": [
    {
     "name": "stdout",
     "output_type": "stream",
     "text": [
      "Collecting webdriver_manager\n",
      "  Downloading webdriver_manager-3.8.3-py2.py3-none-any.whl (26 kB)\n",
      "Requirement already satisfied: requests in c:\\users\\82104\\anaconda3\\lib\\site-packages (from webdriver_manager) (2.27.1)\n",
      "Collecting python-dotenv\n",
      "  Downloading python_dotenv-0.21.0-py3-none-any.whl (18 kB)\n",
      "Requirement already satisfied: tqdm in c:\\users\\82104\\anaconda3\\lib\\site-packages (from webdriver_manager) (4.64.0)\n",
      "Requirement already satisfied: certifi>=2017.4.17 in c:\\users\\82104\\anaconda3\\lib\\site-packages (from requests->webdriver_manager) (2021.10.8)\n",
      "Requirement already satisfied: charset-normalizer~=2.0.0 in c:\\users\\82104\\anaconda3\\lib\\site-packages (from requests->webdriver_manager) (2.0.4)\n",
      "Requirement already satisfied: idna<4,>=2.5 in c:\\users\\82104\\anaconda3\\lib\\site-packages (from requests->webdriver_manager) (3.3)\n",
      "Requirement already satisfied: urllib3<1.27,>=1.21.1 in c:\\users\\82104\\anaconda3\\lib\\site-packages (from requests->webdriver_manager) (1.26.9)\n",
      "Requirement already satisfied: colorama in c:\\users\\82104\\anaconda3\\lib\\site-packages (from tqdm->webdriver_manager) (0.4.4)\n",
      "Installing collected packages: python-dotenv, webdriver-manager\n",
      "Successfully installed python-dotenv-0.21.0 webdriver-manager-3.8.3\n"
     ]
    }
   ],
   "source": [
    "!pip install webdriver_manager"
   ]
  },
  {
   "cell_type": "code",
   "execution_count": 6,
   "id": "7b674e0c",
   "metadata": {},
   "outputs": [],
   "source": [
    "from selenium import webdriver\n",
    "from webdriver_manager.chrome import ChromeDriverManager"
   ]
  },
  {
   "cell_type": "code",
   "execution_count": 46,
   "id": "81cbd79e",
   "metadata": {},
   "outputs": [],
   "source": [
    "driver = webdriver.Chrome(ChromeDriverManager().install())\n",
    "# 크롬창 띄우기"
   ]
  },
  {
   "cell_type": "code",
   "execution_count": 11,
   "id": "57d25053",
   "metadata": {},
   "outputs": [],
   "source": [
    "# .get(\"URL\")\n",
    "driver.get(\"https://www.naver.com\")"
   ]
  },
  {
   "cell_type": "code",
   "execution_count": 17,
   "id": "f8f45f44",
   "metadata": {},
   "outputs": [],
   "source": [
    "from selenium.webdriver.common.keys import Keys"
   ]
  },
  {
   "cell_type": "code",
   "execution_count": 37,
   "id": "71c51c81",
   "metadata": {},
   "outputs": [],
   "source": [
    "# 엔터 버튼\n",
    "search = driver.find_element_by_css_selector('#query') #검색창\n",
    "search.send_keys(\"코로나\") # 검색창에 코로나 입력\n",
    "search.send_keys(Keys.ENTER)"
   ]
  },
  {
   "cell_type": "code",
   "execution_count": 39,
   "id": "588071c3",
   "metadata": {},
   "outputs": [],
   "source": [
    "# 마우스클릭\n",
    "search = driver.find_element_by_css_selector('#query') #검색창\n",
    "search.send_keys(\"코로나\") # 검색창에 코로나 입력\n",
    "btn = driver.find_element_by_xpath('//*[@id=\"search_btn\"]')\n",
    "btn.click()"
   ]
  },
  {
   "cell_type": "code",
   "execution_count": 45,
   "id": "9f746715",
   "metadata": {},
   "outputs": [],
   "source": [
    "driver.back() #뒤로가기"
   ]
  },
  {
   "cell_type": "code",
   "execution_count": 44,
   "id": "a0d25c2f",
   "metadata": {},
   "outputs": [],
   "source": [
    "driver.forward() #앞으로가기"
   ]
  },
  {
   "cell_type": "code",
   "execution_count": 42,
   "id": "4bfac53a",
   "metadata": {},
   "outputs": [
    {
     "data": {
      "text/plain": [
       "'https://search.naver.com/search.naver?where=nexearch&sm=top_hty&fbm=0&ie=utf8&query=%EC%BD%94%EB%A1%9C%EB%82%98'"
      ]
     },
     "execution_count": 42,
     "metadata": {},
     "output_type": "execute_result"
    }
   ],
   "source": [
    "driver.current_url #현재 주소 가져오기"
   ]
  },
  {
   "cell_type": "code",
   "execution_count": 41,
   "id": "258a570d",
   "metadata": {},
   "outputs": [],
   "source": [
    "driver.maximize_window() #최대화"
   ]
  },
  {
   "cell_type": "code",
   "execution_count": 43,
   "id": "c237b62e",
   "metadata": {},
   "outputs": [],
   "source": [
    "driver.minimize_window() #최소화"
   ]
  },
  {
   "cell_type": "code",
   "execution_count": null,
   "id": "ada37013",
   "metadata": {},
   "outputs": [],
   "source": [
    "driver.close() #현재 탭 닫기\n",
    "driver.quir() #브라우저 닫기\n",
    "driver.switch_to.window(driver.window_handles[0]) \n",
    "#[0]인덱스 = 첫번째 탭으로 이동"
   ]
  }
 ],
 "metadata": {
  "kernelspec": {
   "display_name": "Python 3.9.12 ('base')",
   "language": "python",
   "name": "python3"
  },
  "language_info": {
   "codemirror_mode": {
    "name": "ipython",
    "version": 3
   },
   "file_extension": ".py",
   "mimetype": "text/x-python",
   "name": "python",
   "nbconvert_exporter": "python",
   "pygments_lexer": "ipython3",
   "version": "3.9.12"
  },
  "vscode": {
   "interpreter": {
    "hash": "4fb426db0f3ee2be9e5ab359abf5d058c2a19de96b4d6eda446b2c3017042fa6"
   }
  }
 },
 "nbformat": 4,
 "nbformat_minor": 5
}
