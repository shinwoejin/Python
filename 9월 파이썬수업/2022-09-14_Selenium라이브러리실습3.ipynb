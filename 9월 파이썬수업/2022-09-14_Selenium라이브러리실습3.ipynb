{
 "cells": [
  {
   "cell_type": "markdown",
   "id": "c7fb2f2b",
   "metadata": {},
   "source": [
    "지마켓 베스트상품 100개 이름 가격 출력"
   ]
  },
  {
   "cell_type": "code",
   "execution_count": 1,
   "id": "b92da3e1",
   "metadata": {},
   "outputs": [],
   "source": [
    "from tqdm import tqdm_notebook as tqdm"
   ]
  },
  {
   "cell_type": "code",
   "execution_count": 2,
   "id": "492571d6",
   "metadata": {},
   "outputs": [],
   "source": [
    "from selenium import webdriver\n",
    "from webdriver_manager.chrome import ChromeDriverManager\n",
    "import pandas as pd\n",
    "import time"
   ]
  },
  {
   "cell_type": "code",
   "execution_count": 3,
   "id": "4949127b",
   "metadata": {},
   "outputs": [],
   "source": [
    "driver = webdriver.Chrome(ChromeDriverManager().install())\n",
    "driver.get('https://corners.gmarket.co.kr/Bestsellers')\n",
    "time.sleep(1)"
   ]
  },
  {
   "cell_type": "code",
   "execution_count": 4,
   "id": "b7843348",
   "metadata": {},
   "outputs": [],
   "source": [
    "img = driver.find_elements_by_css_selector('img.lazy')"
   ]
  },
  {
   "cell_type": "code",
   "execution_count": 5,
   "id": "20a8e6a4",
   "metadata": {},
   "outputs": [
    {
     "data": {
      "text/plain": [
       "200"
      ]
     },
     "execution_count": 5,
     "metadata": {},
     "output_type": "execute_result"
    }
   ],
   "source": [
    "len(img)"
   ]
  },
  {
   "cell_type": "code",
   "execution_count": 6,
   "id": "b9032cb0",
   "metadata": {},
   "outputs": [
    {
     "data": {
      "text/plain": [
       "'그룹별'"
      ]
     },
     "execution_count": 6,
     "metadata": {},
     "output_type": "execute_result"
    }
   ],
   "source": [
    "# 카테고리\n",
    "cate = driver.find_element_by_css_selector('li.on > a')\n",
    "cate.text"
   ]
  },
  {
   "cell_type": "code",
   "execution_count": null,
   "id": "d2387560",
   "metadata": {},
   "outputs": [],
   "source": [
    "# 가격\n",
    "price = driver.find_element_by_css_selector('strong.price_real')\n",
    "price.text"
   ]
  },
  {
   "cell_type": "code",
   "execution_count": null,
   "id": "469a0012",
   "metadata": {},
   "outputs": [],
   "source": [
    "# 이름\n",
    "title = driver.find_element_by_css_selector('h1.itemtit')\n",
    "title.text"
   ]
  },
  {
   "cell_type": "code",
   "execution_count": 13,
   "id": "92395f69",
   "metadata": {
    "scrolled": true
   },
   "outputs": [
    {
     "name": "stderr",
     "output_type": "stream",
     "text": [
      "C:\\Users\\82104\\AppData\\Local\\Temp\\ipykernel_3976\\1900544824.py:4: TqdmDeprecationWarning: This function will be removed in tqdm==5.0.0\n",
      "Please use `tqdm.notebook.tqdm` instead of `tqdm.tqdm_notebook`\n",
      "  for i in tqdm(range(10)):\n"
     ]
    },
    {
     "data": {
      "application/vnd.jupyter.widget-view+json": {
       "model_id": "20ad6b82f7f547578bff571bd3b64168",
       "version_major": 2,
       "version_minor": 0
      },
      "text/plain": [
       "  0%|          | 0/10 [00:00<?, ?it/s]"
      ]
     },
     "metadata": {},
     "output_type": "display_data"
    }
   ],
   "source": [
    "cate_list = []\n",
    "price_list = []\n",
    "title_list= []\n",
    "for i in tqdm(range(10)):\n",
    "    img = driver.find_elements_by_css_selector('img.lazy')\n",
    "    img[i].click()\n",
    "    \n",
    "    # 상세페이지\n",
    "    driver.implicitly_wait(5)\n",
    "    \n",
    "    cate = driver.find_element_by_css_selector('li.on > a')\n",
    "    cate_list.append(cate.text)\n",
    "    price = driver.find_element_by_css_selector('strong.price_real')\n",
    "    price_list.append(price.text)\n",
    "    title = driver.find_element_by_css_selector('h1.itemtit')\n",
    "    title_list.append(title.text)\n",
    "    \n",
    "    driver.back()\n",
    "    time.sleep(1)"
   ]
  },
  {
   "cell_type": "code",
   "execution_count": 14,
   "id": "99b22f99",
   "metadata": {},
   "outputs": [],
   "source": [
    "data = {'카테고리' : cate_list, '상품명' : title_list, '가격' : price_list}"
   ]
  },
  {
   "cell_type": "code",
   "execution_count": 15,
   "id": "a15a2030",
   "metadata": {},
   "outputs": [
    {
     "data": {
      "text/html": [
       "<div>\n",
       "<style scoped>\n",
       "    .dataframe tbody tr th:only-of-type {\n",
       "        vertical-align: middle;\n",
       "    }\n",
       "\n",
       "    .dataframe tbody tr th {\n",
       "        vertical-align: top;\n",
       "    }\n",
       "\n",
       "    .dataframe thead th {\n",
       "        text-align: right;\n",
       "    }\n",
       "</style>\n",
       "<table border=\"1\" class=\"dataframe\">\n",
       "  <thead>\n",
       "    <tr style=\"text-align: right;\">\n",
       "      <th></th>\n",
       "      <th>카테고리</th>\n",
       "      <th>상품명</th>\n",
       "      <th>가격</th>\n",
       "    </tr>\n",
       "  </thead>\n",
       "  <tbody>\n",
       "    <tr>\n",
       "      <th>0</th>\n",
       "      <td>메가박스</td>\n",
       "      <td>(스마일클럽)일반예매권2D-주중/주말</td>\n",
       "      <td>8,500원</td>\n",
       "    </tr>\n",
       "    <tr>\n",
       "      <th>1</th>\n",
       "      <td>생수</td>\n",
       "      <td>스파클생수 2L 30병</td>\n",
       "      <td>15,900원</td>\n",
       "    </tr>\n",
       "    <tr>\n",
       "      <th>2</th>\n",
       "      <td>새우</td>\n",
       "      <td>생물 새우 1kg 35-45미/14900원(중복할인20%+스마일12% 쿠폰가)/국내산</td>\n",
       "      <td>21,900원</td>\n",
       "    </tr>\n",
       "    <tr>\n",
       "      <th>3</th>\n",
       "      <td>브이넥니트</td>\n",
       "      <td>너의지금 20%쿠폰 신상니트 가디건/롱/세트/가을신상/크롭/박스/루즈핏/긴팔</td>\n",
       "      <td>8,900원</td>\n",
       "    </tr>\n",
       "    <tr>\n",
       "      <th>4</th>\n",
       "      <td>전집/세트</td>\n",
       "      <td>(타임주니어) Around the World / Magic of mirror 선택구매</td>\n",
       "      <td>42,300원</td>\n",
       "    </tr>\n",
       "    <tr>\n",
       "      <th>5</th>\n",
       "      <td>기타차류</td>\n",
       "      <td>20% 티젠 콤부차 4가지맛 혼합 40스틱 (파인애플 구성)</td>\n",
       "      <td>18,500원</td>\n",
       "    </tr>\n",
       "    <tr>\n",
       "      <th>6</th>\n",
       "      <td>스포츠스니커즈</td>\n",
       "      <td>(대전신세계)에코 띠어리 체커보드 테이퍼드 / 애너하임 팩토리 OG 코드/플로랄</td>\n",
       "      <td>36,000원</td>\n",
       "    </tr>\n",
       "    <tr>\n",
       "      <th>7</th>\n",
       "      <td>스킨케어세트</td>\n",
       "      <td>(50%+10%) 전품목 빅세일+클렌징폼 선크림 핸드크림 반값</td>\n",
       "      <td>28,500원</td>\n",
       "    </tr>\n",
       "    <tr>\n",
       "      <th>8</th>\n",
       "      <td>유아음료</td>\n",
       "      <td>매일 요미요미 종합과일 유기농 125ml x 24팩/주스 +증정 (800개 한정)</td>\n",
       "      <td>16,500원</td>\n",
       "    </tr>\n",
       "    <tr>\n",
       "      <th>9</th>\n",
       "      <td>건오징어/건한치</td>\n",
       "      <td>휴게소에서 먹던 맛 철판맥반석오징어 250g (10~15미)</td>\n",
       "      <td>13,900원</td>\n",
       "    </tr>\n",
       "  </tbody>\n",
       "</table>\n",
       "</div>"
      ],
      "text/plain": [
       "       카테고리                                              상품명       가격\n",
       "0      메가박스                             (스마일클럽)일반예매권2D-주중/주말   8,500원\n",
       "1        생수                                     스파클생수 2L 30병  15,900원\n",
       "2        새우  생물 새우 1kg 35-45미/14900원(중복할인20%+스마일12% 쿠폰가)/국내산  21,900원\n",
       "3     브이넥니트       너의지금 20%쿠폰 신상니트 가디건/롱/세트/가을신상/크롭/박스/루즈핏/긴팔   8,900원\n",
       "4     전집/세트  (타임주니어) Around the World / Magic of mirror 선택구매  42,300원\n",
       "5      기타차류                20% 티젠 콤부차 4가지맛 혼합 40스틱 (파인애플 구성)  18,500원\n",
       "6   스포츠스니커즈     (대전신세계)에코 띠어리 체커보드 테이퍼드 / 애너하임 팩토리 OG 코드/플로랄  36,000원\n",
       "7    스킨케어세트               (50%+10%) 전품목 빅세일+클렌징폼 선크림 핸드크림 반값  28,500원\n",
       "8      유아음료    매일 요미요미 종합과일 유기농 125ml x 24팩/주스 +증정 (800개 한정)  16,500원\n",
       "9  건오징어/건한치                휴게소에서 먹던 맛 철판맥반석오징어 250g (10~15미)  13,900원"
      ]
     },
     "execution_count": 15,
     "metadata": {},
     "output_type": "execute_result"
    }
   ],
   "source": [
    "gmarket = pd.DataFrame(data)\n",
    "gmarket"
   ]
  },
  {
   "cell_type": "code",
   "execution_count": null,
   "id": "cea275f9",
   "metadata": {},
   "outputs": [],
   "source": []
  }
 ],
 "metadata": {
  "kernelspec": {
   "display_name": "Python 3 (ipykernel)",
   "language": "python",
   "name": "python3"
  },
  "language_info": {
   "codemirror_mode": {
    "name": "ipython",
    "version": 3
   },
   "file_extension": ".py",
   "mimetype": "text/x-python",
   "name": "python",
   "nbconvert_exporter": "python",
   "pygments_lexer": "ipython3",
   "version": "3.9.12"
  }
 },
 "nbformat": 4,
 "nbformat_minor": 5
}
