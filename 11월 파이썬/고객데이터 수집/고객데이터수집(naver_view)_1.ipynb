{
 "cells": [
  {
   "cell_type": "markdown",
   "metadata": {},
   "source": [
    "### 네이버 view 검색을 활용한 블로그 검색"
   ]
  },
  {
   "cell_type": "code",
   "execution_count": 1,
   "metadata": {},
   "outputs": [],
   "source": [
    "# 라이브러리 import\n",
    "from selenium import webdriver\n",
    "from webdriver_manager.chrome import ChromeDriverManager\n",
    "import time\n",
    "from bs4 import BeautifulSoup as bs\n",
    "import csv\n",
    "import requests\n",
    "import pandas as pd\n",
    "import re\n",
    "from selenium.webdriver.common.desired_capabilities import DesiredCapabilities #다음화면으로 빨리 넘어갈때\n",
    "from selenium.common.exceptions import UnexpectedAlertPresentException #selenium 이용시 Alert을 제어\n",
    "import urllib.request\n",
    "import random\n",
    "from selenium.webdriver.chrome.options import Options"
   ]
  },
  {
   "cell_type": "code",
   "execution_count": 2,
   "metadata": {},
   "outputs": [],
   "source": [
    "#크롤링 시작화 끝 날짜(달 별로 크롤링)\n",
    "first_days = pd.date_range('2021/01/01','2021/01/31', freq='MS') #각 달의 첫 날\n",
    "last_days = pd.date_range('2021/01/01', '2021/01/31', freq='MS') #각 달의 마지막날\n",
    "\n",
    "#키워드 리스트\n",
    "keyword_list =['직장인일기','패션','데일리룩']"
   ]
  },
  {
   "cell_type": "code",
   "execution_count": 4,
   "metadata": {},
   "outputs": [],
   "source": [
    "#크롬드라이버 제어\n",
    "chrome_options = Options()\n",
    "chrome_options.add_argument('--no-sandbox')\n",
    "chrome_options.add_argument('--disable-dex-shm-usage')\n",
    "\n",
    "# 현재 컴큐터 크롬 드라이버 위치\n",
    "chorme_path = r\"C:\\Users\\82104\\Python\\11월 파이썬\\고객데이터 수집\\chromedriver.exe\" #본인의 크롬 드라이버 위치 입력"
   ]
  },
  {
   "cell_type": "code",
   "execution_count": null,
   "metadata": {},
   "outputs": [],
   "source": [
    "# 블로그 주소 수집\n",
    "blog_url_list = []\n",
    "\n",
    "#네이버에 키워드 검색\n",
    "for keyword in keyword_list:\n",
    "    url = 'https://search.naver.com/search.naver?sm=tab_hty.top&where=blog&query={}&oquery={}'.format(keyword, keyword)\n",
    "    \n",
    "    driver = webdriver.Chrome(executable_path=chorme_path, chrome_options=chrome_options)\n",
    "    driver.implicitly_wait(3)\n",
    "    \n",
    "    driver.get(url)\n",
    "    time.sleep(3)\n",
    "    \n",
    "    url_want = 990 #한번에 1000개까지 밖에 안나와서 990개까지만\n",
    "    \n",
    "    driver.find_element('xpath','//*[@id=\"snb\"]/div[1]/div/div[2]/a').click() #검색 옵션 클릭\n",
    "    \n",
    "    #날짜지정\n",
    "    for k in range(len(first_days)):\n",
    "        try:\n",
    "            #시작과 끝의 년월일 설정\n",
    "            driver.find_element('xpath','//*[@id=\"snb\"]/div[2]/ul/li[3]/div/div[1]/a[9]/i').click() #직접 입력\n",
    "            driver.find_element('xpath','//*[@id=\"snb\"]/div[2]/ul/li[3]/div/div[2]/div[2]/div[1]/div/div/div/ul/li[{0}]'.format(first_days.year[k]-2002)).click()\n",
    "            driver.find_element('xpath','//*[@id=\"snb\"]/div[2]/ul/li[3]/div/div[2]/div[2]/div[2]/div/div/div/ul/li[{0}]/a'.format(first_days.month[k])).click()\n",
    "            driver.find_element('xpath','//*[@id=\"snb\"]/div[2]/ul/li[3]/div/div[2]/div[2]/div[3]/div/div/div/ul/li[{0}]/a'.format(first_days.day[k])).click()\n",
    "            driver.find_element('xpath','//*[@id=\"snb\"]/div[2]/ul/li[3]/div/div[2]/div[1]/span[3]/a').click()\n",
    "            driver.find_element('xpath','//*[@id=\"snb\"]/div[2]/ul/li[3]/div/div[2]/div[2]/div[1]/div/div/div/ul/li[{0}]'.format(last_days.year[k]-2002)).click()\n",
    "            driver.find_element('xpath','//*[@id=\"snb\"]/div[2]/ul/li[3]/div/div[2]/div[2]/div[2]/div/div/div/ul/li[{0}]/a'.format(last_days.month[k])).click()\n",
    "            driver.find_element('xpath','//*[@id=\"snb\"]/div[2]/ul/li[3]/div/div[2]/div[2]/div[3]/div/div/div/ul/li[{0}]/a'.format(last_days.day[k])).click()\n",
    "            driver.find_element('xpath','//*[@id=\"snb\"]/div[2]/ul/li[3]/div/div[2]/div[3]/button').click()\n",
    "            \n",
    "            #스크롤 조작\n",
    "            last_height = driver.execute_script('return document.body.scrollHeight')\n",
    "            scroll = (url_want/30)-1"
   ]
  },
  {
   "cell_type": "code",
   "execution_count": null,
   "metadata": {},
   "outputs": [],
   "source": []
  },
  {
   "cell_type": "code",
   "execution_count": null,
   "metadata": {},
   "outputs": [],
   "source": []
  },
  {
   "cell_type": "code",
   "execution_count": null,
   "metadata": {},
   "outputs": [],
   "source": []
  },
  {
   "cell_type": "code",
   "execution_count": null,
   "metadata": {},
   "outputs": [],
   "source": []
  },
  {
   "cell_type": "code",
   "execution_count": null,
   "metadata": {},
   "outputs": [],
   "source": []
  }
 ],
 "metadata": {
  "kernelspec": {
   "display_name": "Python 3.9.12 ('base')",
   "language": "python",
   "name": "python3"
  },
  "language_info": {
   "codemirror_mode": {
    "name": "ipython",
    "version": 3
   },
   "file_extension": ".py",
   "mimetype": "text/x-python",
   "name": "python",
   "nbconvert_exporter": "python",
   "pygments_lexer": "ipython3",
   "version": "3.9.12"
  },
  "orig_nbformat": 4,
  "vscode": {
   "interpreter": {
    "hash": "4fb426db0f3ee2be9e5ab359abf5d058c2a19de96b4d6eda446b2c3017042fa6"
   }
  }
 },
 "nbformat": 4,
 "nbformat_minor": 2
}
