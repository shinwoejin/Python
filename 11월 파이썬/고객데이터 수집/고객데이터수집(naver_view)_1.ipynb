{
 "cells": [
  {
   "cell_type": "markdown",
   "metadata": {},
   "source": [
    "### 네이버 view 검색을 활용한 블로그 검색"
   ]
  },
  {
   "cell_type": "code",
   "execution_count": 11,
   "metadata": {},
   "outputs": [],
   "source": [
    "# 라이브러리 import\n",
    "from selenium import webdriver\n",
    "from webdriver_manager.chrome import ChromeDriverManager\n",
    "import time\n",
    "from bs4 import BeautifulSoup as bs\n",
    "import csv\n",
    "import requests\n",
    "import pandas as pd\n",
    "import re\n",
    "from selenium.webdriver.common.desired_capabilities import DesiredCapabilities #다음화면으로 빨리 넘어갈때\n",
    "from selenium.common.exceptions import UnexpectedAlertPresentException #selenium 이용시 Alert을 제어\n",
    "import urllib.request\n",
    "import random\n",
    "from selenium.webdriver.chrome.options import Options\n",
    "from selenium.webdriver.common.by import By"
   ]
  },
  {
   "cell_type": "code",
   "execution_count": 12,
   "metadata": {},
   "outputs": [],
   "source": [
    "#크롤링 시작화 끝 날짜(달 별로 크롤링)\n",
    "first_days = pd.date_range('2021/01/01','2021/01/31', freq='MS') #각 달의 첫 날\n",
    "last_days = pd.date_range('2021/01/01', '2021/01/31', freq='MS') #각 달의 마지막날\n",
    "\n",
    "#키워드 리스트\n",
    "keyword_list =['OOTD','패션','데일리룩']"
   ]
  },
  {
   "cell_type": "code",
   "execution_count": 13,
   "metadata": {},
   "outputs": [],
   "source": [
    "#크롬드라이버 제어\n",
    "chrome_options = Options()\n",
    "chrome_options.add_argument('--no-sandbox')\n",
    "chrome_options.add_argument('--disable-dex-shm-usage')\n",
    "\n",
    "# 현재 컴큐터 크롬 드라이버 위치\n",
    "chorme_path = r\"C:\\Users\\82104\\Python\\11월 파이썬\\고객데이터 수집\\chromedriver.exe\" #본인의 크롬 드라이버 위치 입력"
   ]
  },
  {
   "cell_type": "code",
   "execution_count": 14,
   "metadata": {},
   "outputs": [
    {
     "name": "stderr",
     "output_type": "stream",
     "text": [
      "C:\\Users\\82104\\AppData\\Local\\Temp\\ipykernel_10580\\901531397.py:8: DeprecationWarning: use options instead of chrome_options\n",
      "  driver = webdriver.Chrome(executable_path=chorme_path, chrome_options=chrome_options)\n"
     ]
    },
    {
     "name": "stdout",
     "output_type": "stream",
     "text": [
      "OOTD 키워드 2021년1월 153 개 블로그 url 주소 수집\n",
      "패션 키워드 2021년1월 990 개 블로그 url 주소 수집\n",
      "데일리룩 키워드 2021년1월 360 개 블로그 url 주소 수집\n"
     ]
    }
   ],
   "source": [
    "# 블로그 주소 수집\n",
    "blog_url_list = []\n",
    "\n",
    "#네이버에 키워드 검색\n",
    "for keyword in keyword_list:\n",
    "    url = 'https://search.naver.com/search.naver?sm=tab_hty.top&where=blog&query={}&oquery={}'.format(keyword, keyword)\n",
    "    \n",
    "    driver = webdriver.Chrome(executable_path=chorme_path, chrome_options=chrome_options)\n",
    "    driver.implicitly_wait(3)\n",
    "    \n",
    "    driver.get(url)\n",
    "    time.sleep(3)\n",
    "    \n",
    "    url_want = 990 #한번에 1000개까지 990까지만\n",
    "    \n",
    "    driver.find_element('xpath','//*[@id=\"snb\"]/div[1]/div/div[2]/a').click() #검색 옵션 클릭\n",
    "    \n",
    "    #날짜지정\n",
    "    for k in range(len(first_days)):\n",
    "        try:\n",
    "            #시작과 끝의 년월일 설정\n",
    "            driver.find_element('xpath','//*[@id=\"snb\"]/div[2]/ul/li[3]/div/div[1]/a[9]/i').click() #직접 입력\n",
    "            driver.find_element('xpath','//*[@id=\"snb\"]/div[2]/ul/li[3]/div/div[2]/div[2]/div[1]/div/div/div/ul/li[{0}]'.format(first_days.year[k]-2002)).click()\n",
    "            driver.find_element('xpath','//*[@id=\"snb\"]/div[2]/ul/li[3]/div/div[2]/div[2]/div[2]/div/div/div/ul/li[{0}]/a'.format(first_days.month[k])).click()\n",
    "            driver.find_element('xpath','//*[@id=\"snb\"]/div[2]/ul/li[3]/div/div[2]/div[2]/div[3]/div/div/div/ul/li[{0}]/a'.format(first_days.day[k])).click()\n",
    "            driver.find_element('xpath','//*[@id=\"snb\"]/div[2]/ul/li[3]/div/div[2]/div[1]/span[3]/a').click()\n",
    "            driver.find_element('xpath','//*[@id=\"snb\"]/div[2]/ul/li[3]/div/div[2]/div[2]/div[1]/div/div/div/ul/li[{0}]'.format(last_days.year[k]-2002)).click()\n",
    "            driver.find_element('xpath','//*[@id=\"snb\"]/div[2]/ul/li[3]/div/div[2]/div[2]/div[2]/div/div/div/ul/li[{0}]/a'.format(last_days.month[k])).click()\n",
    "            driver.find_element('xpath','//*[@id=\"snb\"]/div[2]/ul/li[3]/div/div[2]/div[2]/div[3]/div/div/div/ul/li[{0}]/a'.format(last_days.day[k])).click()\n",
    "            driver.find_element('xpath','//*[@id=\"snb\"]/div[2]/ul/li[3]/div/div[2]/div[3]/button').click()\n",
    "            \n",
    "            #스크롤 조작\n",
    "            last_height = driver.execute_script('return document.body.scrollHeight')\n",
    "            scroll = (url_want/30)-1 #한 페이지에 기본으로 30개 글이 나옴\n",
    "            \n",
    "            #스크롤 다운\n",
    "            for i in range(int(scroll)):\n",
    "                driver.execute_script('window.scrollTo(0,document.body.scrollHeight)')\n",
    "                time.sleep(random.uniform(1,1.7))\n",
    "                \n",
    "                #저장\n",
    "                new_height = driver.execute_script('return document.body.scrollHeight')\n",
    "                \n",
    "                if new_height == last_height:\n",
    "                    break\n",
    "                \n",
    "                last_height = new_height\n",
    "                \n",
    "            soup = bs(driver.page_source, 'lxml')\n",
    "            blog_url = soup.find_all('a',class_='api_txt_lines total_tit')\n",
    "            \n",
    "            #url 주소 수집\n",
    "            for i in blog_url:\n",
    "                blog_url_list.append(i['href']) #주소 수집\n",
    "                \n",
    "            print('{0} 키워드 {1}년{2}월'.format(keyword, first_days.year[k], first_days.month[k]), len(blog_url),'개 블로그 url 주소 수집')\n",
    "            \n",
    "            #스크롤 멈춤\n",
    "            driver.execute_script('window.scrollTo(0,0)')\n",
    "            \n",
    "        except:\n",
    "            pass\n",
    "            "
   ]
  },
  {
   "cell_type": "code",
   "execution_count": 15,
   "metadata": {},
   "outputs": [
    {
     "data": {
      "text/plain": [
       "1503"
      ]
     },
     "execution_count": 15,
     "metadata": {},
     "output_type": "execute_result"
    }
   ],
   "source": [
    "len(blog_url_list)"
   ]
  },
  {
   "cell_type": "code",
   "execution_count": 16,
   "metadata": {},
   "outputs": [
    {
     "data": {
      "text/plain": [
       "1336"
      ]
     },
     "execution_count": 16,
     "metadata": {},
     "output_type": "execute_result"
    }
   ],
   "source": [
    "#수집 후 url list 중복 확인\n",
    "real_list = set(blog_url_list)\n",
    "blog_url_list = list(real_list)\n",
    "len(blog_url_list)"
   ]
  },
  {
   "cell_type": "code",
   "execution_count": 17,
   "metadata": {},
   "outputs": [],
   "source": [
    "#파일 저장(블로그 주소)\n",
    "k = pd.DataFrame(blog_url_list)\n",
    "k.to_csv('url_list_패션.csv', encoding='utf-8-sig')"
   ]
  },
  {
   "cell_type": "code",
   "execution_count": 18,
   "metadata": {},
   "outputs": [],
   "source": [
    "#블로그 크롤링\n",
    "url = pd.read_csv('url_list_패션.csv')\n",
    "blog_url_list = list(url['0'])"
   ]
  },
  {
   "cell_type": "code",
   "execution_count": 19,
   "metadata": {},
   "outputs": [
    {
     "name": "stderr",
     "output_type": "stream",
     "text": [
      "C:\\Users\\82104\\AppData\\Local\\Temp\\ipykernel_10580\\769458119.py:13: DeprecationWarning: use options instead of chrome_options\n",
      "  driver = webdriver.Chrome(executable_path=chorme_path, chrome_options=chrome_options) #크롬 드라이버 위치만 바꿔주시면 됩니다.\n"
     ]
    },
    {
     "name": "stdout",
     "output_type": "stream",
     "text": [
      "10개 블로그 크롤링 완료\n",
      "20개 블로그 크롤링 완료\n",
      "네이버 블로그 아닌 url:  https://monjae.tistory.com/entry/%EB%AA%AC%EC%9E%AC-%EB%8D%B0%EC%9D%BC%EB%A6%AC%EB%A3%A9-%ED%94%84%EB%A6%AC%EC%A6%98%EC%9C%85%EC%8A%A4-%EC%BD%94%EB%93%80%EB%A1%9C%EC%9D%B4-%ED%8C%A8%EB%94%A9-%ED%8F%B4%EB%A1%9C-%EB%B2%A0%EC%96%B4-%ED%95%98%ED%94%84%EC%A7%91%EC%97%85-%EB%AC%B4%EC%8B%A0%EC%82%AC-%EC%8A%A4%ED%83%A0%EB%8B%A4%EB%93%9C-%EC%99%80%EC%9D%B4%EB%93%9C-%EC%8A%AC%EB%9E%99%EC%8A%A4-%EB%9D%BC%ED%94%84%EC%8B%9C%EB%AA%AC%EC%8A%A4-%EB%89%B4%EB%9F%AC%EB%84%88\n",
      "30개 블로그 크롤링 완료\n",
      "네이버 블로그 아닌 url:  https://en-fashionary.tistory.com/3117\n",
      "40개 블로그 크롤링 완료\n",
      "50개 블로그 크롤링 완료\n",
      "60개 블로그 크롤링 완료\n",
      "70개 블로그 크롤링 완료\n",
      "80개 블로그 크롤링 완료\n",
      "네이버 블로그 아닌 url:  https://fashion-info-here.tistory.com/1439\n",
      "80개 블로그 크롤링 완료\n",
      "90개 블로그 크롤링 완료\n",
      "100개 블로그 크롤링 완료\n",
      "네이버 블로그 아닌 url:  http://blog.yes24.com/blog/blogMain.aspx?blogid=sj1118&artSeqNo=13570706\n",
      "110개 블로그 크롤링 완료\n",
      "120개 블로그 크롤링 완료\n",
      "130개 블로그 크롤링 완료\n",
      "140개 블로그 크롤링 완료\n",
      "150개 블로그 크롤링 완료\n",
      "160개 블로그 크롤링 완료\n",
      "170개 블로그 크롤링 완료\n",
      "180개 블로그 크롤링 완료\n",
      "네이버 블로그 아닌 url:  https://sarogoo.tistory.com/478\n",
      "190개 블로그 크롤링 완료\n",
      "네이버 블로그 아닌 url:  https://yoloload01.tistory.com/506\n",
      "200개 블로그 크롤링 완료\n",
      "210개 블로그 크롤링 완료\n",
      "220개 블로그 크롤링 완료\n",
      "네이버 블로그 아닌 url:  https://off-fic.tistory.com/96\n",
      "네이버 블로그 아닌 url:  https://doqin.tistory.com/8798\n",
      "230개 블로그 크롤링 완료\n",
      "네이버 블로그 아닌 url:  https://felkmt.tistory.com/3619\n",
      "240개 블로그 크롤링 완료\n",
      "250개 블로그 크롤링 완료\n",
      "260개 블로그 크롤링 완료\n",
      "270개 블로그 크롤링 완료\n",
      "280개 블로그 크롤링 완료\n",
      "290개 블로그 크롤링 완료\n",
      "네이버 블로그 아닌 url:  https://fashionlupe.tistory.com/6395\n",
      "네이버 블로그 아닌 url:  https://kimdirector.tistory.com/443\n",
      "네이버 블로그 아닌 url:  https://model.tistory.com/149\n",
      "300개 블로그 크롤링 완료\n",
      "310개 블로그 크롤링 완료\n",
      "320개 블로그 크롤링 완료\n",
      "330개 블로그 크롤링 완료\n"
     ]
    },
    {
     "ename": "NoSuchWindowException",
     "evalue": "Message: no such window: target window already closed\nfrom unknown error: web view not found\n  (Session info: chrome=107.0.5304.107)\n",
     "output_type": "error",
     "traceback": [
      "\u001b[1;31m---------------------------------------------------------------------------\u001b[0m",
      "\u001b[1;31mNoSuchWindowException\u001b[0m                     Traceback (most recent call last)",
      "\u001b[1;32mc:\\Users\\82104\\Python\\11월 파이썬\\고객데이터 수집\\고객데이터수집(naver_view)_1.ipynb Cell 10\u001b[0m in \u001b[0;36m<cell line: 14>\u001b[1;34m()\u001b[0m\n\u001b[0;32m     <a href='vscode-notebook-cell:/c%3A/Users/82104/Python/11%EC%9B%94%20%ED%8C%8C%EC%9D%B4%EC%8D%AC/%EA%B3%A0%EA%B0%9D%EB%8D%B0%EC%9D%B4%ED%84%B0%20%EC%88%98%EC%A7%91/%EA%B3%A0%EA%B0%9D%EB%8D%B0%EC%9D%B4%ED%84%B0%EC%88%98%EC%A7%91%28naver_view%29_1.ipynb#X12sZmlsZQ%3D%3D?line=37'>38</a>\u001b[0m \u001b[39mtry\u001b[39;00m:\n\u001b[1;32m---> <a href='vscode-notebook-cell:/c%3A/Users/82104/Python/11%EC%9B%94%20%ED%8C%8C%EC%9D%B4%EC%8D%AC/%EA%B3%A0%EA%B0%9D%EB%8D%B0%EC%9D%B4%ED%84%B0%20%EC%88%98%EC%A7%91/%EA%B3%A0%EA%B0%9D%EB%8D%B0%EC%9D%B4%ED%84%B0%EC%88%98%EC%A7%91%28naver_view%29_1.ipynb#X12sZmlsZQ%3D%3D?line=38'>39</a>\u001b[0m     timeline \u001b[39m=\u001b[39m driver\u001b[39m.\u001b[39;49mfind_element(\u001b[39m\"\u001b[39;49m\u001b[39mxpath\u001b[39;49m\u001b[39m\"\u001b[39;49m, \u001b[39m\"\u001b[39;49m\u001b[39m//span[@class=\u001b[39;49m\u001b[39m'\u001b[39;49m\u001b[39mse_publishDate pcol2\u001b[39;49m\u001b[39m'\u001b[39;49m\u001b[39m]\u001b[39;49m\u001b[39m\"\u001b[39;49m) \u001b[39m#수정 안 한 경우\u001b[39;00m\n\u001b[0;32m     <a href='vscode-notebook-cell:/c%3A/Users/82104/Python/11%EC%9B%94%20%ED%8C%8C%EC%9D%B4%EC%8D%AC/%EA%B3%A0%EA%B0%9D%EB%8D%B0%EC%9D%B4%ED%84%B0%20%EC%88%98%EC%A7%91/%EA%B3%A0%EA%B0%9D%EB%8D%B0%EC%9D%B4%ED%84%B0%EC%88%98%EC%A7%91%28naver_view%29_1.ipynb#X12sZmlsZQ%3D%3D?line=40'>41</a>\u001b[0m \u001b[39mexcept\u001b[39;00m:\n",
      "File \u001b[1;32mc:\\Users\\82104\\Anaconda3\\lib\\site-packages\\selenium\\webdriver\\remote\\webdriver.py:976\u001b[0m, in \u001b[0;36mWebDriver.find_element\u001b[1;34m(self, by, value)\u001b[0m\n\u001b[0;32m    975\u001b[0m         value \u001b[39m=\u001b[39m \u001b[39m'\u001b[39m\u001b[39m[name=\u001b[39m\u001b[39m\"\u001b[39m\u001b[39m%s\u001b[39;00m\u001b[39m\"\u001b[39m\u001b[39m]\u001b[39m\u001b[39m'\u001b[39m \u001b[39m%\u001b[39m value\n\u001b[1;32m--> 976\u001b[0m \u001b[39mreturn\u001b[39;00m \u001b[39mself\u001b[39;49m\u001b[39m.\u001b[39;49mexecute(Command\u001b[39m.\u001b[39;49mFIND_ELEMENT, {\n\u001b[0;32m    977\u001b[0m     \u001b[39m'\u001b[39;49m\u001b[39musing\u001b[39;49m\u001b[39m'\u001b[39;49m: by,\n\u001b[0;32m    978\u001b[0m     \u001b[39m'\u001b[39;49m\u001b[39mvalue\u001b[39;49m\u001b[39m'\u001b[39;49m: value})[\u001b[39m'\u001b[39m\u001b[39mvalue\u001b[39m\u001b[39m'\u001b[39m]\n",
      "File \u001b[1;32mc:\\Users\\82104\\Anaconda3\\lib\\site-packages\\selenium\\webdriver\\remote\\webdriver.py:321\u001b[0m, in \u001b[0;36mWebDriver.execute\u001b[1;34m(self, driver_command, params)\u001b[0m\n\u001b[0;32m    320\u001b[0m \u001b[39mif\u001b[39;00m response:\n\u001b[1;32m--> 321\u001b[0m     \u001b[39mself\u001b[39;49m\u001b[39m.\u001b[39;49merror_handler\u001b[39m.\u001b[39;49mcheck_response(response)\n\u001b[0;32m    322\u001b[0m     response[\u001b[39m'\u001b[39m\u001b[39mvalue\u001b[39m\u001b[39m'\u001b[39m] \u001b[39m=\u001b[39m \u001b[39mself\u001b[39m\u001b[39m.\u001b[39m_unwrap_value(\n\u001b[0;32m    323\u001b[0m         response\u001b[39m.\u001b[39mget(\u001b[39m'\u001b[39m\u001b[39mvalue\u001b[39m\u001b[39m'\u001b[39m, \u001b[39mNone\u001b[39;00m))\n",
      "File \u001b[1;32mc:\\Users\\82104\\Anaconda3\\lib\\site-packages\\selenium\\webdriver\\remote\\errorhandler.py:242\u001b[0m, in \u001b[0;36mErrorHandler.check_response\u001b[1;34m(self, response)\u001b[0m\n\u001b[0;32m    241\u001b[0m     \u001b[39mraise\u001b[39;00m exception_class(message, screen, stacktrace, alert_text)\n\u001b[1;32m--> 242\u001b[0m \u001b[39mraise\u001b[39;00m exception_class(message, screen, stacktrace)\n",
      "\u001b[1;31mNoSuchWindowException\u001b[0m: Message: no such window: target window already closed\nfrom unknown error: web view not found\n  (Session info: chrome=107.0.5304.107)\n",
      "\nDuring handling of the above exception, another exception occurred:\n",
      "\u001b[1;31mNoSuchWindowException\u001b[0m                     Traceback (most recent call last)",
      "\u001b[1;32mc:\\Users\\82104\\Python\\11월 파이썬\\고객데이터 수집\\고객데이터수집(naver_view)_1.ipynb Cell 10\u001b[0m in \u001b[0;36m<cell line: 14>\u001b[1;34m()\u001b[0m\n\u001b[0;32m     <a href='vscode-notebook-cell:/c%3A/Users/82104/Python/11%EC%9B%94%20%ED%8C%8C%EC%9D%B4%EC%8D%AC/%EA%B3%A0%EA%B0%9D%EB%8D%B0%EC%9D%B4%ED%84%B0%20%EC%88%98%EC%A7%91/%EA%B3%A0%EA%B0%9D%EB%8D%B0%EC%9D%B4%ED%84%B0%EC%88%98%EC%A7%91%28naver_view%29_1.ipynb#X12sZmlsZQ%3D%3D?line=38'>39</a>\u001b[0m     timeline \u001b[39m=\u001b[39m driver\u001b[39m.\u001b[39mfind_element(\u001b[39m\"\u001b[39m\u001b[39mxpath\u001b[39m\u001b[39m\"\u001b[39m, \u001b[39m\"\u001b[39m\u001b[39m//span[@class=\u001b[39m\u001b[39m'\u001b[39m\u001b[39mse_publishDate pcol2\u001b[39m\u001b[39m'\u001b[39m\u001b[39m]\u001b[39m\u001b[39m\"\u001b[39m) \u001b[39m#수정 안 한 경우\u001b[39;00m\n\u001b[0;32m     <a href='vscode-notebook-cell:/c%3A/Users/82104/Python/11%EC%9B%94%20%ED%8C%8C%EC%9D%B4%EC%8D%AC/%EA%B3%A0%EA%B0%9D%EB%8D%B0%EC%9D%B4%ED%84%B0%20%EC%88%98%EC%A7%91/%EA%B3%A0%EA%B0%9D%EB%8D%B0%EC%9D%B4%ED%84%B0%EC%88%98%EC%A7%91%28naver_view%29_1.ipynb#X12sZmlsZQ%3D%3D?line=40'>41</a>\u001b[0m \u001b[39mexcept\u001b[39;00m:\n\u001b[1;32m---> <a href='vscode-notebook-cell:/c%3A/Users/82104/Python/11%EC%9B%94%20%ED%8C%8C%EC%9D%B4%EC%8D%AC/%EA%B3%A0%EA%B0%9D%EB%8D%B0%EC%9D%B4%ED%84%B0%20%EC%88%98%EC%A7%91/%EA%B3%A0%EA%B0%9D%EB%8D%B0%EC%9D%B4%ED%84%B0%EC%88%98%EC%A7%91%28naver_view%29_1.ipynb#X12sZmlsZQ%3D%3D?line=41'>42</a>\u001b[0m     timeline \u001b[39m=\u001b[39m driver\u001b[39m.\u001b[39;49mfind_element(\u001b[39m\"\u001b[39;49m\u001b[39mxpath\u001b[39;49m\u001b[39m\"\u001b[39;49m, \u001b[39m\"\u001b[39;49m\u001b[39m//p[@class=\u001b[39;49m\u001b[39m'\u001b[39;49m\u001b[39mdate fil5 pcol2 _postAddDate\u001b[39;49m\u001b[39m'\u001b[39;49m\u001b[39m]\u001b[39;49m\u001b[39m\"\u001b[39;49m) \u001b[39m#수정 한 경우\u001b[39;00m\n\u001b[0;32m     <a href='vscode-notebook-cell:/c%3A/Users/82104/Python/11%EC%9B%94%20%ED%8C%8C%EC%9D%B4%EC%8D%AC/%EA%B3%A0%EA%B0%9D%EB%8D%B0%EC%9D%B4%ED%84%B0%20%EC%88%98%EC%A7%91/%EA%B3%A0%EA%B0%9D%EB%8D%B0%EC%9D%B4%ED%84%B0%EC%88%98%EC%A7%91%28naver_view%29_1.ipynb#X12sZmlsZQ%3D%3D?line=42'>43</a>\u001b[0m timeline \u001b[39m=\u001b[39m timeline\u001b[39m.\u001b[39mtext\n\u001b[0;32m     <a href='vscode-notebook-cell:/c%3A/Users/82104/Python/11%EC%9B%94%20%ED%8C%8C%EC%9D%B4%EC%8D%AC/%EA%B3%A0%EA%B0%9D%EB%8D%B0%EC%9D%B4%ED%84%B0%20%EC%88%98%EC%A7%91/%EA%B3%A0%EA%B0%9D%EB%8D%B0%EC%9D%B4%ED%84%B0%EC%88%98%EC%A7%91%28naver_view%29_1.ipynb#X12sZmlsZQ%3D%3D?line=44'>45</a>\u001b[0m \u001b[39mtry\u001b[39;00m:\n",
      "File \u001b[1;32mc:\\Users\\82104\\Anaconda3\\lib\\site-packages\\selenium\\webdriver\\remote\\webdriver.py:976\u001b[0m, in \u001b[0;36mWebDriver.find_element\u001b[1;34m(self, by, value)\u001b[0m\n\u001b[0;32m    974\u001b[0m         by \u001b[39m=\u001b[39m By\u001b[39m.\u001b[39mCSS_SELECTOR\n\u001b[0;32m    975\u001b[0m         value \u001b[39m=\u001b[39m \u001b[39m'\u001b[39m\u001b[39m[name=\u001b[39m\u001b[39m\"\u001b[39m\u001b[39m%s\u001b[39;00m\u001b[39m\"\u001b[39m\u001b[39m]\u001b[39m\u001b[39m'\u001b[39m \u001b[39m%\u001b[39m value\n\u001b[1;32m--> 976\u001b[0m \u001b[39mreturn\u001b[39;00m \u001b[39mself\u001b[39;49m\u001b[39m.\u001b[39;49mexecute(Command\u001b[39m.\u001b[39;49mFIND_ELEMENT, {\n\u001b[0;32m    977\u001b[0m     \u001b[39m'\u001b[39;49m\u001b[39musing\u001b[39;49m\u001b[39m'\u001b[39;49m: by,\n\u001b[0;32m    978\u001b[0m     \u001b[39m'\u001b[39;49m\u001b[39mvalue\u001b[39;49m\u001b[39m'\u001b[39;49m: value})[\u001b[39m'\u001b[39m\u001b[39mvalue\u001b[39m\u001b[39m'\u001b[39m]\n",
      "File \u001b[1;32mc:\\Users\\82104\\Anaconda3\\lib\\site-packages\\selenium\\webdriver\\remote\\webdriver.py:321\u001b[0m, in \u001b[0;36mWebDriver.execute\u001b[1;34m(self, driver_command, params)\u001b[0m\n\u001b[0;32m    319\u001b[0m response \u001b[39m=\u001b[39m \u001b[39mself\u001b[39m\u001b[39m.\u001b[39mcommand_executor\u001b[39m.\u001b[39mexecute(driver_command, params)\n\u001b[0;32m    320\u001b[0m \u001b[39mif\u001b[39;00m response:\n\u001b[1;32m--> 321\u001b[0m     \u001b[39mself\u001b[39;49m\u001b[39m.\u001b[39;49merror_handler\u001b[39m.\u001b[39;49mcheck_response(response)\n\u001b[0;32m    322\u001b[0m     response[\u001b[39m'\u001b[39m\u001b[39mvalue\u001b[39m\u001b[39m'\u001b[39m] \u001b[39m=\u001b[39m \u001b[39mself\u001b[39m\u001b[39m.\u001b[39m_unwrap_value(\n\u001b[0;32m    323\u001b[0m         response\u001b[39m.\u001b[39mget(\u001b[39m'\u001b[39m\u001b[39mvalue\u001b[39m\u001b[39m'\u001b[39m, \u001b[39mNone\u001b[39;00m))\n\u001b[0;32m    324\u001b[0m     \u001b[39mreturn\u001b[39;00m response\n",
      "File \u001b[1;32mc:\\Users\\82104\\Anaconda3\\lib\\site-packages\\selenium\\webdriver\\remote\\errorhandler.py:242\u001b[0m, in \u001b[0;36mErrorHandler.check_response\u001b[1;34m(self, response)\u001b[0m\n\u001b[0;32m    240\u001b[0m         alert_text \u001b[39m=\u001b[39m value[\u001b[39m'\u001b[39m\u001b[39malert\u001b[39m\u001b[39m'\u001b[39m]\u001b[39m.\u001b[39mget(\u001b[39m'\u001b[39m\u001b[39mtext\u001b[39m\u001b[39m'\u001b[39m)\n\u001b[0;32m    241\u001b[0m     \u001b[39mraise\u001b[39;00m exception_class(message, screen, stacktrace, alert_text)\n\u001b[1;32m--> 242\u001b[0m \u001b[39mraise\u001b[39;00m exception_class(message, screen, stacktrace)\n",
      "\u001b[1;31mNoSuchWindowException\u001b[0m: Message: no such window: target window already closed\nfrom unknown error: web view not found\n  (Session info: chrome=107.0.5304.107)\n"
     ]
    }
   ],
   "source": [
    "no_naver_blog1=[]\n",
    "\n",
    "start = time.time()\n",
    "\n",
    "\n",
    "time_list = [] #시간\n",
    "review_list = [] #리뷰\n",
    "comment_list = [] #댓글\n",
    "like_list = [] #좋아요수\n",
    "url_list = [] #url주소\n",
    "count = 0\n",
    "\n",
    "driver = webdriver.Chrome(executable_path=chorme_path, chrome_options=chrome_options) #크롬 드라이버 위치만 바꿔주시면 됩니다.\n",
    "for url in blog_url_list: #기본적으로 고치지 않으시지만, n번째 크롤링에서 멈췄다면, blog_url_list를 blog_url_list[n:]으로 고칩니다.\n",
    "    if 'naver' in url: #네이버 블로그만 수집(다른 사이트가 섞이면 크롤링 에러가 남)\n",
    "    \n",
    "        count += 1\n",
    "        driver.get(url) #url 하나씩 글을 수집할꺼야\n",
    "        time.sleep(1)\n",
    "\n",
    "        try:\n",
    "            # 전체 본문 가지고 와서\n",
    "            driver.switch_to.frame('mainFrame') #네이버는 mainFrame을 바꿔줘야 수집이 됌\n",
    "            time.sleep(1)\n",
    "        \n",
    "            soup = bs(driver.page_source, 'lxml') #뷰티풀숩을 이용해서 구문 분석(lxml 파싱 이용. 모든 테그에서 데이터를 추출위함)\n",
    "            postview = soup.find('div', attrs={'id': re.compile('post-view.+')}).get_text()\n",
    "\n",
    "            reg = re.compile(r'[\\s+]') #r은 raw string. \\s+는 공백문자\n",
    "            postview_reg = reg.sub(' ',postview) #공백을 띄어쓰기로 대치해서 본문 글 수집\n",
    "            try:\n",
    "                # 좋아요수\n",
    "                like = driver.find_element(\"xpath\", \"//span[@class='u_likeit_list_btn _button btn_sympathy pcol2 off']/em[@class='u_cnt _count']\")\n",
    "                like = like.text\n",
    "            except:\n",
    "                like = [] #좋아요 없으면 빈 리스트\n",
    "            \n",
    "            try:\n",
    "                timeline = driver.find_element(\"xpath\", \"//span[@class='se_publishDate pcol2']\") #수정 안 한 경우\n",
    "        \n",
    "            except:\n",
    "                timeline = driver.find_element(\"xpath\", \"//p[@class='date fil5 pcol2 _postAddDate']\") #수정 한 경우\n",
    "            timeline = timeline.text\n",
    "\n",
    "            try:\n",
    "                driver.find_element(By.CSS_SELECTOR,'span.btn_arr').click() #댓글 내리는 버튼(태그명.클래스선택자)\n",
    "                #driver.find_element_by_css_selector('span.btn_arr').click()\n",
    "                time.sleep(1.7)\n",
    "\n",
    "                comment_blog = []\n",
    "                comment = driver.find_element(By.CSS_SELECTOR,'span.u_cbox_contents') #댓글\n",
    "                #comment = driver.find_elements_by_css_selector('span.u_cbox_contents')\n",
    "                for i in comment: #댓글 수집\n",
    "                    com = str(i.text) #\n",
    "                    com = reg.sub(' ',com) \n",
    "                    comment_blog.append(([com]))\n",
    "            except: \n",
    "                comment_blog = []\n",
    "             \n",
    "            time_list.append(timeline)\n",
    "            review_list.append(postview_reg)\n",
    "            comment_list.append(comment_blog)\n",
    "            url_list.append(url)\n",
    "            like_list.append(like)\n",
    "            time.sleep(random.uniform(1,1.6))\n",
    "        except UnexpectedAlertPresentException:\n",
    "            pass\n",
    "    else:\n",
    "        no_naver_blog1.append(url)\n",
    "        print('네이버 블로그 아닌 url: ',url)\n",
    "        \n",
    "    if count%10 ==0:\n",
    "        print('{}개 블로그 크롤링 완료'.format(count))"
   ]
  },
  {
   "cell_type": "code",
   "execution_count": 21,
   "metadata": {},
   "outputs": [
    {
     "data": {
      "text/plain": [
       "333"
      ]
     },
     "execution_count": 21,
     "metadata": {},
     "output_type": "execute_result"
    }
   ],
   "source": [
    "len(time_list)"
   ]
  },
  {
   "cell_type": "code",
   "execution_count": 22,
   "metadata": {},
   "outputs": [
    {
     "name": "stdout",
     "output_type": "stream",
     "text": [
      "크롤링 소요 시간 :  1950.4929423332214\n",
      "총 334개 블로그 크롤링 완료.\n"
     ]
    },
    {
     "data": {
      "text/html": [
       "<div>\n",
       "<style scoped>\n",
       "    .dataframe tbody tr th:only-of-type {\n",
       "        vertical-align: middle;\n",
       "    }\n",
       "\n",
       "    .dataframe tbody tr th {\n",
       "        vertical-align: top;\n",
       "    }\n",
       "\n",
       "    .dataframe thead th {\n",
       "        text-align: right;\n",
       "    }\n",
       "</style>\n",
       "<table border=\"1\" class=\"dataframe\">\n",
       "  <thead>\n",
       "    <tr style=\"text-align: right;\">\n",
       "      <th></th>\n",
       "      <th>time</th>\n",
       "      <th>review</th>\n",
       "      <th>comment</th>\n",
       "      <th>like</th>\n",
       "      <th>url</th>\n",
       "    </tr>\n",
       "  </thead>\n",
       "  <tbody>\n",
       "    <tr>\n",
       "      <th>0</th>\n",
       "      <td>2021. 1. 1. 15:34</td>\n",
       "      <td>​                                      양  자  ...</td>\n",
       "      <td>[]</td>\n",
       "      <td>19</td>\n",
       "      <td>https://blog.naver.com/unheimlich1/222192547494</td>\n",
       "    </tr>\n",
       "    <tr>\n",
       "      <th>1</th>\n",
       "      <td>2021. 1. 1. 17:00</td>\n",
       "      <td>wish     2021 첫 위시글       눙이   ・  2021...</td>\n",
       "      <td>[]</td>\n",
       "      <td>[]</td>\n",
       "      <td>https://blog.naver.com/choisyzzz/222192606190</td>\n",
       "    </tr>\n",
       "    <tr>\n",
       "      <th>2</th>\n",
       "      <td>2021. 1. 1. 16:57</td>\n",
       "      <td>JeffGame     [JeffGame] 2021 맞이 덕질정리  ...</td>\n",
       "      <td>[]</td>\n",
       "      <td>4</td>\n",
       "      <td>https://blog.naver.com/san_i1002/222192604007</td>\n",
       "    </tr>\n",
       "    <tr>\n",
       "      <th>3</th>\n",
       "      <td>2021. 1. 1. 15:26</td>\n",
       "      <td>일상     2021년 롯데백화점 MVG 선정기준 / MVG-CROW...</td>\n",
       "      <td>[]</td>\n",
       "      <td>20</td>\n",
       "      <td>https://blog.naver.com/ajs7795/222192542424</td>\n",
       "    </tr>\n",
       "    <tr>\n",
       "      <th>4</th>\n",
       "      <td>2021. 1. 1. 13:48</td>\n",
       "      <td>블랙패션코디     [올블랙코디] 주인장의 코디 by theblack...</td>\n",
       "      <td>[]</td>\n",
       "      <td>[]</td>\n",
       "      <td>https://blog.naver.com/kahntata/222192481174</td>\n",
       "    </tr>\n",
       "    <tr>\n",
       "      <th>...</th>\n",
       "      <td>...</td>\n",
       "      <td>...</td>\n",
       "      <td>...</td>\n",
       "      <td>...</td>\n",
       "      <td>...</td>\n",
       "    </tr>\n",
       "    <tr>\n",
       "      <th>328</th>\n",
       "      <td>2021. 1. 1. 20:37</td>\n",
       "      <td>FASHION     [몬스터리퍼블릭] 컴파운드 메신저백 대학생 가방...</td>\n",
       "      <td>[]</td>\n",
       "      <td>24</td>\n",
       "      <td>https://blog.naver.com/kmsy01/222192817612</td>\n",
       "    </tr>\n",
       "    <tr>\n",
       "      <th>329</th>\n",
       "      <td>2021. 1. 1. 13:50</td>\n",
       "      <td>롬이옷장     20대 여자 가방 추천 / 유니크한 영국 브랜드 [ ...</td>\n",
       "      <td>[]</td>\n",
       "      <td>9</td>\n",
       "      <td>https://blog.naver.com/vmflstptm412/222192482625</td>\n",
       "    </tr>\n",
       "    <tr>\n",
       "      <th>330</th>\n",
       "      <td>2021. 1. 1. 9:00</td>\n",
       "      <td>글귀     다이어트 글귀 명언 자극받고 살빼자!        루시아...</td>\n",
       "      <td>[]</td>\n",
       "      <td>[]</td>\n",
       "      <td>https://blog.naver.com/rlacofls63/222190596795</td>\n",
       "    </tr>\n",
       "    <tr>\n",
       "      <th>331</th>\n",
       "      <td>2021. 1. 1. 10:15</td>\n",
       "      <td>Enter     진아름♥남궁민 결혼은 언제? 디스패치 1 1 열애설...</td>\n",
       "      <td>[]</td>\n",
       "      <td>[]</td>\n",
       "      <td>https://blog.naver.com/force_7/222192347985</td>\n",
       "    </tr>\n",
       "    <tr>\n",
       "      <th>332</th>\n",
       "      <td>2021. 1. 1. 20:35</td>\n",
       "      <td>패션정보     런온 5회 신세경 데님셔츠, 스커트, 블라우스, 가방...</td>\n",
       "      <td>[]</td>\n",
       "      <td>27</td>\n",
       "      <td>https://blog.naver.com/zziyo_s2/222192815039</td>\n",
       "    </tr>\n",
       "  </tbody>\n",
       "</table>\n",
       "<p>333 rows × 5 columns</p>\n",
       "</div>"
      ],
      "text/plain": [
       "                  time                                             review  \\\n",
       "0    2021. 1. 1. 15:34   ​                                      양  자  ...   \n",
       "1    2021. 1. 1. 17:00          wish     2021 첫 위시글       눙이   ・  2021...   \n",
       "2    2021. 1. 1. 16:57          JeffGame     [JeffGame] 2021 맞이 덕질정리  ...   \n",
       "3    2021. 1. 1. 15:26          일상     2021년 롯데백화점 MVG 선정기준 / MVG-CROW...   \n",
       "4    2021. 1. 1. 13:48          블랙패션코디     [올블랙코디] 주인장의 코디 by theblack...   \n",
       "..                 ...                                                ...   \n",
       "328  2021. 1. 1. 20:37          FASHION     [몬스터리퍼블릭] 컴파운드 메신저백 대학생 가방...   \n",
       "329  2021. 1. 1. 13:50          롬이옷장     20대 여자 가방 추천 / 유니크한 영국 브랜드 [ ...   \n",
       "330   2021. 1. 1. 9:00          글귀     다이어트 글귀 명언 자극받고 살빼자!        루시아...   \n",
       "331  2021. 1. 1. 10:15          Enter     진아름♥남궁민 결혼은 언제? 디스패치 1 1 열애설...   \n",
       "332  2021. 1. 1. 20:35          패션정보     런온 5회 신세경 데님셔츠, 스커트, 블라우스, 가방...   \n",
       "\n",
       "    comment like                                               url  \n",
       "0        []   19   https://blog.naver.com/unheimlich1/222192547494  \n",
       "1        []   []     https://blog.naver.com/choisyzzz/222192606190  \n",
       "2        []    4     https://blog.naver.com/san_i1002/222192604007  \n",
       "3        []   20       https://blog.naver.com/ajs7795/222192542424  \n",
       "4        []   []      https://blog.naver.com/kahntata/222192481174  \n",
       "..      ...  ...                                               ...  \n",
       "328      []   24        https://blog.naver.com/kmsy01/222192817612  \n",
       "329      []    9  https://blog.naver.com/vmflstptm412/222192482625  \n",
       "330      []   []    https://blog.naver.com/rlacofls63/222190596795  \n",
       "331      []   []       https://blog.naver.com/force_7/222192347985  \n",
       "332      []   27      https://blog.naver.com/zziyo_s2/222192815039  \n",
       "\n",
       "[333 rows x 5 columns]"
      ]
     },
     "execution_count": 22,
     "metadata": {},
     "output_type": "execute_result"
    }
   ],
   "source": [
    "data = {'time' : time_list,\n",
    "        'review' : review_list,\n",
    "        'comment' : comment_list,\n",
    "        'like' : like_list,\n",
    "        'url' : url_list}\n",
    "\n",
    "df = pd.DataFrame(data)\n",
    "print('크롤링 소요 시간 : ' , time.time()-start)\n",
    "print('총 {}개 블로그 크롤링 완료.'.format(count))\n",
    "df"
   ]
  },
  {
   "cell_type": "code",
   "execution_count": 23,
   "metadata": {},
   "outputs": [],
   "source": [
    "#csv 저장\n",
    "df.to_csv('패션.csv', encoding='utf-8-sig')"
   ]
  },
  {
   "cell_type": "code",
   "execution_count": null,
   "metadata": {},
   "outputs": [],
   "source": []
  }
 ],
 "metadata": {
  "kernelspec": {
   "display_name": "Python 3.9.12 ('base')",
   "language": "python",
   "name": "python3"
  },
  "language_info": {
   "codemirror_mode": {
    "name": "ipython",
    "version": 3
   },
   "file_extension": ".py",
   "mimetype": "text/x-python",
   "name": "python",
   "nbconvert_exporter": "python",
   "pygments_lexer": "ipython3",
   "version": "3.9.12"
  },
  "orig_nbformat": 4,
  "vscode": {
   "interpreter": {
    "hash": "4fb426db0f3ee2be9e5ab359abf5d058c2a19de96b4d6eda446b2c3017042fa6"
   }
  }
 },
 "nbformat": 4,
 "nbformat_minor": 2
}
