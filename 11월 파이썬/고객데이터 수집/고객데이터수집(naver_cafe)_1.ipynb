{
 "cells": [
  {
   "cell_type": "markdown",
   "id": "f195cad7",
   "metadata": {},
   "source": [
    "### 네이버 카페 크롤러"
   ]
  },
  {
   "cell_type": "code",
   "execution_count": 49,
   "id": "7e0ad48c",
   "metadata": {},
   "outputs": [],
   "source": [
    "# !pip install bs4\n",
    "# !pip install webdriver_manager\n",
    "# !pip install selenium==3.141.0\n",
    "# !pip install lxml"
   ]
  },
  {
   "cell_type": "code",
   "execution_count": 59,
   "id": "ae2f8b92",
   "metadata": {},
   "outputs": [],
   "source": [
    "from selenium import webdriver\n",
    "from webdriver_manager.chrome import ChromeDriverManager\n",
    "import pandas as pd\n",
    "import time\n",
    "from tqdm.notebook import tqdm\n",
    "from selenium.webdriver.common.keys import Keys\n",
    "from bs4 import BeautifulSoup as bs\n",
    "import requests as req\n",
    "from selenium.webdriver.common.action_chains import ActionChains\n",
    "import random\n",
    "# selenium 셋팅\n",
    "from selenium.webdriver.support.ui import WebDriverWait\n",
    "from selenium.webdriver.support import expected_conditions as EC\n",
    "from selenium.webdriver.chrome.options import Options\n",
    "from selenium.webdriver.common.by import By"
   ]
  },
  {
   "cell_type": "markdown",
   "id": "547cae05",
   "metadata": {},
   "source": [
    "### 네이버 로그인\n",
    "자동화된 크롬창을 실행시켜서 네이버 로그인 페이지 접속\n",
    "1.크롬드라이버 제어(크롬창 켜기)\n",
    "2.네이버 로그인(아이디 입력 -> 비밀번호 입력 -> 로그인 버튼 클릭 순서로 작업 진행)"
   ]
  },
  {
   "cell_type": "code",
   "execution_count": 52,
   "id": "dc5f6bad",
   "metadata": {},
   "outputs": [
    {
     "name": "stderr",
     "output_type": "stream",
     "text": [
      "C:\\Users\\82104\\AppData\\Local\\Temp\\ipykernel_13488\\2883741722.py:10: DeprecationWarning: use options instead of chrome_options\n",
      "  driver = webdriver.Chrome(executable_path=chorme_path, chrome_options=chrome_options)\n"
     ]
    }
   ],
   "source": [
    "#크롬드라이버 제어\n",
    "chrome_options = Options()\n",
    "chrome_options.add_argument('--no-sandbox')\n",
    "chrome_options.add_argument('--disable-dex-shm-usage')\n",
    "\n",
    "# 현재 컴큐터 크롬 드라이버 위치\n",
    "chorme_path = r\"C:\\Users\\82104\\Python\\11월 파이썬\\고객데이터 수집\\chromedriver.exe\" #본인의 크롬 드라이버 위치 입력\n",
    "\n",
    "# 자동화된 크롬 창 실행\n",
    "driver = webdriver.Chrome(executable_path=chorme_path, chrome_options=chrome_options)"
   ]
  },
  {
   "cell_type": "code",
   "execution_count": 53,
   "id": "0b0823f1",
   "metadata": {},
   "outputs": [],
   "source": [
    "#네이버 로그인 페이지 접속\n",
    "login_url = 'https://nid.naver.com/nidlogin.login?mode=form&url=https%3A%2F%2Fwww.naver.com'\n",
    "driver.get(login_url)\n",
    "driver.implicitly_wait(10)\n",
    "\n",
    "#본인의 아이디, 비밀번호를 각 변수에 저장\n",
    "my_id = 'shinwoejin'\n",
    "my_pw = 'tlsdnwls125!'\n",
    "\n",
    "#아이디, 비밀번호 입력 (네이버에 로그인 할 경우 'send_keys()' 함수가 아니라 'execute_script()' 사용)\n",
    "#네이버에서 send_key()를 쓰면 로그인에서 자동입력방지기능이 나타남.\n",
    "driver.execute_script(\"document.getElementsByName('id')[0].value = \\'\" + my_id + \"\\'\")\n",
    "driver.execute_script(\"document.getElementsByName('pw')[0].value = \\'\" + my_pw + \"\\'\")\n",
    "time.sleep(1)\n",
    "\n",
    "#'로그인'버튼 클릭\n",
    "driver.find_element('id','log.login').click()\n",
    "time.sleep(1)"
   ]
  },
  {
   "cell_type": "markdown",
   "id": "b9fafd5c",
   "metadata": {},
   "source": [
    "### 크롤링 할 카페 접속 및 원하는 게시판 클릭\n",
    "1. 카페접속\n",
    "- 로그인한 계정이 카페에 회원가입/등업조건 만족해야 합니다.\n",
    "2. 원하는 게시판 선택(클릭)\n",
    "- F12(개발자 도구)눌러 크롤링 대상 게시판의 선태가를 확인"
   ]
  },
  {
   "cell_type": "code",
   "execution_count": 54,
   "id": "0d84aa2a",
   "metadata": {},
   "outputs": [],
   "source": [
    "#카페 접속\n",
    "time.sleep(2)\n",
    "moms_url = 'https://cafe.naver.com/fashionsale' \n",
    "driver.get(moms_url)\n",
    "time.sleep(1)\n",
    "\n",
    "#원하는 게시판 클릭\n",
    "driver.find_element('xpath','//*[@id=\"menuLink37\"]').click() #게시판의 선택자 넣기\n",
    "time.sleep(1)\n",
    "\n",
    "#프레임 전환\n",
    "driver.switch_to.frame('cafe_main')\n",
    "time.sleep(1)"
   ]
  },
  {
   "cell_type": "markdown",
   "id": "9d25d6ab",
   "metadata": {},
   "source": [
    "### 게시물 크롤링\n",
    "1. 첫번째 게시물 클릭 - XPath 활용\n",
    "2. 크롤링할 개수 지정\n",
    "3. 크롤링"
   ]
  },
  {
   "cell_type": "code",
   "execution_count": 55,
   "id": "4038d82b",
   "metadata": {
    "scrolled": true
   },
   "outputs": [
    {
     "name": "stderr",
     "output_type": "stream",
     "text": [
      "C:\\Users\\82104\\AppData\\Local\\Temp\\ipykernel_13488\\2537969471.py:96: DeprecationWarning: use options instead of chrome_options\n",
      "  driver = webdriver.Chrome(executable_path=chorme_path, chrome_options=chrome_options)\n"
     ]
    },
    {
     "name": "stdout",
     "output_type": "stream",
     "text": [
      "50개 게시물 크롤링 완료\n"
     ]
    }
   ],
   "source": [
    "# 제목, 본문, 댓글, 시간 빈 리스트 생성\n",
    "titles = [] #제목\n",
    "reviews = [] #리뷰\n",
    "comments = [] #댓글\n",
    "date = [] #시간\n",
    "\n",
    "count_view = 0 \n",
    "\n",
    "# 1.첫번째 게시물 클릭(선택자 입력 : XPath)\n",
    "driver.find_element('xpath','//*[@id=\"main-area\"]/div[4]/table/tbody/tr[1]/td[1]/div[2]/div/a[1]').click()\n",
    "\n",
    "# 2.크롤링(for문으로 지정한 게시물 개수까지ㅣ 돌림)\n",
    "for i in range(2) : #새로 창 열기\n",
    "    for i in range(30) : #한 번에 몇 개의 게시물을 크롤링할 것인가\n",
    "        driver.implicitly_wait(30)\n",
    "        \n",
    "        #제목 수집\n",
    "        time.sleep(random.uniform(0.5,1))\n",
    "        title = driver.find_element('xpath', '//*[@id=\"app\"]/div/div/div[2]/div[1]/div[1]/div/h3').text\n",
    "        titles.append(title)\n",
    "        #본문 수집(3가지 경우 존재)\n",
    "        try:\n",
    "            content = driver.find_element(By.CSS_SELECTOR, 'div.se-module.se-module-text').text\n",
    "            reviews.append(content)\n",
    "        except:\n",
    "            try:\n",
    "                content = driver.find_element(By.CSS_SELECTOR,'div.ContentRenderer').text\n",
    "            except:\n",
    "                content = [] #본문이 사진으로만 구성된 경우\n",
    "                reviews.append(content)\n",
    "        #댓글 수집(댓글이 없는 경우, 댓글이 있는 경우 2가지 존재)\n",
    "        soup = bs(driver.page_source, 'lxml') #현재 페이지 HTML 정보 가지고 오기\n",
    "        iscomment = soup.find_all('span', class_='text_comment')\n",
    "        if len(iscomment) == 0 : #댓글이 없는 경우\n",
    "            box = []\n",
    "        else : #댓글이 있는 경우\n",
    "            WebDriverWait(driver,15).until(EC.presence_of_all_elements_located((By.CLASS_NAME, 'text_comment')) )\n",
    "                #웹 드라이버를 통해 브라우제서 최대 15초 기다려주고, text_comment(댓글 선택자)\n",
    "            \n",
    "            soup = bs(driver.page_source, 'lxml')\n",
    "            iscomment = soup.find_all('span', class_='text_comment')\n",
    "            box = []\n",
    "            for i in iscomment:\n",
    "                box.append([i.get_text()])\n",
    "        comments.append(box)\n",
    "        \n",
    "        #날짜 수집\n",
    "        times = driver.find_element('xpath', '//*[@id=\"app\"]/div/div/div[2]/div[1]/div[2]/div/div[2]/span[1]').text\n",
    "        date.append(times)\n",
    "        \n",
    "        #count_view 크롤링 진행상황 (50개마다 출력)\n",
    "        count_view = count_view + 1\n",
    "        if count_view % 50 == 0 : #50으로 나누었을때 0이 되면 게시물 크롤링 완료라고 뜨도록 설정\n",
    "            print('{}개 게시물 크롤링 완료'.format(count_view))\n",
    "            \n",
    "        else:\n",
    "            pass\n",
    "        \n",
    "        #다음 글 클릭(다음글 버튼 클릭해서 연속적으로 크롤링)\n",
    "        try:\n",
    "            driver.find_element(By.CSS_SELECTOR, '#app > div > div > div.ArticleTopBtns > div.right_area > a.BaseButton.btn_next.BaseButton--skinGray.size_default').click()\n",
    "            driver.implicitly_wait(25)\n",
    "        except: #다음글 버튼 사라지는 문제점 발생, 크롬 close 후 다시 open\n",
    "            current_url = driver.current_url #다음글 버튼이 사라져서 크롤링이 멈춘 url 가지고 오기\n",
    "            driver.close()\n",
    "            \n",
    "            #크롬창 다시 열기\n",
    "            driver = webdriver.Chrome(executable_path=chorme_path, chrome_options=chrome_options)\n",
    "\n",
    "            ##재로그인\n",
    "            #네이버 화면 이동\n",
    "            login_url = 'https://nid.naver.com/nidlogin.login?mode=form&url=https%3A%2F%2Fwww.naver.com'\n",
    "            driver.get(login_url)\n",
    "            driver.implicitly_wait(9)\n",
    "\n",
    "            driver.execute_script(\"document.getElementsByName('id')[0].value = \\'\" + my_id + \"\\'\")\n",
    "            driver.execute_script(\"document.getElementsByName('pw')[0].value = \\'\" + my_pw + \"\\'\")\n",
    "            time.sleep(1)\n",
    "\n",
    "            #'로그인'버튼 클릭\n",
    "            driver.find_element('id','log.login').click()\n",
    "            time.sleep(1)\n",
    "            \n",
    "            #멈춘 부분의 링크 가지고 오기\n",
    "            driver.get(current_url)\n",
    "            driver.switch_to.frame('cafe_main')\n",
    "            time.sleep(4)\n",
    "\n",
    "    # 크롬이 다시 열릴 때 가지고 올 다음 링크 가져오기 #다음글 클릭에 해당되는 href 추출 (url로 이동해야 하기 때문에)\n",
    "    link = driver.find_element('xpath','//*[@id=\"app\"]/div/div/div[1]/div[2]/a[2]').get_attribute('href')\n",
    "    \n",
    "    #현재 크롬창 닫기\n",
    "    driver.close()\n",
    "    \n",
    "    #크롬창 다시 열기\n",
    "    driver = webdriver.Chrome(executable_path=chorme_path, chrome_options=chrome_options)\n",
    "    \n",
    "    ##재로그인\n",
    "    #네이버 화면 이동\n",
    "    login_url = 'https://nid.naver.com/nidlogin.login?mode=form&url=https%3A%2F%2Fwww.naver.com'\n",
    "    driver.get(login_url)\n",
    "    driver.implicitly_wait(9)\n",
    "\n",
    "    driver.execute_script(\"document.getElementsByName('id')[0].value = \\'\" + my_id + \"\\'\")\n",
    "    driver.execute_script(\"document.getElementsByName('pw')[0].value = \\'\" + my_pw + \"\\'\")\n",
    "    time.sleep(1)\n",
    "\n",
    "    #'로그인'버튼 클릭\n",
    "    driver.find_element('id','log.login').click()\n",
    "    time.sleep(1)\n",
    "    \n",
    "    #다음 링크부터 가져오기\n",
    "    driver.get(link)\n",
    "    driver.switch_to.frame('cafe_main')\n",
    "    \n",
    "#크롬 창 닫기\n",
    "driver.quit()\n",
    "            "
   ]
  },
  {
   "cell_type": "code",
   "execution_count": 62,
   "id": "74a886d2",
   "metadata": {},
   "outputs": [
    {
     "name": "stdout",
     "output_type": "stream",
     "text": [
      "60\n",
      "60\n",
      "60\n",
      "60\n"
     ]
    }
   ],
   "source": [
    "#제목 리뷰 댓글이 잘 크롤링 되었는지 확인\n",
    "print(len(titles))\n",
    "print(len(reviews))\n",
    "print(len(comments))\n",
    "print(len(date))"
   ]
  },
  {
   "cell_type": "code",
   "execution_count": 69,
   "id": "6127b15f",
   "metadata": {},
   "outputs": [],
   "source": [
    "#데이터 합치기(크롤링한 데이터를 하나의 dataframe 형태로 바꾸기)\n",
    "data = {'time' : date,\n",
    "        'title' : titles,\n",
    "        'review' : reviews,\n",
    "        'comment' : comments}\n",
    "dataDF = pd.DataFrame(data)"
   ]
  },
  {
   "cell_type": "code",
   "execution_count": 70,
   "id": "a89302f1",
   "metadata": {},
   "outputs": [],
   "source": [
    "#csv로 저장\n",
    "dataDF.to_csv('패션사관학교.csv', encoding='utf-8-sig') #저장할 파일명.csv 입력 후 셀 실행"
   ]
  },
  {
   "cell_type": "code",
   "execution_count": null,
   "id": "c3c83ed5",
   "metadata": {},
   "outputs": [],
   "source": []
  },
  {
   "cell_type": "code",
   "execution_count": null,
   "id": "9789ee35",
   "metadata": {},
   "outputs": [],
   "source": []
  }
 ],
 "metadata": {
  "kernelspec": {
   "display_name": "Python 3 (ipykernel)",
   "language": "python",
   "name": "python3"
  },
  "language_info": {
   "codemirror_mode": {
    "name": "ipython",
    "version": 3
   },
   "file_extension": ".py",
   "mimetype": "text/x-python",
   "name": "python",
   "nbconvert_exporter": "python",
   "pygments_lexer": "ipython3",
   "version": "3.9.12"
  },
  "vscode": {
   "interpreter": {
    "hash": "4fb426db0f3ee2be9e5ab359abf5d058c2a19de96b4d6eda446b2c3017042fa6"
   }
  }
 },
 "nbformat": 4,
 "nbformat_minor": 5
}
