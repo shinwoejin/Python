{
 "cells": [
  {
   "cell_type": "markdown",
   "id": "f195cad7",
   "metadata": {},
   "source": [
    "### 네이버 카페 크롤러"
   ]
  },
  {
   "cell_type": "code",
   "execution_count": 35,
   "id": "7e0ad48c",
   "metadata": {},
   "outputs": [],
   "source": [
    "# !pip install bs4\n",
    "# !pip install webdriver_manager\n",
    "# !pip install selenium==3.141.0\n",
    "# !pip install lxml"
   ]
  },
  {
   "cell_type": "code",
   "execution_count": 36,
   "id": "ae2f8b92",
   "metadata": {},
   "outputs": [],
   "source": [
    "from selenium import webdriver\n",
    "from webdriver_manager.chrome import ChromeDriverManager\n",
    "import pandas as pd\n",
    "import time\n",
    "from tqdm.notebook import tqdm\n",
    "from selenium.webdriver.common.keys import Keys\n",
    "from bs4 import BeautifulSoup as bs\n",
    "import requests as req\n",
    "from selenium.webdriver.common.action_chains import ActionChains\n",
    "import random"
   ]
  },
  {
   "cell_type": "code",
   "execution_count": 37,
   "id": "29893f23",
   "metadata": {},
   "outputs": [],
   "source": [
    "# selenium 셋팅\n",
    "from selenium.webdriver.support.ui import WebDriverWait\n",
    "from selenium.webdriver.support import expected_conditions as EC\n",
    "from selenium.webdriver.chrome.options import Options\n",
    "from selenium.webdriver.common.by import By"
   ]
  },
  {
   "cell_type": "markdown",
   "id": "547cae05",
   "metadata": {},
   "source": [
    "### 네이버 로그인\n",
    "자동화된 크롬창을 실행시켜서 네이버 로그인 페이지 접속\n",
    "1.크롬드라이버 제어(크롬창 켜기)\n",
    "2.네이버 로그인(아이디 입력 -> 비밀번호 입력 -> 로그인 버튼 클릭 순서로 작업 진행)"
   ]
  },
  {
   "cell_type": "code",
   "execution_count": 38,
   "id": "dc5f6bad",
   "metadata": {},
   "outputs": [
    {
     "name": "stderr",
     "output_type": "stream",
     "text": [
      "C:\\Users\\82104\\AppData\\Local\\Temp\\ipykernel_13488\\2883741722.py:10: DeprecationWarning: use options instead of chrome_options\n",
      "  driver = webdriver.Chrome(executable_path=chorme_path, chrome_options=chrome_options)\n"
     ]
    }
   ],
   "source": [
    "#크롬드라이버 제어\n",
    "chrome_options = Options()\n",
    "chrome_options.add_argument('--no-sandbox')\n",
    "chrome_options.add_argument('--disable-dex-shm-usage')\n",
    "\n",
    "# 현재 컴큐터 크롬 드라이버 위치\n",
    "chorme_path = r\"C:\\Users\\82104\\Python\\11월 파이썬\\고객데이터 수집\\chromedriver.exe\" #본인의 크롬 드라이버 위치 입력\n",
    "\n",
    "# 자동화된 크롬 창 실행\n",
    "driver = webdriver.Chrome(executable_path=chorme_path, chrome_options=chrome_options)"
   ]
  },
  {
   "cell_type": "code",
   "execution_count": 39,
   "id": "0b0823f1",
   "metadata": {},
   "outputs": [],
   "source": [
    "#네이버 로그인 페이지 접속\n",
    "login_url = 'https://nid.naver.com/nidlogin.login?mode=form&url=https%3A%2F%2Fwww.naver.com'\n",
    "driver.get(login_url)\n",
    "driver.implicitly_wait(10)\n",
    "\n",
    "#본인의 아이디, 비밀번호를 각 변수에 저장\n",
    "my_id = 'shinwoejin'\n",
    "my_pw = 'tlsdnwls125!'\n",
    "\n",
    "#아이디, 비밀번호 입력 (네이버에 로그인 할 경우 'send_keys()' 함수가 아니라 'execute_script()' 사용)\n",
    "#네이버에서 send_key()를 쓰면 로그인에서 자동입력방지기능이 나타남.\n",
    "driver.execute_script(\"document.getElementsByName('id')[0].value = \\'\" + my_id + \"\\'\")\n",
    "driver.execute_script(\"document.getElementsByName('pw')[0].value = \\'\" + my_pw + \"\\'\")\n",
    "time.sleep(1)\n",
    "\n",
    "#'로그인'버튼 클릭\n",
    "driver.find_element('id','log.login').click()\n",
    "time.sleep(1)"
   ]
  },
  {
   "cell_type": "markdown",
   "id": "b9fafd5c",
   "metadata": {},
   "source": [
    "### 크롤링 할 카페 접속 및 원하는 게시판 클릭\n",
    "1. 카페접속\n",
    "- 로그인한 계정이 카페에 회원가입/등업조건 만족해야 합니다.\n",
    "2. 원하는 게시판 선택(클릭)\n",
    "- F12(개발자 도구)눌러 크롤링 대상 게시판의 선태가를 확인"
   ]
  },
  {
   "cell_type": "code",
   "execution_count": 40,
   "id": "0d84aa2a",
   "metadata": {},
   "outputs": [],
   "source": [
    "#카페 접속\n",
    "time.sleep(2)\n",
    "moms_url = 'https://cafe.naver.com/fashionsale' \n",
    "driver.get(moms_url)\n",
    "time.sleep(1)\n",
    "\n",
    "#원하는 게시판 클릭\n",
    "driver.find_element('xpath','//*[@id=\"menuLink37\"]').click() #게시판의 선택자 넣기\n",
    "time.sleep(1)\n",
    "\n",
    "#프레임 전환\n",
    "driver.switch_to.frame('cafe_main')\n",
    "time.sleep(1)"
   ]
  },
  {
   "cell_type": "markdown",
   "id": "9d25d6ab",
   "metadata": {},
   "source": [
    "### 게시물 크롤링\n",
    "1. 첫번째 게시물 클릭 - XPath 활용\n",
    "2. 크롤링할 개수 지정\n",
    "3. 크롤링"
   ]
  },
  {
   "cell_type": "code",
   "execution_count": 41,
   "id": "4038d82b",
   "metadata": {
    "scrolled": true
   },
   "outputs": [
    {
     "name": "stderr",
     "output_type": "stream",
     "text": [
      "C:\\Users\\82104\\AppData\\Local\\Temp\\ipykernel_13488\\3026927396.py:96: DeprecationWarning: use options instead of chrome_options\n",
      "  driver = webdriver.Chrome(executable_path=chorme_path, chrome_options=chrome_options)\n"
     ]
    },
    {
     "name": "stdout",
     "output_type": "stream",
     "text": [
      "50개 게시물 크롤링 완료\n"
     ]
    }
   ],
   "source": [
    "# 제목, 본문, 댓글, 시간 빈 리스트 생성\n",
    "titles = [] #제목\n",
    "reviews = [] #리뷰\n",
    "comments = [] #댓글\n",
    "date = [] #시간\n",
    "\n",
    "count_view = 0 \n",
    "\n",
    "# 1.첫번째 게시물 클릭(선택자 입력 : XPath)\n",
    "driver.find_element('xpath','//*[@id=\"main-area\"]/div[4]/table/tbody/tr[1]/td[1]/div[2]/div/a[1]').click()\n",
    "\n",
    "# 2.크롤링(for문으로 지정한 게시물 개수까지ㅣ 돌림)\n",
    "for i in range(2) : #새로 창 열기\n",
    "    for i in range(30) : #한 번에 몇 개의 게시물을 크롤링할 것인가\n",
    "        driver.implicitly_wait(30)\n",
    "        \n",
    "        #제목 수집\n",
    "        time.sleep(random.uniform(0.5,1))\n",
    "        title = driver.find_element('xpath', '//*[@id=\"app\"]/div/div/div[2]/div[1]/div[1]/div/h3').text\n",
    "        titles.append(title)\n",
    "        #본문 수집(3가지 경우 존재)\n",
    "        try:\n",
    "            content = driver.find_element(By.CSS_SELECTOR, 'div.se-module.se-module-text').text\n",
    "            reviews.append(content)\n",
    "        except:\n",
    "            try:\n",
    "                content = driver.find_element(By.CSS_SELECTOR,'div.ContentRenderer').text\n",
    "            except:\n",
    "                content = [] #본문이 사진으로만 구성된 경우\n",
    "                reviews.append(content)\n",
    "        #댓글 수집(댓글이 없는 경우, 댓글이 있는 경우 2가지 존재)\n",
    "        soup = bs(driver.page_source, 'lxml') #현재 페이지 HTML 정보 가지고 오기\n",
    "        iscomment = soup.find_all('span', class_='text_comment')\n",
    "        if len(iscomment) == 0 : #댓글이 없는 경우\n",
    "            box = []\n",
    "        else : #댓글이 있는 경우\n",
    "            WebDriverWait(driver,15).until(EC.presence_of_all_elements_located((By.CLASS_NAME, 'text_comment')) )\n",
    "                #웹 드라이버를 통해 브라우제서 최대 15초 기다려주고, text_comment(댓글 선택자)\n",
    "            \n",
    "            soup = bs(driver.page_source, 'lxml')\n",
    "            iscomment = soup.find_all('span', class_='text_comment')\n",
    "            box = []\n",
    "            for i in iscomment:\n",
    "                box.append([i.get_text()])\n",
    "        comments.append(box)\n",
    "        \n",
    "        #날짜 수집\n",
    "        times = driver.find_element('xpath', '//*[@id=\"app\"]/div/div/div[2]/div[1]/div[2]/div/div[2]/span[1]').text\n",
    "        date.append(times)\n",
    "        \n",
    "        #count_view 크롤링 진행상황 (50개마다 출력)\n",
    "        count_view = count_view + 1\n",
    "        if count_view % 50 == 0 : #50으로 나누었을때 0이 되면 게시물 크롤링 완료라고 뜨도록 설정\n",
    "            print('{}개 게시물 크롤링 완료'.format(count_view))\n",
    "            \n",
    "        else:\n",
    "            pass\n",
    "        \n",
    "        #다음 글 클릭(다음글 버튼 클릭해서 연속적으로 크롤링)\n",
    "        try:\n",
    "            driver.find_element(By.CSS_SELECTOR, '#app > div > div > div.ArticleTopBtns > div.right_area > a.BaseButton.btn_next.BaseButton--skinGray.size_default').click()\n",
    "            driver.implicitly_wait(25)\n",
    "        except: #다음글 버튼 사라지는 문제점 발생, 크롬 close 후 다시 open\n",
    "            current_url = driver.current_url #다음글 버튼이 사라져서 크롤링이 멈춘 url 가지고 오기\n",
    "            driver.close()\n",
    "            \n",
    "            #크롬창 다시 열기\n",
    "            driver = webdriver.Chrome(executable_path=chorme_path, chrome_options=chrome_options)\n",
    "\n",
    "            ##재로그인\n",
    "            #네이버 화면 이동\n",
    "            login_url = 'https://nid.naver.com/nidlogin.login?mode=form&url=https%3A%2F%2Fwww.naver.com'\n",
    "            driver.get(login_url)\n",
    "            driver.implicitly_wait(9)\n",
    "\n",
    "            driver.execute_script(\"document.getElementsByName('id')[0].value = \\'\" + my_id + \"\\'\")\n",
    "            driver.execute_script(\"document.getElementsByName('pw')[0].value = \\'\" + my_pw + \"\\'\")\n",
    "            time.sleep(1)\n",
    "\n",
    "            #'로그인'버튼 클릭\n",
    "            driver.find_element('id','log.login').click()\n",
    "            time.sleep(1)\n",
    "            \n",
    "            #멈춘 부분의 링크 가지고 오기\n",
    "            driver.get(current_url)\n",
    "            driver.switch_to.frame('cafe_main')\n",
    "            time.sleep(4)\n",
    "\n",
    "    # 크롬이 다시 열릴 때 가지고 올 다음 링크 가져오기 #다음글 클릭에 해당되는 href 추출 (url로 이동해야 하기 때문에)\n",
    "    link = driver.find_element('xpath','//*[@id=\"app\"]/div/div/div[1]/div[2]/a[2]').get_attribute('href')\n",
    "    \n",
    "    #현재 크롬창 닫기\n",
    "    driver.close()\n",
    "    \n",
    "    #크롬창 다시 열기\n",
    "    driver = webdriver.Chrome(executable_path=chorme_path, chrome_options=chrome_options)\n",
    "    \n",
    "    ##재로그인\n",
    "    #네이버 화면 이동\n",
    "    login_url = 'https://nid.naver.com/nidlogin.login?mode=form&url=https%3A%2F%2Fwww.naver.com'\n",
    "    driver.get(login_url)\n",
    "    driver.implicitly_wait(9)\n",
    "\n",
    "    driver.execute_script(\"document.getElementsByName('id')[0].value = \\'\" + my_id + \"\\'\")\n",
    "    driver.execute_script(\"document.getElementsByName('pw')[0].value = \\'\" + my_pw + \"\\'\")\n",
    "    time.sleep(1)\n",
    "\n",
    "    #'로그인'버튼 클릭\n",
    "    driver.find_element('id','log.login').click()\n",
    "    time.sleep(1)\n",
    "    \n",
    "    #다음 링크부터 가져오기\n",
    "    driver.get(link)\n",
    "    driver.switch_to.frame('cafe_main')\n",
    "    \n",
    "#크롬 창 닫기\n",
    "driver.quit()\n",
    "            "
   ]
  },
  {
   "cell_type": "code",
   "execution_count": 42,
   "id": "74a886d2",
   "metadata": {},
   "outputs": [
    {
     "name": "stdout",
     "output_type": "stream",
     "text": [
      "['연휴 끝', '오늘 저녁은 또 뭐먹을까여 ㅠ', 'GS25 신발튀김 정품 문의 보셨나요?? (feat. 번장)', '2022 서울 재즈 페스티벌 약간 늦은 후기', '벚꽃이 활짝 폈네요~', '저녁으로 갈비 땡겨요 ㅎㅎ', '오늘은 놀러 가고 싶은 날이에요 ㅎㅎ', '아직 봄은 아닌가 봐요 ㅋㅋ', '코로나 확진후 복귀했습니다..ㅎ', '카페 등급이 자꾸 떨어지기만 해서...눙물이..', '성수나들이 데일리', '치킨 정말 잘 먹었습니다!! 감사합니다🙏', '헬린이 식단', '안주로 뭘먹을지~~', '설 저녁', '굽네치킨 이벤트', '조명 샀는데 크기조절 실패', '송리단길 피자네버슬립스, 오린지 카페, 히사이시 조 연주회 다녀왔습니다', '이번 크리스마스는 화이트 크리스마스일까요?', '연남동 대충 유원지를 다녀왔습니다', '근황 및 요즘 즐기는 것들', '환기할때 패딩입고 ~~', '드디어 금요일이네요!', '주말 결혼식 있는데 ㅜㅜ', '빵에 빠진 저는 오늘도..빵을 먹습니다 ㅋㅋㅋ', '모더나 2차 내일 맞아요', '고민하다 결국 샀네요..ㅋㅋㅋㅋ', '주말이 끝나면서..', '귀여운 냥이 보고 왔어요🐱', '드디어 시작하네요!', '모더나 2치맞으신분 계신가요?', '주말 마무리 잘하세요!', '어느새 저녁 먹을 시간', '오늘저녁뭐?', '오저뭐', '사실상 3,4위전', '오늘 할로윈데이네요?', '이 노래 아시나요?', '공범 완결났네요', '어제 홍대 갔다오고 느낀 점', '여러분들은 어떤 취미 있으신가요? (패션,쇼핑 제외)', '와 삼쏘하느라 못봣는데', 'T1 vs 담원 3세트 역대급이네요', '다들 치킨 시키셨나요?', '기대되는 오늘의 매치 : 토트넘 vs 맨유', '주말이네여!', '내일 홍대 갑니다~', '불금이니 칼퇴🔥🔥', '치킨을 시켰지만..', '그러니 오늘 저녁은', '배민1 할인쿠폰 4천원 주네요', '이제 슬 캐롤 듣는 중입니다ㅎㅎ', '남자는 가방 악세서리가 참 힘든 것 같아요', '저는 월말이 싫어요..', '야식타임', '와 파이트클럽 꿀잼이네요', '성시경씨 목소리 너무 좋습니다,,,', '그날입니다! 네이버플러스 멤버십데이💙', '월요일의 쇼핑', '오늘의 야식']\n"
     ]
    }
   ],
   "source": [
    "print(titles)"
   ]
  },
  {
   "cell_type": "code",
   "execution_count": 43,
   "id": "90268275",
   "metadata": {},
   "outputs": [
    {
     "name": "stdout",
     "output_type": "stream",
     "text": [
      "60\n"
     ]
    }
   ],
   "source": [
    "print(len(titles))"
   ]
  },
  {
   "cell_type": "code",
   "execution_count": 48,
   "id": "6127b15f",
   "metadata": {},
   "outputs": [
    {
     "name": "stdout",
     "output_type": "stream",
     "text": [
      "[<selenium.webdriver.remote.webelement.WebElement (session=\"4e5fb382002254dcbc984775d42a662f\", element=\"59b6a126-55ce-447b-b62b-e99d42139756\")>, <selenium.webdriver.remote.webelement.WebElement (session=\"4e5fb382002254dcbc984775d42a662f\", element=\"c2415987-94ab-497b-9b78-ee57d457b5bb\")>, <selenium.webdriver.remote.webelement.WebElement (session=\"4e5fb382002254dcbc984775d42a662f\", element=\"39e73017-605c-413b-bb8d-2d3ff103d341\")>, <selenium.webdriver.remote.webelement.WebElement (session=\"4e5fb382002254dcbc984775d42a662f\", element=\"3a1d5cad-c984-4665-a084-8d048fef5edf\")>, <selenium.webdriver.remote.webelement.WebElement (session=\"4e5fb382002254dcbc984775d42a662f\", element=\"f1796a4d-5b2e-47a7-a440-8c72a9abe0cf\")>, <selenium.webdriver.remote.webelement.WebElement (session=\"4e5fb382002254dcbc984775d42a662f\", element=\"c76356cc-0747-4eb9-830e-c39750571198\")>, <selenium.webdriver.remote.webelement.WebElement (session=\"4e5fb382002254dcbc984775d42a662f\", element=\"0af38900-d069-46d3-9483-2218b5ca3a08\")>, <selenium.webdriver.remote.webelement.WebElement (session=\"4e5fb382002254dcbc984775d42a662f\", element=\"5a19e8b4-dce5-41cd-8d1f-b87d7473e7a7\")>, <selenium.webdriver.remote.webelement.WebElement (session=\"4e5fb382002254dcbc984775d42a662f\", element=\"734d1ef0-8560-4ca7-94fe-38f5ae6773c0\")>, <selenium.webdriver.remote.webelement.WebElement (session=\"4e5fb382002254dcbc984775d42a662f\", element=\"5cc61261-3eaf-434c-9b13-71a2dc562fd6\")>, <selenium.webdriver.remote.webelement.WebElement (session=\"4e5fb382002254dcbc984775d42a662f\", element=\"05093699-9165-4f4c-971e-79058bedc1e6\")>, <selenium.webdriver.remote.webelement.WebElement (session=\"4e5fb382002254dcbc984775d42a662f\", element=\"155521be-84bc-4f72-963d-53d5d12d11e2\")>, <selenium.webdriver.remote.webelement.WebElement (session=\"4e5fb382002254dcbc984775d42a662f\", element=\"1a32f3b1-82c9-4274-ac13-e7668d610afd\")>, <selenium.webdriver.remote.webelement.WebElement (session=\"4e5fb382002254dcbc984775d42a662f\", element=\"8f73c78e-9863-4f82-bc63-f4999eb48ff7\")>, <selenium.webdriver.remote.webelement.WebElement (session=\"4e5fb382002254dcbc984775d42a662f\", element=\"9f07ef7a-b3fa-4287-a6dc-a0d4a2e24d71\")>, <selenium.webdriver.remote.webelement.WebElement (session=\"4e5fb382002254dcbc984775d42a662f\", element=\"4011dc84-4e8f-49aa-bf6a-b74fadb07e19\")>, <selenium.webdriver.remote.webelement.WebElement (session=\"4e5fb382002254dcbc984775d42a662f\", element=\"c0898ac0-9509-4d8d-a6ce-3569c6524c7a\")>, <selenium.webdriver.remote.webelement.WebElement (session=\"4e5fb382002254dcbc984775d42a662f\", element=\"6220afb2-a325-475d-8d18-e5d13f279c75\")>, <selenium.webdriver.remote.webelement.WebElement (session=\"4e5fb382002254dcbc984775d42a662f\", element=\"94aaae9d-3a07-436c-b8ee-69e1b22d44bd\")>, <selenium.webdriver.remote.webelement.WebElement (session=\"4e5fb382002254dcbc984775d42a662f\", element=\"798cd8ab-1782-4d38-83e6-a9162881bd07\")>, <selenium.webdriver.remote.webelement.WebElement (session=\"4e5fb382002254dcbc984775d42a662f\", element=\"ecb32151-d092-4812-ab79-4b87d0ccd275\")>, <selenium.webdriver.remote.webelement.WebElement (session=\"4e5fb382002254dcbc984775d42a662f\", element=\"ce71ad6b-3e34-49b0-8014-306b883b3a0f\")>, <selenium.webdriver.remote.webelement.WebElement (session=\"4e5fb382002254dcbc984775d42a662f\", element=\"e716f4bb-b73e-4aab-b24b-3ed2e4c09ee9\")>, <selenium.webdriver.remote.webelement.WebElement (session=\"4e5fb382002254dcbc984775d42a662f\", element=\"ab9ed1b6-bf88-4749-8c25-d059793c893d\")>, <selenium.webdriver.remote.webelement.WebElement (session=\"4e5fb382002254dcbc984775d42a662f\", element=\"f557dbc3-fa9b-4111-9f5b-95d92062df5b\")>, <selenium.webdriver.remote.webelement.WebElement (session=\"4e5fb382002254dcbc984775d42a662f\", element=\"8b127580-6d99-470c-9cb2-f937ee89b339\")>, <selenium.webdriver.remote.webelement.WebElement (session=\"4e5fb382002254dcbc984775d42a662f\", element=\"8a68eb43-3c3f-4fec-a514-bb832ad4588e\")>, <selenium.webdriver.remote.webelement.WebElement (session=\"4e5fb382002254dcbc984775d42a662f\", element=\"f753f6f8-8fff-487c-bef7-602a5bd9ec62\")>, <selenium.webdriver.remote.webelement.WebElement (session=\"4e5fb382002254dcbc984775d42a662f\", element=\"881c7cda-aa29-4564-9db5-700e8891e64a\")>, <selenium.webdriver.remote.webelement.WebElement (session=\"4e5fb382002254dcbc984775d42a662f\", element=\"ccb73411-337e-42a7-ad79-7367184bfaa1\")>, <selenium.webdriver.remote.webelement.WebElement (session=\"87bec9e1a079c963c658d9ceaf1a2013\", element=\"6c8e4c78-8735-4fb2-963d-498d2dbeec98\")>, <selenium.webdriver.remote.webelement.WebElement (session=\"87bec9e1a079c963c658d9ceaf1a2013\", element=\"a6e8cab0-b856-4965-a48e-b83a875da444\")>, <selenium.webdriver.remote.webelement.WebElement (session=\"87bec9e1a079c963c658d9ceaf1a2013\", element=\"147b01c2-3f8e-419e-819e-68835bce1d8c\")>, <selenium.webdriver.remote.webelement.WebElement (session=\"87bec9e1a079c963c658d9ceaf1a2013\", element=\"81b89770-4935-4fe0-98ed-c392c58fc58a\")>, <selenium.webdriver.remote.webelement.WebElement (session=\"87bec9e1a079c963c658d9ceaf1a2013\", element=\"ea7ca66b-7885-4c6b-9b32-92e779fd406d\")>, <selenium.webdriver.remote.webelement.WebElement (session=\"87bec9e1a079c963c658d9ceaf1a2013\", element=\"a36256b9-fc0b-46a8-9677-23c6ca0c0ef4\")>, <selenium.webdriver.remote.webelement.WebElement (session=\"87bec9e1a079c963c658d9ceaf1a2013\", element=\"9276802e-c7c5-4128-9bf2-a7705314e626\")>, <selenium.webdriver.remote.webelement.WebElement (session=\"87bec9e1a079c963c658d9ceaf1a2013\", element=\"f9cbf795-639b-4d95-91ad-35f12dfa6b2f\")>, <selenium.webdriver.remote.webelement.WebElement (session=\"87bec9e1a079c963c658d9ceaf1a2013\", element=\"a21a1ae6-f38d-4b87-9c08-fe0b5940a0b4\")>, <selenium.webdriver.remote.webelement.WebElement (session=\"87bec9e1a079c963c658d9ceaf1a2013\", element=\"5385259e-96d5-46ad-80b4-4e316132212e\")>, <selenium.webdriver.remote.webelement.WebElement (session=\"87bec9e1a079c963c658d9ceaf1a2013\", element=\"ea090c8e-6508-405d-ad45-166346f3b7c8\")>, <selenium.webdriver.remote.webelement.WebElement (session=\"87bec9e1a079c963c658d9ceaf1a2013\", element=\"df7a1398-8acd-46be-b64d-252c5cdf847b\")>, <selenium.webdriver.remote.webelement.WebElement (session=\"87bec9e1a079c963c658d9ceaf1a2013\", element=\"f49b09e3-39dc-4e16-bb5a-333e8b736c32\")>, <selenium.webdriver.remote.webelement.WebElement (session=\"87bec9e1a079c963c658d9ceaf1a2013\", element=\"c69278b0-8425-425a-9f3e-1047f5dc7269\")>, <selenium.webdriver.remote.webelement.WebElement (session=\"87bec9e1a079c963c658d9ceaf1a2013\", element=\"dfa1f679-a59e-45b6-90a3-cd3a2fc487e7\")>, <selenium.webdriver.remote.webelement.WebElement (session=\"87bec9e1a079c963c658d9ceaf1a2013\", element=\"0c4d3d71-45ac-4d24-a735-1aa6e39a7e7e\")>, <selenium.webdriver.remote.webelement.WebElement (session=\"87bec9e1a079c963c658d9ceaf1a2013\", element=\"8e2058ca-38cd-4610-89b8-d871ec4a49ac\")>, <selenium.webdriver.remote.webelement.WebElement (session=\"87bec9e1a079c963c658d9ceaf1a2013\", element=\"6f1ea202-853e-4244-bfb9-72b11f85a2d9\")>, <selenium.webdriver.remote.webelement.WebElement (session=\"87bec9e1a079c963c658d9ceaf1a2013\", element=\"5f2e39b6-c75e-49bc-a410-759da31db0c0\")>, <selenium.webdriver.remote.webelement.WebElement (session=\"87bec9e1a079c963c658d9ceaf1a2013\", element=\"facb9ae9-2b9d-4cc0-962c-8c382544baa5\")>, <selenium.webdriver.remote.webelement.WebElement (session=\"87bec9e1a079c963c658d9ceaf1a2013\", element=\"814a012a-94a9-48aa-8306-1afb4532536a\")>, <selenium.webdriver.remote.webelement.WebElement (session=\"87bec9e1a079c963c658d9ceaf1a2013\", element=\"79a2bbba-a6b0-42bf-930d-1cf4b329364d\")>, <selenium.webdriver.remote.webelement.WebElement (session=\"87bec9e1a079c963c658d9ceaf1a2013\", element=\"fdb15339-d4e8-406d-b9a9-18ac6721aca6\")>, <selenium.webdriver.remote.webelement.WebElement (session=\"87bec9e1a079c963c658d9ceaf1a2013\", element=\"18648ce6-af1b-4b43-854e-b5a68bf30bd6\")>, <selenium.webdriver.remote.webelement.WebElement (session=\"87bec9e1a079c963c658d9ceaf1a2013\", element=\"b775e07d-9bd3-4c01-8561-690a67408db7\")>, <selenium.webdriver.remote.webelement.WebElement (session=\"87bec9e1a079c963c658d9ceaf1a2013\", element=\"50ec6fcf-8996-400f-aaea-d9075a41eb3c\")>, <selenium.webdriver.remote.webelement.WebElement (session=\"87bec9e1a079c963c658d9ceaf1a2013\", element=\"3283e717-6d9a-4cf7-a2fd-5da3b3a194bc\")>, <selenium.webdriver.remote.webelement.WebElement (session=\"87bec9e1a079c963c658d9ceaf1a2013\", element=\"8f34ebba-05f8-4f14-9d05-1f37804b2f32\")>, <selenium.webdriver.remote.webelement.WebElement (session=\"87bec9e1a079c963c658d9ceaf1a2013\", element=\"c289b5bf-a731-4df6-b5b3-afba96621b1f\")>, <selenium.webdriver.remote.webelement.WebElement (session=\"87bec9e1a079c963c658d9ceaf1a2013\", element=\"95535418-73d8-41d7-8508-65d6fa0e4281\")>]\n"
     ]
    }
   ],
   "source": [
    "print(reviews)"
   ]
  },
  {
   "cell_type": "code",
   "execution_count": null,
   "id": "a89302f1",
   "metadata": {},
   "outputs": [],
   "source": []
  },
  {
   "cell_type": "code",
   "execution_count": null,
   "id": "c3c83ed5",
   "metadata": {},
   "outputs": [],
   "source": []
  },
  {
   "cell_type": "code",
   "execution_count": null,
   "id": "9789ee35",
   "metadata": {},
   "outputs": [],
   "source": []
  }
 ],
 "metadata": {
  "kernelspec": {
   "display_name": "Python 3 (ipykernel)",
   "language": "python",
   "name": "python3"
  },
  "language_info": {
   "codemirror_mode": {
    "name": "ipython",
    "version": 3
   },
   "file_extension": ".py",
   "mimetype": "text/x-python",
   "name": "python",
   "nbconvert_exporter": "python",
   "pygments_lexer": "ipython3",
   "version": "3.9.12"
  },
  "vscode": {
   "interpreter": {
    "hash": "4fb426db0f3ee2be9e5ab359abf5d058c2a19de96b4d6eda446b2c3017042fa6"
   }
  }
 },
 "nbformat": 4,
 "nbformat_minor": 5
}
