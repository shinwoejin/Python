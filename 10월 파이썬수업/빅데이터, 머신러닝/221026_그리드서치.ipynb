{
 "cells": [
  {
   "cell_type": "markdown",
   "id": "aaebb2ca",
   "metadata": {},
   "source": [
    "### 1.목적\n",
    "- iris 데이터를 활용하여 그리드서치를 적용"
   ]
  },
  {
   "cell_type": "code",
   "execution_count": 1,
   "id": "4e7a6007",
   "metadata": {},
   "outputs": [],
   "source": [
    "import warnings\n",
    "warnings.filterwarnings('ignore')"
   ]
  },
  {
   "cell_type": "code",
   "execution_count": 2,
   "id": "caab196e",
   "metadata": {},
   "outputs": [],
   "source": [
    "import pandas as pd\n",
    "import numpy as np\n",
    "from sklearn.datasets import load_iris\n",
    "from sklearn.tree import DecisionTreeClassifier\n",
    "from sklearn.model_selection import train_test_split\n",
    "from sklearn.model_selection import GridSearchCV\n",
    "from sklearn.preprocessing import StandardScaler\n",
    "from sklearn.svm import SVC"
   ]
  },
  {
   "cell_type": "markdown",
   "id": "1aaabc79",
   "metadata": {},
   "source": [
    "### 2.데이터 수집"
   ]
  },
  {
   "cell_type": "code",
   "execution_count": 3,
   "id": "89e3515c",
   "metadata": {},
   "outputs": [],
   "source": [
    "iris = load_iris()"
   ]
  },
  {
   "cell_type": "code",
   "execution_count": 4,
   "id": "a896d560",
   "metadata": {},
   "outputs": [],
   "source": [
    "x = iris.data\n",
    "y = iris.target"
   ]
  },
  {
   "cell_type": "markdown",
   "id": "b66794bc",
   "metadata": {},
   "source": [
    "### 3.데이터 전처리"
   ]
  },
  {
   "cell_type": "code",
   "execution_count": 5,
   "id": "56e130b8",
   "metadata": {},
   "outputs": [],
   "source": [
    "#train, test 데이터를 나누지 않을 경우\n",
    "#스케일러\n",
    "#학습\n",
    "#데이터변환\n",
    "scaler = StandardScaler()\n",
    "scaler.fit(x)\n",
    "x_scaler = scaler.transform(x)"
   ]
  },
  {
   "cell_type": "code",
   "execution_count": 6,
   "id": "70a38b87",
   "metadata": {},
   "outputs": [],
   "source": [
    "# scaler = StandardScaler()\n",
    "# x_scaled = scaler.fit_transform(x)"
   ]
  },
  {
   "cell_type": "code",
   "execution_count": 7,
   "id": "e24ff159",
   "metadata": {},
   "outputs": [],
   "source": [
    "# x_train, x_test, y_train, y_test = train_test_split(x, y,\n",
    "#                                                     random_state=0)\n",
    "# scaler = StandardScaler(x_train)\n",
    "# scaler.fit(x_train)\n",
    "# x_train_scaled = scaler.transform(x_train)\n",
    "# x_test_scaled = scaler.transform(x_test)"
   ]
  },
  {
   "cell_type": "code",
   "execution_count": 8,
   "id": "300285ea",
   "metadata": {},
   "outputs": [],
   "source": [
    "# scaler = StandardScaler(x_train)\n",
    "# x_train_scaled = scaler.fit_transform(x_train)\n",
    "# x_test_scaled = scaler.transform(x_test)"
   ]
  },
  {
   "cell_type": "code",
   "execution_count": 9,
   "id": "0ac0f472",
   "metadata": {},
   "outputs": [
    {
     "ename": "NameError",
     "evalue": "name 'x_scaled' is not defined",
     "output_type": "error",
     "traceback": [
      "\u001b[1;31m---------------------------------------------------------------------------\u001b[0m",
      "\u001b[1;31mNameError\u001b[0m                                 Traceback (most recent call last)",
      "\u001b[1;32mc:\\Users\\82104\\Python\\10월 파이썬수업\\빅데이터, 머신러닝\\221026_그리드서치.ipynb Cell 12\u001b[0m in \u001b[0;36m<cell line: 1>\u001b[1;34m()\u001b[0m\n\u001b[1;32m----> <a href='vscode-notebook-cell:/c%3A/Users/82104/Python/10%EC%9B%94%20%ED%8C%8C%EC%9D%B4%EC%8D%AC%EC%88%98%EC%97%85/%EB%B9%85%EB%8D%B0%EC%9D%B4%ED%84%B0%2C%20%EB%A8%B8%EC%8B%A0%EB%9F%AC%EB%8B%9D/221026_%EA%B7%B8%EB%A6%AC%EB%93%9C%EC%84%9C%EC%B9%98.ipynb#X14sZmlsZQ%3D%3D?line=0'>1</a>\u001b[0m x_train, x_test, y_train, y_test \u001b[39m=\u001b[39m train_test_split(x_scaled, y,\n\u001b[0;32m      <a href='vscode-notebook-cell:/c%3A/Users/82104/Python/10%EC%9B%94%20%ED%8C%8C%EC%9D%B4%EC%8D%AC%EC%88%98%EC%97%85/%EB%B9%85%EB%8D%B0%EC%9D%B4%ED%84%B0%2C%20%EB%A8%B8%EC%8B%A0%EB%9F%AC%EB%8B%9D/221026_%EA%B7%B8%EB%A6%AC%EB%93%9C%EC%84%9C%EC%B9%98.ipynb#X14sZmlsZQ%3D%3D?line=1'>2</a>\u001b[0m                                                     random_state\u001b[39m=\u001b[39m\u001b[39m0\u001b[39m)\n",
      "\u001b[1;31mNameError\u001b[0m: name 'x_scaled' is not defined"
     ]
    }
   ],
   "source": [
    "x_train, x_test, y_train, y_test = train_test_split(x_scaled, y,\n",
    "                                                    random_state=0)"
   ]
  },
  {
   "cell_type": "code",
   "execution_count": null,
   "id": "acadd60b",
   "metadata": {},
   "outputs": [
    {
     "name": "stdout",
     "output_type": "stream",
     "text": [
      "(112, 4)\n",
      "(112,)\n",
      "(38, 4)\n",
      "(38,)\n"
     ]
    }
   ],
   "source": [
    "print(x_train.shape)\n",
    "print(y_train.shape)\n",
    "print(x_test.shape)\n",
    "print(y_test.shape)"
   ]
  },
  {
   "cell_type": "markdown",
   "id": "de31b27d",
   "metadata": {},
   "source": [
    "### 4.EDA"
   ]
  },
  {
   "cell_type": "markdown",
   "id": "05627443",
   "metadata": {},
   "source": [
    "#### 5-7.모델링(모델선택, 학습, 평가)"
   ]
  },
  {
   "cell_type": "code",
   "execution_count": null,
   "id": "5467caee",
   "metadata": {},
   "outputs": [],
   "source": [
    "#knn\n",
    "param_knn = {'n_neighbors' : range(1,10)}"
   ]
  },
  {
   "cell_type": "code",
   "execution_count": null,
   "id": "51126748",
   "metadata": {},
   "outputs": [],
   "source": [
    "from sklearn.neighbors import KNeighborsClassifier\n",
    "\n",
    "\n",
    "knn = GridSearchCV(KNeighborsClassifier(),\n",
    "                   param_knn, cv=5)"
   ]
  },
  {
   "cell_type": "code",
   "execution_count": null,
   "id": "816efd21",
   "metadata": {},
   "outputs": [
    {
     "data": {
      "text/plain": [
       "GridSearchCV(cv=5, estimator=KNeighborsClassifier(),\n",
       "             param_grid={'n_neighbors': range(1, 10)})"
      ]
     },
     "execution_count": 20,
     "metadata": {},
     "output_type": "execute_result"
    }
   ],
   "source": [
    "knn.fit(x_scaled, y)"
   ]
  },
  {
   "cell_type": "code",
   "execution_count": null,
   "id": "83ba035e",
   "metadata": {},
   "outputs": [
    {
     "name": "stdout",
     "output_type": "stream",
     "text": [
      "최적의 파라미터 :  {'n_neighbors': 6}\n",
      "최고 교차 검증 점수 :  0.9666666666666668\n",
      "최고 성능 모델 :  KNeighborsClassifier(n_neighbors=6)\n"
     ]
    }
   ],
   "source": [
    "print('최적의 파라미터 : ', knn.best_params_)\n",
    "print('최고 교차 검증 점수 : ', knn.best_score_)\n",
    "print('최고 성능 모델 : ', knn.best_estimator_)"
   ]
  },
  {
   "cell_type": "code",
   "execution_count": null,
   "id": "8df17b16",
   "metadata": {},
   "outputs": [
    {
     "data": {
      "text/plain": [
       "array([2, 1, 0, 2, 0, 2, 0, 1, 1, 1, 1, 1, 1, 1, 1, 0, 1, 1, 0, 0, 2, 1,\n",
       "       0, 0, 2, 0, 0, 1, 1, 0, 2, 1, 0, 2, 2, 1, 0, 2])"
      ]
     },
     "execution_count": 24,
     "metadata": {},
     "output_type": "execute_result"
    }
   ],
   "source": [
    "knn.predict(x_test)"
   ]
  },
  {
   "cell_type": "code",
   "execution_count": null,
   "id": "001d82b6",
   "metadata": {},
   "outputs": [
    {
     "data": {
      "text/plain": [
       "0.9473684210526315"
      ]
     },
     "execution_count": 23,
     "metadata": {},
     "output_type": "execute_result"
    }
   ],
   "source": [
    "knn.score(x_test, y_test)"
   ]
  },
  {
   "cell_type": "markdown",
   "id": "be473bc7",
   "metadata": {},
   "source": [
    "decision tree"
   ]
  },
  {
   "cell_type": "code",
   "execution_count": null,
   "id": "fcf0a168",
   "metadata": {},
   "outputs": [],
   "source": [
    "param_dt = {'max_depth' : range(1, 10),\n",
    "            'max_leaf_nodes' : [1,2,3,4,5,6,7,8,9,10],\n",
    "            'min_samples_leaf' : range(1, 10)}"
   ]
  },
  {
   "cell_type": "code",
   "execution_count": null,
   "id": "2208bcdc",
   "metadata": {},
   "outputs": [],
   "source": [
    "#그리드서치 모델 적용\n",
    "from sklearn.tree import DecisionTreeClassifier\n",
    "dt = GridSearchCV(DecisionTreeClassifier(random_state=0),\n",
    "                   param_dt, cv=5)"
   ]
  },
  {
   "cell_type": "code",
   "execution_count": null,
   "id": "863c013b",
   "metadata": {},
   "outputs": [
    {
     "data": {
      "text/plain": [
       "GridSearchCV(cv=5, estimator=DecisionTreeClassifier(random_state=0),\n",
       "             param_grid={'max_depth': range(1, 10),\n",
       "                         'max_leaf_nodes': [1, 2, 3, 4, 5, 6, 7, 8, 9, 10],\n",
       "                         'min_samples_leaf': range(1, 10)})"
      ]
     },
     "execution_count": 59,
     "metadata": {},
     "output_type": "execute_result"
    }
   ],
   "source": [
    "#학습\n",
    "dt.fit(x_train, y_train)"
   ]
  },
  {
   "cell_type": "code",
   "execution_count": null,
   "id": "996a9462",
   "metadata": {},
   "outputs": [
    {
     "name": "stdout",
     "output_type": "stream",
     "text": [
      "최적의 파라미터 :  {'max_depth': 3, 'max_leaf_nodes': 4, 'min_samples_leaf': 1}\n",
      "최고 교차 검증 점수 :  0.9644268774703558\n",
      "최고 성능 모델 :  DecisionTreeClassifier(max_depth=3, max_leaf_nodes=4, random_state=0)\n"
     ]
    }
   ],
   "source": [
    "#최적의 파라미터\n",
    "print('최적의 파라미터 : ', dt.best_params_)\n",
    "#최고 교차 검증 점수\n",
    "print('최고 교차 검증 점수 : ', dt.best_score_)\n",
    "#최고 성능 모델\n",
    "print('최고 성능 모델 : ', dt.best_estimator_)"
   ]
  },
  {
   "cell_type": "code",
   "execution_count": null,
   "id": "cf8f8a05",
   "metadata": {},
   "outputs": [
    {
     "data": {
      "text/plain": [
       "array([2, 1, 0, 2, 0, 2, 0, 1, 1, 1, 2, 1, 1, 1, 1, 0, 1, 1, 0, 0, 2, 1,\n",
       "       0, 0, 2, 0, 0, 1, 1, 0, 2, 1, 0, 2, 2, 1, 0, 2])"
      ]
     },
     "execution_count": 61,
     "metadata": {},
     "output_type": "execute_result"
    }
   ],
   "source": [
    "#예측\n",
    "dt.predict(x_test)"
   ]
  },
  {
   "cell_type": "code",
   "execution_count": null,
   "id": "6ce9edb8",
   "metadata": {},
   "outputs": [
    {
     "data": {
      "text/plain": [
       "0.9736842105263158"
      ]
     },
     "execution_count": 62,
     "metadata": {},
     "output_type": "execute_result"
    }
   ],
   "source": [
    "#스코어\n",
    "dt.score(x_test, y_test)"
   ]
  },
  {
   "cell_type": "markdown",
   "id": "b690d123",
   "metadata": {},
   "source": [
    "### SVM"
   ]
  },
  {
   "cell_type": "code",
   "execution_count": null,
   "id": "2f424871",
   "metadata": {},
   "outputs": [
    {
     "name": "stdout",
     "output_type": "stream",
     "text": [
      "최적의 파라미터 :  {'C': 0.99, 'gamma': 0.33, 'kernel': 'rbf'}\n",
      "최고 교차 검증 점수 :  0.9648221343873518\n",
      "최고 성능 모델 :  SVC(C=0.99, gamma=0.33)\n",
      "[2 1 0 2 0 2 0 1 1 1 2 1 1 1 1 0 1 1 0 0 2 1 0 0 2 0 0 1 1 0 2 1 0 2 2 1 0\n",
      " 2]\n",
      "0.9736842105263158\n"
     ]
    }
   ],
   "source": [
    "from sklearn.svm import SVC\n",
    "\n",
    "#파라미터 딕셔너리 만들기\n",
    "param_svc = {'C':[0.1,0.2,0.3,0.4,0.5,0.6,0.7,0.8,0.9,0.99],\n",
    "             'gamma':[0.11,0.22,0.33,0.44,0.55,0.66,0.77,0.88,0,99,0.999],\n",
    "             'kernel':['linear', 'poly', 'rbf']}\n",
    "\n",
    "#SVC 모델 선언 \n",
    "svc = GridSearchCV(SVC(),#random_state=0\n",
    "                   param_svc, cv=5)\n",
    "\n",
    "#모델 학습\n",
    "svc.fit(x_train, y_train)\n",
    "\n",
    "#최적의 파라미터\n",
    "print('최적의 파라미터 : ', svc.best_params_)\n",
    "#최고 교차 검증 점수\n",
    "print('최고 교차 검증 점수 : ', svc.best_score_)\n",
    "#최고 성능 모델\n",
    "print('최고 성능 모델 : ', svc.best_estimator_)\n",
    "\n",
    "\n",
    "#예측값\n",
    "print(svc.predict(x_test))\n",
    "#스코어\n",
    "print(svc.score(x_test, y_test))"
   ]
  },
  {
   "cell_type": "code",
   "execution_count": null,
   "id": "31135d00",
   "metadata": {},
   "outputs": [],
   "source": []
  }
 ],
 "metadata": {
  "kernelspec": {
   "display_name": "Python 3.9.12 ('base')",
   "language": "python",
   "name": "python3"
  },
  "language_info": {
   "codemirror_mode": {
    "name": "ipython",
    "version": 3
   },
   "file_extension": ".py",
   "mimetype": "text/x-python",
   "name": "python",
   "nbconvert_exporter": "python",
   "pygments_lexer": "ipython3",
   "version": "3.9.12"
  },
  "vscode": {
   "interpreter": {
    "hash": "4fb426db0f3ee2be9e5ab359abf5d058c2a19de96b4d6eda446b2c3017042fa6"
   }
  }
 },
 "nbformat": 4,
 "nbformat_minor": 5
}
