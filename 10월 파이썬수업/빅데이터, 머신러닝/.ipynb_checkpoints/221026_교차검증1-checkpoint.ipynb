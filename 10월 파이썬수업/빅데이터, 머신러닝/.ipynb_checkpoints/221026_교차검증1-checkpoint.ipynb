{
 "cells": [
  {
   "cell_type": "markdown",
   "id": "5d0dc1f7",
   "metadata": {},
   "source": [
    "### k-Fold"
   ]
  },
  {
   "cell_type": "code",
   "execution_count": 1,
   "id": "922be9db",
   "metadata": {},
   "outputs": [],
   "source": [
    "import numpy as np\n",
    "import pandas as pd\n",
    "from sklearn.model_selection import KFold\n",
    "\n",
    "x_data=np.array([\n",
    "    [2,1],\n",
    "    [3,2],\n",
    "    [3,4],\n",
    "    [5,5],\n",
    "    [7,5],\n",
    "    [2,5],\n",
    "    [8,9],\n",
    "    [9,10],\n",
    "    [6,12],\n",
    "    [9,2],\n",
    "    [6,10],\n",
    "    [2,4]  \n",
    "])"
   ]
  },
  {
   "cell_type": "code",
   "execution_count": 2,
   "id": "ac624d18",
   "metadata": {},
   "outputs": [],
   "source": [
    "kf = KFold(n_splits=5)"
   ]
  },
  {
   "cell_type": "code",
   "execution_count": 3,
   "id": "bc840056",
   "metadata": {},
   "outputs": [
    {
     "name": "stdout",
     "output_type": "stream",
     "text": [
      "train_index :  [ 3  4  5  6  7  8  9 10 11]\n",
      "test_index :  [0 1 2]\n",
      "train_index :  [ 0  1  2  6  7  8  9 10 11]\n",
      "test_index :  [3 4 5]\n",
      "train_index :  [ 0  1  2  3  4  5  8  9 10 11]\n",
      "test_index :  [6 7]\n",
      "train_index :  [ 0  1  2  3  4  5  6  7 10 11]\n",
      "test_index :  [8 9]\n",
      "train_index :  [0 1 2 3 4 5 6 7 8 9]\n",
      "test_index :  [10 11]\n"
     ]
    }
   ],
   "source": [
    "for train_index, test_index in kf.split(x_data):\n",
    "    print('train_index : ', train_index)\n",
    "    print('test_index : ', test_index)"
   ]
  },
  {
   "cell_type": "markdown",
   "id": "1471753f",
   "metadata": {},
   "source": [
    "#### K-Fold 교차검증 -> 보통 회귀 문제에서 사용됨\n",
    "- 학습 데이터와 테스트 데이터를 K개의 세트로 나누어 검증하는 방법\n",
    "- 데이터셋이 굉장히 적을 때 훈련데이터를 어떻게든 최대한 늘려보려고 사용되기도 하는 방법\n",
    "- 여러 개의 훈련 테스트 짝으로 검증과정을 거침"
   ]
  },
  {
   "cell_type": "code",
   "execution_count": 4,
   "id": "1fed1364",
   "metadata": {},
   "outputs": [],
   "source": [
    "from sklearn.model_selection import train_test_split\n",
    "from sklearn.linear_model import LinearRegression"
   ]
  },
  {
   "cell_type": "markdown",
   "id": "b2d746b0",
   "metadata": {},
   "source": [
    "#### 2.데이터 수집"
   ]
  },
  {
   "cell_type": "code",
   "execution_count": 5,
   "id": "66e5785a",
   "metadata": {},
   "outputs": [],
   "source": [
    "x_data=np.array([\n",
    "    [2,1],\n",
    "    [3,2],\n",
    "    [3,4],\n",
    "    [5,5],\n",
    "    [7,5],\n",
    "    [2,5],\n",
    "    [8,9],\n",
    "    [9,10],\n",
    "    [6,12],\n",
    "    [9,2],\n",
    "    [6,10],\n",
    "    [2,4]  \n",
    "])\n",
    "\n",
    "y_data = np.array([3, 5, 7, 10, 12, 7, 13, 13, 12, 13, 12, 6])"
   ]
  },
  {
   "cell_type": "markdown",
   "id": "918223a7",
   "metadata": {},
   "source": [
    "#### 3.데이터 전처리\n",
    "#### 4.EDA\n",
    "#### 5-7.모델링(모델선택, 학습, 평가)"
   ]
  },
  {
   "cell_type": "code",
   "execution_count": 6,
   "id": "0df1e65f",
   "metadata": {},
   "outputs": [],
   "source": [
    "lr = LinearRegression()\n",
    "\n",
    "train_scores = []\n",
    "test_scores = []\n",
    "\n",
    "kf = KFold(n_splits=5)\n",
    "for train_index, test_index in kf.split(x_data) : #5번 검증\n",
    "    x_train = np.array(x_data)[train_index]\n",
    "    y_train = np.array(y_data)[train_index]\n",
    "    x_test = np.array(x_data)[test_index]\n",
    "    y_test = np.array(y_data)[test_index]\n",
    "    \n",
    "    model_kf = LinearRegression()\n",
    "    model_kf.fit(x_train, y_train)\n",
    "    \n",
    "    score = model_kf.score(x_train, y_train)\n",
    "    train_scores.append(score)\n",
    "    \n",
    "    score = model_kf.score(x_test, y_test)\n",
    "    test_scores.append(score)"
   ]
  },
  {
   "cell_type": "code",
   "execution_count": 7,
   "id": "2a90b59b",
   "metadata": {},
   "outputs": [
    {
     "name": "stdout",
     "output_type": "stream",
     "text": [
      "[0.9522707858769932, 0.9469593697441799, 0.9446524178499608, 0.9232432525564045, 0.9166499001004778]\n",
      "[-1.1475590101753324, 0.56847222331606, 0.0, -11.7747639790487, 0.9602035173350366]\n"
     ]
    }
   ],
   "source": [
    "print(train_scores)\n",
    "print(test_scores)"
   ]
  },
  {
   "cell_type": "code",
   "execution_count": 8,
   "id": "42fcaba4",
   "metadata": {},
   "outputs": [
    {
     "name": "stdout",
     "output_type": "stream",
     "text": [
      "0.9367551452256032\n",
      "-2.278729449714587\n"
     ]
    }
   ],
   "source": [
    "print(np.array(train_scores).mean())\n",
    "print(np.array(test_scores).mean())"
   ]
  },
  {
   "cell_type": "markdown",
   "id": "ed64bf2b",
   "metadata": {},
   "source": [
    "#### cross_validation"
   ]
  },
  {
   "cell_type": "code",
   "execution_count": 9,
   "id": "53cab7bb",
   "metadata": {},
   "outputs": [],
   "source": [
    "from sklearn.model_selection import cross_validate"
   ]
  },
  {
   "cell_type": "code",
   "execution_count": 10,
   "id": "caca0a4a",
   "metadata": {},
   "outputs": [],
   "source": [
    "model = LinearRegression()"
   ]
  },
  {
   "cell_type": "code",
   "execution_count": 11,
   "id": "5424fb8c",
   "metadata": {},
   "outputs": [],
   "source": [
    "cv_results = cross_validate(model, x_data, y_data)"
   ]
  },
  {
   "cell_type": "code",
   "execution_count": 12,
   "id": "d121ac4a",
   "metadata": {},
   "outputs": [
    {
     "name": "stdout",
     "output_type": "stream",
     "text": [
      "-2.278729449714587\n"
     ]
    }
   ],
   "source": [
    "print(cv_results['test_score'].mean())"
   ]
  },
  {
   "cell_type": "code",
   "execution_count": 13,
   "id": "c17c5f03",
   "metadata": {},
   "outputs": [],
   "source": [
    "df = pd.DataFrame(cv_results)\n",
    "df = df.sort_values(by='test_score', ascending=False)"
   ]
  },
  {
   "cell_type": "markdown",
   "id": "0cf2ab70",
   "metadata": {},
   "source": [
    "#### cross_val_score"
   ]
  },
  {
   "cell_type": "code",
   "execution_count": 14,
   "id": "ec416542",
   "metadata": {},
   "outputs": [],
   "source": [
    "from sklearn.model_selection import cross_val_score"
   ]
  },
  {
   "cell_type": "code",
   "execution_count": 15,
   "id": "2012bf41",
   "metadata": {},
   "outputs": [
    {
     "data": {
      "text/plain": [
       "LinearRegression()"
      ]
     },
     "execution_count": 15,
     "metadata": {},
     "output_type": "execute_result"
    }
   ],
   "source": [
    "model = LinearRegression()\n",
    "model.fit(x_data, y_data)"
   ]
  },
  {
   "cell_type": "code",
   "execution_count": 16,
   "id": "3116587a",
   "metadata": {},
   "outputs": [],
   "source": [
    "cv_score = cross_val_score(model, x_data, y_data, cv=5)"
   ]
  },
  {
   "cell_type": "code",
   "execution_count": 17,
   "id": "7e91acee",
   "metadata": {},
   "outputs": [
    {
     "name": "stdout",
     "output_type": "stream",
     "text": [
      "cv mean score :  -2.278729449714587\n"
     ]
    }
   ],
   "source": [
    "print('cv mean score : ', cv_score.mean())"
   ]
  },
  {
   "cell_type": "markdown",
   "id": "4cb54a26",
   "metadata": {},
   "source": [
    "### 분류"
   ]
  },
  {
   "cell_type": "code",
   "execution_count": 18,
   "id": "3c9a0cee",
   "metadata": {},
   "outputs": [],
   "source": [
    "from sklearn.model_selection import cross_validate\n",
    "from sklearn.linear_model import LogisticRegression\n",
    "from sklearn.model_selection import train_test_split"
   ]
  },
  {
   "cell_type": "code",
   "execution_count": 19,
   "id": "df7e7ec1",
   "metadata": {},
   "outputs": [],
   "source": [
    "x_data = np.array([\n",
    "    [2,1],\n",
    "    [3,2],\n",
    "    [3,4],\n",
    "    [5,5],\n",
    "    [7,5],\n",
    "    [2,5],\n",
    "    [8,9],\n",
    "    [9,10],\n",
    "    [6,12],\n",
    "    [9,2],\n",
    "    [6,10],\n",
    "    [2,4]  \n",
    "])\n",
    "\n",
    "y_data = np.array([2, 2, 2, 1, 1, 2, 0, 0, 0, 1, 0, 2])\n",
    "\n",
    "labels = ['A', 'B', 'C']"
   ]
  },
  {
   "cell_type": "code",
   "execution_count": 20,
   "id": "d7cb01c8",
   "metadata": {},
   "outputs": [
    {
     "name": "stdout",
     "output_type": "stream",
     "text": [
      "0.9333333333333332\n"
     ]
    },
    {
     "name": "stderr",
     "output_type": "stream",
     "text": [
      "C:\\Users\\82104\\Anaconda3\\lib\\site-packages\\sklearn\\model_selection\\_split.py:676: UserWarning: The least populated class in y has only 3 members, which is less than n_splits=5.\n",
      "  warnings.warn(\n"
     ]
    }
   ],
   "source": [
    "model = LogisticRegression()\n",
    "#내부적으로 알아서 학습\n",
    "cv_results = cross_validate(model, x_data, y_data, return_estimator=True)\n",
    "print(cv_results['test_score'].mean())"
   ]
  },
  {
   "cell_type": "code",
   "execution_count": 21,
   "id": "b1ee0e00",
   "metadata": {},
   "outputs": [
    {
     "data": {
      "text/html": [
       "<div>\n",
       "<style scoped>\n",
       "    .dataframe tbody tr th:only-of-type {\n",
       "        vertical-align: middle;\n",
       "    }\n",
       "\n",
       "    .dataframe tbody tr th {\n",
       "        vertical-align: top;\n",
       "    }\n",
       "\n",
       "    .dataframe thead th {\n",
       "        text-align: right;\n",
       "    }\n",
       "</style>\n",
       "<table border=\"1\" class=\"dataframe\">\n",
       "  <thead>\n",
       "    <tr style=\"text-align: right;\">\n",
       "      <th></th>\n",
       "      <th>fit_time</th>\n",
       "      <th>score_time</th>\n",
       "      <th>estimator</th>\n",
       "      <th>test_score</th>\n",
       "    </tr>\n",
       "  </thead>\n",
       "  <tbody>\n",
       "    <tr>\n",
       "      <th>1</th>\n",
       "      <td>0.003535</td>\n",
       "      <td>0.000000</td>\n",
       "      <td>LogisticRegression()</td>\n",
       "      <td>1.000000</td>\n",
       "    </tr>\n",
       "    <tr>\n",
       "      <th>2</th>\n",
       "      <td>0.003034</td>\n",
       "      <td>0.000000</td>\n",
       "      <td>LogisticRegression()</td>\n",
       "      <td>1.000000</td>\n",
       "    </tr>\n",
       "    <tr>\n",
       "      <th>3</th>\n",
       "      <td>0.002990</td>\n",
       "      <td>0.000995</td>\n",
       "      <td>LogisticRegression()</td>\n",
       "      <td>1.000000</td>\n",
       "    </tr>\n",
       "    <tr>\n",
       "      <th>4</th>\n",
       "      <td>0.002990</td>\n",
       "      <td>0.000000</td>\n",
       "      <td>LogisticRegression()</td>\n",
       "      <td>1.000000</td>\n",
       "    </tr>\n",
       "    <tr>\n",
       "      <th>0</th>\n",
       "      <td>0.003996</td>\n",
       "      <td>0.000000</td>\n",
       "      <td>LogisticRegression()</td>\n",
       "      <td>0.666667</td>\n",
       "    </tr>\n",
       "  </tbody>\n",
       "</table>\n",
       "</div>"
      ],
      "text/plain": [
       "   fit_time  score_time             estimator  test_score\n",
       "1  0.003535    0.000000  LogisticRegression()    1.000000\n",
       "2  0.003034    0.000000  LogisticRegression()    1.000000\n",
       "3  0.002990    0.000995  LogisticRegression()    1.000000\n",
       "4  0.002990    0.000000  LogisticRegression()    1.000000\n",
       "0  0.003996    0.000000  LogisticRegression()    0.666667"
      ]
     },
     "execution_count": 21,
     "metadata": {},
     "output_type": "execute_result"
    }
   ],
   "source": [
    "df = pd.DataFrame(cv_results)\n",
    "df = df.sort_values(by='test_score', ascending=False)\n",
    "df"
   ]
  },
  {
   "cell_type": "markdown",
   "id": "13c4c7b0",
   "metadata": {},
   "source": [
    "### 계측정 k-겹 교차검증(Stratified k-fold cross validation)\n",
    "- 분류 모델에 적용\n",
    "- k-겹 교차검증 모델은 k-fold가 원본 데이터 집합의 레이블 분포를 학습 및 검증데이터 세트에 제대로 분해하지 못하는 문제를 해결해줌\n",
    "- target값(정답값) = 레이블 / 클래스의 속성값의 개수를 골고루 넣어주게 됨"
   ]
  },
  {
   "cell_type": "code",
   "execution_count": null,
   "id": "333dd8e1",
   "metadata": {},
   "outputs": [],
   "source": []
  },
  {
   "cell_type": "code",
   "execution_count": null,
   "id": "18b8ccda",
   "metadata": {},
   "outputs": [],
   "source": []
  },
  {
   "cell_type": "code",
   "execution_count": null,
   "id": "336d14f1",
   "metadata": {},
   "outputs": [],
   "source": []
  }
 ],
 "metadata": {
  "kernelspec": {
   "display_name": "Python 3 (ipykernel)",
   "language": "python",
   "name": "python3"
  },
  "language_info": {
   "codemirror_mode": {
    "name": "ipython",
    "version": 3
   },
   "file_extension": ".py",
   "mimetype": "text/x-python",
   "name": "python",
   "nbconvert_exporter": "python",
   "pygments_lexer": "ipython3",
   "version": "3.9.12"
  },
  "vscode": {
   "interpreter": {
    "hash": "4fb426db0f3ee2be9e5ab359abf5d058c2a19de96b4d6eda446b2c3017042fa6"
   }
  }
 },
 "nbformat": 4,
 "nbformat_minor": 5
}
