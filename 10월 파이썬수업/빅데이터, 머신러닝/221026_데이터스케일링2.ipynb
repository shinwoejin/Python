{
 "cells": [
  {
   "cell_type": "markdown",
   "id": "4390a27b",
   "metadata": {},
   "source": [
    "### 1. 문제정의\n",
    "- iris 데이터에 scaler를 사용해보자"
   ]
  },
  {
   "cell_type": "markdown",
   "id": "609f979c",
   "metadata": {},
   "source": [
    "#### 2. 데이터 수집\n",
    "- iris 사용"
   ]
  },
  {
   "cell_type": "code",
   "execution_count": 1,
   "id": "dd4eeb50",
   "metadata": {},
   "outputs": [],
   "source": [
    "import pandas as pd\n",
    "import numpy as np\n",
    "from sklearn.datasets import load_iris"
   ]
  },
  {
   "cell_type": "code",
   "execution_count": 2,
   "id": "2cb4c8ee",
   "metadata": {},
   "outputs": [],
   "source": [
    "iris = load_iris()"
   ]
  },
  {
   "cell_type": "code",
   "execution_count": 3,
   "id": "05b27148",
   "metadata": {},
   "outputs": [
    {
     "data": {
      "text/plain": [
       "dict_keys(['data', 'target', 'frame', 'target_names', 'DESCR', 'feature_names', 'filename', 'data_module'])"
      ]
     },
     "execution_count": 3,
     "metadata": {},
     "output_type": "execute_result"
    }
   ],
   "source": [
    "iris.keys()"
   ]
  },
  {
   "cell_type": "markdown",
   "id": "c51909c3",
   "metadata": {},
   "source": [
    "### 3. 데이터 전처리\n",
    "- 데이터 구조 확인"
   ]
  },
  {
   "cell_type": "code",
   "execution_count": 4,
   "id": "c1f8f551",
   "metadata": {},
   "outputs": [],
   "source": [
    "x = iris.data\n",
    "y = iris.target"
   ]
  },
  {
   "cell_type": "code",
   "execution_count": 5,
   "id": "cdf5cb53",
   "metadata": {},
   "outputs": [
    {
     "name": "stdout",
     "output_type": "stream",
     "text": [
      "150\n",
      "150\n"
     ]
    }
   ],
   "source": [
    "print(len(x))\n",
    "print(len(y))"
   ]
  },
  {
   "cell_type": "code",
   "execution_count": 6,
   "id": "8395e0c4",
   "metadata": {},
   "outputs": [
    {
     "name": "stdout",
     "output_type": "stream",
     "text": [
      "데이터셋 크기 :  (150, 4)\n",
      "데이터셋 크기 :  (150,)\n"
     ]
    }
   ],
   "source": [
    "print('데이터셋 크기 : ', iris['data'].shape)\n",
    "print('데이터셋 크기 : ', iris['target'].shape)"
   ]
  },
  {
   "cell_type": "code",
   "execution_count": 7,
   "id": "1882c484",
   "metadata": {},
   "outputs": [
    {
     "data": {
      "text/html": [
       "<div>\n",
       "<style scoped>\n",
       "    .dataframe tbody tr th:only-of-type {\n",
       "        vertical-align: middle;\n",
       "    }\n",
       "\n",
       "    .dataframe tbody tr th {\n",
       "        vertical-align: top;\n",
       "    }\n",
       "\n",
       "    .dataframe thead th {\n",
       "        text-align: right;\n",
       "    }\n",
       "</style>\n",
       "<table border=\"1\" class=\"dataframe\">\n",
       "  <thead>\n",
       "    <tr style=\"text-align: right;\">\n",
       "      <th></th>\n",
       "      <th>sepal length (cm)</th>\n",
       "      <th>sepal width (cm)</th>\n",
       "      <th>petal length (cm)</th>\n",
       "      <th>petal width (cm)</th>\n",
       "    </tr>\n",
       "  </thead>\n",
       "  <tbody>\n",
       "    <tr>\n",
       "      <th>0</th>\n",
       "      <td>5.1</td>\n",
       "      <td>3.5</td>\n",
       "      <td>1.4</td>\n",
       "      <td>0.2</td>\n",
       "    </tr>\n",
       "    <tr>\n",
       "      <th>1</th>\n",
       "      <td>4.9</td>\n",
       "      <td>3.0</td>\n",
       "      <td>1.4</td>\n",
       "      <td>0.2</td>\n",
       "    </tr>\n",
       "    <tr>\n",
       "      <th>2</th>\n",
       "      <td>4.7</td>\n",
       "      <td>3.2</td>\n",
       "      <td>1.3</td>\n",
       "      <td>0.2</td>\n",
       "    </tr>\n",
       "    <tr>\n",
       "      <th>3</th>\n",
       "      <td>4.6</td>\n",
       "      <td>3.1</td>\n",
       "      <td>1.5</td>\n",
       "      <td>0.2</td>\n",
       "    </tr>\n",
       "    <tr>\n",
       "      <th>4</th>\n",
       "      <td>5.0</td>\n",
       "      <td>3.6</td>\n",
       "      <td>1.4</td>\n",
       "      <td>0.2</td>\n",
       "    </tr>\n",
       "  </tbody>\n",
       "</table>\n",
       "</div>"
      ],
      "text/plain": [
       "   sepal length (cm)  sepal width (cm)  petal length (cm)  petal width (cm)\n",
       "0                5.1               3.5                1.4               0.2\n",
       "1                4.9               3.0                1.4               0.2\n",
       "2                4.7               3.2                1.3               0.2\n",
       "3                4.6               3.1                1.5               0.2\n",
       "4                5.0               3.6                1.4               0.2"
      ]
     },
     "execution_count": 7,
     "metadata": {},
     "output_type": "execute_result"
    }
   ],
   "source": [
    "#데이터프레임 형태로 변환\n",
    "df = pd.DataFrame(x, columns=iris.feature_names)\n",
    "df.head()"
   ]
  },
  {
   "cell_type": "code",
   "execution_count": 8,
   "id": "d15857c7",
   "metadata": {},
   "outputs": [
    {
     "data": {
      "text/html": [
       "<div>\n",
       "<style scoped>\n",
       "    .dataframe tbody tr th:only-of-type {\n",
       "        vertical-align: middle;\n",
       "    }\n",
       "\n",
       "    .dataframe tbody tr th {\n",
       "        vertical-align: top;\n",
       "    }\n",
       "\n",
       "    .dataframe thead th {\n",
       "        text-align: right;\n",
       "    }\n",
       "</style>\n",
       "<table border=\"1\" class=\"dataframe\">\n",
       "  <thead>\n",
       "    <tr style=\"text-align: right;\">\n",
       "      <th></th>\n",
       "      <th>sepal length</th>\n",
       "      <th>sepal width</th>\n",
       "      <th>petal length</th>\n",
       "      <th>petal width</th>\n",
       "    </tr>\n",
       "  </thead>\n",
       "  <tbody>\n",
       "    <tr>\n",
       "      <th>0</th>\n",
       "      <td>5.1</td>\n",
       "      <td>3.5</td>\n",
       "      <td>1.4</td>\n",
       "      <td>0.2</td>\n",
       "    </tr>\n",
       "    <tr>\n",
       "      <th>1</th>\n",
       "      <td>4.9</td>\n",
       "      <td>3.0</td>\n",
       "      <td>1.4</td>\n",
       "      <td>0.2</td>\n",
       "    </tr>\n",
       "    <tr>\n",
       "      <th>2</th>\n",
       "      <td>4.7</td>\n",
       "      <td>3.2</td>\n",
       "      <td>1.3</td>\n",
       "      <td>0.2</td>\n",
       "    </tr>\n",
       "    <tr>\n",
       "      <th>3</th>\n",
       "      <td>4.6</td>\n",
       "      <td>3.1</td>\n",
       "      <td>1.5</td>\n",
       "      <td>0.2</td>\n",
       "    </tr>\n",
       "    <tr>\n",
       "      <th>4</th>\n",
       "      <td>5.0</td>\n",
       "      <td>3.6</td>\n",
       "      <td>1.4</td>\n",
       "      <td>0.2</td>\n",
       "    </tr>\n",
       "  </tbody>\n",
       "</table>\n",
       "</div>"
      ],
      "text/plain": [
       "   sepal length  sepal width  petal length  petal width\n",
       "0           5.1          3.5           1.4          0.2\n",
       "1           4.9          3.0           1.4          0.2\n",
       "2           4.7          3.2           1.3          0.2\n",
       "3           4.6          3.1           1.5          0.2\n",
       "4           5.0          3.6           1.4          0.2"
      ]
     },
     "execution_count": 8,
     "metadata": {},
     "output_type": "execute_result"
    }
   ],
   "source": [
    "df.columns = ['sepal length', 'sepal width', 'petal length','petal width']\n",
    "df.head()"
   ]
  },
  {
   "cell_type": "markdown",
   "id": "753e6504",
   "metadata": {},
   "source": [
    "### scaler 적용"
   ]
  },
  {
   "cell_type": "code",
   "execution_count": 9,
   "id": "83c36707",
   "metadata": {},
   "outputs": [],
   "source": [
    "from sklearn.preprocessing import StandardScaler\n",
    "from sklearn.preprocessing import RobustScaler\n",
    "from sklearn.preprocessing import MinMaxScaler\n",
    "from sklearn.preprocessing import Normalizer\n",
    "from sklearn.model_selection import train_test_split"
   ]
  },
  {
   "cell_type": "code",
   "execution_count": 10,
   "id": "332e2fc1",
   "metadata": {},
   "outputs": [],
   "source": [
    "#스케일러 모델링\n",
    "#학습\n",
    "#데이터 변환"
   ]
  },
  {
   "cell_type": "code",
   "execution_count": 11,
   "id": "96b349b4",
   "metadata": {},
   "outputs": [
    {
     "name": "stdout",
     "output_type": "stream",
     "text": [
      "스케일 조정 전 min value :  [4.3 2.  1.  0.1]\n",
      "스케일 조정 전 max value :  [7.9 4.4 6.9 2.5]\n",
      "스케일 조정 후 min value :  [-1.91393822 -2.30367962 -1.5790327  -1.45460643]\n",
      "스케일 조정 후 max value :  [2.51094647 2.90430257 1.77279772 1.66091714]\n"
     ]
    }
   ],
   "source": [
    "x_train, x_test, y_train, y_test = train_test_split(iris.data, iris.target,\n",
    "                                                    random_state=1234)\n",
    "scaler = StandardScaler()\n",
    "scaler.fit(x_train)\n",
    "x_scaler = scaler.transform(x_train)\n",
    "print('스케일 조정 전 min value : ', x_train.min(axis=0))\n",
    "print('스케일 조정 전 max value : ', x_train.max(axis=0))\n",
    "print('스케일 조정 후 min value : ', x_scaler.min(axis=0))\n",
    "print('스케일 조정 후 max value : ', x_scaler.max(axis=0))"
   ]
  },
  {
   "cell_type": "code",
   "execution_count": 12,
   "id": "caadbe7b",
   "metadata": {},
   "outputs": [],
   "source": [
    "scaler = StandardScaler()\n",
    "scaler.fit(df)\n",
    "x_scaled = scaler.transform(df)\n",
    "#학습과 변환 동시에\n",
    "#x_scaled = scaler.fit_transform(df)"
   ]
  },
  {
   "cell_type": "code",
   "execution_count": 13,
   "id": "91e1431c",
   "metadata": {
    "scrolled": true
   },
   "outputs": [
    {
     "data": {
      "text/html": [
       "<div>\n",
       "<style scoped>\n",
       "    .dataframe tbody tr th:only-of-type {\n",
       "        vertical-align: middle;\n",
       "    }\n",
       "\n",
       "    .dataframe tbody tr th {\n",
       "        vertical-align: top;\n",
       "    }\n",
       "\n",
       "    .dataframe thead th {\n",
       "        text-align: right;\n",
       "    }\n",
       "</style>\n",
       "<table border=\"1\" class=\"dataframe\">\n",
       "  <thead>\n",
       "    <tr style=\"text-align: right;\">\n",
       "      <th></th>\n",
       "      <th>sepal length (cm)</th>\n",
       "      <th>sepal width (cm)</th>\n",
       "      <th>petal length (cm)</th>\n",
       "      <th>petal width (cm)</th>\n",
       "    </tr>\n",
       "  </thead>\n",
       "  <tbody>\n",
       "    <tr>\n",
       "      <th>0</th>\n",
       "      <td>-0.900681</td>\n",
       "      <td>1.019004</td>\n",
       "      <td>-1.340227</td>\n",
       "      <td>-1.315444</td>\n",
       "    </tr>\n",
       "    <tr>\n",
       "      <th>1</th>\n",
       "      <td>-1.143017</td>\n",
       "      <td>-0.131979</td>\n",
       "      <td>-1.340227</td>\n",
       "      <td>-1.315444</td>\n",
       "    </tr>\n",
       "    <tr>\n",
       "      <th>2</th>\n",
       "      <td>-1.385353</td>\n",
       "      <td>0.328414</td>\n",
       "      <td>-1.397064</td>\n",
       "      <td>-1.315444</td>\n",
       "    </tr>\n",
       "    <tr>\n",
       "      <th>3</th>\n",
       "      <td>-1.506521</td>\n",
       "      <td>0.098217</td>\n",
       "      <td>-1.283389</td>\n",
       "      <td>-1.315444</td>\n",
       "    </tr>\n",
       "    <tr>\n",
       "      <th>4</th>\n",
       "      <td>-1.021849</td>\n",
       "      <td>1.249201</td>\n",
       "      <td>-1.340227</td>\n",
       "      <td>-1.315444</td>\n",
       "    </tr>\n",
       "  </tbody>\n",
       "</table>\n",
       "</div>"
      ],
      "text/plain": [
       "   sepal length (cm)  sepal width (cm)  petal length (cm)  petal width (cm)\n",
       "0          -0.900681          1.019004          -1.340227         -1.315444\n",
       "1          -1.143017         -0.131979          -1.340227         -1.315444\n",
       "2          -1.385353          0.328414          -1.397064         -1.315444\n",
       "3          -1.506521          0.098217          -1.283389         -1.315444\n",
       "4          -1.021849          1.249201          -1.340227         -1.315444"
      ]
     },
     "execution_count": 13,
     "metadata": {},
     "output_type": "execute_result"
    }
   ],
   "source": [
    "scale_df = pd.DataFrame(x_scaled, columns=iris.feature_names)\n",
    "scale_df.head()"
   ]
  },
  {
   "cell_type": "markdown",
   "id": "16bfd783",
   "metadata": {},
   "source": [
    "### 4. EDA(탐색적 분석) - 시각화 등등"
   ]
  },
  {
   "cell_type": "code",
   "execution_count": 14,
   "id": "32e54424",
   "metadata": {},
   "outputs": [],
   "source": [
    "import matplotlib.pyplot as plt\n",
    "import seaborn as sns\n",
    "sns.set(font_scale=1.2)"
   ]
  },
  {
   "cell_type": "code",
   "execution_count": 15,
   "id": "955c26a1",
   "metadata": {},
   "outputs": [
    {
     "data": {
      "text/plain": [
       "<AxesSubplot:>"
      ]
     },
     "execution_count": 15,
     "metadata": {},
     "output_type": "execute_result"
    },
    {
     "data": {
      "image/png": "[encoded data removed]",
      "text/plain": [
       "<Figure size 432x288 with 2 Axes>"
      ]
     },
     "metadata": {},
     "output_type": "display_data"
    }
   ],
   "source": [
    "sns.heatmap(data=scale_df.corr(), square=True, annot=True)"
   ]
  },
  {
   "cell_type": "markdown",
   "id": "301cab3e",
   "metadata": {},
   "source": [
    "### 5-7.모델링(모델선택, 모델학습, 모델평가)"
   ]
  },
  {
   "cell_type": "code",
   "execution_count": 16,
   "id": "99dcf252",
   "metadata": {},
   "outputs": [],
   "source": [
    "from sklearn.model_selection import train_test_split"
   ]
  },
  {
   "cell_type": "code",
   "execution_count": 17,
   "id": "5e6b07f7",
   "metadata": {},
   "outputs": [],
   "source": [
    "x_train, x_test, y_train, y_test = train_test_split(scale_df, y,\n",
    "                                                    shuffle=True,\n",
    "                                                    random_state=0)"
   ]
  },
  {
   "cell_type": "markdown",
   "id": "d777546d",
   "metadata": {},
   "source": [
    "#### KNN, DT, SVM, 로지스틱 회귀"
   ]
  },
  {
   "cell_type": "markdown",
   "id": "46242313",
   "metadata": {},
   "source": [
    "### KNN\n",
    "- KNN분류 알고리즘은 예측하려는 데이터(x)가 주어지면, 기전 데이터 중 속성이 비슷한 k개의 이웃을 먼저 찾는 알고리즘\n",
    "- X 데이터에 가까이 있는 K개의 이웃을 찾고, 이 이웃데이터 중에 가장 많이 속해있는 label으로 예측값을 결정하는 알고리즘\n",
    "- K값에 따라 모델의 예측력이 달라지기 때문에 적절한 K개수를 정해줘야함"
   ]
  },
  {
   "cell_type": "code",
   "execution_count": 18,
   "id": "aa341b2a",
   "metadata": {},
   "outputs": [
    {
     "data": {
      "text/plain": [
       "0.9736842105263158"
      ]
     },
     "execution_count": 18,
     "metadata": {},
     "output_type": "execute_result"
    }
   ],
   "source": [
    "from sklearn.neighbors import KNeighborsClassifier, kneighbors_graph\n",
    "#모델정의 - 하이퍼파라미터(n_neighbors=)\n",
    "knn = KNeighborsClassifier(n_neighbors=5)\n",
    "#학습\n",
    "knn.fit(x_train, y_train)\n",
    "#예측\n",
    "predict = knn.predict(x_test)\n",
    "#평가\n",
    "knn.score(x_test, y_test)"
   ]
  },
  {
   "cell_type": "code",
   "execution_count": 19,
   "id": "e902e035",
   "metadata": {},
   "outputs": [
    {
     "data": {
      "text/plain": [
       "0.9736842105263158"
      ]
     },
     "execution_count": 19,
     "metadata": {},
     "output_type": "execute_result"
    }
   ],
   "source": [
    "from sklearn.metrics import accuracy_score\n",
    "acc = accuracy_score(y_test, predict)\n",
    "acc"
   ]
  },
  {
   "cell_type": "markdown",
   "id": "07ff3875",
   "metadata": {},
   "source": [
    "### Logistic Regression\n",
    "- 이름은 회귀지만 분류를 알고리즘\n",
    "- 시그모이드 함수출력값(0-1사이)을 각 분류 클래스에 속하게 될 확률값으로 사용\n",
    "- 확률값이 1에 가까우면 해당 클래스로 분류를 하고, 0에 가까우면 아니라고 분류를 함"
   ]
  },
  {
   "cell_type": "code",
   "execution_count": 28,
   "id": "09885f36",
   "metadata": {},
   "outputs": [
    {
     "name": "stdout",
     "output_type": "stream",
     "text": [
      "0.9736842105263158\n",
      "0.9736842105263158\n"
     ]
    }
   ],
   "source": [
    "from sklearn.linear_model import LogisticRegression\n",
    "#모델 생성\n",
    "logi = LogisticRegression()\n",
    "# 모델 학습\n",
    "logi.fit(x_train, y_train)\n",
    "#모델 예측\n",
    "predict = logi.predict(x_test)\n",
    "#모델 평가\n",
    "print(logi.score(x_test, y_test))\n",
    "print(accuracy_score(y_test, predict))"
   ]
  },
  {
   "cell_type": "code",
   "execution_count": 29,
   "id": "c471edbd",
   "metadata": {
    "scrolled": true
   },
   "outputs": [
    {
     "data": {
      "text/plain": [
       "array([[-8.96504595e+00, -3.53269217e+00, -2.97933754e-02],\n",
       "       [-5.16286589e+00, -4.70827246e-02, -3.21224144e+00],\n",
       "       [-4.20951033e-03, -5.47252521e+00, -1.67833097e+01],\n",
       "       [-1.07393958e+01, -2.53099573e+00, -8.29484579e-02],\n",
       "       [-2.35910243e-02, -3.75868818e+00, -1.42825152e+01],\n",
       "       [-1.03063476e+01, -4.67371473e+00, -9.41512241e-03],\n",
       "       [-1.63654703e-02, -4.12078191e+00, -1.45792376e+01],\n",
       "       [-5.04687677e+00, -3.27604541e-01, -1.29856679e+00],\n",
       "       [-6.15061162e+00, -3.09365141e-01, -1.33197633e+00],\n",
       "       [-3.83482180e+00, -1.07069201e-01, -2.52658757e+00],\n",
       "       [-6.66235119e+00, -8.21707788e-01, -5.81531157e-01],\n",
       "       [-3.92594124e+00, -2.64106818e-01, -1.54935496e+00],\n",
       "       [-4.34438098e+00, -1.51815667e-01, -2.05671125e+00],\n",
       "       [-5.58829782e+00, -3.57998786e-01, -1.21340150e+00],\n",
       "       [-4.39575571e+00, -2.82225034e-01, -1.45428855e+00],\n",
       "       [-8.37742408e-03, -4.78641419e+00, -1.59914244e+01],\n",
       "       [-4.20224521e+00, -3.22573133e-01, -1.34417365e+00],\n",
       "       [-3.60131581e+00, -1.43705938e-01, -2.23895514e+00],\n",
       "       [-6.03345666e-02, -2.83791455e+00, -1.27646877e+01],\n",
       "       [-1.07899172e-02, -4.53456390e+00, -1.49286106e+01],\n",
       "       [-6.21502361e+00, -1.81749907e+00, -1.79641922e-01],\n",
       "       [-3.14188704e+00, -3.40397781e-01, -1.40522624e+00],\n",
       "       [-2.26434640e-02, -3.79923064e+00, -1.37809418e+01],\n",
       "       [-3.51604585e-02, -3.36539827e+00, -1.35867371e+01],\n",
       "       [-6.26972170e+00, -1.06980080e+00, -4.23073644e-01],\n",
       "       [-3.85378777e-03, -5.56063742e+00, -1.68611244e+01],\n",
       "       [-1.39966697e-02, -4.27600056e+00, -1.37801545e+01],\n",
       "       [-3.97727586e+00, -1.33284834e-01, -2.24386700e+00],\n",
       "       [-2.42817483e+00, -1.09138981e-01, -4.18668747e+00],\n",
       "       [-3.26301842e-02, -3.43885714e+00, -1.30217906e+01],\n",
       "       [-6.74961011e+00, -1.55731777e+00, -2.38094508e-01],\n",
       "       [-2.78844641e+00, -3.64046001e-01, -1.41212898e+00],\n",
       "       [-2.48612402e-02, -3.70687466e+00, -1.43241661e+01],\n",
       "       [-5.51024114e+00, -1.06297520e+00, -4.29970477e-01],\n",
       "       [-1.00742405e+01, -3.33609211e+00, -3.62676561e-02],\n",
       "       [-2.59839271e+00, -2.04949285e-01, -2.19896125e+00],\n",
       "       [-3.21575666e-02, -3.45317957e+00, -1.36750307e+01],\n",
       "       [-6.02458739e+00, -8.71021582e-01, -5.46353192e-01]])"
      ]
     },
     "execution_count": 29,
     "metadata": {},
     "output_type": "execute_result"
    }
   ],
   "source": [
    "# predict_proba를 사용하면 각 클래스에 속할 확률값을 예측할 수 있다.\n",
    "prob = logi.predict_log_proba(x_test)\n",
    "prob"
   ]
  },
  {
   "cell_type": "markdown",
   "id": "677c4bc9",
   "metadata": {},
   "source": [
    "### Decision Tree"
   ]
  },
  {
   "cell_type": "markdown",
   "id": "8642d692",
   "metadata": {},
   "source": [
    "- 의사결정나무 모델은 트리 알고리즘을 사용\n",
    "- 트리의 각 분기점(node)에는 데이터셋의 피처를 하나씩 위치시킴\n",
    "- 각 노드마다 해당 피처에 관해서 임의의 조건식을 가지고 계속 2개 이상의 줄기로 가지를 나누면서 데이터를 구분\n",
    "- 이때, 각 분기점에서 분류가 가장 잘되는 최적의 기준을 찾는 과정이 중요\n",
    "- 하이퍼파라미터 많음 -> 과대적합을 방지 필요"
   ]
  },
  {
   "cell_type": "code",
   "execution_count": 31,
   "id": "39a9ba26",
   "metadata": {},
   "outputs": [
    {
     "name": "stdout",
     "output_type": "stream",
     "text": [
      "0.9736842105263158\n",
      "0.9736842105263158\n"
     ]
    }
   ],
   "source": [
    "from sklearn.tree import DecisionTreeClassifier\n",
    "#모델 생성\n",
    "dt = DecisionTreeClassifier()\n",
    "#모델 학습\n",
    "dt.fit(x_train, y_train)\n",
    "#모델 예측\n",
    "predict = dt.predict(x_test)\n",
    "#모델 평가\n",
    "print(dt.score(x_test, y_test))\n",
    "print(accuracy_score(y_test, predict))"
   ]
  },
  {
   "cell_type": "markdown",
   "id": "7c8bc258",
   "metadata": {},
   "source": [
    "### SVM"
   ]
  },
  {
   "cell_type": "markdown",
   "id": "dd6ce3bb",
   "metadata": {},
   "source": [
    "- svm 알고리즘은 데이터셋의 각 피처(열) 벡터들이 고유의 축을 갖는 벡터 공간을이룬다고 가정\n",
    "- 모든 데이터를 벡터 공간 내의 좌표에 점으로 표시하고, 각 데이터가 속하는 목표 클래스(label)별로 나뉜다고 생각을 하면됨\n",
    "- hyper plane(초평면) : 데이터 차원 N차원을 가지고있으면, N - 1차원을 가지는 subspace 표현\n",
    "- support vector : 각 클래스별로 최외각에 있는 벡터\n",
    "- margin : 각 레이블들 사이의 여백\n",
    "- C : 이상치 - hard margin / soft margin\n",
    "- gamma : 결정경계의공률을 결정하는데 사용\n",
    "- kernel : 'linear'-선형, 'poly'-다항식, 'rbf'-가우시안함수"
   ]
  },
  {
   "cell_type": "code",
   "execution_count": 34,
   "id": "10d43284",
   "metadata": {},
   "outputs": [
    {
     "name": "stdout",
     "output_type": "stream",
     "text": [
      "0.9736842105263158\n",
      "0.9736842105263158\n"
     ]
    }
   ],
   "source": [
    "from sklearn.svm import SVC\n",
    "\n",
    "svc = SVC(kernel='linear') #'linear', 'poly', 'rbf'\n",
    "svc.fit(x_train, y_train)\n",
    "pred = svc.predict(x_test)\n",
    "print(svc.score(x_test, y_test))\n",
    "print(accuracy_score(y_test, pred))"
   ]
  },
  {
   "cell_type": "code",
   "execution_count": null,
   "id": "d751f34e",
   "metadata": {},
   "outputs": [],
   "source": []
  },
  {
   "cell_type": "code",
   "execution_count": null,
   "id": "0601ca2e",
   "metadata": {},
   "outputs": [],
   "source": []
  },
  {
   "cell_type": "code",
   "execution_count": null,
   "id": "165b0c34",
   "metadata": {},
   "outputs": [],
   "source": []
  }
 ],
 "metadata": {
  "kernelspec": {
   "display_name": "Python 3 (ipykernel)",
   "language": "python",
   "name": "python3"
  },
  "language_info": {
   "codemirror_mode": {
    "name": "ipython",
    "version": 3
   },
   "file_extension": ".py",
   "mimetype": "text/x-python",
   "name": "python",
   "nbconvert_exporter": "python",
   "pygments_lexer": "ipython3",
   "version": "3.9.12"
  },
  "vscode": {
   "interpreter": {
    "hash": "4fb426db0f3ee2be9e5ab359abf5d058c2a19de96b4d6eda446b2c3017042fa6"
   }
  }
 },
 "nbformat": 4,
 "nbformat_minor": 5
}
