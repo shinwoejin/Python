{
 "cells": [
  {
   "cell_type": "markdown",
   "id": "5d0dc1f7",
   "metadata": {},
   "source": [
    "### k-fold"
   ]
  },
  {
   "cell_type": "code",
   "execution_count": 4,
   "id": "922be9db",
   "metadata": {},
   "outputs": [],
   "source": [
    "import numpy as np\n",
    "import pandas as pd\n",
    "from sklearn.model_selection import KFold\n",
    "\n",
    "x_data=np.array([\n",
    "    [2,1],\n",
    "    [3,2],\n",
    "    [3,4],\n",
    "    [5,5],\n",
    "    [7,5],\n",
    "    [2,5],\n",
    "    [8,9],\n",
    "    [9,10],\n",
    "    [6,12],\n",
    "    [9,2],\n",
    "    [6,10],\n",
    "    [2,4]  \n",
    "])"
   ]
  },
  {
   "cell_type": "code",
   "execution_count": 5,
   "id": "ac624d18",
   "metadata": {},
   "outputs": [],
   "source": [
    "kf = KFold(n_splits=5)"
   ]
  },
  {
   "cell_type": "code",
   "execution_count": 6,
   "id": "bc840056",
   "metadata": {},
   "outputs": [
    {
     "name": "stdout",
     "output_type": "stream",
     "text": [
      "train_index :  [ 3  4  5  6  7  8  9 10 11]\n",
      "test_index :  [0 1 2]\n",
      "train_index :  [ 0  1  2  6  7  8  9 10 11]\n",
      "test_index :  [3 4 5]\n",
      "train_index :  [ 0  1  2  3  4  5  8  9 10 11]\n",
      "test_index :  [6 7]\n",
      "train_index :  [ 0  1  2  3  4  5  6  7 10 11]\n",
      "test_index :  [8 9]\n",
      "train_index :  [0 1 2 3 4 5 6 7 8 9]\n",
      "test_index :  [10 11]\n"
     ]
    }
   ],
   "source": [
    "for train_index, test_index in kf.split(x_data):\n",
    "    print('train_index : ', train_index)\n",
    "    print('test_index : ', test_index)"
   ]
  },
  {
   "cell_type": "markdown",
   "id": "1471753f",
   "metadata": {},
   "source": [
    "#### K-Fold 교차검증 -> 보통 회귀 문제에서 사용됨\n",
    "- 학습 데이터와 테스트 데이터를 K개의 세트로 나누어 검증하는 방법\n",
    "- 데이터셋이 굉장히 적을 때 훈련데이터를 어떻게든 최대한 늘려보려고 사용되기도 하는 방법\n",
    "- 여러 개의 훈련 테스트 짝으로 검증과정을 거침"
   ]
  },
  {
   "cell_type": "code",
   "execution_count": 7,
   "id": "1fed1364",
   "metadata": {},
   "outputs": [],
   "source": [
    "from sklearn.model_selection import train_test_split\n",
    "from sklearn.linear_model import LinearRegression"
   ]
  },
  {
   "cell_type": "markdown",
   "id": "b2d746b0",
   "metadata": {},
   "source": [
    "#### 2.데이터 수집"
   ]
  },
  {
   "cell_type": "code",
   "execution_count": 8,
   "id": "66e5785a",
   "metadata": {},
   "outputs": [],
   "source": [
    "x_data=np.array([\n",
    "    [2,1],\n",
    "    [3,2],\n",
    "    [3,4],\n",
    "    [5,5],\n",
    "    [7,5],\n",
    "    [2,5],\n",
    "    [8,9],\n",
    "    [9,10],\n",
    "    [6,12],\n",
    "    [9,2],\n",
    "    [6,10],\n",
    "    [2,4]  \n",
    "])\n",
    "\n",
    "y_data = np.array([3, 5, 7, 10, 12, 7, 13, 13, 12, 13, 12, 6])"
   ]
  },
  {
   "cell_type": "markdown",
   "id": "918223a7",
   "metadata": {},
   "source": [
    "#### 3.데이터 전처리\n",
    "#### 4.EDA\n",
    "#### 5-7.모델링(모델선택, 학습, 평가)"
   ]
  },
  {
   "cell_type": "code",
   "execution_count": 11,
   "id": "0df1e65f",
   "metadata": {},
   "outputs": [],
   "source": [
    "lr = LinearRegression()\n",
    "\n",
    "train_scores = []\n",
    "test_scores = []\n",
    "\n",
    "kf = KFold(n_splits=5)\n",
    "for train_index, test_index in kf.split(x_data) : #5번 검증\n",
    "    x_train = np.array(x_data)[train_index]\n",
    "    y_train = np.array(y_data)[train_index]\n",
    "    x_test = np.array(x_data)[test_index]\n",
    "    y_test = np.array(y_data)[test_index]\n",
    "    \n",
    "    model_kf = LinearRegression()\n",
    "    model_kf.fit(x_train, y_train)\n",
    "    \n",
    "    score = model_kf.score(x_train, y_train)\n",
    "    train_scores.append(score)\n",
    "    \n",
    "    score = model_kf.score(x_test, y_test)\n",
    "    test_scores.append(score)"
   ]
  },
  {
   "cell_type": "code",
   "execution_count": 17,
   "id": "2a90b59b",
   "metadata": {},
   "outputs": [
    {
     "name": "stdout",
     "output_type": "stream",
     "text": [
      "[0.9522707858769932, 0.9469593697441799, 0.9446524178499608, 0.9232432525564045, 0.9166499001004778]\n",
      "[-1.1475590101753324, 0.56847222331606, 0.0, -11.7747639790487, 0.9602035173350366]\n"
     ]
    }
   ],
   "source": [
    "print(train_scores)\n",
    "print(test_scores)"
   ]
  },
  {
   "cell_type": "code",
   "execution_count": 15,
   "id": "42fcaba4",
   "metadata": {},
   "outputs": [
    {
     "name": "stdout",
     "output_type": "stream",
     "text": [
      "0.9367551452256032\n",
      "-2.278729449714587\n"
     ]
    }
   ],
   "source": [
    "print(np.array(train_scores).mean())\n",
    "print(np.array(test_scores).mean())"
   ]
  },
  {
   "cell_type": "markdown",
   "id": "ed64bf2b",
   "metadata": {},
   "source": [
    "#### cross_val_score"
   ]
  },
  {
   "cell_type": "code",
   "execution_count": null,
   "id": "53cab7bb",
   "metadata": {},
   "outputs": [],
   "source": []
  },
  {
   "cell_type": "code",
   "execution_count": null,
   "id": "caca0a4a",
   "metadata": {},
   "outputs": [],
   "source": []
  },
  {
   "cell_type": "code",
   "execution_count": null,
   "id": "5424fb8c",
   "metadata": {},
   "outputs": [],
   "source": []
  },
  {
   "cell_type": "code",
   "execution_count": null,
   "id": "d121ac4a",
   "metadata": {},
   "outputs": [],
   "source": []
  },
  {
   "cell_type": "code",
   "execution_count": null,
   "id": "c17c5f03",
   "metadata": {},
   "outputs": [],
   "source": []
  },
  {
   "cell_type": "code",
   "execution_count": null,
   "id": "0cf2ab70",
   "metadata": {},
   "outputs": [],
   "source": []
  },
  {
   "cell_type": "code",
   "execution_count": null,
   "id": "ec416542",
   "metadata": {},
   "outputs": [],
   "source": []
  },
  {
   "cell_type": "code",
   "execution_count": null,
   "id": "bce45399",
   "metadata": {},
   "outputs": [],
   "source": []
  }
 ],
 "metadata": {
  "kernelspec": {
   "display_name": "Python 3.9.12 ('base')",
   "language": "python",
   "name": "python3"
  },
  "language_info": {
   "codemirror_mode": {
    "name": "ipython",
    "version": 3
   },
   "file_extension": ".py",
   "mimetype": "text/x-python",
   "name": "python",
   "nbconvert_exporter": "python",
   "pygments_lexer": "ipython3",
   "version": "3.9.12"
  },
  "vscode": {
   "interpreter": {
    "hash": "4fb426db0f3ee2be9e5ab359abf5d058c2a19de96b4d6eda446b2c3017042fa6"
   }
  }
 },
 "nbformat": 4,
 "nbformat_minor": 5
}
