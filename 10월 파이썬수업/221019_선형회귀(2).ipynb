{
 "cells": [
  {
   "cell_type": "code",
   "execution_count": 22,
   "id": "4a3db6d0",
   "metadata": {},
   "outputs": [],
   "source": [
    "import mglearn\n",
    "from sklearn.linear_model import LinearRegression\n",
    "from sklearn.linear_model import Ridge\n",
    "from sklearn.linear_model import Lasso\n",
    "from sklearn.model_selection import train_test_split"
   ]
  },
  {
   "cell_type": "code",
   "execution_count": 23,
   "id": "f5db94b4",
   "metadata": {},
   "outputs": [],
   "source": [
    "X, y = mglearn.datasets.make_wave(n_samples=60)"
   ]
  },
  {
   "cell_type": "code",
   "execution_count": 24,
   "id": "2981db85",
   "metadata": {},
   "outputs": [
    {
     "data": {
      "text/plain": [
       "array([-1.18073311,  0.50015912,  0.13772889,  1.17396178, -1.32035898,\n",
       "       -2.37364735, -0.70117304,  1.20319981,  0.29262945,  0.44971554,\n",
       "       -0.48647165,  1.39515571,  1.0738403 , -1.30838148, -1.27708305,\n",
       "       -0.94575843, -0.32691082,  0.26134393, -1.25635546, -0.74646948,\n",
       "        0.96250584, -0.75240909, -0.17851354,  0.13368988, -0.38575444,\n",
       "        0.79900059, -1.11948406,  0.97923163,  0.65823236, -0.08137001,\n",
       "       -0.72142625, -1.0767626 , -0.83684971,  0.70945882,  0.95081838,\n",
       "        0.38109799, -0.19612826, -0.9139074 ,  0.81263817, -0.93416482,\n",
       "       -1.7113156 , -0.32309571, -0.44713127,  1.19812891, -0.75150632,\n",
       "        0.40012342, -0.02565504,  0.77613985,  0.23938228, -1.58831973,\n",
       "        0.73141352,  0.25092544,  1.01581268,  1.28948157,  0.65213403,\n",
       "        0.82614241, -1.7240941 , -1.54664568, -1.03731593, -0.49131681])"
      ]
     },
     "execution_count": 24,
     "metadata": {},
     "output_type": "execute_result"
    }
   ],
   "source": [
    "y"
   ]
  },
  {
   "cell_type": "code",
   "execution_count": 25,
   "id": "63fb0588",
   "metadata": {},
   "outputs": [
    {
     "data": {
      "text/plain": [
       "Ridge(alpha=1)"
      ]
     },
     "execution_count": 25,
     "metadata": {},
     "output_type": "execute_result"
    }
   ],
   "source": [
    "X_train, X_test, y_train, y_test = train_test_split(X,y,random_state=0)\n",
    "model=Ridge(alpha=1) #alpha값 지정해줘야함.\n",
    "#model = LinearRegression() Ridge import 안했으면 이걸로 써야함\n",
    "model.fit(X_train,y_train)"
   ]
  },
  {
   "cell_type": "code",
   "execution_count": 26,
   "id": "975c62fe",
   "metadata": {},
   "outputs": [
    {
     "data": {
      "text/plain": [
       "Lasso(alpha=0.1)"
      ]
     },
     "execution_count": 26,
     "metadata": {},
     "output_type": "execute_result"
    }
   ],
   "source": [
    "X_train, X_test, y_train, y_test = train_test_split(X,y,random_state=0)\n",
    "model=Lasso(alpha=0.1)\n",
    "model.fit(X_train,y_train)"
   ]
  },
  {
   "cell_type": "code",
   "execution_count": 27,
   "id": "816196aa",
   "metadata": {},
   "outputs": [
    {
     "data": {
      "text/plain": [
       "0.7116537911993559"
      ]
     },
     "execution_count": 27,
     "metadata": {},
     "output_type": "execute_result"
    }
   ],
   "source": [
    "model.score(X_test,y_test) #r_scorer값 : 높을 수록 좋다."
   ]
  },
  {
   "cell_type": "code",
   "execution_count": 28,
   "id": "c2b90a6c",
   "metadata": {},
   "outputs": [
    {
     "data": {
      "text/plain": [
       "array([0.40890668])"
      ]
     },
     "execution_count": 28,
     "metadata": {},
     "output_type": "execute_result"
    }
   ],
   "source": [
    "model.coef_ #회귀계수출력, array로 나오는 이유는? 다항회귀가 되기 때문에"
   ]
  },
  {
   "cell_type": "code",
   "execution_count": 29,
   "id": "3fa5cebd",
   "metadata": {},
   "outputs": [
    {
     "data": {
      "text/plain": [
       "-0.02464192453984297"
      ]
     },
     "execution_count": 29,
     "metadata": {},
     "output_type": "execute_result"
    }
   ],
   "source": [
    "model.intercept_ #y절편출력"
   ]
  },
  {
   "cell_type": "code",
   "execution_count": 30,
   "id": "5772ed44",
   "metadata": {},
   "outputs": [
    {
     "data": {
      "text/plain": [
       "-0.02464192453984297"
      ]
     },
     "execution_count": 30,
     "metadata": {},
     "output_type": "execute_result"
    }
   ],
   "source": [
    "model.intercept_"
   ]
  },
  {
   "cell_type": "code",
   "execution_count": 31,
   "id": "a1008379",
   "metadata": {},
   "outputs": [
    {
     "name": "stdout",
     "output_type": "stream",
     "text": [
      "[-0.7614743]\n",
      "[0.73199249]\n",
      "[-0.45318349]\n",
      "[0.20209168]\n",
      "[1.12825373]\n",
      "[0.54454131]\n",
      "[1.11775836]\n",
      "[-1.14039951]\n",
      "[-0.95194846]\n",
      "[-0.53460257]\n",
      "[-0.86857957]\n",
      "[-1.20085913]\n",
      "[0.23921292]\n",
      "[-0.03647509]\n",
      "[1.07667184]\n"
     ]
    }
   ],
   "source": [
    "for i in X_test:\n",
    "    print(model.coef_*i+model.intercept_)"
   ]
  },
  {
   "cell_type": "code",
   "execution_count": 32,
   "id": "3c840873",
   "metadata": {},
   "outputs": [],
   "source": [
    "import matplotlib.pyplot as plt"
   ]
  },
  {
   "cell_type": "code",
   "execution_count": 33,
   "id": "02366f60",
   "metadata": {},
   "outputs": [
    {
     "data": {
      "text/plain": [
       "array([-0.7614743 ,  0.73199249, -0.45318349,  0.20209168,  1.12825373,\n",
       "        0.54454131,  1.11775836, -1.14039951, -0.95194846, -0.53460257,\n",
       "       -0.86857957, -1.20085913,  0.23921292, -0.03647509,  1.07667184])"
      ]
     },
     "execution_count": 33,
     "metadata": {},
     "output_type": "execute_result"
    }
   ],
   "source": [
    "model.predict(X_test)"
   ]
  },
  {
   "cell_type": "code",
   "execution_count": 34,
   "id": "b3820ae0",
   "metadata": {},
   "outputs": [
    {
     "data": {
      "text/plain": [
       "[array([-0.7614743]),\n",
       " array([0.73199249]),\n",
       " array([-0.45318349]),\n",
       " array([0.20209168]),\n",
       " array([1.12825373]),\n",
       " array([0.54454131]),\n",
       " array([1.11775836]),\n",
       " array([-1.14039951]),\n",
       " array([-0.95194846]),\n",
       " array([-0.53460257]),\n",
       " array([-0.86857957]),\n",
       " array([-1.20085913]),\n",
       " array([0.23921292]),\n",
       " array([-0.03647509]),\n",
       " array([1.07667184])]"
      ]
     },
     "execution_count": 34,
     "metadata": {},
     "output_type": "execute_result"
    }
   ],
   "source": [
    "[model.coef_*x+model.intercept_ for x in X_test]"
   ]
  },
  {
   "cell_type": "markdown",
   "id": "d85d24b9",
   "metadata": {},
   "source": [
    "model.predict(X_test) 랑 [model.coef_*x+model.intercept_ for x in X_test] 같은\n",
    "결과가 나오는 이유는?\n",
    "회귀분석식 : y=0.44(coef값)x(X_test)-0.017(y절편) -> mse 0.69나옴\n",
    "\n",
    "즉, predict를 하는 값과 수식에 대입해서 계산하는 결과가 같게 나옴. "
   ]
  },
  {
   "cell_type": "code",
   "execution_count": 35,
   "id": "4c85dd64",
   "metadata": {},
   "outputs": [
    {
     "data": {
      "text/plain": [
       "array([[-1.80195731],\n",
       "       [ 1.85038409],\n",
       "       [-1.04801802],\n",
       "       [ 0.55448741],\n",
       "       [ 2.81945911],\n",
       "       [ 1.39196365],\n",
       "       [ 2.7937922 ],\n",
       "       [-2.72863627],\n",
       "       [-2.26777059],\n",
       "       [-1.24713211],\n",
       "       [-2.06388816],\n",
       "       [-2.87649303],\n",
       "       [ 0.64526911],\n",
       "       [-0.02893854],\n",
       "       [ 2.69331322]])"
      ]
     },
     "execution_count": 35,
     "metadata": {},
     "output_type": "execute_result"
    }
   ],
   "source": [
    "X_test"
   ]
  },
  {
   "cell_type": "code",
   "execution_count": 36,
   "id": "637275cf",
   "metadata": {},
   "outputs": [
    {
     "data": {
      "text/plain": [
       "<matplotlib.collections.PathCollection at 0x1b34fdc2580>"
      ]
     },
     "execution_count": 36,
     "metadata": {},
     "output_type": "execute_result"
    },
    {
     "data": {
      "image/png": "[encoded data removed]",
      "text/plain": [
       "<Figure size 432x288 with 1 Axes>"
      ]
     },
     "metadata": {
      "needs_background": "light"
     },
     "output_type": "display_data"
    }
   ],
   "source": [
    "plt.plot(X_test,[model.coef_*x+model.intercept_ for x in X_test],c=\"r\")\n",
    "plt.scatter(X_test, y_test,c=\"b\")"
   ]
  },
  {
   "cell_type": "code",
   "execution_count": 37,
   "id": "ec56eed9",
   "metadata": {},
   "outputs": [
    {
     "data": {
      "text/plain": [
       "<matplotlib.collections.PathCollection at 0x1b350e76520>"
      ]
     },
     "execution_count": 37,
     "metadata": {},
     "output_type": "execute_result"
    },
    {
     "data": {
      "image/png": "[encoded data removed]",
      "text/plain": [
       "<Figure size 432x288 with 1 Axes>"
      ]
     },
     "metadata": {
      "needs_background": "light"
     },
     "output_type": "display_data"
    }
   ],
   "source": [
    "plt.plot(X_test,model.predict(X_test),c=\"r\")\n",
    "plt.scatter(X_test, y_test,c=\"b\")"
   ]
  },
  {
   "cell_type": "code",
   "execution_count": null,
   "id": "0050ac9f",
   "metadata": {},
   "outputs": [],
   "source": []
  },
  {
   "cell_type": "code",
   "execution_count": null,
   "id": "515b396e",
   "metadata": {},
   "outputs": [],
   "source": []
  },
  {
   "cell_type": "code",
   "execution_count": null,
   "id": "b58aa826",
   "metadata": {},
   "outputs": [],
   "source": []
  }
 ],
 "metadata": {
  "kernelspec": {
   "display_name": "Python 3.9.12 ('base')",
   "language": "python",
   "name": "python3"
  },
  "language_info": {
   "codemirror_mode": {
    "name": "ipython",
    "version": 3
   },
   "file_extension": ".py",
   "mimetype": "text/x-python",
   "name": "python",
   "nbconvert_exporter": "python",
   "pygments_lexer": "ipython3",
   "version": "3.9.12"
  },
  "vscode": {
   "interpreter": {
    "hash": "4fb426db0f3ee2be9e5ab359abf5d058c2a19de96b4d6eda446b2c3017042fa6"
   }
  }
 },
 "nbformat": 4,
 "nbformat_minor": 5
}
