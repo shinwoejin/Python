{
 "cells": [
  {
   "cell_type": "code",
   "execution_count": 1,
   "metadata": {},
   "outputs": [],
   "source": [
    "from sklearn.datasets import load_breast_cancer\n",
    "from sklearn.model_selection import train_test_split"
   ]
  },
  {
   "cell_type": "code",
   "execution_count": 2,
   "metadata": {},
   "outputs": [
    {
     "data": {
      "text/plain": [
       "dict_keys(['data', 'target', 'frame', 'target_names', 'DESCR', 'feature_names', 'filename', 'data_module'])"
      ]
     },
     "execution_count": 2,
     "metadata": {},
     "output_type": "execute_result"
    }
   ],
   "source": [
    "cancer = load_breast_cancer()\n",
    "cancer.keys()"
   ]
  },
  {
   "cell_type": "code",
   "execution_count": 3,
   "metadata": {},
   "outputs": [],
   "source": [
    "x_train, x_test, y_train, y_test = train_test_split(cancer.data, cancer.target,\n",
    "                                                    random_state=1234)"
   ]
  },
  {
   "cell_type": "markdown",
   "metadata": {},
   "source": [
    "### 1. StandardScaler\n",
    "\n",
    "- 각 데이터와 feature들의 평균을 0, 분산을 1로 변경\n",
    "- 모든 feature들이 같은 스케일을 갖게됨"
   ]
  },
  {
   "cell_type": "code",
   "execution_count": 4,
   "metadata": {},
   "outputs": [
    {
     "data": {
      "text/plain": [
       "StandardScaler()"
      ]
     },
     "execution_count": 4,
     "metadata": {},
     "output_type": "execute_result"
    }
   ],
   "source": [
    "from sklearn.preprocessing import StandardScaler\n",
    "\n",
    "scaler1 = StandardScaler()\n",
    "scaler1.fit(x_train)"
   ]
  },
  {
   "cell_type": "code",
   "execution_count": 5,
   "metadata": {
    "scrolled": true
   },
   "outputs": [
    {
     "data": {
      "text/plain": [
       "array([[1.617e+01, 1.607e+01, 1.063e+02, ..., 1.251e-01, 3.153e-01,\n",
       "        8.960e-02],\n",
       "       [1.317e+01, 1.866e+01, 8.598e+01, ..., 2.088e-01, 3.900e-01,\n",
       "        1.179e-01],\n",
       "       [1.247e+01, 1.731e+01, 8.045e+01, ..., 1.053e-01, 3.035e-01,\n",
       "        7.661e-02],\n",
       "       ...,\n",
       "       [1.247e+01, 1.860e+01, 8.109e+01, ..., 1.015e-01, 3.014e-01,\n",
       "        8.750e-02],\n",
       "       [1.822e+01, 1.870e+01, 1.203e+02, ..., 1.325e-01, 3.021e-01,\n",
       "        7.987e-02],\n",
       "       [1.272e+01, 1.378e+01, 8.178e+01, ..., 6.343e-02, 2.369e-01,\n",
       "        6.922e-02]])"
      ]
     },
     "execution_count": 5,
     "metadata": {},
     "output_type": "execute_result"
    }
   ],
   "source": [
    "x_train"
   ]
  },
  {
   "cell_type": "code",
   "execution_count": 7,
   "metadata": {
    "scrolled": true
   },
   "outputs": [
    {
     "data": {
      "text/plain": [
       "array([[ 0.56834943, -0.7455382 ,  0.58009089, ...,  0.14461744,\n",
       "         0.39847515,  0.28446451],\n",
       "       [-0.28961453, -0.14718352, -0.26447524, ...,  1.41557963,\n",
       "         1.61872573,  1.78132724],\n",
       "       [-0.48980612, -0.45906723, -0.49432026, ..., -0.15604028,\n",
       "         0.20571803, -0.40261135],\n",
       "       ...,\n",
       "       [-0.48980612, -0.16104502, -0.46771975, ..., -0.21374227,\n",
       "         0.1714138 ,  0.17338989],\n",
       "       [ 1.15462481, -0.13794252,  1.16197701, ...,  0.25698447,\n",
       "         0.18284854, -0.23018123],\n",
       "       [-0.41830912, -1.2745854 , -0.43904107, ..., -0.79182507,\n",
       "        -0.88221622, -0.79348823]])"
      ]
     },
     "execution_count": 7,
     "metadata": {},
     "output_type": "execute_result"
    }
   ],
   "source": [
    "x_scaled1 = scaler1.transform(x_train)\n",
    "x_scaled1"
   ]
  },
  {
   "cell_type": "code",
   "execution_count": 8,
   "metadata": {
    "scrolled": false
   },
   "outputs": [
    {
     "name": "stdout",
     "output_type": "stream",
     "text": [
      "스케일 조정 전 min value :  [6.981e+00 1.038e+01 4.379e+01 1.435e+02 5.263e-02 1.938e-02 0.000e+00\n",
      " 0.000e+00 1.060e-01 4.996e-02 1.115e-01 3.602e-01 7.570e-01 7.228e+00\n",
      " 2.838e-03 2.252e-03 0.000e+00 0.000e+00 7.882e-03 8.948e-04 7.930e+00\n",
      " 1.249e+01 5.041e+01 1.852e+02 8.125e-02 3.432e-02 0.000e+00 0.000e+00\n",
      " 1.565e-01 5.504e-02]\n",
      "스케일 조정 전 max value :  [2.811e+01 3.381e+01 1.885e+02 2.499e+03 1.447e-01 3.114e-01 4.268e-01\n",
      " 2.012e-01 3.040e-01 9.744e-02 2.873e+00 3.896e+00 2.198e+01 5.256e+02\n",
      " 3.113e-02 1.354e-01 3.960e-01 5.279e-02 6.146e-02 2.984e-02 3.313e+01\n",
      " 4.954e+01 2.293e+02 3.234e+03 2.226e-01 1.058e+00 1.252e+00 2.910e-01\n",
      " 6.638e-01 2.075e-01]\n",
      "스케일 조정 후 min value :  [-2.05959418 -2.06007032 -2.01803061 -1.47906849 -3.11840193 -1.61914251\n",
      " -1.12209848 -1.26938777 -2.78192834 -1.81018812 -1.07589572 -1.56507334\n",
      " -1.05735035 -0.77526135 -1.37519266 -1.27269316 -1.00981927 -1.8540401\n",
      " -1.58069217 -1.08204572 -1.75802372 -2.12998626 -1.72206377 -1.25531716\n",
      " -2.2407888  -1.36335806 -1.2896095  -1.75499271 -2.19557829 -1.54350637]\n",
      "스케일 조정 후 max value :  [ 3.983046    3.35284486  3.99659366  5.2755639   3.42419492  3.94256298\n",
      "  4.20261238  3.91312864  4.51510874  4.92100768  9.00399628  4.83781834\n",
      "  9.51423902 11.3763671   7.75293988  5.98025485 11.36998328  6.44619355\n",
      "  5.1657793   9.67511962  3.51968449  3.81326034  3.64761068  4.21809238\n",
      "  3.87029285  4.90322123  4.50512912  2.66376471  6.09134431  6.520511  ]\n"
     ]
    }
   ],
   "source": [
    "print('스케일 조정 전 min value : ', x_train.min(axis=0))\n",
    "print('스케일 조정 전 max value : ', x_train.max(axis=0))\n",
    "print('스케일 조정 후 min value : ', x_scaled1.min(axis=0))\n",
    "print('스케일 조정 후 max value : ', x_scaled1.max(axis=0))"
   ]
  },
  {
   "cell_type": "markdown",
   "metadata": {},
   "source": [
    "### 2.RovustScaler\n",
    "- 모든 feature가 같은 크기를 갖는다는 점에서 StandardScaler 와 비슷하지만, 평균이랑 분산 대신에 median과 quartile을 사용\n",
    "- 이상치의 영향을 받지 않는다"
   ]
  },
  {
   "cell_type": "code",
   "execution_count": 9,
   "metadata": {},
   "outputs": [],
   "source": [
    "from sklearn.preprocessing import RobustScaler"
   ]
  },
  {
   "cell_type": "code",
   "execution_count": 11,
   "metadata": {},
   "outputs": [],
   "source": [
    "scaler2 = RobustScaler()\n",
    "x_scaled2 = scaler2.fit_transform(x_train)"
   ]
  },
  {
   "cell_type": "code",
   "execution_count": 12,
   "metadata": {
    "scrolled": false
   },
   "outputs": [
    {
     "name": "stdout",
     "output_type": "stream",
     "text": [
      "스케일 조정 전 min value :  [6.981e+00 1.038e+01 4.379e+01 1.435e+02 5.263e-02 1.938e-02 0.000e+00\n",
      " 0.000e+00 1.060e-01 4.996e-02 1.115e-01 3.602e-01 7.570e-01 7.228e+00\n",
      " 2.838e-03 2.252e-03 0.000e+00 0.000e+00 7.882e-03 8.948e-04 7.930e+00\n",
      " 1.249e+01 5.041e+01 1.852e+02 8.125e-02 3.432e-02 0.000e+00 0.000e+00\n",
      " 1.565e-01 5.504e-02]\n",
      "스케일 조정 전 max value :  [2.811e+01 3.381e+01 1.885e+02 2.499e+03 1.447e-01 3.114e-01 4.268e-01\n",
      " 2.012e-01 3.040e-01 9.744e-02 2.873e+00 3.896e+00 2.198e+01 5.256e+02\n",
      " 3.113e-02 1.354e-01 3.960e-01 5.279e-02 6.146e-02 2.984e-02 3.313e+01\n",
      " 4.954e+01 2.293e+02 3.234e+03 2.226e-01 1.058e+00 1.252e+00 2.910e-01\n",
      " 6.638e-01 2.075e-01]\n",
      "스케일 조정 후 min value :  [-1.52323232 -1.45791972 -1.5151781  -1.1130184  -2.28221021 -1.11380456\n",
      " -0.58652639 -0.63066754 -2.19880419 -1.36804093 -0.83926429 -1.16877816\n",
      " -0.89078985 -0.61672241 -1.24414368 -0.92590898 -0.93494541 -1.54861731\n",
      " -1.38189958 -0.96715574 -1.23415493 -1.45464726 -1.14370424 -0.88014453\n",
      " -1.74412533 -0.94163238 -0.8543761  -1.03141523 -1.93474088 -1.23394269]\n",
      "스케일 조정 후 max value :  [ 3.49851456  2.5869659   3.56325671  5.35635814  2.57444283  3.29670745\n",
      "  3.45887538  3.11572479  3.72047833  4.34727656 10.20231907  4.27740768\n",
      " 11.21243228 18.12582482  8.57435364  5.84490211 13.35721375  5.98608385\n",
      "  5.47169811 11.61634605  3.20246479  2.69428891  3.18593816  4.49361065\n",
      "  3.17667537  4.49263437  3.76427188  1.95611108  5.85489443  6.29866601]\n"
     ]
    }
   ],
   "source": [
    "print('스케일 조정 전 min value : ', x_train.min(axis=0))\n",
    "print('스케일 조정 전 max value : ', x_train.max(axis=0))\n",
    "print('스케일 조정 후 min value : ', x_scaled2.min(axis=0))\n",
    "print('스케일 조정 후 max value : ', x_scaled2.max(axis=0))"
   ]
  },
  {
   "cell_type": "markdown",
   "metadata": {},
   "source": [
    "### 3.MinMaxScaler\n",
    "- 모든 feature가 0과 1사이에 위치하게 만듦\n",
    "- 데이터가 2차원 셋일 경우, 모든 데이터는 x축의 0과 1사이의 y축의 0과 1사이의 위치하게 됨"
   ]
  },
  {
   "cell_type": "code",
   "execution_count": 13,
   "metadata": {},
   "outputs": [],
   "source": [
    "from sklearn.preprocessing import MinMaxScaler"
   ]
  },
  {
   "cell_type": "code",
   "execution_count": 14,
   "metadata": {},
   "outputs": [],
   "source": [
    "scaler3 = MinMaxScaler()\n",
    "x_scaled3 = scaler3.fit_transform(x_train)"
   ]
  },
  {
   "cell_type": "code",
   "execution_count": 17,
   "metadata": {
    "scrolled": false
   },
   "outputs": [
    {
     "name": "stdout",
     "output_type": "stream",
     "text": [
      "스케일 조정 전 min value :  [6.981e+00 1.038e+01 4.379e+01 1.435e+02 5.263e-02 1.938e-02 0.000e+00\n",
      " 0.000e+00 1.060e-01 4.996e-02 1.115e-01 3.602e-01 7.570e-01 7.228e+00\n",
      " 2.838e-03 2.252e-03 0.000e+00 0.000e+00 7.882e-03 8.948e-04 7.930e+00\n",
      " 1.249e+01 5.041e+01 1.852e+02 8.125e-02 3.432e-02 0.000e+00 0.000e+00\n",
      " 1.565e-01 5.504e-02]\n",
      "스케일 조정 전 max value :  [2.811e+01 3.381e+01 1.885e+02 2.499e+03 1.447e-01 3.114e-01 4.268e-01\n",
      " 2.012e-01 3.040e-01 9.744e-02 2.873e+00 3.896e+00 2.198e+01 5.256e+02\n",
      " 3.113e-02 1.354e-01 3.960e-01 5.279e-02 6.146e-02 2.984e-02 3.313e+01\n",
      " 4.954e+01 2.293e+02 3.234e+03 2.226e-01 1.058e+00 1.252e+00 2.910e-01\n",
      " 6.638e-01 2.075e-01]\n",
      "스케일 조정 후 min value :  [0. 0. 0. 0. 0. 0. 0. 0. 0. 0. 0. 0. 0. 0. 0. 0. 0. 0. 0. 0. 0. 0. 0. 0.\n",
      " 0. 0. 0. 0. 0. 0.]\n",
      "스케일 조정 후 max value :  [1. 1. 1. 1. 1. 1. 1. 1. 1. 1. 1. 1. 1. 1. 1. 1. 1. 1. 1. 1. 1. 1. 1. 1.\n",
      " 1. 1. 1. 1. 1. 1.]\n"
     ]
    }
   ],
   "source": [
    "print('스케일 조정 전 min value : ', x_train.min(axis=0))\n",
    "print('스케일 조정 전 max value : ', x_train.max(axis=0))\n",
    "print('스케일 조정 후 min value : ', x_scaled3.min(axis=0))\n",
    "print('스케일 조정 후 max value : ', x_scaled3.max(axis=0))"
   ]
  },
  {
   "cell_type": "markdown",
   "metadata": {},
   "source": [
    "### 4. Normalizer\n",
    "\n",
    "- standardscaler, RobustScaler, MinMaScaler 각 컬럼(feature)별로 스케일을 조절을 하는게 아니라 행(row)별로 정규화\n",
    "- 빠르게 학습을 할 수 있고, 과대적합될 확률을 낮출 수 있음"
   ]
  },
  {
   "cell_type": "code",
   "execution_count": 20,
   "metadata": {},
   "outputs": [],
   "source": [
    "from sklearn.preprocessing import Normalizer\n",
    "\n",
    "scaler4 = Normalizer()\n",
    "scaler4.fit(x_train)\n",
    "x_scaled4 = scaler4.transform(x_train)"
   ]
  },
  {
   "cell_type": "code",
   "execution_count": 21,
   "metadata": {},
   "outputs": [
    {
     "name": "stdout",
     "output_type": "stream",
     "text": [
      "스케일 조정 후 min value :  [6.16997567e-03 4.56825580e-03 4.00437389e-02 3.76233264e-01\n",
      " 2.66693006e-05 2.37805701e-05 0.00000000e+00 0.00000000e+00\n",
      " 4.57096286e-05 1.43634533e-05 1.38230416e-04 2.22630519e-04\n",
      " 8.95949678e-04 1.14342671e-02 1.17600717e-06 2.76335624e-06\n",
      " 0.00000000e+00 0.00000000e+00 3.33747542e-06 5.12412074e-07\n",
      " 7.84471206e-03 5.15445862e-03 5.26050595e-02 6.96047105e-01\n",
      " 3.18700148e-05 4.21129601e-05 0.00000000e+00 0.00000000e+00\n",
      " 4.59910547e-05 1.54187243e-05]\n",
      "스케일 조정 후 max value :  [2.84700680e-02 8.01402547e-02 1.78585343e-01 6.97400762e-01\n",
      " 4.77151978e-04 5.03168358e-04 8.25977854e-04 1.60675994e-04\n",
      " 7.87096852e-04 3.18835398e-04 1.65778661e-03 8.22310094e-03\n",
      " 9.48021244e-03 1.46680208e-01 6.14437683e-05 2.04414230e-04\n",
      " 7.96220132e-04 1.06142578e-04 1.81992000e-04 5.99980019e-05\n",
      " 3.23403007e-02 9.72121097e-02 2.05583173e-01 9.21243290e-01\n",
      " 6.45990370e-04 1.47441480e-03 2.97381613e-03 4.15669188e-04\n",
      " 1.19573470e-03 4.44506641e-04]\n"
     ]
    }
   ],
   "source": [
    "print('스케일 조정 후 min value : ', x_scaled4.min(axis=0))\n",
    "print('스케일 조정 후 max value : ', x_scaled4.max(axis=0))"
   ]
  },
  {
   "cell_type": "markdown",
   "metadata": {},
   "source": [
    "### 모델에 스케일링된 데이터 적용"
   ]
  },
  {
   "cell_type": "code",
   "execution_count": 22,
   "metadata": {},
   "outputs": [],
   "source": [
    "from sklearn.svm import SVC"
   ]
  },
  {
   "cell_type": "code",
   "execution_count": 23,
   "metadata": {},
   "outputs": [
    {
     "data": {
      "text/plain": [
       "SVC()"
      ]
     },
     "execution_count": 23,
     "metadata": {},
     "output_type": "execute_result"
    }
   ],
   "source": [
    "svc = SVC()\n",
    "svc.fit(x_train, y_train)"
   ]
  },
  {
   "cell_type": "code",
   "execution_count": 24,
   "metadata": {},
   "outputs": [
    {
     "name": "stdout",
     "output_type": "stream",
     "text": [
      "학습 데이터 정확도:  0.9154929577464789\n",
      "테스트 데이터 정확도 :  0.916083916083916\n"
     ]
    }
   ],
   "source": [
    "print('학습 데이터 정확도: ' , svc.score(x_train, y_train))\n",
    "print('테스트 데이터 정확도 : ',svc.score(x_test, y_test))"
   ]
  },
  {
   "cell_type": "code",
   "execution_count": 25,
   "metadata": {},
   "outputs": [
    {
     "data": {
      "text/plain": [
       "StandardScaler()"
      ]
     },
     "execution_count": 25,
     "metadata": {},
     "output_type": "execute_result"
    }
   ],
   "source": [
    "scaler = StandardScaler()\n",
    "scaler.fit(x_train)"
   ]
  },
  {
   "cell_type": "code",
   "execution_count": 28,
   "metadata": {},
   "outputs": [],
   "source": [
    "x_train_scaled = scaler.transform(x_train)\n",
    "x_test_scaled = scaler.transform(x_test)"
   ]
  },
  {
   "cell_type": "code",
   "execution_count": 29,
   "metadata": {},
   "outputs": [
    {
     "data": {
      "text/plain": [
       "SVC()"
      ]
     },
     "execution_count": 29,
     "metadata": {},
     "output_type": "execute_result"
    }
   ],
   "source": [
    "svc1 = SVC()\n",
    "svc1.fit(x_train_scaled, y_train)"
   ]
  },
  {
   "cell_type": "code",
   "execution_count": 30,
   "metadata": {},
   "outputs": [
    {
     "name": "stdout",
     "output_type": "stream",
     "text": [
      "학습 데이터 정확도:  0.6314553990610329\n",
      "테스트 데이터 정확도 :  0.6153846153846154\n"
     ]
    }
   ],
   "source": [
    "print('학습 데이터 정확도: ' , svc.score(x_train_scaled, y_train))\n",
    "print('테스트 데이터 정확도 : ',svc.score(x_test_scaled, y_test))"
   ]
  },
  {
   "cell_type": "code",
   "execution_count": null,
   "metadata": {},
   "outputs": [],
   "source": []
  },
  {
   "cell_type": "code",
   "execution_count": 31,
   "metadata": {},
   "outputs": [
    {
     "data": {
      "text/plain": [
       "RobustScaler()"
      ]
     },
     "execution_count": 31,
     "metadata": {},
     "output_type": "execute_result"
    }
   ],
   "source": [
    "scaler = RobustScaler()\n",
    "scaler.fit(x_train)"
   ]
  },
  {
   "cell_type": "code",
   "execution_count": null,
   "metadata": {},
   "outputs": [],
   "source": []
  }
 ],
 "metadata": {
  "kernelspec": {
   "display_name": "Python 3 (ipykernel)",
   "language": "python",
   "name": "python3"
  },
  "language_info": {
   "codemirror_mode": {
    "name": "ipython",
    "version": 3
   },
   "file_extension": ".py",
   "mimetype": "text/x-python",
   "name": "python",
   "nbconvert_exporter": "python",
   "pygments_lexer": "ipython3",
   "version": "3.9.12"
  },
  "vscode": {
   "interpreter": {
    "hash": "4fb426db0f3ee2be9e5ab359abf5d058c2a19de96b4d6eda446b2c3017042fa6"
   }
  }
 },
 "nbformat": 4,
 "nbformat_minor": 2
}
