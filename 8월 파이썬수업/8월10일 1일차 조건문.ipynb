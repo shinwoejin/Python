{
 "cells": [
  {
   "cell_type": "markdown",
   "id": "56041169",
   "metadata": {},
   "source": [
    "### 조건문"
   ]
  },
  {
   "cell_type": "code",
   "execution_count": null,
   "id": "36f43a23",
   "metadata": {},
   "outputs": [],
   "source": [
    "if 나는 부자다:\n",
    "    택시를 타고가자.\n",
    "else:\n",
    "    버스를 타고가자.\n",
    "    \n",
    "와 집에 도착했다!"
   ]
  },
  {
   "cell_type": "code",
   "execution_count": 20,
   "id": "259ac9bf",
   "metadata": {},
   "outputs": [
    {
     "name": "stdout",
     "output_type": "stream",
     "text": [
      "내가 가진 돈: 100001\n",
      "리무진을 타고 가자.\n",
      "우와 집이다!\n"
     ]
    }
   ],
   "source": [
    "money = int(input(\"내가 가진 돈: \"))\n",
    "\n",
    "if money >= 4000 and money < 100000:\n",
    "    print(\"택시를 타고 가자.\")\n",
    "    \n",
    "elif money >= 1300 and money < 4000:\n",
    "    print(\"버스트 타고 가자.\")\n",
    "    \n",
    "elif money >= 100000:\n",
    "    print(\"리무진을 타고 가자.\")\n",
    "    \n",
    "else:\n",
    "    print(\"걸어가자.\")\n",
    "    \n",
    "print(\"우와 집이다!\")"
   ]
  },
  {
   "cell_type": "markdown",
   "id": "5d0a42a3",
   "metadata": {},
   "source": [
    "- input 함수로 정수를 받습니다\n",
    "- 만약 주어진 수가 3의 배수라면 \"3의 배수입니다.\"를 출력합니다.\n",
    "- 만약 주어진 수가 3읩 배수가 아니라면 \"3의 배수가 아닙니다.\"를 출력합니다."
   ]
  },
  {
   "cell_type": "code",
   "execution_count": 7,
   "id": "ea188b3d",
   "metadata": {},
   "outputs": [
    {
     "name": "stdout",
     "output_type": "stream",
     "text": [
      "정수를 입력하세요: 0\n",
      "3의 배수입니다.\n"
     ]
    }
   ],
   "source": [
    "num = int(input(\"정수를 입력하세요: \"))\n",
    "\n",
    "if num % 3 == 0:\n",
    "    print(\"3의 배수입니다.\")\n",
    "else:\n",
    "    print(\"3의 배수가 아닙니다\")"
   ]
  },
  {
   "cell_type": "markdown",
   "id": "c00c9316",
   "metadata": {},
   "source": [
    "###  추천 선물 세트 구매\n",
    "- 추석 선물 세트는 1개에 1만원입니다.\n",
    "- 추석 선물 세트를 11개 이상 사면 11개째부터 10% 할인됩니다.\n",
    "- 추석 선물 세트를 몇 개 샀는지 input 함수로 받아, 총 얼마인지를 출력해주세요."
   ]
  },
  {
   "cell_type": "code",
   "execution_count": 23,
   "id": "f10288ba",
   "metadata": {},
   "outputs": [
    {
     "name": "stdout",
     "output_type": "stream",
     "text": [
      "구매할 개수를 입력하세요: 12\n",
      "118000\n"
     ]
    }
   ],
   "source": [
    "choosoek = int(input(\"구매할 개수를 입력하세요: \"))\n",
    "gift_price = 10000\n",
    "if choosoek <= 10:\n",
    "    price = choosoek * gift_price\n",
    "else:\n",
    "    price = choosoek * gift_price - ((choosoek - 10)*gift_price*0.1)\n",
    "print(int(price))"
   ]
  }
 ],
 "metadata": {
  "kernelspec": {
   "display_name": "Python 3 (ipykernel)",
   "language": "python",
   "name": "python3"
  },
  "language_info": {
   "codemirror_mode": {
    "name": "ipython",
    "version": 3
   },
   "file_extension": ".py",
   "mimetype": "text/x-python",
   "name": "python",
   "nbconvert_exporter": "python",
   "pygments_lexer": "ipython3",
   "version": "3.9.12"
  }
 },
 "nbformat": 4,
 "nbformat_minor": 5
}
