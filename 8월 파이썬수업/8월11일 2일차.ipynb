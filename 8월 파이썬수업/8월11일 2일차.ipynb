{
 "cells": [
  {
   "cell_type": "markdown",
   "id": "6526695e",
   "metadata": {},
   "source": [
    "### 문자열\n",
    "\n",
    "### 변수에 할당될 수 있는 자료형\n",
    "- 정수형 (integer)\n",
    "- 실수형 (float)\n",
    "- 문자형 (string)\n",
    "- 논리형 (boolean)\n",
    "\n",
    "### 숫자"
   ]
  },
  {
   "cell_type": "code",
   "execution_count": 1,
   "id": "c359c75b",
   "metadata": {},
   "outputs": [
    {
     "data": {
      "text/plain": [
       "int"
      ]
     },
     "execution_count": 1,
     "metadata": {},
     "output_type": "execute_result"
    }
   ],
   "source": [
    "jeongsu = 1\n",
    "type(jeongsu)"
   ]
  },
  {
   "cell_type": "code",
   "execution_count": 4,
   "id": "2094d934",
   "metadata": {},
   "outputs": [
    {
     "data": {
      "text/plain": [
       "float"
      ]
     },
     "execution_count": 4,
     "metadata": {},
     "output_type": "execute_result"
    }
   ],
   "source": [
    "silsu = 1.2\n",
    "type(silsu)"
   ]
  },
  {
   "cell_type": "code",
   "execution_count": 5,
   "id": "815bdd4c",
   "metadata": {},
   "outputs": [
    {
     "data": {
      "text/plain": [
       "1.0"
      ]
     },
     "execution_count": 5,
     "metadata": {},
     "output_type": "execute_result"
    }
   ],
   "source": [
    "float(jeongsu)"
   ]
  },
  {
   "cell_type": "code",
   "execution_count": 6,
   "id": "37f82fff",
   "metadata": {},
   "outputs": [
    {
     "data": {
      "text/plain": [
       "2"
      ]
     },
     "execution_count": 6,
     "metadata": {},
     "output_type": "execute_result"
    }
   ],
   "source": [
    "1 + 1"
   ]
  },
  {
   "cell_type": "code",
   "execution_count": 7,
   "id": "5db4be8d",
   "metadata": {},
   "outputs": [
    {
     "data": {
      "text/plain": [
       "0"
      ]
     },
     "execution_count": 7,
     "metadata": {},
     "output_type": "execute_result"
    }
   ],
   "source": [
    "1 - 1"
   ]
  },
  {
   "cell_type": "code",
   "execution_count": 8,
   "id": "c006409e",
   "metadata": {},
   "outputs": [
    {
     "data": {
      "text/plain": [
       "6"
      ]
     },
     "execution_count": 8,
     "metadata": {},
     "output_type": "execute_result"
    }
   ],
   "source": [
    "2 * 3"
   ]
  },
  {
   "cell_type": "code",
   "execution_count": 9,
   "id": "66d09baf",
   "metadata": {},
   "outputs": [
    {
     "data": {
      "text/plain": [
       "0.6666666666666666"
      ]
     },
     "execution_count": 9,
     "metadata": {},
     "output_type": "execute_result"
    }
   ],
   "source": [
    "2/3"
   ]
  },
  {
   "cell_type": "code",
   "execution_count": 11,
   "id": "2329314e",
   "metadata": {},
   "outputs": [
    {
     "data": {
      "text/plain": [
       "8"
      ]
     },
     "execution_count": 11,
     "metadata": {},
     "output_type": "execute_result"
    }
   ],
   "source": [
    "2**3"
   ]
  },
  {
   "cell_type": "code",
   "execution_count": 12,
   "id": "7bace0d0",
   "metadata": {},
   "outputs": [
    {
     "data": {
      "text/plain": [
       "2"
      ]
     },
     "execution_count": 12,
     "metadata": {},
     "output_type": "execute_result"
    }
   ],
   "source": [
    "7//3"
   ]
  },
  {
   "cell_type": "code",
   "execution_count": 13,
   "id": "2b87b63b",
   "metadata": {},
   "outputs": [
    {
     "data": {
      "text/plain": [
       "1"
      ]
     },
     "execution_count": 13,
     "metadata": {},
     "output_type": "execute_result"
    }
   ],
   "source": [
    "7%3"
   ]
  },
  {
   "cell_type": "markdown",
   "id": "282366c1",
   "metadata": {},
   "source": [
    "### 문자"
   ]
  },
  {
   "cell_type": "code",
   "execution_count": 14,
   "id": "57d9c3ca",
   "metadata": {},
   "outputs": [
    {
     "data": {
      "text/plain": [
       "str"
      ]
     },
     "execution_count": 14,
     "metadata": {},
     "output_type": "execute_result"
    }
   ],
   "source": [
    "b = 'banana'\n",
    "type(b)"
   ]
  },
  {
   "cell_type": "code",
   "execution_count": null,
   "id": "21f49f7a",
   "metadata": {},
   "outputs": [],
   "source": [
    "b a n a n a\n",
    "0 1 2 3 4 5\n",
    "-6-5-4-3-2-1"
   ]
  },
  {
   "cell_type": "code",
   "execution_count": 17,
   "id": "3adb7f74",
   "metadata": {},
   "outputs": [
    {
     "data": {
      "text/plain": [
       "str"
      ]
     },
     "execution_count": 17,
     "metadata": {},
     "output_type": "execute_result"
    }
   ],
   "source": [
    "b = \"banana\"\n",
    "type(b)"
   ]
  },
  {
   "cell_type": "code",
   "execution_count": 23,
   "id": "738851de",
   "metadata": {},
   "outputs": [
    {
     "data": {
      "text/plain": [
       "'name is stephany'"
      ]
     },
     "execution_count": 23,
     "metadata": {},
     "output_type": "execute_result"
    }
   ],
   "source": [
    "\"my name is stephany\"[3:]\n",
    "#[3:]뒤에 숫자를 비워두면 끝까지"
   ]
  },
  {
   "cell_type": "code",
   "execution_count": 29,
   "id": "6c231058",
   "metadata": {},
   "outputs": [
    {
     "name": "stdout",
     "output_type": "stream",
     "text": [
      "오늘 점심은 짜장면과 국밥입니다.\n"
     ]
    }
   ],
   "source": [
    "# menu = \"초밥\"\n",
    "menu1 = \"짜장면\"\n",
    "menu2 = \"국밥\"\n",
    "\n",
    "print(\"오늘 점심은 %s과 %s입니다.\"%(menu1, menu2))"
   ]
  },
  {
   "cell_type": "code",
   "execution_count": 31,
   "id": "b088a80c",
   "metadata": {},
   "outputs": [
    {
     "name": "stdout",
     "output_type": "stream",
     "text": [
      "오늘 점심은 짜장면과 짜장면입니다.\n"
     ]
    }
   ],
   "source": [
    "# menu1 = \"초밥\"\n",
    "menu2 = \"짜장면\"\n",
    "menu3 = \"국밥\"\n",
    "\n",
    "print(\"오늘 점심은 {0}과 {1}입니다.\".format(menu1, menu2))\n",
    "# print(f\"오늘 점심은 {menu1}과 {menu2}입니다.\")"
   ]
  },
  {
   "cell_type": "code",
   "execution_count": 34,
   "id": "6e07b661",
   "metadata": {},
   "outputs": [],
   "source": [
    "song = \"tell me tell me tetetete tell me\""
   ]
  },
  {
   "cell_type": "code",
   "execution_count": 35,
   "id": "34183390",
   "metadata": {},
   "outputs": [
    {
     "data": {
      "text/plain": [
       "3"
      ]
     },
     "execution_count": 35,
     "metadata": {},
     "output_type": "execute_result"
    }
   ],
   "source": [
    "song.count(\"tell me\")"
   ]
  },
  {
   "cell_type": "code",
   "execution_count": 33,
   "id": "bf524732",
   "metadata": {},
   "outputs": [
    {
     "data": {
      "text/plain": [
       "0"
      ]
     },
     "execution_count": 33,
     "metadata": {},
     "output_type": "execute_result"
    }
   ],
   "source": [
    "song.find(\"tell me\")"
   ]
  },
  {
   "cell_type": "code",
   "execution_count": 36,
   "id": "966ae875",
   "metadata": {},
   "outputs": [
    {
     "name": "stdout",
     "output_type": "stream",
     "text": [
      "TELL ME TELL ME TETETETE TELL ME\n",
      "tell me tell me tetetete tell me\n",
      "Tell Me Tell Me Tetetete Tell Me\n"
     ]
    }
   ],
   "source": [
    "print(song.upper())\n",
    "print(song.lower())\n",
    "print(song.title())"
   ]
  },
  {
   "cell_type": "code",
   "execution_count": 43,
   "id": "8cae4153",
   "metadata": {},
   "outputs": [
    {
     "data": {
      "text/plain": [
       "['', 'll me ', 'll me ', '', '', '', ' ', 'll me']"
      ]
     },
     "execution_count": 43,
     "metadata": {},
     "output_type": "execute_result"
    }
   ],
   "source": [
    "song.split(\"te\")"
   ]
  },
  {
   "cell_type": "code",
   "execution_count": 44,
   "id": "8a73eba9",
   "metadata": {},
   "outputs": [
    {
     "data": {
      "text/plain": [
       "'tell him tell him tetetete tell him'"
      ]
     },
     "execution_count": 44,
     "metadata": {},
     "output_type": "execute_result"
    }
   ],
   "source": [
    "song.replace(\"me\", \"him\")"
   ]
  },
  {
   "cell_type": "code",
   "execution_count": 45,
   "id": "586efa15",
   "metadata": {},
   "outputs": [
    {
     "data": {
      "text/plain": [
       "'안녕하세요'"
      ]
     },
     "execution_count": 45,
     "metadata": {},
     "output_type": "execute_result"
    }
   ],
   "source": [
    "\"안녕\" + \"하세요\""
   ]
  },
  {
   "cell_type": "code",
   "execution_count": 46,
   "id": "0a2fdbba",
   "metadata": {},
   "outputs": [
    {
     "data": {
      "text/plain": [
       "'안녕안녕안녕'"
      ]
     },
     "execution_count": 46,
     "metadata": {},
     "output_type": "execute_result"
    }
   ],
   "source": [
    "\"안녕\" * 3\n",
    "# 문자는 더하기와 곱하기만 가능"
   ]
  },
  {
   "cell_type": "markdown",
   "id": "2a902487",
   "metadata": {},
   "source": [
    "### 논리형"
   ]
  },
  {
   "cell_type": "code",
   "execution_count": 52,
   "id": "313754f1",
   "metadata": {},
   "outputs": [
    {
     "data": {
      "text/plain": [
       "True"
      ]
     },
     "execution_count": 52,
     "metadata": {},
     "output_type": "execute_result"
    }
   ],
   "source": [
    "1 <= 2\n",
    "# != 다르다\n",
    "# == 같다"
   ]
  },
  {
   "cell_type": "code",
   "execution_count": 57,
   "id": "e9e3a306",
   "metadata": {},
   "outputs": [
    {
     "data": {
      "text/plain": [
       "True"
      ]
     },
     "execution_count": 57,
     "metadata": {},
     "output_type": "execute_result"
    }
   ],
   "source": [
    "6%3 == 0 or 6%5 == 0\n",
    "# and 는 둘다 맞아야 true\n",
    "# or 는 둘중 하나만 맞아도 true\n",
    "# and 와 or 둘다 사용할땐 괄호()를 이용해서 사용"
   ]
  },
  {
   "cell_type": "markdown",
   "id": "7f74eead",
   "metadata": {},
   "source": [
    "\n",
    "### 조건문"
   ]
  },
  {
   "cell_type": "code",
   "execution_count": null,
   "id": "6c5ce395",
   "metadata": {},
   "outputs": [],
   "source": [
    "if 명제1:\n",
    "    명제가 참일 경우에 실행되는 코드\n",
    "    \n",
    "elif 명제2:\n",
    "    명제1은 거짓이지만, 명제2는 참일 경우에 실행되는 코드\n",
    "    \n",
    "else:\n",
    "    명제1과 명제2가 모두 거짓일 경우에 실행되는 코드\n",
    "# 둘다 명제1과 명제2 둘 모두 참일경우 if 가 실행된다"
   ]
  },
  {
   "cell_type": "code",
   "execution_count": 62,
   "id": "ad636c1e",
   "metadata": {},
   "outputs": [
    {
     "name": "stdout",
     "output_type": "stream",
     "text": [
      "버스를 타고간다.\n",
      "우와 집이다!\n"
     ]
    }
   ],
   "source": [
    "money = 2000\n",
    "if money >= 4000:\n",
    "    print(\"택시를 타고 간다.\")\n",
    "\n",
    "elif money < 4000 and money >= 1250:\n",
    "    print(\"버스를 타고간다.\")\n",
    "    \n",
    "else:\n",
    "    # print(\"걸어간다.\")\n",
    "    pass # 무시한다\n",
    "    \n",
    "print(\"우와 집이다!\")"
   ]
  },
  {
   "cell_type": "markdown",
   "id": "4cbd52e3",
   "metadata": {},
   "source": [
    "### 리스트, 튜플"
   ]
  },
  {
   "cell_type": "code",
   "execution_count": 65,
   "id": "36db67b2",
   "metadata": {},
   "outputs": [],
   "source": [
    "list1 = ['a', 'b', 'c', 'd', 'e']\n",
    "tuple1 = ('a', 'b', 'c', 'd', 'e')"
   ]
  },
  {
   "cell_type": "code",
   "execution_count": 67,
   "id": "b9280b03",
   "metadata": {},
   "outputs": [
    {
     "data": {
      "text/plain": [
       "['a', 'b', 'c', 'd', 'e', 'f']"
      ]
     },
     "execution_count": 67,
     "metadata": {},
     "output_type": "execute_result"
    }
   ],
   "source": [
    "# 원소 추가\n",
    "list1.append('f')\n",
    "list1"
   ]
  },
  {
   "cell_type": "code",
   "execution_count": 69,
   "id": "689e2069",
   "metadata": {},
   "outputs": [
    {
     "data": {
      "text/plain": [
       "['a', 'b', 'c', 'g', 'd', 'e', 'f']"
      ]
     },
     "execution_count": 69,
     "metadata": {},
     "output_type": "execute_result"
    }
   ],
   "source": [
    "# 특정위치에 원소 추가\n",
    "list1.insert(3, 'g')\n",
    "list1"
   ]
  },
  {
   "cell_type": "code",
   "execution_count": 70,
   "id": "116cb946",
   "metadata": {},
   "outputs": [
    {
     "data": {
      "text/plain": [
       "['a', 'b', 'c', 'd', 'e', 'f']"
      ]
     },
     "execution_count": 70,
     "metadata": {},
     "output_type": "execute_result"
    }
   ],
   "source": [
    "# 특정위치 원소 제거\n",
    "del list1[3]\n",
    "list1"
   ]
  },
  {
   "cell_type": "code",
   "execution_count": 71,
   "id": "899e826f",
   "metadata": {},
   "outputs": [
    {
     "data": {
      "text/plain": [
       "['a', 'b', 'c', 'd', 'e']"
      ]
     },
     "execution_count": 71,
     "metadata": {},
     "output_type": "execute_result"
    }
   ],
   "source": [
    "# 원소 지정 제거\n",
    "list1.remove('f')\n",
    "list1"
   ]
  },
  {
   "cell_type": "code",
   "execution_count": 72,
   "id": "ed90d3ff",
   "metadata": {},
   "outputs": [
    {
     "data": {
      "text/plain": [
       "['a', 'b', 'c', 'd']"
      ]
     },
     "execution_count": 72,
     "metadata": {},
     "output_type": "execute_result"
    }
   ],
   "source": [
    "# 맨뒤 원소 제거\n",
    "list1.pop()\n",
    "list1"
   ]
  },
  {
   "cell_type": "code",
   "execution_count": 73,
   "id": "5534b422",
   "metadata": {},
   "outputs": [
    {
     "data": {
      "text/plain": [
       "['e', 'b', 'c', 'd']"
      ]
     },
     "execution_count": 73,
     "metadata": {},
     "output_type": "execute_result"
    }
   ],
   "source": [
    "# 특정위치 원소 교체\n",
    "list1[0] = 'e'\n",
    "list1"
   ]
  },
  {
   "cell_type": "code",
   "execution_count": 74,
   "id": "96c93ae3",
   "metadata": {},
   "outputs": [
    {
     "data": {
      "text/plain": [
       "['d', 'c', 'b', 'e']"
      ]
     },
     "execution_count": 74,
     "metadata": {},
     "output_type": "execute_result"
    }
   ],
   "source": [
    "# 원소 배열 거꾸로 내림차순\n",
    "list1.reverse()\n",
    "list1"
   ]
  },
  {
   "cell_type": "code",
   "execution_count": 75,
   "id": "6b750bc5",
   "metadata": {},
   "outputs": [
    {
     "data": {
      "text/plain": [
       "['b', 'c', 'd', 'e']"
      ]
     },
     "execution_count": 75,
     "metadata": {},
     "output_type": "execute_result"
    }
   ],
   "source": [
    "# 배열 정렬 오름차순\n",
    "list1.sort()\n",
    "list1"
   ]
  },
  {
   "cell_type": "code",
   "execution_count": 76,
   "id": "67ff52a0",
   "metadata": {},
   "outputs": [
    {
     "data": {
      "text/plain": [
       "0.6468788158934244"
      ]
     },
     "execution_count": 76,
     "metadata": {},
     "output_type": "execute_result"
    }
   ],
   "source": [
    "import random\n",
    "random.random()"
   ]
  },
  {
   "cell_type": "code",
   "execution_count": 77,
   "id": "14d75bd6",
   "metadata": {},
   "outputs": [
    {
     "data": {
      "text/plain": [
       "'b'"
      ]
     },
     "execution_count": 77,
     "metadata": {},
     "output_type": "execute_result"
    }
   ],
   "source": [
    "random.choice(list1)"
   ]
  },
  {
   "cell_type": "markdown",
   "id": "53712a71",
   "metadata": {},
   "source": [
    "### 아이템 강화 시스템\n",
    "- 플레이어로부터 아이템의 강화 등급을 입력받습니다. (0 - 10)\n",
    "- 강화 성공률은 0등급일때 70%, 1등급일대 65% ... 1등급이 올라갈수록 5%의 하락합니다.\n",
    "- 강화 실패 시 50%의 확률로 아이템이 파괴됩니다.\n",
    "- 강화 성공 시 \"강화성공\", 강화 실패 시 \"강화실패\", 아이템 파괴 시\"아이템 파괴\"를 출력해 주세요."
   ]
  },
  {
   "cell_type": "code",
   "execution_count": 100,
   "id": "3e877058",
   "metadata": {},
   "outputs": [
    {
     "name": "stdout",
     "output_type": "stream",
     "text": [
      "아이템의 강화 등급을 입력해주세요: 5\n",
      "강화 실패\n"
     ]
    }
   ],
   "source": [
    "item = int(input(\"아이템의 강화 등급을 입력해주세요: \"))\n",
    "prob1 = random.random()\n",
    "prob2 = random.random()\n",
    "if prob1 <= 0.7 - (0.05 * item):\n",
    "    print(\"강화성공\")\n",
    "else:\n",
    "    if prob2 <= 0.5:\n",
    "        print(\"강화 실패\")\n",
    "    else:\n",
    "        print(\"아이템 파괴\")"
   ]
  },
  {
   "cell_type": "markdown",
   "id": "c96d64f0",
   "metadata": {},
   "source": [
    "\n",
    "###  반복문\n"
   ]
  },
  {
   "cell_type": "code",
   "execution_count": null,
   "id": "331eebd4",
   "metadata": {},
   "outputs": [],
   "source": [
    "# 프로그램 내에서 똑같은 명령을 일정 횟수만큼 반복하여 수행하도록\n",
    "# 제어하는 명령문\n",
    "# 반복문의 종류는 while문, for문이 있다"
   ]
  },
  {
   "cell_type": "code",
   "execution_count": null,
   "id": "aeab1cc3",
   "metadata": {},
   "outputs": [],
   "source": [
    "while 명제:\n",
    "    명제가 참인 한 영원히 반복하는 코드"
   ]
  },
  {
   "cell_type": "code",
   "execution_count": 102,
   "id": "00c829fb",
   "metadata": {},
   "outputs": [
    {
     "name": "stdout",
     "output_type": "stream",
     "text": [
      "1\n",
      "1\n",
      "1\n"
     ]
    }
   ],
   "source": [
    "n = 0\n",
    "while n < 3:\n",
    "    print(1)\n",
    "    n = n + 1\n",
    "    # 1이 2보다 작은한 프린트 1을 무한 반복\n",
    "    # 조건을 넣어 반복문을 종료"
   ]
  },
  {
   "cell_type": "markdown",
   "id": "fb572f80",
   "metadata": {},
   "source": [
    "### while문을 사용해서 \"Hello Python\"을 10번 출력합니다."
   ]
  },
  {
   "cell_type": "code",
   "execution_count": 103,
   "id": "aaa82190",
   "metadata": {},
   "outputs": [
    {
     "name": "stdout",
     "output_type": "stream",
     "text": [
      "Hello Python\n",
      "Hello Python\n",
      "Hello Python\n",
      "Hello Python\n",
      "Hello Python\n",
      "Hello Python\n",
      "Hello Python\n",
      "Hello Python\n",
      "Hello Python\n",
      "Hello Python\n"
     ]
    }
   ],
   "source": [
    "n = 0\n",
    "while n < 10:\n",
    "    print(\"Hello Python\")\n",
    "    n = n + 1"
   ]
  },
  {
   "cell_type": "code",
   "execution_count": 105,
   "id": "f0e1948b",
   "metadata": {},
   "outputs": [
    {
     "name": "stdout",
     "output_type": "stream",
     "text": [
      "1\n"
     ]
    }
   ],
   "source": [
    "while 1 < 2:\n",
    "    print(1)\n",
    "    break\n",
    "    # if 의 페어가 else 이듯 \n",
    "    # while 문의 페어는 break"
   ]
  },
  {
   "cell_type": "code",
   "execution_count": null,
   "id": "44d46a1c",
   "metadata": {},
   "outputs": [],
   "source": [
    "# 1부터 100까지 반복\n",
    "n = 1\n",
    "while n < 101:\n",
    "    print(n)\n",
    "    break"
   ]
  },
  {
   "cell_type": "code",
   "execution_count": null,
   "id": "fdba34a3",
   "metadata": {},
   "outputs": [],
   "source": [
    "# 1부터 100까지 반복\n",
    "n = 1\n",
    "while True:\n",
    "    print(n)\n",
    "    if n < 100:\n",
    "        n = n + 1\n",
    "    else:\n",
    "        break"
   ]
  },
  {
   "cell_type": "markdown",
   "id": "3e7ed587",
   "metadata": {},
   "source": [
    "- 두개의 정수를 입력받습니다.\n",
    "- 입력받은 두 정수의 합을 출력합니다.\n",
    "- 두개의 정수로 0과 0을 입력받은 경우, 반복문에서 이탈합니다."
   ]
  },
  {
   "cell_type": "code",
   "execution_count": 111,
   "id": "d73fb5db",
   "metadata": {},
   "outputs": [
    {
     "name": "stdout",
     "output_type": "stream",
     "text": [
      "첫번째 정수 입력: 1\n",
      "두번째 정수 입력: 2\n",
      "3\n",
      "첫번째 정수 입력: 56\n",
      "두번째 정수 입력: 3\n",
      "59\n",
      "첫번째 정수 입력: 0\n",
      "두번째 정수 입력: 0\n"
     ]
    }
   ],
   "source": [
    "while True:\n",
    "    num1 = int(input(\"첫번째 정수 입력: \"))\n",
    "    num2 = int(input(\"두번째 정수 입력: \"))\n",
    "    \n",
    "    if num1 == 0 and num2 == 0:\n",
    "        break\n",
    "    else:\n",
    "        print(num1 + num2)"
   ]
  },
  {
   "cell_type": "markdown",
   "id": "5e6cd853",
   "metadata": {},
   "source": [
    "### 다이어트 관리 프로그램\n",
    "- 목표 몸무게를 입력합니다.\n",
    "- 현재 몸무게를 입력합니다.\n",
    "- 매 주 감략한 몸무게를 입력한 뒤, 현재 몸무게가 목표 몸무게보다 적어지면, 프로그램을 종료합니다.\n",
    "- 출력 값은 \"축하합니다! __주 걸렸습니다.\"형태입니다."
   ]
  },
  {
   "cell_type": "code",
   "execution_count": 113,
   "id": "ed00634c",
   "metadata": {},
   "outputs": [
    {
     "name": "stdout",
     "output_type": "stream",
     "text": [
      "목표 몸무게를 입력해주세요: 30\n",
      "현재 몸무게를 입력해주세요: 20\n",
      "감량한 몸무게를 적어주세요: 5\n",
      "감량한 몸무게를 적어주세요: 3\n",
      "감량한 몸무게를 적어주세요: 5\n",
      "축하합니다! 3주 걸렸습니다.\n"
     ]
    }
   ],
   "source": [
    "weight = int(input(\"목표 몸무게를 입력해주세요: \"))\n",
    "goal = int(input(\"현재 몸무게를 입력해주세요: \"))\n",
    "n = 0\n",
    "\n",
    "while weight > goal:\n",
    "    lost_weight = int(input(\"감량한 몸무게를 적어주세요: \"))\n",
    "    n = n + 1\n",
    "    weight = weight - lost_weight\n",
    "    \n",
    "print(\"축하합니다! {}주 걸렸습니다.\".format(n))"
   ]
  },
  {
   "cell_type": "code",
   "execution_count": 116,
   "id": "ad747d4a",
   "metadata": {},
   "outputs": [
    {
     "data": {
      "text/plain": [
       "[0, 1, 2, 3, 4, 5, 6, 7, 8, 9]"
      ]
     },
     "execution_count": 116,
     "metadata": {},
     "output_type": "execute_result"
    }
   ],
   "source": [
    "r = range(10) # range(10) = 0~9 까지 이루어진 정수\n",
    "list(r)"
   ]
  },
  {
   "cell_type": "code",
   "execution_count": 121,
   "id": "572d237a",
   "metadata": {},
   "outputs": [
    {
     "name": "stdout",
     "output_type": "stream",
     "text": [
      "초\n",
      "짜\n",
      "짬\n"
     ]
    }
   ],
   "source": [
    "food_list = [\"초밥\", \"짜장면\", \"짬뽕\"]\n",
    "for i in food_list:\n",
    "    print(i[0]) # + \"은 맛있어!\")"
   ]
  },
  {
   "cell_type": "code",
   "execution_count": 123,
   "id": "067ec86c",
   "metadata": {},
   "outputs": [
    {
     "name": "stdout",
     "output_type": "stream",
     "text": [
      "5050\n"
     ]
    }
   ],
   "source": [
    "n = 0\n",
    "for i in range(100):\n",
    "    n = n + i + 1\n",
    "print(n)"
   ]
  },
  {
   "cell_type": "markdown",
   "id": "27be43b6",
   "metadata": {},
   "source": [
    "### 1에서 100 사이의 숫자 중 3의 배수인 값들의 합을 구하시오.\n",
    "- 정답 : 1683"
   ]
  },
  {
   "cell_type": "code",
   "execution_count": 142,
   "id": "47dd9ed6",
   "metadata": {},
   "outputs": [
    {
     "data": {
      "text/plain": [
       "1683"
      ]
     },
     "execution_count": 142,
     "metadata": {},
     "output_type": "execute_result"
    }
   ],
   "source": [
    "result = 0\n",
    "for i in range(1, 101):\n",
    "    if i%3 == 0:\n",
    "        result = result+ i\n",
    "    else:\n",
    "        pass\n",
    "result"
   ]
  },
  {
   "cell_type": "markdown",
   "id": "ff3ef4d8",
   "metadata": {},
   "source": [
    "### 1에서 100사이의 숫자 중 소수의 합을 구하시오."
   ]
  },
  {
   "cell_type": "code",
   "execution_count": 145,
   "id": "ca587751",
   "metadata": {},
   "outputs": [
    {
     "data": {
      "text/plain": [
       "1060"
      ]
     },
     "execution_count": 145,
     "metadata": {},
     "output_type": "execute_result"
    }
   ],
   "source": [
    "result = 0\n",
    "for i in range(2, 101):\n",
    "    nmj = []\n",
    "    for w in range(2, i):\n",
    "        nmj.append(i%w)\n",
    "    if 0 not in nmj:\n",
    "        result = result + i\n",
    "result"
   ]
  },
  {
   "cell_type": "markdown",
   "id": "943c0262",
   "metadata": {},
   "source": [
    "### 구구단 출력\n",
    "- 3단부터 19단까지 출력해주세요.\n",
    "- 출력은 \"2 x 2 = 4\" 형식입니다."
   ]
  },
  {
   "cell_type": "code",
   "execution_count": 159,
   "id": "87e1ab26",
   "metadata": {},
   "outputs": [
    {
     "name": "stdout",
     "output_type": "stream",
     "text": [
      "3 x 1 = 3\n",
      "3 x 2 = 6\n",
      "3 x 3 = 9\n",
      "3 x 4 = 12\n",
      "3 x 5 = 15\n",
      "3 x 6 = 18\n",
      "3 x 7 = 21\n",
      "3 x 8 = 24\n",
      "3 x 9 = 27\n",
      "3 x 10 = 30\n",
      "3 x 11 = 33\n",
      "3 x 12 = 36\n",
      "3 x 13 = 39\n",
      "3 x 14 = 42\n",
      "3 x 15 = 45\n",
      "3 x 16 = 48\n",
      "3 x 17 = 51\n",
      "3 x 18 = 54\n",
      "3 x 19 = 57\n",
      "--------------\n",
      "4 x 1 = 4\n",
      "4 x 2 = 8\n",
      "4 x 3 = 12\n",
      "4 x 4 = 16\n",
      "4 x 5 = 20\n",
      "4 x 6 = 24\n",
      "4 x 7 = 28\n",
      "4 x 8 = 32\n",
      "4 x 9 = 36\n",
      "4 x 10 = 40\n",
      "4 x 11 = 44\n",
      "4 x 12 = 48\n",
      "4 x 13 = 52\n",
      "4 x 14 = 56\n",
      "4 x 15 = 60\n",
      "4 x 16 = 64\n",
      "4 x 17 = 68\n",
      "4 x 18 = 72\n",
      "4 x 19 = 76\n",
      "--------------\n",
      "5 x 1 = 5\n",
      "5 x 2 = 10\n",
      "5 x 3 = 15\n",
      "5 x 4 = 20\n",
      "5 x 5 = 25\n",
      "5 x 6 = 30\n",
      "5 x 7 = 35\n",
      "5 x 8 = 40\n",
      "5 x 9 = 45\n",
      "5 x 10 = 50\n",
      "5 x 11 = 55\n",
      "5 x 12 = 60\n",
      "5 x 13 = 65\n",
      "5 x 14 = 70\n",
      "5 x 15 = 75\n",
      "5 x 16 = 80\n",
      "5 x 17 = 85\n",
      "5 x 18 = 90\n",
      "5 x 19 = 95\n",
      "--------------\n",
      "6 x 1 = 6\n",
      "6 x 2 = 12\n",
      "6 x 3 = 18\n",
      "6 x 4 = 24\n",
      "6 x 5 = 30\n",
      "6 x 6 = 36\n",
      "6 x 7 = 42\n",
      "6 x 8 = 48\n",
      "6 x 9 = 54\n",
      "6 x 10 = 60\n",
      "6 x 11 = 66\n",
      "6 x 12 = 72\n",
      "6 x 13 = 78\n",
      "6 x 14 = 84\n",
      "6 x 15 = 90\n",
      "6 x 16 = 96\n",
      "6 x 17 = 102\n",
      "6 x 18 = 108\n",
      "6 x 19 = 114\n",
      "--------------\n",
      "7 x 1 = 7\n",
      "7 x 2 = 14\n",
      "7 x 3 = 21\n",
      "7 x 4 = 28\n",
      "7 x 5 = 35\n",
      "7 x 6 = 42\n",
      "7 x 7 = 49\n",
      "7 x 8 = 56\n",
      "7 x 9 = 63\n",
      "7 x 10 = 70\n",
      "7 x 11 = 77\n",
      "7 x 12 = 84\n",
      "7 x 13 = 91\n",
      "7 x 14 = 98\n",
      "7 x 15 = 105\n",
      "7 x 16 = 112\n",
      "7 x 17 = 119\n",
      "7 x 18 = 126\n",
      "7 x 19 = 133\n",
      "--------------\n",
      "8 x 1 = 8\n",
      "8 x 2 = 16\n",
      "8 x 3 = 24\n",
      "8 x 4 = 32\n",
      "8 x 5 = 40\n",
      "8 x 6 = 48\n",
      "8 x 7 = 56\n",
      "8 x 8 = 64\n",
      "8 x 9 = 72\n",
      "8 x 10 = 80\n",
      "8 x 11 = 88\n",
      "8 x 12 = 96\n",
      "8 x 13 = 104\n",
      "8 x 14 = 112\n",
      "8 x 15 = 120\n",
      "8 x 16 = 128\n",
      "8 x 17 = 136\n",
      "8 x 18 = 144\n",
      "8 x 19 = 152\n",
      "--------------\n",
      "9 x 1 = 9\n",
      "9 x 2 = 18\n",
      "9 x 3 = 27\n",
      "9 x 4 = 36\n",
      "9 x 5 = 45\n",
      "9 x 6 = 54\n",
      "9 x 7 = 63\n",
      "9 x 8 = 72\n",
      "9 x 9 = 81\n",
      "9 x 10 = 90\n",
      "9 x 11 = 99\n",
      "9 x 12 = 108\n",
      "9 x 13 = 117\n",
      "9 x 14 = 126\n",
      "9 x 15 = 135\n",
      "9 x 16 = 144\n",
      "9 x 17 = 153\n",
      "9 x 18 = 162\n",
      "9 x 19 = 171\n",
      "--------------\n",
      "10 x 1 = 10\n",
      "10 x 2 = 20\n",
      "10 x 3 = 30\n",
      "10 x 4 = 40\n",
      "10 x 5 = 50\n",
      "10 x 6 = 60\n",
      "10 x 7 = 70\n",
      "10 x 8 = 80\n",
      "10 x 9 = 90\n",
      "10 x 10 = 100\n",
      "10 x 11 = 110\n",
      "10 x 12 = 120\n",
      "10 x 13 = 130\n",
      "10 x 14 = 140\n",
      "10 x 15 = 150\n",
      "10 x 16 = 160\n",
      "10 x 17 = 170\n",
      "10 x 18 = 180\n",
      "10 x 19 = 190\n",
      "--------------\n",
      "11 x 1 = 11\n",
      "11 x 2 = 22\n",
      "11 x 3 = 33\n",
      "11 x 4 = 44\n",
      "11 x 5 = 55\n",
      "11 x 6 = 66\n",
      "11 x 7 = 77\n",
      "11 x 8 = 88\n",
      "11 x 9 = 99\n",
      "11 x 10 = 110\n",
      "11 x 11 = 121\n",
      "11 x 12 = 132\n",
      "11 x 13 = 143\n",
      "11 x 14 = 154\n",
      "11 x 15 = 165\n",
      "11 x 16 = 176\n",
      "11 x 17 = 187\n",
      "11 x 18 = 198\n",
      "11 x 19 = 209\n",
      "--------------\n",
      "12 x 1 = 12\n",
      "12 x 2 = 24\n",
      "12 x 3 = 36\n",
      "12 x 4 = 48\n",
      "12 x 5 = 60\n",
      "12 x 6 = 72\n",
      "12 x 7 = 84\n",
      "12 x 8 = 96\n",
      "12 x 9 = 108\n",
      "12 x 10 = 120\n",
      "12 x 11 = 132\n",
      "12 x 12 = 144\n",
      "12 x 13 = 156\n",
      "12 x 14 = 168\n",
      "12 x 15 = 180\n",
      "12 x 16 = 192\n",
      "12 x 17 = 204\n",
      "12 x 18 = 216\n",
      "12 x 19 = 228\n",
      "--------------\n",
      "13 x 1 = 13\n",
      "13 x 2 = 26\n",
      "13 x 3 = 39\n",
      "13 x 4 = 52\n",
      "13 x 5 = 65\n",
      "13 x 6 = 78\n",
      "13 x 7 = 91\n",
      "13 x 8 = 104\n",
      "13 x 9 = 117\n",
      "13 x 10 = 130\n",
      "13 x 11 = 143\n",
      "13 x 12 = 156\n",
      "13 x 13 = 169\n",
      "13 x 14 = 182\n",
      "13 x 15 = 195\n",
      "13 x 16 = 208\n",
      "13 x 17 = 221\n",
      "13 x 18 = 234\n",
      "13 x 19 = 247\n",
      "--------------\n",
      "14 x 1 = 14\n",
      "14 x 2 = 28\n",
      "14 x 3 = 42\n",
      "14 x 4 = 56\n",
      "14 x 5 = 70\n",
      "14 x 6 = 84\n",
      "14 x 7 = 98\n",
      "14 x 8 = 112\n",
      "14 x 9 = 126\n",
      "14 x 10 = 140\n",
      "14 x 11 = 154\n",
      "14 x 12 = 168\n",
      "14 x 13 = 182\n",
      "14 x 14 = 196\n",
      "14 x 15 = 210\n",
      "14 x 16 = 224\n",
      "14 x 17 = 238\n",
      "14 x 18 = 252\n",
      "14 x 19 = 266\n",
      "--------------\n",
      "15 x 1 = 15\n",
      "15 x 2 = 30\n",
      "15 x 3 = 45\n",
      "15 x 4 = 60\n",
      "15 x 5 = 75\n",
      "15 x 6 = 90\n",
      "15 x 7 = 105\n",
      "15 x 8 = 120\n",
      "15 x 9 = 135\n",
      "15 x 10 = 150\n",
      "15 x 11 = 165\n",
      "15 x 12 = 180\n",
      "15 x 13 = 195\n",
      "15 x 14 = 210\n",
      "15 x 15 = 225\n",
      "15 x 16 = 240\n",
      "15 x 17 = 255\n",
      "15 x 18 = 270\n",
      "15 x 19 = 285\n",
      "--------------\n",
      "16 x 1 = 16\n",
      "16 x 2 = 32\n",
      "16 x 3 = 48\n",
      "16 x 4 = 64\n",
      "16 x 5 = 80\n",
      "16 x 6 = 96\n",
      "16 x 7 = 112\n",
      "16 x 8 = 128\n",
      "16 x 9 = 144\n",
      "16 x 10 = 160\n",
      "16 x 11 = 176\n",
      "16 x 12 = 192\n",
      "16 x 13 = 208\n",
      "16 x 14 = 224\n",
      "16 x 15 = 240\n",
      "16 x 16 = 256\n",
      "16 x 17 = 272\n",
      "16 x 18 = 288\n",
      "16 x 19 = 304\n",
      "--------------\n",
      "17 x 1 = 17\n",
      "17 x 2 = 34\n",
      "17 x 3 = 51\n",
      "17 x 4 = 68\n",
      "17 x 5 = 85\n",
      "17 x 6 = 102\n",
      "17 x 7 = 119\n",
      "17 x 8 = 136\n",
      "17 x 9 = 153\n",
      "17 x 10 = 170\n",
      "17 x 11 = 187\n",
      "17 x 12 = 204\n",
      "17 x 13 = 221\n",
      "17 x 14 = 238\n",
      "17 x 15 = 255\n",
      "17 x 16 = 272\n",
      "17 x 17 = 289\n",
      "17 x 18 = 306\n",
      "17 x 19 = 323\n",
      "--------------\n",
      "18 x 1 = 18\n",
      "18 x 2 = 36\n",
      "18 x 3 = 54\n",
      "18 x 4 = 72\n",
      "18 x 5 = 90\n",
      "18 x 6 = 108\n",
      "18 x 7 = 126\n",
      "18 x 8 = 144\n",
      "18 x 9 = 162\n",
      "18 x 10 = 180\n",
      "18 x 11 = 198\n",
      "18 x 12 = 216\n",
      "18 x 13 = 234\n",
      "18 x 14 = 252\n",
      "18 x 15 = 270\n",
      "18 x 16 = 288\n",
      "18 x 17 = 306\n",
      "18 x 18 = 324\n",
      "18 x 19 = 342\n",
      "--------------\n",
      "19 x 1 = 19\n",
      "19 x 2 = 38\n",
      "19 x 3 = 57\n",
      "19 x 4 = 76\n",
      "19 x 5 = 95\n",
      "19 x 6 = 114\n",
      "19 x 7 = 133\n",
      "19 x 8 = 152\n",
      "19 x 9 = 171\n",
      "19 x 10 = 190\n",
      "19 x 11 = 209\n",
      "19 x 12 = 228\n",
      "19 x 13 = 247\n",
      "19 x 14 = 266\n",
      "19 x 15 = 285\n",
      "19 x 16 = 304\n",
      "19 x 17 = 323\n",
      "19 x 18 = 342\n",
      "19 x 19 = 361\n",
      "--------------\n"
     ]
    }
   ],
   "source": [
    "for i in range(3, 20):\n",
    "    for w in range(1, 20):\n",
    "        result = i*w\n",
    "        print(f\"{i} x {w} = {result}\")\n",
    "    print(\"--------------\")"
   ]
  },
  {
   "cell_type": "markdown",
   "id": "98b28a8e",
   "metadata": {},
   "source": [
    "### 업다운 게임\n",
    "- 컴퓨터는 1부터 100 사이의 임의의 자연수를 생각합니다.\n",
    "- 플레이어는 1부터 100 사이의 임의의 자연수를 input으로 입력합니다.\n",
    "- 컴퓨터가 생각한 수가 플레이어가 입력한 수보다 크다면 Up, 작다면 Down을 출력합니다.\n",
    "- 플레이어가 입력한 수가 컴퓨터가 생각한 수와 일치하면 몇번만에 맞췄는지 출력하고 프로그램을 종료합니다."
   ]
  },
  {
   "cell_type": "code",
   "execution_count": 164,
   "id": "1da3ff3e",
   "metadata": {
    "scrolled": true
   },
   "outputs": [
    {
     "name": "stdout",
     "output_type": "stream",
     "text": [
      "숫자를 입력하세요: 1\n",
      "Up\n",
      "숫자를 입력하세요: 50\n",
      "Down\n",
      "숫자를 입력하세요: 40\n",
      "Down\n",
      "숫자를 입력하세요: 30\n",
      "Down\n",
      "숫자를 입력하세요: 20\n",
      "Up\n",
      "숫자를 입력하세요: 23\n",
      "축하합니다! 6번만에 정답을 맞췄습니다.\n"
     ]
    }
   ],
   "source": [
    "import random\n",
    "num = random.randint(1, 100)\n",
    "\n",
    "n = 1\n",
    "while True:\n",
    "    a = int(input(\"숫자를 입력하세요: \"))\n",
    "    \n",
    "    if num > a:\n",
    "        print(\"Up\")\n",
    "        n = n + 1\n",
    "    elif num <a:\n",
    "        print(\"Down\")\n",
    "        n = n + 1\n",
    "    else:\n",
    "        print(\"축하합니다! {}번만에 정답을 맞췄습니다.\".format(n))\n",
    "        break"
   ]
  },
  {
   "cell_type": "markdown",
   "id": "4154ee76",
   "metadata": {},
   "source": [
    "### 예외처리"
   ]
  },
  {
   "cell_type": "code",
   "execution_count": 167,
   "id": "1d3fd32e",
   "metadata": {},
   "outputs": [
    {
     "name": "stdout",
     "output_type": "stream",
     "text": [
      "0.14285714285714285\n",
      "0.16666666666666666\n",
      "0.2\n",
      "0.25\n",
      "0.3333333333333333\n",
      "0.5\n",
      "1.0\n",
      "0\n",
      "-1.0\n",
      "-0.5\n"
     ]
    }
   ],
   "source": [
    "for i in range(10):\n",
    "    try:\n",
    "        print(1/(7-i))\n",
    "    except:\n",
    "        print(0)"
   ]
  },
  {
   "cell_type": "code",
   "execution_count": null,
   "id": "c519f562",
   "metadata": {},
   "outputs": [],
   "source": [
    "try:\n",
    "    에러가 날 수도 있는 코드\n",
    "except:\n",
    "    에러가 날 수도 있는 코드가 에러가 났을 때 실행할 코드"
   ]
  },
  {
   "cell_type": "code",
   "execution_count": 171,
   "id": "9a704ee7",
   "metadata": {},
   "outputs": [
    {
     "name": "stdout",
     "output_type": "stream",
     "text": [
      "정수를 입력하세요: ㅐ\n",
      "너 혼난다.\n",
      "정수를 입력하세요: ㅁ\n",
      "너 혼난다.\n",
      "정수를 입력하세요: ㅇ\n",
      "너 혼난다.\n",
      "정수를 입력하세요: 3\n",
      "3\n"
     ]
    }
   ],
   "source": [
    "while True:\n",
    "    try:\n",
    "        a = int(input(\"정수를 입력하세요: \"))\n",
    "        print(a)\n",
    "        break\n",
    "    except:\n",
    "        print(\"너 혼난다.\")"
   ]
  },
  {
   "cell_type": "code",
   "execution_count": 173,
   "id": "a80b5df5",
   "metadata": {},
   "outputs": [
    {
     "name": "stdout",
     "output_type": "stream",
     "text": [
      "3의 배수를 입력하세요: 2\n"
     ]
    },
    {
     "ename": "Exception",
     "evalue": "3의 배수를 입력하라고요!",
     "output_type": "error",
     "traceback": [
      "\u001b[1;31m---------------------------------------------------------------------------\u001b[0m",
      "\u001b[1;31mException\u001b[0m                                 Traceback (most recent call last)",
      "Input \u001b[1;32mIn [173]\u001b[0m, in \u001b[0;36m<cell line: 2>\u001b[1;34m()\u001b[0m\n\u001b[0;32m      1\u001b[0m a \u001b[38;5;241m=\u001b[39m \u001b[38;5;28mint\u001b[39m(\u001b[38;5;28minput\u001b[39m(\u001b[38;5;124m\"\u001b[39m\u001b[38;5;124m3의 배수를 입력하세요: \u001b[39m\u001b[38;5;124m\"\u001b[39m))\n\u001b[0;32m      2\u001b[0m \u001b[38;5;28;01mif\u001b[39;00m a\u001b[38;5;241m%\u001b[39m\u001b[38;5;241m3\u001b[39m \u001b[38;5;241m!=\u001b[39m \u001b[38;5;241m0\u001b[39m:\n\u001b[1;32m----> 3\u001b[0m     \u001b[38;5;28;01mraise\u001b[39;00m \u001b[38;5;167;01mException\u001b[39;00m(\u001b[38;5;124m\"\u001b[39m\u001b[38;5;124m3의 배수를 입력하라고요!\u001b[39m\u001b[38;5;124m\"\u001b[39m)\n\u001b[0;32m      4\u001b[0m \u001b[38;5;28;01melse\u001b[39;00m:\n\u001b[0;32m      5\u001b[0m     \u001b[38;5;28mprint\u001b[39m(a)\n",
      "\u001b[1;31mException\u001b[0m: 3의 배수를 입력하라고요!"
     ]
    }
   ],
   "source": [
    "a = int(input(\"3의 배수를 입력하세요: \"))\n",
    "if a%3 != 0:\n",
    "    raise Exception(\"3의 배수를 입력하라고요!\")\n",
    "else:\n",
    "    print(a)"
   ]
  },
  {
   "cell_type": "markdown",
   "id": "88d091f6",
   "metadata": {},
   "source": [
    "### 딕셔너리(dictionary)"
   ]
  },
  {
   "cell_type": "code",
   "execution_count": 174,
   "id": "37d14ab4",
   "metadata": {},
   "outputs": [],
   "source": [
    "csb = {\"이름\" : \"홍길동\", \"나이\" : 20, \"키\" : 168}\n",
    "\n",
    "class1_4 = {\"이름\" : [\"홍길동\", \"김철수\", \"최영희\"],\n",
    "            \"나이\" : [20, 21, 22],\n",
    "            \"키\" : [168, 177, 204]}"
   ]
  },
  {
   "cell_type": "code",
   "execution_count": 175,
   "id": "c106c65e",
   "metadata": {},
   "outputs": [
    {
     "data": {
      "text/plain": [
       "['홍길동', '김철수', '최영희']"
      ]
     },
     "execution_count": 175,
     "metadata": {},
     "output_type": "execute_result"
    }
   ],
   "source": [
    "class1_4[\"이름\"]"
   ]
  },
  {
   "cell_type": "code",
   "execution_count": 176,
   "id": "53e0d880",
   "metadata": {},
   "outputs": [
    {
     "data": {
      "text/plain": [
       "{'이름': ['홍길동', '김철수', '최영희'],\n",
       " '나이': [20, 21, 22],\n",
       " '키': [168, 177, 204],\n",
       " '발 사이즈': [290, 275, 240]}"
      ]
     },
     "execution_count": 176,
     "metadata": {},
     "output_type": "execute_result"
    }
   ],
   "source": [
    "class1_4[\"발 사이즈\"] = [290, 275, 240]\n",
    "class1_4"
   ]
  },
  {
   "cell_type": "code",
   "execution_count": 178,
   "id": "5ad39bb1",
   "metadata": {},
   "outputs": [
    {
     "data": {
      "text/plain": [
       "{'이름': ['홍길동', '김철수', '최영희'], '나이': [20, 21, 22], '키': [168, 177, 204]}"
      ]
     },
     "execution_count": 178,
     "metadata": {},
     "output_type": "execute_result"
    }
   ],
   "source": [
    "del class1_4[\"발 사이즈\"]\n",
    "class1_4"
   ]
  },
  {
   "cell_type": "code",
   "execution_count": 179,
   "id": "498c4524",
   "metadata": {},
   "outputs": [
    {
     "data": {
      "text/plain": [
       "dict_keys(['이름', '나이', '키'])"
      ]
     },
     "execution_count": 179,
     "metadata": {},
     "output_type": "execute_result"
    }
   ],
   "source": [
    "class1_4.keys()"
   ]
  },
  {
   "cell_type": "code",
   "execution_count": 180,
   "id": "1fab7625",
   "metadata": {
    "scrolled": true
   },
   "outputs": [
    {
     "data": {
      "text/plain": [
       "dict_values([['홍길동', '김철수', '최영희'], [20, 21, 22], [168, 177, 204]])"
      ]
     },
     "execution_count": 180,
     "metadata": {},
     "output_type": "execute_result"
    }
   ],
   "source": [
    "class1_4.values()"
   ]
  },
  {
   "cell_type": "code",
   "execution_count": 181,
   "id": "176501b4",
   "metadata": {},
   "outputs": [
    {
     "name": "stdout",
     "output_type": "stream",
     "text": [
      "이름\n",
      "나이\n",
      "키\n"
     ]
    }
   ],
   "source": [
    "for i in class1_4:\n",
    "    print(i)"
   ]
  },
  {
   "cell_type": "code",
   "execution_count": 184,
   "id": "fdd84e9a",
   "metadata": {},
   "outputs": [
    {
     "data": {
      "text/plain": [
       "False"
      ]
     },
     "execution_count": 184,
     "metadata": {},
     "output_type": "execute_result"
    }
   ],
   "source": [
    "\"홍길동\" in class1_4\n",
    "# key는 되지만 value는 안됨"
   ]
  },
  {
   "cell_type": "markdown",
   "id": "d92ea0a8",
   "metadata": {},
   "source": [
    "### class1_4의 \"이름\"key에 할당된 value 들을 전부 성을 뺀 이름들로 출력하고 싶습니다.\n",
    "- 홍길동 > 길동\n",
    "- 김철수 > 철수\n",
    "- 최영희 > 영희"
   ]
  },
  {
   "cell_type": "code",
   "execution_count": 191,
   "id": "70d37d5e",
   "metadata": {},
   "outputs": [
    {
     "data": {
      "text/plain": [
       "{'이름': ['길동', '철수', '영희'], '나이': [20, 21, 22], '키': [168, 177, 204]}"
      ]
     },
     "execution_count": 191,
     "metadata": {},
     "output_type": "execute_result"
    }
   ],
   "source": [
    "new_name = []\n",
    "for i in class1_4[\"이름\"]:\n",
    "    new_name.append(i[1:])\n",
    "class1_4[\"이름\"] = new_name\n",
    "class1_4"
   ]
  },
  {
   "cell_type": "code",
   "execution_count": 192,
   "id": "c268e3a0",
   "metadata": {},
   "outputs": [
    {
     "data": {
      "text/plain": [
       "{'이름': ['길동', '철수', '영희'], '나이': [20, 21, 22], '키': [168, 177, 204]}"
      ]
     },
     "execution_count": 192,
     "metadata": {},
     "output_type": "execute_result"
    }
   ],
   "source": [
    "class1_4[\"이름\"] = [\"길동\", \"철수\", \"영희\"]\n",
    "class1_4"
   ]
  },
  {
   "cell_type": "code",
   "execution_count": 195,
   "id": "7b797aad",
   "metadata": {},
   "outputs": [
    {
     "data": {
      "text/plain": [
       "[0, 1, 4, 9, 16, 25, 36, 49, 64, 81]"
      ]
     },
     "execution_count": 195,
     "metadata": {},
     "output_type": "execute_result"
    }
   ],
   "source": [
    "jegop = [i**2 for i in range(10)]\n",
    "jegop"
   ]
  },
  {
   "cell_type": "code",
   "execution_count": 196,
   "id": "9475b8b1",
   "metadata": {},
   "outputs": [
    {
     "data": {
      "text/plain": [
       "[0, 1, 4, 9, 16, 25, 36, 49, 64, 81]"
      ]
     },
     "execution_count": 196,
     "metadata": {},
     "output_type": "execute_result"
    }
   ],
   "source": [
    "[i**2 for i in range(10)]"
   ]
  },
  {
   "cell_type": "markdown",
   "id": "673aa8b0",
   "metadata": {},
   "source": [
    "- 여러 학생의 성적 점수가 다음과 같은 Dictionary로 구성되어 있다."
   ]
  },
  {
   "cell_type": "code",
   "execution_count": 198,
   "id": "977134b5",
   "metadata": {},
   "outputs": [],
   "source": [
    "scores = {'홍길동':{'수학':99,'영어':80,'국어':75},\n",
    "          '김미정':{'영어':67,'국어':87,'수학':55},\n",
    "          '정수진':{'수학':67,'국어':41,'영어':23}}"
   ]
  },
  {
   "cell_type": "markdown",
   "id": "b3ced677",
   "metadata": {},
   "source": [
    "- 이 때, 학생들의 평균을 저장하는 새로운 항목을 추가하고 싶다.\n",
    "- scores에 학생들의 수학, 영어, 국어 평균 성적을 기록한 \"성적\" 정보를 추가해주세요.\n",
    "- 예. 수학평균 : (99 + 55 + 67) / 3"
   ]
  },
  {
   "cell_type": "code",
   "execution_count": 206,
   "id": "5555ac86",
   "metadata": {},
   "outputs": [
    {
     "data": {
      "text/plain": [
       "{'홍길동': {'수학': 99, '영어': 80, '국어': 75},\n",
       " '김미정': {'영어': 67, '국어': 87, '수학': 55},\n",
       " '정수진': {'수학': 67, '국어': 41, '영어': 23},\n",
       " '평균 점수': {'국어': 67.66666666666667,\n",
       "  '영어': 56.666666666666664,\n",
       "  '수학': 73.66666666666667}}"
      ]
     },
     "execution_count": 206,
     "metadata": {},
     "output_type": "execute_result"
    }
   ],
   "source": [
    "math = 0\n",
    "eng = 0\n",
    "kor = 0\n",
    "for i in scores:\n",
    "    math = math + scores[i][\"수학\"]\n",
    "    eng = eng + scores[i][\"영어\"]\n",
    "    kor = kor + scores[i][\"국어\"]\n",
    "    \n",
    "scores[\"평균 점수\"] = {\"국어\" : kor/len(scores), \"영어\" : eng/len(scores), \"수학\" : math/len(scores)}\n",
    "scores"
   ]
  },
  {
   "cell_type": "code",
   "execution_count": 212,
   "id": "3dc2dcf8",
   "metadata": {},
   "outputs": [
    {
     "data": {
      "text/plain": [
       "6"
      ]
     },
     "execution_count": 212,
     "metadata": {},
     "output_type": "execute_result"
    }
   ],
   "source": [
    "len([\"apple\", \"banana\", \"carrot\", \"delmonte\", \"english\", \"finally\"])"
   ]
  },
  {
   "cell_type": "code",
   "execution_count": 217,
   "id": "d885fad9",
   "metadata": {},
   "outputs": [
    {
     "data": {
      "text/plain": [
       "73"
      ]
     },
     "execution_count": 217,
     "metadata": {},
     "output_type": "execute_result"
    }
   ],
   "source": [
    "dirty = 73.3666666666\n",
    "round(dirty) #반올림"
   ]
  },
  {
   "cell_type": "code",
   "execution_count": 214,
   "id": "8069be9c",
   "metadata": {},
   "outputs": [],
   "source": [
    "import math"
   ]
  },
  {
   "cell_type": "code",
   "execution_count": 215,
   "id": "177b8043",
   "metadata": {},
   "outputs": [
    {
     "data": {
      "text/plain": [
       "73"
      ]
     },
     "execution_count": 215,
     "metadata": {},
     "output_type": "execute_result"
    }
   ],
   "source": [
    "math.floor(dirty)"
   ]
  },
  {
   "cell_type": "code",
   "execution_count": 216,
   "id": "27f19c19",
   "metadata": {},
   "outputs": [
    {
     "data": {
      "text/plain": [
       "74"
      ]
     },
     "execution_count": 216,
     "metadata": {},
     "output_type": "execute_result"
    }
   ],
   "source": [
    "math.ceil(dirty)"
   ]
  },
  {
   "cell_type": "code",
   "execution_count": 218,
   "id": "12778ba7",
   "metadata": {},
   "outputs": [
    {
     "data": {
      "text/plain": [
       "73.37"
      ]
     },
     "execution_count": 218,
     "metadata": {},
     "output_type": "execute_result"
    }
   ],
   "source": [
    "round(dirty, 2)"
   ]
  },
  {
   "cell_type": "code",
   "execution_count": 220,
   "id": "ac34bac7",
   "metadata": {},
   "outputs": [
    {
     "data": {
      "text/plain": [
       "1"
      ]
     },
     "execution_count": 220,
     "metadata": {},
     "output_type": "execute_result"
    }
   ],
   "source": [
    "int(1.6) # 소수점 이하 다버림"
   ]
  },
  {
   "cell_type": "code",
   "execution_count": 238,
   "id": "a2b6e247",
   "metadata": {},
   "outputs": [
    {
     "name": "stdout",
     "output_type": "stream",
     "text": [
      "아이디를 입력하세요: zxczxczxc...zcsz\n",
      "zxczxczxc.zcsz\n"
     ]
    }
   ],
   "source": [
    "new_id =  input(\"아이디를 입력하세요: \")\n",
    "\n",
    "allowed = ['a', 'b', 'c', 'd', 'e', 'f', 'g', 'h', 'i', 'j', 'k', 'l', 'm', 'n', 'o', 'p' ,'q', 'r', 's', 't', 'u', 'v', 'w', 'x', 'y', 'z', \"0\", \"1\", \"2\", \"3\", \"4\", \"5\", \"6\", \"7\", \"8\", \"9\", \"0\",  \"-\", \"_\", \".\"]\n",
    "\n",
    "# 1단계\n",
    "new_id = new_id.lower()\n",
    "\n",
    "# 2단계\n",
    "for i in new_id:\n",
    "    if i not in allowed:\n",
    "        new_id = new_id.replace(i,\"\")\n",
    "    \n",
    "# 3단계\n",
    "while \"..\" in new_id:\n",
    "    new_id = new_id.replace(\"..\", \".\")\n",
    "    \n",
    "print(new_id)"
   ]
  },
  {
   "cell_type": "code",
   "execution_count": null,
   "id": "e2775bdf",
   "metadata": {},
   "outputs": [],
   "source": []
  }
 ],
 "metadata": {
  "kernelspec": {
   "display_name": "Python 3 (ipykernel)",
   "language": "python",
   "name": "python3"
  },
  "language_info": {
   "codemirror_mode": {
    "name": "ipython",
    "version": 3
   },
   "file_extension": ".py",
   "mimetype": "text/x-python",
   "name": "python",
   "nbconvert_exporter": "python",
   "pygments_lexer": "ipython3",
   "version": "3.9.12"
  }
 },
 "nbformat": 4,
 "nbformat_minor": 5
}
