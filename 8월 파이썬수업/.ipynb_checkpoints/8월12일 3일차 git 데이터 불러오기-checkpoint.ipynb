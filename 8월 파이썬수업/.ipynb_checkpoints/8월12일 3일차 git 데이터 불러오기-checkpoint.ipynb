{
 "cells": [
  {
   "cell_type": "code",
   "execution_count": null,
   "id": "f8a3af16",
   "metadata": {},
   "outputs": [],
   "source": [
    "! 시작은 리눅스 환경으로 사용하겠다는 뜻"
   ]
  },
  {
   "cell_type": "code",
   "execution_count": 2,
   "id": "c4d766e3",
   "metadata": {},
   "outputs": [
    {
     "name": "stderr",
     "output_type": "stream",
     "text": [
      "fatal: destination path 'neural-networks-and-deep-learning' already exists and is not an empty directory.\n"
     ]
    }
   ],
   "source": [
    "!git clone https://github.com/imuntyan/neural-networks-and-deep-learning.git"
   ]
  },
  {
   "cell_type": "code",
   "execution_count": null,
   "id": "5369ded4",
   "metadata": {},
   "outputs": [],
   "source": []
  }
 ],
 "metadata": {
  "kernelspec": {
   "display_name": "Python 3 (ipykernel)",
   "language": "python",
   "name": "python3"
  },
  "language_info": {
   "codemirror_mode": {
    "name": "ipython",
    "version": 3
   },
   "file_extension": ".py",
   "mimetype": "text/x-python",
   "name": "python",
   "nbconvert_exporter": "python",
   "pygments_lexer": "ipython3",
   "version": "3.9.12"
  }
 },
 "nbformat": 4,
 "nbformat_minor": 5
}
