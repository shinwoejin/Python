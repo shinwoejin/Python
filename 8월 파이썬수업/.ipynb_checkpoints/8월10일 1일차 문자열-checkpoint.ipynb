{
 "cells": [
  {
   "cell_type": "code",
   "execution_count": 2,
   "id": "7da11d3b",
   "metadata": {},
   "outputs": [
    {
     "name": "stdout",
     "output_type": "stream",
     "text": [
      "M\n",
      "n\n",
      "My \n",
      "Jin\n",
      "M aei hnoJn\n"
     ]
    }
   ],
   "source": [
    "sentence = \"My name is ShinWoeJin\"\n",
    "### Indexing\n",
    "print(sentence[0]); print(sentence[-1])\n",
    "### Slicing\n",
    "print(sentence[0:3]); print(sentence[-3:])\n",
    "### Indexing and Slicing with a centain pattern\n",
    "print(sentence[::2])"
   ]
  },
  {
   "cell_type": "code",
   "execution_count": 1,
   "id": "46de739f",
   "metadata": {},
   "outputs": [
    {
     "name": "stdout",
     "output_type": "stream",
     "text": [
      "오늘의 메뉴는 꽈배기와 짬뽕입니다\n",
      "오늘의 메뉴는 곱창볶음입니다\n",
      "오늘의 메뉴는 꽈배기와 곱창볶음와 짬뽕입니다\n",
      "오늘의 메뉴는 곱창볶음입니다\n",
      "가격은 4000입니다\n"
     ]
    }
   ],
   "source": [
    "### Formating\n",
    "lunch_menu = \"곱창볶음\"\n",
    "lunch_menu1 = \"꽈배기\"\n",
    "lunch_menu2 = \"짬뽕\"\n",
    "\n",
    "print(\"오늘의 메뉴는 %s와 %s입니다\"%(lunch_menu1, lunch_menu2))\n",
    "print(\"오늘의 메뉴는 {}입니다\".format(lunch_menu))\n",
    "print(\"오늘의 메뉴는 {1}와 {0}와 {2}입니다\".format(lunch_menu, lunch_menu1, lunch_menu2))\n",
    "print(f\"오늘의 메뉴는 {lunch_menu}입니다\")\n",
    "\n",
    "price = 4000\n",
    "print(\"가격은 %d입니다\"%price)"
   ]
  },
  {
   "cell_type": "code",
   "execution_count": 5,
   "id": "60c07b13",
   "metadata": {},
   "outputs": [
    {
     "name": "stdout",
     "output_type": "stream",
     "text": [
      "100와 200 의 합은 300 입니다.\n"
     ]
    }
   ],
   "source": [
    "# Problem\n",
    "x = 100; y = 200\n",
    "add = x + y\n",
    "\n",
    "print(\"{}과 {} 의 합은 {} 입니다.\".format(x, y, add))"
   ]
  },
  {
   "cell_type": "code",
   "execution_count": 19,
   "id": "9367557a",
   "metadata": {},
   "outputs": [],
   "source": [
    "song = \"tell me tell me tetete tell me\""
   ]
  },
  {
   "cell_type": "code",
   "execution_count": 20,
   "id": "a1e20716",
   "metadata": {},
   "outputs": [
    {
     "data": {
      "text/plain": [
       "3"
      ]
     },
     "execution_count": 20,
     "metadata": {},
     "output_type": "execute_result"
    }
   ],
   "source": [
    "song.count(\"tell me\")"
   ]
  },
  {
   "cell_type": "code",
   "execution_count": 28,
   "id": "97827ce0",
   "metadata": {},
   "outputs": [
    {
     "data": {
      "text/plain": [
       "16"
      ]
     },
     "execution_count": 28,
     "metadata": {},
     "output_type": "execute_result"
    }
   ],
   "source": [
    "song.find(\"tetete\")"
   ]
  },
  {
   "cell_type": "code",
   "execution_count": 29,
   "id": "9ac13449",
   "metadata": {},
   "outputs": [
    {
     "data": {
      "text/plain": [
       "'TELL ME TELL ME TETETE TELL ME'"
      ]
     },
     "execution_count": 29,
     "metadata": {},
     "output_type": "execute_result"
    }
   ],
   "source": [
    "song.upper()"
   ]
  },
  {
   "cell_type": "code",
   "execution_count": 30,
   "id": "697ea636",
   "metadata": {},
   "outputs": [
    {
     "data": {
      "text/plain": [
       "'tell me tell me tetete tell me'"
      ]
     },
     "execution_count": 30,
     "metadata": {},
     "output_type": "execute_result"
    }
   ],
   "source": [
    "song.lower()"
   ]
  },
  {
   "cell_type": "code",
   "execution_count": 31,
   "id": "b783b0a0",
   "metadata": {},
   "outputs": [
    {
     "data": {
      "text/plain": [
       "'Tell Me Tell Me Tetete Tell Me'"
      ]
     },
     "execution_count": 31,
     "metadata": {},
     "output_type": "execute_result"
    }
   ],
   "source": [
    "song.title()"
   ]
  },
  {
   "cell_type": "code",
   "execution_count": 32,
   "id": "e764771c",
   "metadata": {},
   "outputs": [
    {
     "data": {
      "text/plain": [
       "'yell me yell me yeyeye yell me'"
      ]
     },
     "execution_count": 32,
     "metadata": {},
     "output_type": "execute_result"
    }
   ],
   "source": [
    "song.replace(\"t\", \"y\")"
   ]
  },
  {
   "cell_type": "code",
   "execution_count": 33,
   "id": "d65f1545",
   "metadata": {},
   "outputs": [
    {
     "data": {
      "text/plain": [
       "'tell me tell me tetete tell me'"
      ]
     },
     "execution_count": 33,
     "metadata": {},
     "output_type": "execute_result"
    }
   ],
   "source": [
    "song"
   ]
  },
  {
   "cell_type": "code",
   "execution_count": 34,
   "id": "27976faf",
   "metadata": {},
   "outputs": [
    {
     "data": {
      "text/plain": [
       "['tell', 'me', 'tell', 'me', 'tetete', 'tell', 'me']"
      ]
     },
     "execution_count": 34,
     "metadata": {},
     "output_type": "execute_result"
    }
   ],
   "source": [
    "song.split(\" \")"
   ]
  },
  {
   "cell_type": "code",
   "execution_count": 36,
   "id": "b54e926f",
   "metadata": {},
   "outputs": [
    {
     "data": {
      "text/plain": [
       "['나는 밥을 먹었다', '아주 맛이 있었다.']"
      ]
     },
     "execution_count": 36,
     "metadata": {},
     "output_type": "execute_result"
    }
   ],
   "source": [
    "sentence = \"나는 밥을 먹었다. 아주 맛이 있었다.\"\n",
    "sentence.split(\". \")"
   ]
  },
  {
   "cell_type": "code",
   "execution_count": 42,
   "id": "51223e59",
   "metadata": {},
   "outputs": [
    {
     "data": {
      "text/plain": [
       "'tell         '"
      ]
     },
     "execution_count": 42,
     "metadata": {},
     "output_type": "execute_result"
    }
   ],
   "source": [
    "ah_ryeon = \"        tell         \"\n",
    "ah_ryeon.strip()\n",
    "ah_ryeon.rstrip()\n",
    "ah_ryeon.lstrip()"
   ]
  },
  {
   "cell_type": "code",
   "execution_count": 44,
   "id": "3497212e",
   "metadata": {},
   "outputs": [
    {
     "data": {
      "text/plain": [
       "'tell..........'"
      ]
     },
     "execution_count": 44,
     "metadata": {},
     "output_type": "execute_result"
    }
   ],
   "source": [
    "ah_ryeon = \"..........tell..........\"\n",
    "ah_ryeon.strip(\".\")\n",
    "ah_ryeon.rstrip(\".\")\n",
    "ah_ryeon.lstrip(\".\")"
   ]
  }
 ],
 "metadata": {
  "kernelspec": {
   "display_name": "Python 3 (ipykernel)",
   "language": "python",
   "name": "python3"
  },
  "language_info": {
   "codemirror_mode": {
    "name": "ipython",
    "version": 3
   },
   "file_extension": ".py",
   "mimetype": "text/x-python",
   "name": "python",
   "nbconvert_exporter": "python",
   "pygments_lexer": "ipython3",
   "version": "3.9.12"
  }
 },
 "nbformat": 4,
 "nbformat_minor": 5
}
