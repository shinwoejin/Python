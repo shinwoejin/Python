{
 "cells": [
  {
   "cell_type": "code",
   "execution_count": 1,
   "id": "407a8140",
   "metadata": {},
   "outputs": [
    {
     "data": {
      "text/plain": [
       "2"
      ]
     },
     "execution_count": 1,
     "metadata": {},
     "output_type": "execute_result"
    }
   ],
   "source": [
    "1 + 1"
   ]
  },
  {
   "cell_type": "code",
   "execution_count": 2,
   "id": "5c740f6e",
   "metadata": {},
   "outputs": [
    {
     "data": {
      "text/plain": [
       "0"
      ]
     },
     "execution_count": 2,
     "metadata": {},
     "output_type": "execute_result"
    }
   ],
   "source": [
    "1 - 1"
   ]
  },
  {
   "cell_type": "code",
   "execution_count": 3,
   "id": "495f2659",
   "metadata": {},
   "outputs": [
    {
     "data": {
      "text/plain": [
       "4"
      ]
     },
     "execution_count": 3,
     "metadata": {},
     "output_type": "execute_result"
    }
   ],
   "source": [
    "2 * 2"
   ]
  },
  {
   "cell_type": "code",
   "execution_count": 6,
   "id": "6bcb12c0",
   "metadata": {},
   "outputs": [
    {
     "data": {
      "text/plain": [
       "1"
      ]
     },
     "execution_count": 6,
     "metadata": {},
     "output_type": "execute_result"
    }
   ],
   "source": [
    "int(2/2) #float"
   ]
  },
  {
   "cell_type": "code",
   "execution_count": 8,
   "id": "e5dabe32",
   "metadata": {},
   "outputs": [
    {
     "data": {
      "text/plain": [
       "27"
      ]
     },
     "execution_count": 8,
     "metadata": {},
     "output_type": "execute_result"
    }
   ],
   "source": [
    "3 ** 3"
   ]
  },
  {
   "cell_type": "markdown",
   "id": "6644095b",
   "metadata": {},
   "source": [
    "### 몫 연산, 나머지 연산"
   ]
  },
  {
   "cell_type": "code",
   "execution_count": 10,
   "id": "16e47e81",
   "metadata": {},
   "outputs": [
    {
     "data": {
      "text/plain": [
       "2"
      ]
     },
     "execution_count": 10,
     "metadata": {},
     "output_type": "execute_result"
    }
   ],
   "source": [
    "7//3"
   ]
  },
  {
   "cell_type": "code",
   "execution_count": 11,
   "id": "528a5364",
   "metadata": {},
   "outputs": [
    {
     "data": {
      "text/plain": [
       "1"
      ]
     },
     "execution_count": 11,
     "metadata": {},
     "output_type": "execute_result"
    }
   ],
   "source": [
    "7%3"
   ]
  },
  {
   "cell_type": "code",
   "execution_count": 13,
   "id": "8f0b8f01",
   "metadata": {},
   "outputs": [
    {
     "data": {
      "text/plain": [
       "6.0"
      ]
     },
     "execution_count": 13,
     "metadata": {},
     "output_type": "execute_result"
    }
   ],
   "source": [
    "3 + 3.0"
   ]
  },
  {
   "cell_type": "code",
   "execution_count": 14,
   "id": "c88d7a20",
   "metadata": {},
   "outputs": [
    {
     "data": {
      "text/plain": [
       "'안녕하세요'"
      ]
     },
     "execution_count": 14,
     "metadata": {},
     "output_type": "execute_result"
    }
   ],
   "source": [
    "\"안녕\" + \"하세요\""
   ]
  },
  {
   "cell_type": "code",
   "execution_count": 19,
   "id": "d9d0b579",
   "metadata": {},
   "outputs": [
    {
     "data": {
      "text/plain": [
       "'안녕안녕안녕'"
      ]
     },
     "execution_count": 19,
     "metadata": {},
     "output_type": "execute_result"
    }
   ],
   "source": [
    "\"안녕\" * 3"
   ]
  },
  {
   "cell_type": "code",
   "execution_count": 23,
   "id": "8b67e44f",
   "metadata": {},
   "outputs": [
    {
     "data": {
      "text/plain": [
       "19"
      ]
     },
     "execution_count": 23,
     "metadata": {},
     "output_type": "execute_result"
    }
   ],
   "source": [
    "int(2) + int(\"10\") + int(7)"
   ]
  },
  {
   "cell_type": "code",
   "execution_count": 30,
   "id": "e69c7d65",
   "metadata": {},
   "outputs": [
    {
     "name": "stdout",
     "output_type": "stream",
     "text": [
      "아이디를 입력하세요: 121242\n"
     ]
    }
   ],
   "source": [
    "a = int(input(\"아이디를 입력하세요: \"))"
   ]
  },
  {
   "cell_type": "code",
   "execution_count": 35,
   "id": "eaacc4f8",
   "metadata": {},
   "outputs": [
    {
     "data": {
      "text/plain": [
       "121242"
      ]
     },
     "execution_count": 35,
     "metadata": {},
     "output_type": "execute_result"
    }
   ],
   "source": [
    "a"
   ]
  },
  {
   "cell_type": "markdown",
   "id": "854d88bb",
   "metadata": {},
   "source": [
    "### 시간 피싱하기\n",
    "- \"2022년 8월 10일 14시 32분 10초\""
   ]
  },
  {
   "cell_type": "code",
   "execution_count": 1,
   "id": "27bd847b",
   "metadata": {},
   "outputs": [],
   "source": [
    "import datetime"
   ]
  },
  {
   "cell_type": "code",
   "execution_count": 2,
   "id": "c7b8ab1f",
   "metadata": {},
   "outputs": [
    {
     "data": {
      "text/plain": [
       "'2022-10-24 18:33:18'"
      ]
     },
     "execution_count": 2,
     "metadata": {},
     "output_type": "execute_result"
    }
   ],
   "source": [
    "datetime.datetime.now().strftime(\"%Y-%m-%d %H:%M:%S\")"
   ]
  },
  {
   "cell_type": "code",
   "execution_count": 3,
   "id": "93a9d705",
   "metadata": {},
   "outputs": [],
   "source": [
    "now = datetime.datetime.now().strftime(\"%Y-%m-%d %H:%M:%S\")"
   ]
  },
  {
   "cell_type": "code",
   "execution_count": 4,
   "id": "b51714c3",
   "metadata": {},
   "outputs": [
    {
     "data": {
      "text/plain": [
       "'2022-10-24 18:33:18'"
      ]
     },
     "execution_count": 4,
     "metadata": {},
     "output_type": "execute_result"
    }
   ],
   "source": [
    "now"
   ]
  },
  {
   "cell_type": "code",
   "execution_count": 59,
   "id": "290696b4",
   "metadata": {},
   "outputs": [
    {
     "name": "stdout",
     "output_type": "stream",
     "text": [
      "2022년 08월 10일 14시 49분 45초\n"
     ]
    }
   ],
   "source": [
    "year = now[:4]\n",
    "month = now[5:7]\n",
    "day = now[8:10]\n",
    "hour = now[11:13]\n",
    "minute = now[14:16]\n",
    "second = now[17:]\n",
    "\n",
    "print(f\"{year}년 {month}월 {day}일 {hour}시 {minute}분 {second}초\")"
   ]
  },
  {
   "cell_type": "code",
   "execution_count": 54,
   "id": "ab678f4f",
   "metadata": {},
   "outputs": [
    {
     "data": {
      "text/plain": [
       "'2022-08-10 14:47:26'"
      ]
     },
     "execution_count": 54,
     "metadata": {},
     "output_type": "execute_result"
    }
   ],
   "source": [
    "now"
   ]
  },
  {
   "cell_type": "markdown",
   "id": "64fff2fb",
   "metadata": {},
   "source": [
    "### - input 함수로 초 단위의 시간을 받습니다\n",
    "### - 그 시간을 시간, 분, 초로 나누어서 출력합니다.\n",
    "### - 예시) 3653울 받으면, 1시간 0분 53초를 출력"
   ]
  },
  {
   "cell_type": "code",
   "execution_count": 66,
   "id": "e00e8f75",
   "metadata": {},
   "outputs": [
    {
     "name": "stdout",
     "output_type": "stream",
     "text": [
      "초 단위의 시간을 입력해 주세요3653\n",
      "1시 0분 53초\n"
     ]
    }
   ],
   "source": [
    "time = int(input(\"초 단위의 시간을 입력해 주세요\"))\n",
    "hour = time//3600\n",
    "minute = time%3600//60\n",
    "second = time%60\n",
    "\n",
    "print(f\"{hour}시 {minute}분 {second}초\")"
   ]
  },
  {
   "cell_type": "code",
   "execution_count": 86,
   "id": "2b5ff633",
   "metadata": {},
   "outputs": [
    {
     "data": {
      "text/plain": [
       "6"
      ]
     },
     "execution_count": 86,
     "metadata": {},
     "output_type": "execute_result"
    }
   ],
   "source": [
    "num = 3\n",
    "num = num + 3\n",
    "num"
   ]
  },
  {
   "cell_type": "code",
   "execution_count": 98,
   "id": "8080ddfe",
   "metadata": {},
   "outputs": [
    {
     "data": {
      "text/plain": [
       "bool"
      ]
     },
     "execution_count": 98,
     "metadata": {},
     "output_type": "execute_result"
    }
   ],
   "source": [
    "1 > 2 #false\n",
    "1 < 2 #true\n",
    "1 <= 2 #true\n",
    "1 != 2 #true\n",
    "1 >= 2 #false\n",
    "type(1 == 2) #bool\n",
    "True + 1\n",
    "False + 1\n",
    "1.0 == 1 #true\n",
    "\"1\" == 1 #false"
   ]
  },
  {
   "cell_type": "code",
   "execution_count": 107,
   "id": "484fa329",
   "metadata": {},
   "outputs": [
    {
     "name": "stdout",
     "output_type": "stream",
     "text": [
      "정수를 입력하세요: 1\n"
     ]
    }
   ],
   "source": [
    "num = int(input(\"정수를 입력하세요: \"))\n",
    "\n",
    "num = 0 and num == 1"
   ]
  },
  {
   "cell_type": "markdown",
   "id": "8d89c5ba",
   "metadata": {},
   "source": [
    "- input 함수로 num 에 임의의 정수를 입력받습니다\n",
    "- 입력된 수가 2의 배수이거나 3의 배수이면 True, 그렇지 않으면 False를 출력합니다"
   ]
  },
  {
   "cell_type": "code",
   "execution_count": 111,
   "id": "75bbd41b",
   "metadata": {},
   "outputs": [
    {
     "name": "stdout",
     "output_type": "stream",
     "text": [
      "정수를 입력하시오.20\n"
     ]
    },
    {
     "data": {
      "text/plain": [
       "True"
      ]
     },
     "execution_count": 111,
     "metadata": {},
     "output_type": "execute_result"
    }
   ],
   "source": [
    "num = int(input(\"정수를 입력하시오.\"))\n",
    "\n",
    "(num%2 == 0) or (num%3 == 0)\n",
    "#print((num%2 == 0) and (num%3 == 0))\n",
    "#print((num%2 == 0) or (num%3 == 0))"
   ]
  }
 ],
 "metadata": {
  "kernelspec": {
   "display_name": "Python 3 (ipykernel)",
   "language": "python",
   "name": "python3"
  },
  "language_info": {
   "codemirror_mode": {
    "name": "ipython",
    "version": 3
   },
   "file_extension": ".py",
   "mimetype": "text/x-python",
   "name": "python",
   "nbconvert_exporter": "python",
   "pygments_lexer": "ipython3",
   "version": "3.9.12"
  }
 },
 "nbformat": 4,
 "nbformat_minor": 5
}
