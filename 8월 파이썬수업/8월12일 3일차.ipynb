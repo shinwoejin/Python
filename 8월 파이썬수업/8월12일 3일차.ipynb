{
 "cells": [
  {
   "cell_type": "markdown",
   "id": "b1bf13e4",
   "metadata": {},
   "source": [
    "### 변수, 문자열"
   ]
  },
  {
   "cell_type": "markdown",
   "id": "2e8166ac",
   "metadata": {},
   "source": [
    "### 변수\n",
    "- 정수형 (int)\n",
    "- 논리형 (Boolean)\n",
    "- 실수형 (float)\n",
    "- 문자형 (string)"
   ]
  },
  {
   "cell_type": "markdown",
   "id": "9ab78108",
   "metadata": {},
   "source": [
    "### 문자열\n",
    "### 인덱싱과 슬라이싱"
   ]
  },
  {
   "cell_type": "markdown",
   "id": "a31e555d",
   "metadata": {},
   "source": [
    "- 변수명과 문자열구분 ex) add , \"add\"\n",
    "- 문자열이란 숫자가 있는 자료형"
   ]
  },
  {
   "cell_type": "code",
   "execution_count": 5,
   "id": "2880a5eb",
   "metadata": {},
   "outputs": [
    {
     "data": {
      "text/plain": [
       "'a'"
      ]
     },
     "execution_count": 5,
     "metadata": {},
     "output_type": "execute_result"
    }
   ],
   "source": [
    "\"apple\"[0] #순번의 위치 원소 출력"
   ]
  },
  {
   "cell_type": "code",
   "execution_count": 16,
   "id": "78ca5bfb",
   "metadata": {},
   "outputs": [
    {
     "data": {
      "text/plain": [
       "'w'"
      ]
     },
     "execution_count": 16,
     "metadata": {},
     "output_type": "execute_result"
    }
   ],
   "source": [
    "[\"apple\", \"banana\",[\"melon\", \"watermelon\"]][2][1][0] \n",
    "# 뒤의 대괄호로 그 위치의 원소 출력"
   ]
  },
  {
   "cell_type": "code",
   "execution_count": 25,
   "id": "8e2f9272",
   "metadata": {},
   "outputs": [
    {
     "data": {
      "text/plain": [
       "'o'"
      ]
     },
     "execution_count": 25,
     "metadata": {},
     "output_type": "execute_result"
    }
   ],
   "source": [
    "fruit = [[\"mango\", \"grape\"], [\"apple\", \"banana\", [\"melon\", \"watermelon\"]]]\n",
    "fruit[1][2][0][3]"
   ]
  },
  {
   "cell_type": "code",
   "execution_count": 28,
   "id": "0d1c09c3",
   "metadata": {},
   "outputs": [
    {
     "data": {
      "text/plain": [
       "'r'"
      ]
     },
     "execution_count": 28,
     "metadata": {},
     "output_type": "execute_result"
    }
   ],
   "source": [
    "fruit = [[\"mango\", \"grape\"], [\"apple\", \"banana\", [\"melon\", \"watermelon\"]]]\n",
    "fruit[0][1][1]"
   ]
  },
  {
   "cell_type": "code",
   "execution_count": 41,
   "id": "9c60fe26",
   "metadata": {},
   "outputs": [
    {
     "data": {
      "text/plain": [
       "'melon'"
      ]
     },
     "execution_count": 41,
     "metadata": {},
     "output_type": "execute_result"
    }
   ],
   "source": [
    "\"watermelon\"[5:10] "
   ]
  },
  {
   "cell_type": "code",
   "execution_count": 44,
   "id": "c681e0bf",
   "metadata": {},
   "outputs": [
    {
     "data": {
      "text/plain": [
       "'melon'"
      ]
     },
     "execution_count": 44,
     "metadata": {},
     "output_type": "execute_result"
    }
   ],
   "source": [
    "\"watermelon\"[-5:] #뒤를 비우면 끝까지 출력"
   ]
  },
  {
   "cell_type": "code",
   "execution_count": 48,
   "id": "e7a09412",
   "metadata": {},
   "outputs": [
    {
     "data": {
      "text/plain": [
       "'water'"
      ]
     },
     "execution_count": 48,
     "metadata": {},
     "output_type": "execute_result"
    }
   ],
   "source": [
    "fruit = [[\"mango\", \"grape\"], [\"apple\", \"banana\", [\"melon\", \"watermelon\"]]]\n",
    "fruit[1][2][1][0:5] # 앞을비우면 처음부터 뒤에 지정한 원소의 위치까지 출력"
   ]
  },
  {
   "cell_type": "code",
   "execution_count": 52,
   "id": "88eb475b",
   "metadata": {},
   "outputs": [
    {
     "name": "stdout",
     "output_type": "stream",
     "text": [
      "시장에 가면 망고이/가 있다.\n"
     ]
    }
   ],
   "source": [
    "fruit1 = \"망고\"\n",
    "fruit2 = \"파인애플\"\n",
    "fruit3 = \"멜론\"\n",
    "\n",
    "print(f\"시장에 가면 {fruit1}이/가 있다.\")"
   ]
  },
  {
   "cell_type": "code",
   "execution_count": 57,
   "id": "3cbdb436",
   "metadata": {},
   "outputs": [
    {
     "name": "stdout",
     "output_type": "stream",
     "text": [
      "There is a mango in the market\n"
     ]
    }
   ],
   "source": [
    "fruit = [\"mango\", \"grape\", \"apple\", \"banana\", \"melon\", \"watermelon\"]\n",
    "print(f\"There is a {fruit[0]} in the market\")\n",
    "# print(\"There is a {} in the market\".format(fruit[0]))"
   ]
  },
  {
   "cell_type": "code",
   "execution_count": 59,
   "id": "fa97cd6e",
   "metadata": {},
   "outputs": [
    {
     "data": {
      "text/plain": [
       "3"
      ]
     },
     "execution_count": 59,
     "metadata": {},
     "output_type": "execute_result"
    }
   ],
   "source": [
    "sentence = \"There is a mango in the market\"\n",
    "sentence.count(\"a\")"
   ]
  },
  {
   "cell_type": "code",
   "execution_count": 61,
   "id": "734bf6af",
   "metadata": {},
   "outputs": [
    {
     "data": {
      "text/plain": [
       "9"
      ]
     },
     "execution_count": 61,
     "metadata": {},
     "output_type": "execute_result"
    }
   ],
   "source": [
    "sentence.find(\"a\")"
   ]
  },
  {
   "cell_type": "code",
   "execution_count": 63,
   "id": "04d793ee",
   "metadata": {},
   "outputs": [
    {
     "data": {
      "text/plain": [
       "'THERE IS A MANGO IN THE MARKET'"
      ]
     },
     "execution_count": 63,
     "metadata": {},
     "output_type": "execute_result"
    }
   ],
   "source": [
    "sentence.upper() #대문자 만들기"
   ]
  },
  {
   "cell_type": "code",
   "execution_count": 64,
   "id": "981c161a",
   "metadata": {},
   "outputs": [
    {
     "data": {
      "text/plain": [
       "'there is a mango in the market'"
      ]
     },
     "execution_count": 64,
     "metadata": {},
     "output_type": "execute_result"
    }
   ],
   "source": [
    "sentence.lower() # 소문자 만들기"
   ]
  },
  {
   "cell_type": "code",
   "execution_count": 65,
   "id": "e7aa0c16",
   "metadata": {},
   "outputs": [
    {
     "data": {
      "text/plain": [
       "['There', 'is', 'a', 'mango', 'in', 'the', 'market']"
      ]
     },
     "execution_count": 65,
     "metadata": {},
     "output_type": "execute_result"
    }
   ],
   "source": [
    "sentence.split()"
   ]
  },
  {
   "cell_type": "code",
   "execution_count": 66,
   "id": "1ae4354c",
   "metadata": {},
   "outputs": [
    {
     "data": {
      "text/plain": [
       "['There is ', ' m', 'ngo in the m', 'rket']"
      ]
     },
     "execution_count": 66,
     "metadata": {},
     "output_type": "execute_result"
    }
   ],
   "source": [
    "sentence.split(\"a\") # 괄호안에 문자를 넣으면 그 문자를 기준으로 쪼갬"
   ]
  },
  {
   "cell_type": "code",
   "execution_count": 67,
   "id": "5e3a9613",
   "metadata": {},
   "outputs": [
    {
     "data": {
      "text/plain": [
       "'There is a grape in the market'"
      ]
     },
     "execution_count": 67,
     "metadata": {},
     "output_type": "execute_result"
    }
   ],
   "source": [
    "fruit = [\"mango\", \"grape\", \"apple\", \"banana\", \"melon\", \"watermelon\"]\n",
    "sentence = \"There is a mango in the market\"\n",
    "\n",
    "sentence.replace(\"mango\", \"grape\")"
   ]
  },
  {
   "cell_type": "code",
   "execution_count": 68,
   "id": "28f652fc",
   "metadata": {},
   "outputs": [
    {
     "data": {
      "text/plain": [
       "'There is a grape in the market'"
      ]
     },
     "execution_count": 68,
     "metadata": {},
     "output_type": "execute_result"
    }
   ],
   "source": [
    "fruit = [\"mango\", \"grape\", \"apple\", \"banana\", \"melon\", \"watermelon\"]\n",
    "sentence = \"There is a mango in the market\"\n",
    "\n",
    "sentence.replace(fruit[0], fruit[1])"
   ]
  },
  {
   "cell_type": "code",
   "execution_count": 70,
   "id": "9025ff81",
   "metadata": {},
   "outputs": [
    {
     "data": {
      "text/plain": [
       "'There is a  in the market'"
      ]
     },
     "execution_count": 70,
     "metadata": {},
     "output_type": "execute_result"
    }
   ],
   "source": [
    "fruit = [\"mango\", \"grape\", \"apple\", \"banana\", \"melon\", \"watermelon\"]\n",
    "sentence = \"There is a mango in the market\"\n",
    "\n",
    "sentence.replace(\"mango\", \"\") # 뒤 문자열을 비워두면 지워짐"
   ]
  },
  {
   "cell_type": "code",
   "execution_count": 72,
   "id": "90200b8c",
   "metadata": {},
   "outputs": [
    {
     "data": {
      "text/plain": [
       "3"
      ]
     },
     "execution_count": 72,
     "metadata": {},
     "output_type": "execute_result"
    }
   ],
   "source": [
    "#몫 연산\n",
    "7//2"
   ]
  },
  {
   "cell_type": "code",
   "execution_count": 73,
   "id": "fe9e19a4",
   "metadata": {},
   "outputs": [
    {
     "data": {
      "text/plain": [
       "1"
      ]
     },
     "execution_count": 73,
     "metadata": {},
     "output_type": "execute_result"
    }
   ],
   "source": [
    "7%2"
   ]
  },
  {
   "cell_type": "code",
   "execution_count": 74,
   "id": "5eb84df1",
   "metadata": {},
   "outputs": [
    {
     "data": {
      "text/plain": [
       "49"
      ]
     },
     "execution_count": 74,
     "metadata": {},
     "output_type": "execute_result"
    }
   ],
   "source": [
    "7**2"
   ]
  },
  {
   "cell_type": "code",
   "execution_count": 78,
   "id": "22260995",
   "metadata": {},
   "outputs": [
    {
     "data": {
      "text/plain": [
       "14"
      ]
     },
     "execution_count": 78,
     "metadata": {},
     "output_type": "execute_result"
    }
   ],
   "source": [
    "num = 7\n",
    "num = num + 7\n",
    "num"
   ]
  },
  {
   "cell_type": "code",
   "execution_count": 79,
   "id": "c939386a",
   "metadata": {},
   "outputs": [
    {
     "data": {
      "text/plain": [
       "21"
      ]
     },
     "execution_count": 79,
     "metadata": {},
     "output_type": "execute_result"
    }
   ],
   "source": [
    "num += 7\n",
    "num"
   ]
  },
  {
   "cell_type": "code",
   "execution_count": 81,
   "id": "e1f17d63",
   "metadata": {},
   "outputs": [],
   "source": [
    "a = \"안녕\"\n",
    "b = \"하세요\""
   ]
  },
  {
   "cell_type": "code",
   "execution_count": 83,
   "id": "001a9864",
   "metadata": {},
   "outputs": [
    {
     "data": {
      "text/plain": [
       "'안녕하세요'"
      ]
     },
     "execution_count": 83,
     "metadata": {},
     "output_type": "execute_result"
    }
   ],
   "source": [
    "a + b"
   ]
  },
  {
   "cell_type": "code",
   "execution_count": 89,
   "id": "42a0b811",
   "metadata": {},
   "outputs": [
    {
     "data": {
      "text/plain": [
       "'안녕안녕하세요하세요하세요'"
      ]
     },
     "execution_count": 89,
     "metadata": {},
     "output_type": "execute_result"
    }
   ],
   "source": [
    "a * 2 + b * 3 "
   ]
  },
  {
   "cell_type": "code",
   "execution_count": 92,
   "id": "d77dbffa",
   "metadata": {},
   "outputs": [
    {
     "name": "stdout",
     "output_type": "stream",
     "text": [
      "14\n"
     ]
    }
   ],
   "source": [
    "print(7 + 7)\n",
    "# print(\"7\" + \"7\") -> print(int(\"7\")+ int(\"7\"))"
   ]
  },
  {
   "cell_type": "markdown",
   "id": "96e188d5",
   "metadata": {},
   "source": [
    "### 다음 중 결과 값이 다른 하나는\n",
    "1. 5 + 6\n",
    "2. int(5) + int(6)\n",
    "3. int(5 + 6)\n",
    "4. int(\"5\") + int(\"6\")\n",
    "5. int(\"5\" + \"6\")\n",
    " - 답 : 5"
   ]
  },
  {
   "cell_type": "code",
   "execution_count": 94,
   "id": "d09f11cc",
   "metadata": {},
   "outputs": [
    {
     "data": {
      "text/plain": [
       "5"
      ]
     },
     "execution_count": 94,
     "metadata": {},
     "output_type": "execute_result"
    }
   ],
   "source": [
    "fruit = [\"mango\", \"grape\", \"apple\", \"banana\", \"melon\", \"watermelon\"]\n",
    "len(fruit[0])"
   ]
  },
  {
   "cell_type": "markdown",
   "id": "5a814940",
   "metadata": {},
   "source": [
    "### 논리형"
   ]
  },
  {
   "cell_type": "code",
   "execution_count": 96,
   "id": "daa4fdb5",
   "metadata": {},
   "outputs": [
    {
     "data": {
      "text/plain": [
       "False"
      ]
     },
     "execution_count": 96,
     "metadata": {},
     "output_type": "execute_result"
    }
   ],
   "source": [
    "1 > 3"
   ]
  },
  {
   "cell_type": "code",
   "execution_count": 100,
   "id": "2bd61f08",
   "metadata": {},
   "outputs": [
    {
     "data": {
      "text/plain": [
       "False"
      ]
     },
     "execution_count": 100,
     "metadata": {},
     "output_type": "execute_result"
    }
   ],
   "source": [
    "1 == 3 # == 같다르는 뜻, = 할당한다는뜻"
   ]
  },
  {
   "cell_type": "markdown",
   "id": "a2f45657",
   "metadata": {},
   "source": [
    "### 조건문"
   ]
  },
  {
   "cell_type": "code",
   "execution_count": null,
   "id": "4d768c2c",
   "metadata": {},
   "outputs": [],
   "source": [
    "if 명제:\n",
    "    명제가 참일 때 실행하는 코드\n",
    "else:\n",
    "    명제가 거짓일 때 실행하는 코드"
   ]
  },
  {
   "cell_type": "code",
   "execution_count": 103,
   "id": "1948a4aa",
   "metadata": {},
   "outputs": [
    {
     "name": "stdout",
     "output_type": "stream",
     "text": [
      "홀수입니다.\n"
     ]
    }
   ],
   "source": [
    "sutja = 3\n",
    "# sutja = 4\n",
    "# sutja = 5\n",
    "\n",
    "if sutja%2 == 0:\n",
    "    print(\"짝수입니다.\")\n",
    "else:\n",
    "    print(\"홀수입니다.\")"
   ]
  },
  {
   "cell_type": "code",
   "execution_count": 104,
   "id": "75ee4f5c",
   "metadata": {},
   "outputs": [],
   "source": [
    "# in = 왼쪽에 있는 친구가 오른쪽 안에 포함되어 있는지 묻는것\n",
    "# 인덱싱이 가능한것만"
   ]
  },
  {
   "cell_type": "code",
   "execution_count": 116,
   "id": "065d1cd5",
   "metadata": {},
   "outputs": [
    {
     "data": {
      "text/plain": [
       "True"
      ]
     },
     "execution_count": 116,
     "metadata": {},
     "output_type": "execute_result"
    }
   ],
   "source": [
    "fruit = [\"mango\", \"grape\", \"apple\", \"banana\", \"melon\", \"watermelon\"]\n",
    "(\"mango\" in fruit) and (\"grape\" in fruit)\n",
    "# 슬라이싱으로 지칭하는것은 문자열만 가능\n",
    "# and 와 or 로 지칭가능\n",
    "# 괄호를 쳐서 중의적이지 않게 설정"
   ]
  },
  {
   "cell_type": "code",
   "execution_count": 108,
   "id": "63b9e4e3",
   "metadata": {},
   "outputs": [
    {
     "data": {
      "text/plain": [
       "True"
      ]
     },
     "execution_count": 108,
     "metadata": {},
     "output_type": "execute_result"
    }
   ],
   "source": [
    "\"man\" in \"mango\""
   ]
  },
  {
   "cell_type": "code",
   "execution_count": 160,
   "id": "d7ef1cdc",
   "metadata": {},
   "outputs": [],
   "source": [
    "lyrice = \"\"\"\n",
    "너도 날 좋아할 줄은 몰랐어\n",
    "어쩌면 좋아 너무나 좋아\n",
    "꿈만 같아서 나\n",
    "내 자신을 자꾸 꼬집어 봐 너무나 좋아\n",
    "니가 날 혹시 안 좋아할까봐\n",
    "혼자 얼마나 애 태운지 몰라\n",
    "그런데 니가 날 사랑한다니\n",
    "어머나, 다시 한 번 말해봐\n",
    "Tell me tell me\n",
    "Tell tell tell tell tell tell me\n",
    "나를 사랑한다고 날 기다려 왔다고\n",
    "Tell me tell me\n",
    "Tell tell tell tell tell tell me\n",
    "내가 필요하다 말해, 말해줘요\n",
    "Tell me tell me\n",
    "Tell tell tell tell tell tell me\n",
    "자꾸만 듣고 싶어 계속 내게 말해줘\n",
    "Tell me tell me\n",
    "Tell tell tell tell tell tell me\n",
    "꿈이 아니라고 말해, 말해줘요\n",
    "어쩜 내 가슴이 이렇게 뛰니\n",
    "가슴이 정말 터질 것 같아\n",
    "니가 날 볼 때면\n",
    "전기에 감전된 사람처럼 전기가 올라\n",
    "얼마나 오래 기다린지 몰라\n",
    "얼마나 오래 꿈 꿨는지 몰라\n",
    "그런데 니가 날 사랑한다니 어머나\n",
    "다시 한 번 말해봐\n",
    "Tell me tell me\n",
    "Tell tell tell tell tell tell me\n",
    "나를 사랑한다고 날 기다려 왔다고\n",
    "Tell me tell me\n",
    "Tell tell tell tell tell tell me\n",
    "내가 필요하다 말해, 말해줘요\n",
    "Tell me tell me\n",
    "Tell tell tell tell tell tell me\n",
    "자꾸만 듣고 싶어 계속 내게 말해줘\n",
    "Tell me tell me\n",
    "Tell tell tell tell tell tell me\n",
    "꿈이 아니라고 말해, 말해줘요\n",
    "Slave to the moon, slave to the moon (I know you got)\n",
    "Slave to the moon, slave to the moon (I know you)\n",
    "Tell me tell me tell me you\n",
    "Want me want me want me, too\n",
    "Tell me tell me tell me you\n",
    "Love me too, love me too\n",
    "얼마나 오래 기다린지 몰라\n",
    "얼마나 오래 꿈 꿨는지 몰라\n",
    "그런데 니가 날 사랑한다니\n",
    "어머나, 다시 한 번 말해봐\n",
    "Tell me tell me\n",
    "Tell tell tell tell tell tell me\n",
    "나를 사랑한다고 날 기다려 왔다고\n",
    "Tell me tell me\n",
    "Tell tell tell tell tell tell me\n",
    "내가 필요하다 말해, 말해줘요\n",
    "Tell me tell me\n",
    "Tell tell tell tell tell tell me\n",
    "자꾸만 듣고 싶어 계속 내게 말해줘\n",
    "Tell me tell me\n",
    "Tell tell tell tell tell tell me\n",
    "꿈이 아니라고 말해, 말해줘요\n",
    "Tell me tell me\n",
    "Tell tell tell tell tell tell me\n",
    "Tell tell tell tell tell tell me\n",
    "Tell me (tell me)\"\"\""
   ]
  },
  {
   "cell_type": "code",
   "execution_count": 150,
   "id": "6e5691d5",
   "metadata": {},
   "outputs": [
    {
     "name": "stdout",
     "output_type": "stream",
     "text": [
      "제목이 가사에 포함되어 있습니다\n"
     ]
    }
   ],
   "source": [
    "if \"tell me\" in lyrice:\n",
    "    print(\"제목이 가사에 포함되어 있습니다\")\n",
    "else:\n",
    "    print(\"제목이 가사에 포함되어 있지 않습니다\")"
   ]
  },
  {
   "cell_type": "code",
   "execution_count": 161,
   "id": "4c65d20a",
   "metadata": {},
   "outputs": [
    {
     "data": {
      "text/plain": [
       "' 너도 날 좋아할 줄은 몰랐어 어쩌면 좋아 너무나 좋아 꿈만 같아서 나 내 자신을 자꾸 꼬집어 봐 너무나 좋아 니가 날 혹시 안 좋아할까봐 혼자 얼마나 애 태운지 몰라 그런데 니가 날 사랑한다니 어머나, 다시 한 번 말해봐 Tell me tell me Tell tell tell tell tell tell me 나를 사랑한다고 날 기다려 왔다고 Tell me tell me Tell tell tell tell tell tell me 내가 필요하다 말해, 말해줘요 Tell me tell me Tell tell tell tell tell tell me 자꾸만 듣고 싶어 계속 내게 말해줘 Tell me tell me Tell tell tell tell tell tell me 꿈이 아니라고 말해, 말해줘요 어쩜 내 가슴이 이렇게 뛰니 가슴이 정말 터질 것 같아 니가 날 볼 때면 전기에 감전된 사람처럼 전기가 올라 얼마나 오래 기다린지 몰라 얼마나 오래 꿈 꿨는지 몰라 그런데 니가 날 사랑한다니 어머나 다시 한 번 말해봐 Tell me tell me Tell tell tell tell tell tell me 나를 사랑한다고 날 기다려 왔다고 Tell me tell me Tell tell tell tell tell tell me 내가 필요하다 말해, 말해줘요 Tell me tell me Tell tell tell tell tell tell me 자꾸만 듣고 싶어 계속 내게 말해줘 Tell me tell me Tell tell tell tell tell tell me 꿈이 아니라고 말해, 말해줘요 Slave to the moon, slave to the moon (I know you got) Slave to the moon, slave to the moon (I know you) Tell me tell me tell me you Want me want me want me, too Tell me tell me tell me you Love me too, love me too 얼마나 오래 기다린지 몰라 얼마나 오래 꿈 꿨는지 몰라 그런데 니가 날 사랑한다니 어머나, 다시 한 번 말해봐 Tell me tell me Tell tell tell tell tell tell me 나를 사랑한다고 날 기다려 왔다고 Tell me tell me Tell tell tell tell tell tell me 내가 필요하다 말해, 말해줘요 Tell me tell me Tell tell tell tell tell tell me 자꾸만 듣고 싶어 계속 내게 말해줘 Tell me tell me Tell tell tell tell tell tell me 꿈이 아니라고 말해, 말해줘요 Tell me tell me Tell tell tell tell tell tell me Tell tell tell tell tell tell me Tell me (tell me)'"
      ]
     },
     "execution_count": 161,
     "metadata": {},
     "output_type": "execute_result"
    }
   ],
   "source": [
    "lyrice = lyrice.replace(\"\\n\", \" \")\n",
    "lyrice"
   ]
  },
  {
   "cell_type": "code",
   "execution_count": 158,
   "id": "092c325b",
   "metadata": {},
   "outputs": [
    {
     "data": {
      "text/plain": [
       "' 너도 날 좋아할 줄은 몰랐어 어쩌면 좋아 너무나 좋아 꿈만 같아서 나 내 자신을 자꾸 꼬집어 봐 너무나 좋아 니가 날 혹시 안 좋아할까봐 혼자 얼마나 애 태운지 몰라 그런데 니가 날 사랑한다니 어머나, 다시 한 번 말해봐    tell tell tell tell tell   나를 사랑한다고 날 기다려 왔다고    tell tell tell tell tell   내가 필요하다 말해, 말해줘요    tell tell tell tell tell   자꾸만 듣고 싶어 계속 내게 말해줘    tell tell tell tell tell   꿈이 아니라고 말해, 말해줘요 어쩜 내 가슴이 이렇게 뛰니 가슴이 정말 터질 것 같아 니가 날 볼 때면 전기에 감전된 사람처럼 전기가 올라 얼마나 오래 기다린지 몰라 얼마나 오래 꿈 꿨는지 몰라 그런데 니가 날 사랑한다니 어머나 다시 한 번 말해봐    tell tell tell tell tell   나를 사랑한다고 날 기다려 왔다고    tell tell tell tell tell   내가 필요하다 말해, 말해줘요    tell tell tell tell tell   자꾸만 듣고 싶어 계속 내게 말해줘    tell tell tell tell tell   꿈이 아니라고 말해, 말해줘요 slave to the moon, slave to the moon (i know you got) slave to the moon, slave to the moon (i know you)      you want me want me want me, too      you love me too, love me too 얼마나 오래 기다린지 몰라 얼마나 오래 꿈 꿨는지 몰라 그런데 니가 날 사랑한다니 어머나, 다시 한 번 말해봐    tell tell tell tell tell   나를 사랑한다고 날 기다려 왔다고    tell tell tell tell tell   내가 필요하다 말해, 말해줘요    tell tell tell tell tell   자꾸만 듣고 싶어 계속 내게 말해줘    tell tell tell tell tell   꿈이 아니라고 말해, 말해줘요    tell tell tell tell tell   tell tell tell tell tell    ( )'"
      ]
     },
     "execution_count": 158,
     "metadata": {},
     "output_type": "execute_result"
    }
   ],
   "source": [
    "# 소문자로 통일\n",
    "# 문자를 지우는경우\n",
    "lyrice = lyrice.lower()\n",
    "lyrice = lyrice.replace(\"tell me\", \"\")\n",
    "lyrice"
   ]
  },
  {
   "cell_type": "code",
   "execution_count": 166,
   "id": "07202cac",
   "metadata": {},
   "outputs": [
    {
     "data": {
      "text/plain": [
       "' 너도 날 좋아할 줄은 몰랐어 어쩌면 좋아 너무나 좋아 꿈만 같아서 나 내 자신을 자꾸 꼬집어 봐 너무나 좋아 니가 날 혹시 안 좋아할까봐 혼자 얼마나 애 태운지 몰라 그런데 니가 날 사랑한다니 어머나, 다시 한 번 말해봐 @@@@@@@ @@@@@@@ tell tell tell tell tell @@@@@@@ 나를 사랑한다고 날 기다려 왔다고 @@@@@@@ @@@@@@@ tell tell tell tell tell @@@@@@@ 내가 필요하다 말해, 말해줘요 @@@@@@@ @@@@@@@ tell tell tell tell tell @@@@@@@ 자꾸만 듣고 싶어 계속 내게 말해줘 @@@@@@@ @@@@@@@ tell tell tell tell tell @@@@@@@ 꿈이 아니라고 말해, 말해줘요 어쩜 내 가슴이 이렇게 뛰니 가슴이 정말 터질 것 같아 니가 날 볼 때면 전기에 감전된 사람처럼 전기가 올라 얼마나 오래 기다린지 몰라 얼마나 오래 꿈 꿨는지 몰라 그런데 니가 날 사랑한다니 어머나 다시 한 번 말해봐 @@@@@@@ @@@@@@@ tell tell tell tell tell @@@@@@@ 나를 사랑한다고 날 기다려 왔다고 @@@@@@@ @@@@@@@ tell tell tell tell tell @@@@@@@ 내가 필요하다 말해, 말해줘요 @@@@@@@ @@@@@@@ tell tell tell tell tell @@@@@@@ 자꾸만 듣고 싶어 계속 내게 말해줘 @@@@@@@ @@@@@@@ tell tell tell tell tell @@@@@@@ 꿈이 아니라고 말해, 말해줘요 slave to the moon, slave to the moon (i know you got) slave to the moon, slave to the moon (i know you) @@@@@@@ @@@@@@@ @@@@@@@ you want me want me want me, too @@@@@@@ @@@@@@@ @@@@@@@ you love me too, love me too 얼마나 오래 기다린지 몰라 얼마나 오래 꿈 꿨는지 몰라 그런데 니가 날 사랑한다니 어머나, 다시 한 번 말해봐 @@@@@@@ @@@@@@@ tell tell tell tell tell @@@@@@@ 나를 사랑한다고 날 기다려 왔다고 @@@@@@@ @@@@@@@ tell tell tell tell tell @@@@@@@ 내가 필요하다 말해, 말해줘요 @@@@@@@ @@@@@@@ tell tell tell tell tell @@@@@@@ 자꾸만 듣고 싶어 계속 내게 말해줘 @@@@@@@ @@@@@@@ tell tell tell tell tell @@@@@@@ 꿈이 아니라고 말해, 말해줘요 @@@@@@@ @@@@@@@ tell tell tell tell tell @@@@@@@ tell tell tell tell tell @@@@@@@ @@@@@@@ (@@@@@@@)'"
      ]
     },
     "execution_count": 166,
     "metadata": {},
     "output_type": "execute_result"
    }
   ],
   "source": [
    "# 가리는경우\n",
    "lyrice = lyrice.lower()\n",
    "lyrice = lyrice.replace(\"tell me\", \"@@@@@@@\")\n",
    "lyrice"
   ]
  },
  {
   "cell_type": "code",
   "execution_count": 168,
   "id": "9904bc2e",
   "metadata": {},
   "outputs": [],
   "source": [
    "lyrice = lyrice.replace(\"  \", \" \")"
   ]
  },
  {
   "cell_type": "code",
   "execution_count": 170,
   "id": "40f5a31c",
   "metadata": {},
   "outputs": [
    {
     "data": {
      "text/plain": [
       "'너도 날 좋아할 줄은 몰랐어 어쩌면 좋아 너무나 좋아 꿈만 같아서 나 내 자신을 자꾸 꼬집어 봐 너무나 좋아 니가 날 혹시 안 좋아할까봐 혼자 얼마나 애 태운지 몰라 그런데 니가 날 사랑한다니 어머나, 다시 한 번 말해봐 @@@@@@@ @@@@@@@ tell tell tell tell tell @@@@@@@ 나를 사랑한다고 날 기다려 왔다고 @@@@@@@ @@@@@@@ tell tell tell tell tell @@@@@@@ 내가 필요하다 말해, 말해줘요 @@@@@@@ @@@@@@@ tell tell tell tell tell @@@@@@@ 자꾸만 듣고 싶어 계속 내게 말해줘 @@@@@@@ @@@@@@@ tell tell tell tell tell @@@@@@@ 꿈이 아니라고 말해, 말해줘요 어쩜 내 가슴이 이렇게 뛰니 가슴이 정말 터질 것 같아 니가 날 볼 때면 전기에 감전된 사람처럼 전기가 올라 얼마나 오래 기다린지 몰라 얼마나 오래 꿈 꿨는지 몰라 그런데 니가 날 사랑한다니 어머나 다시 한 번 말해봐 @@@@@@@ @@@@@@@ tell tell tell tell tell @@@@@@@ 나를 사랑한다고 날 기다려 왔다고 @@@@@@@ @@@@@@@ tell tell tell tell tell @@@@@@@ 내가 필요하다 말해, 말해줘요 @@@@@@@ @@@@@@@ tell tell tell tell tell @@@@@@@ 자꾸만 듣고 싶어 계속 내게 말해줘 @@@@@@@ @@@@@@@ tell tell tell tell tell @@@@@@@ 꿈이 아니라고 말해, 말해줘요 slave to the moon, slave to the moon (i know you got) slave to the moon, slave to the moon (i know you) @@@@@@@ @@@@@@@ @@@@@@@ you want me want me want me, too @@@@@@@ @@@@@@@ @@@@@@@ you love me too, love me too 얼마나 오래 기다린지 몰라 얼마나 오래 꿈 꿨는지 몰라 그런데 니가 날 사랑한다니 어머나, 다시 한 번 말해봐 @@@@@@@ @@@@@@@ tell tell tell tell tell @@@@@@@ 나를 사랑한다고 날 기다려 왔다고 @@@@@@@ @@@@@@@ tell tell tell tell tell @@@@@@@ 내가 필요하다 말해, 말해줘요 @@@@@@@ @@@@@@@ tell tell tell tell tell @@@@@@@ 자꾸만 듣고 싶어 계속 내게 말해줘 @@@@@@@ @@@@@@@ tell tell tell tell tell @@@@@@@ 꿈이 아니라고 말해, 말해줘요 @@@@@@@ @@@@@@@ tell tell tell tell tell @@@@@@@ tell tell tell tell tell @@@@@@@ @@@@@@@ (@@@@@@@'"
      ]
     },
     "execution_count": 170,
     "metadata": {},
     "output_type": "execute_result"
    }
   ],
   "source": [
    "lyrice[1:-1]"
   ]
  },
  {
   "cell_type": "markdown",
   "id": "3fa61bfd",
   "metadata": {},
   "source": [
    "### 리스트, 튜플"
   ]
  },
  {
   "cell_type": "markdown",
   "id": "e2c2af02",
   "metadata": {},
   "source": [
    "#### 데이터 추가\n",
    "1. 문자열 : 덧셈 연산\n",
    "2. 리스트 : append(맨뒤에 추가), insert(원하는 위치에 원하는 원소 추가)"
   ]
  },
  {
   "cell_type": "code",
   "execution_count": 172,
   "id": "d94c9555",
   "metadata": {},
   "outputs": [
    {
     "data": {
      "text/plain": [
       "'짜장면, 짬뽕, 탕수육, 군만두'"
      ]
     },
     "execution_count": 172,
     "metadata": {},
     "output_type": "execute_result"
    }
   ],
   "source": [
    "menu = \"짜장면, 짬뽕, 탕수육\"\n",
    "menu = menu + \", 군만두\"\n",
    "menu"
   ]
  },
  {
   "cell_type": "code",
   "execution_count": 173,
   "id": "96f0cfaa",
   "metadata": {},
   "outputs": [
    {
     "data": {
      "text/plain": [
       "['짜장면', '짬뽕', '탕수육', '군만두']"
      ]
     },
     "execution_count": 173,
     "metadata": {},
     "output_type": "execute_result"
    }
   ],
   "source": [
    "menu = [\"짜장면\", \"짬뽕\", \"탕수육\"]\n",
    "menu.append(\"군만두\")\n",
    "menu"
   ]
  },
  {
   "cell_type": "code",
   "execution_count": 179,
   "id": "103cd9dc",
   "metadata": {},
   "outputs": [
    {
     "data": {
      "text/plain": [
       "['짜장면', '팔보채', '짬뽕', '탕수육', '군만두']"
      ]
     },
     "execution_count": 179,
     "metadata": {},
     "output_type": "execute_result"
    }
   ],
   "source": [
    "menu.insert(1, \"팔보채\")\n",
    "menu"
   ]
  },
  {
   "cell_type": "markdown",
   "id": "77c7caed",
   "metadata": {},
   "source": [
    "#### 데이터 제거\n",
    "1. 문자열 : replace\n",
    "2. 리스트. del(특정위치 원소제거), remove(원소 지정 제거), pop(맨뒤 원소 제거)"
   ]
  },
  {
   "cell_type": "code",
   "execution_count": 180,
   "id": "114060d1",
   "metadata": {},
   "outputs": [
    {
     "data": {
      "text/plain": [
       "'짜장면, 짬뽕, 탕수육'"
      ]
     },
     "execution_count": 180,
     "metadata": {},
     "output_type": "execute_result"
    }
   ],
   "source": [
    "menu = \"짜장면, 짬뽕, 탕수육, 군만두\"\n",
    "menu = menu.replace(\", 군만두\", \"\")\n",
    "menu"
   ]
  },
  {
   "cell_type": "code",
   "execution_count": 181,
   "id": "4ae81c82",
   "metadata": {},
   "outputs": [
    {
     "data": {
      "text/plain": [
       "['짜장면', '팔보채', '짬뽕', '탕수육']"
      ]
     },
     "execution_count": 181,
     "metadata": {},
     "output_type": "execute_result"
    }
   ],
   "source": [
    "menu = [\"짜장면\", \"팔보채\", \"짬뽕\", \"탕수육\", \"군만두\"]\n",
    "del menu[4] # 인덱싱으로 지움\n",
    "menu"
   ]
  },
  {
   "cell_type": "code",
   "execution_count": 182,
   "id": "9d32fa92",
   "metadata": {},
   "outputs": [
    {
     "data": {
      "text/plain": [
       "['짜장면', '짬뽕', '탕수육']"
      ]
     },
     "execution_count": 182,
     "metadata": {},
     "output_type": "execute_result"
    }
   ],
   "source": [
    "menu.remove(\"팔보채\")\n",
    "menu"
   ]
  },
  {
   "cell_type": "code",
   "execution_count": 183,
   "id": "f7678a98",
   "metadata": {},
   "outputs": [
    {
     "data": {
      "text/plain": [
       "['짜장면', '짬뽕']"
      ]
     },
     "execution_count": 183,
     "metadata": {},
     "output_type": "execute_result"
    }
   ],
   "source": [
    "menu.pop()\n",
    "menu"
   ]
  },
  {
   "cell_type": "markdown",
   "id": "70022e96",
   "metadata": {},
   "source": [
    "#### 데이터 교체\n",
    "1. 문자열 : replace\n",
    "2. 리스트 : 딱히 함수 없음"
   ]
  },
  {
   "cell_type": "code",
   "execution_count": 184,
   "id": "08afa9d2",
   "metadata": {},
   "outputs": [
    {
     "data": {
      "text/plain": [
       "'짜장면, 짬뽕, 탕수육, 팔보채'"
      ]
     },
     "execution_count": 184,
     "metadata": {},
     "output_type": "execute_result"
    }
   ],
   "source": [
    "menu = \"짜장면, 짬뽕, 탕수육, 군만두\"\n",
    "menu = menu.replace(\"군만두\", \"팔보채\")\n",
    "menu"
   ]
  },
  {
   "cell_type": "code",
   "execution_count": 185,
   "id": "f61de297",
   "metadata": {},
   "outputs": [
    {
     "data": {
      "text/plain": [
       "['짜장면', '유산슬', '짬뽕', '탕수육', '군만두']"
      ]
     },
     "execution_count": 185,
     "metadata": {},
     "output_type": "execute_result"
    }
   ],
   "source": [
    "menu = [\"짜장면\", \"팔보채\", \"짬뽕\", \"탕수육\", \"군만두\"]\n",
    "menu[1] = \"유산슬\"\n",
    "menu"
   ]
  },
  {
   "cell_type": "code",
   "execution_count": 186,
   "id": "3db76595",
   "metadata": {},
   "outputs": [
    {
     "data": {
      "text/plain": [
       "[['mango', 'grape'], ['fineapple', 'banana', ['melon', 'watermelon']]]"
      ]
     },
     "execution_count": 186,
     "metadata": {},
     "output_type": "execute_result"
    }
   ],
   "source": [
    "fruit = [[\"mango\", \"grape\"], [\"apple\", \"banana\", [\"melon\", \"watermelon\"]]]\n",
    "fruit[1][0] = \"fineapple\"\n",
    "fruit"
   ]
  },
  {
   "cell_type": "markdown",
   "id": "5f20195e",
   "metadata": {},
   "source": [
    "### 반복문"
   ]
  },
  {
   "cell_type": "code",
   "execution_count": null,
   "id": "1e02e7a5",
   "metadata": {},
   "outputs": [],
   "source": [
    "while 명제:\n",
    "    명제가 참인 한 실행되는 코드"
   ]
  },
  {
   "cell_type": "code",
   "execution_count": null,
   "id": "d3f23c3e",
   "metadata": {},
   "outputs": [],
   "source": [
    "while 1 < 3:\n",
    "    print(\"코드 실행 중\") \n",
    "    # 컴퓨터가 살아 있는 한 무한 반복, 별도의 조치를 취하지 않으면 무한 반복"
   ]
  },
  {
   "cell_type": "markdown",
   "id": "454143a1",
   "metadata": {},
   "source": [
    "#### 무한루프를 피하는 방법\n",
    "1. 특정 조건에서 while문에 걸려 있는 명제가 거짓이 되도록 설계한다.\n",
    "2. break를 사용한다."
   ]
  },
  {
   "cell_type": "code",
   "execution_count": 187,
   "id": "50a95098",
   "metadata": {},
   "outputs": [
    {
     "name": "stdout",
     "output_type": "stream",
     "text": [
      "0\n",
      "1\n",
      "2\n"
     ]
    }
   ],
   "source": [
    "n = 0\n",
    "while n < 3:\n",
    "    print(n)\n",
    "    n = n + 1"
   ]
  },
  {
   "cell_type": "code",
   "execution_count": 188,
   "id": "e79aff45",
   "metadata": {},
   "outputs": [
    {
     "name": "stdout",
     "output_type": "stream",
     "text": [
      "0\n",
      "1\n",
      "2\n"
     ]
    }
   ],
   "source": [
    "n = 0\n",
    "while True: # True 확정\n",
    "    print(n)\n",
    "    n = n + 1\n",
    "    if n >= 3:\n",
    "        break\n",
    "    else:\n",
    "        pass"
   ]
  },
  {
   "cell_type": "markdown",
   "id": "77802e24",
   "metadata": {},
   "source": [
    "#### 1000이 넘는 최초의 43의 배수를 찾고 싶습니다."
   ]
  },
  {
   "cell_type": "code",
   "execution_count": 190,
   "id": "1b869f03",
   "metadata": {},
   "outputs": [
    {
     "name": "stdout",
     "output_type": "stream",
     "text": [
      "1032\n"
     ]
    }
   ],
   "source": [
    "num = 0\n",
    "while True:\n",
    "    num = num + 43\n",
    "    if num >= 1000:\n",
    "        break\n",
    "    else:\n",
    "        pass\n",
    "print(num)"
   ]
  },
  {
   "cell_type": "code",
   "execution_count": 196,
   "id": "89fec952",
   "metadata": {},
   "outputs": [
    {
     "name": "stdout",
     "output_type": "stream",
     "text": [
      "1032\n"
     ]
    }
   ],
   "source": [
    "num1 = 1\n",
    "while True:\n",
    "    num = 43*num1\n",
    "    num1 = num1 + 1\n",
    "    if num >= 1000:\n",
    "        break\n",
    "print(num)"
   ]
  },
  {
   "cell_type": "code",
   "execution_count": 197,
   "id": "f7e05293",
   "metadata": {},
   "outputs": [
    {
     "name": "stdout",
     "output_type": "stream",
     "text": [
      "1032\n"
     ]
    }
   ],
   "source": [
    "n = 1000\n",
    "while n%43 != 0:\n",
    "    n = n + 1\n",
    "print(n)"
   ]
  },
  {
   "cell_type": "code",
   "execution_count": 199,
   "id": "caac2f91",
   "metadata": {},
   "outputs": [
    {
     "name": "stdout",
     "output_type": "stream",
     "text": [
      "1032\n"
     ]
    }
   ],
   "source": [
    "n = 0\n",
    "while n * 43 < 1000:\n",
    "    n = n + 1\n",
    "print(n * 43)"
   ]
  },
  {
   "cell_type": "code",
   "execution_count": 201,
   "id": "07183705",
   "metadata": {},
   "outputs": [
    {
     "name": "stdout",
     "output_type": "stream",
     "text": [
      "1032\n"
     ]
    }
   ],
   "source": [
    "n = 1000\n",
    "while True:\n",
    "    n = n + 1\n",
    "    if n%43 == 0:\n",
    "        print(n)\n",
    "        break\n",
    "    else:\n",
    "        pass"
   ]
  },
  {
   "cell_type": "code",
   "execution_count": 202,
   "id": "fd688fa6",
   "metadata": {},
   "outputs": [
    {
     "name": "stdout",
     "output_type": "stream",
     "text": [
      "1032\n"
     ]
    }
   ],
   "source": [
    "n = 0\n",
    "while True:\n",
    "    n = n + 1\n",
    "    if n * 43 >= 1000:\n",
    "        print(43*n)\n",
    "        break\n",
    "    else:\n",
    "        pass"
   ]
  },
  {
   "cell_type": "markdown",
   "id": "bfa7032f",
   "metadata": {},
   "source": [
    "### 10,000이 넘는 수 중에서, 가장 작은 43과 67의 최소공배수를 구해주세요"
   ]
  },
  {
   "cell_type": "code",
   "execution_count": 1,
   "id": "ded2b2ec",
   "metadata": {},
   "outputs": [
    {
     "name": "stdout",
     "output_type": "stream",
     "text": [
      "11524\n"
     ]
    }
   ],
   "source": [
    "num = 1\n",
    "while True:\n",
    "    num1 = 43*67*num\n",
    "    num = num + 1\n",
    "    if num1 >= 10000:\n",
    "        break\n",
    "# print(num)\n",
    "print(num1)"
   ]
  },
  {
   "cell_type": "code",
   "execution_count": 213,
   "id": "0bc4c0e0",
   "metadata": {},
   "outputs": [
    {
     "name": "stdout",
     "output_type": "stream",
     "text": [
      "11524\n"
     ]
    }
   ],
   "source": [
    "n = 10000\n",
    "while (n % 43 != 0) or (n % 67 != 0):\n",
    "    n = n + 1\n",
    "print(n)"
   ]
  },
  {
   "cell_type": "code",
   "execution_count": 215,
   "id": "eb9ba01d",
   "metadata": {},
   "outputs": [
    {
     "name": "stdout",
     "output_type": "stream",
     "text": [
      "11524\n"
     ]
    }
   ],
   "source": [
    "n = 10000\n",
    "while True:\n",
    "    n = n + 1\n",
    "    if (n%43 == 0) and (n%67 == 0):\n",
    "        print(n)\n",
    "        break\n",
    "    else:\n",
    "        pass"
   ]
  },
  {
   "cell_type": "markdown",
   "id": "13e20d4d",
   "metadata": {},
   "source": [
    "#### for문"
   ]
  },
  {
   "cell_type": "code",
   "execution_count": null,
   "id": "ffef2ab6",
   "metadata": {},
   "outputs": [],
   "source": [
    "for 변수 in 순서가 있는 자료형:\n",
    "    코드"
   ]
  },
  {
   "cell_type": "code",
   "execution_count": 216,
   "id": "32ab2ae8",
   "metadata": {},
   "outputs": [
    {
     "name": "stdout",
     "output_type": "stream",
     "text": [
      "1\n",
      "4\n",
      "9\n",
      "16\n"
     ]
    }
   ],
   "source": [
    "for i in [1, 2, 3, 4]:\n",
    "    print(i**2)"
   ]
  },
  {
   "cell_type": "markdown",
   "id": "ea827973",
   "metadata": {},
   "source": [
    "### 구구단 3단"
   ]
  },
  {
   "cell_type": "code",
   "execution_count": 226,
   "id": "9b4a6617",
   "metadata": {},
   "outputs": [
    {
     "name": "stdout",
     "output_type": "stream",
     "text": [
      "3 x 1 = 3\n",
      "3 x 2 = 6\n",
      "3 x 3 = 9\n",
      "3 x 4 = 12\n",
      "3 x 5 = 15\n",
      "3 x 6 = 18\n",
      "3 x 7 = 21\n",
      "3 x 8 = 24\n",
      "3 x 9 = 27\n"
     ]
    }
   ],
   "source": [
    "for i in [1,2,3,4,5,6,7,8,9]:\n",
    "    print(\"3 x {} = {}\".format(i, 3*i))"
   ]
  },
  {
   "cell_type": "code",
   "execution_count": 229,
   "id": "0299cb8a",
   "metadata": {},
   "outputs": [
    {
     "name": "stdout",
     "output_type": "stream",
     "text": [
      "Hello Python\n",
      "Hello Python\n",
      "Hello Python\n",
      "Hello Python\n",
      "Hello Python\n",
      "Hello Python\n",
      "Hello Python\n",
      "Hello Python\n",
      "Hello Python\n"
     ]
    }
   ],
   "source": [
    "n = 0\n",
    "while n < 9:\n",
    "    print(\"Hello Python\")\n",
    "    n = n + 1"
   ]
  },
  {
   "cell_type": "code",
   "execution_count": 232,
   "id": "02deee7f",
   "metadata": {},
   "outputs": [
    {
     "name": "stdout",
     "output_type": "stream",
     "text": [
      "Hello Python\n",
      "Hello Python\n",
      "Hello Python\n",
      "Hello Python\n",
      "Hello Python\n",
      "Hello Python\n",
      "Hello Python\n",
      "Hello Python\n",
      "Hello Python\n"
     ]
    }
   ],
   "source": [
    "for i in range(9):\n",
    "    print(\"Hello Python\")"
   ]
  },
  {
   "cell_type": "code",
   "execution_count": 233,
   "id": "7086f31c",
   "metadata": {},
   "outputs": [
    {
     "data": {
      "text/plain": [
       "[1, 2, 3, 4, 5, 6, 7, 8]"
      ]
     },
     "execution_count": 233,
     "metadata": {},
     "output_type": "execute_result"
    }
   ],
   "source": [
    "list(range(1, 9))"
   ]
  },
  {
   "cell_type": "code",
   "execution_count": 235,
   "id": "0b601057",
   "metadata": {},
   "outputs": [
    {
     "name": "stdout",
     "output_type": "stream",
     "text": [
      "3\n"
     ]
    }
   ],
   "source": [
    "n = 0\n",
    "a = [1, 2, 3, 4, 5, 6, 7]\n",
    "b = [2, 4, 3, 6, 5, 3, 7]\n",
    "\n",
    "total = 0\n",
    "for num in range (0, len(a)):\n",
    "    if a[num] == b[num]:\n",
    "        total += 1\n",
    "print(total)"
   ]
  },
  {
   "cell_type": "code",
   "execution_count": 239,
   "id": "d0eca4fc",
   "metadata": {},
   "outputs": [
    {
     "ename": "AttributeError",
     "evalue": "'int' object has no attribute 'i'",
     "output_type": "error",
     "traceback": [
      "\u001b[1;31m---------------------------------------------------------------------------\u001b[0m",
      "\u001b[1;31mAttributeError\u001b[0m                            Traceback (most recent call last)",
      "Input \u001b[1;32mIn [239]\u001b[0m, in \u001b[0;36m<cell line: 5>\u001b[1;34m()\u001b[0m\n\u001b[0;32m      2\u001b[0m a \u001b[38;5;241m=\u001b[39m [\u001b[38;5;124m\"\u001b[39m\u001b[38;5;124m가\u001b[39m\u001b[38;5;124m\"\u001b[39m, \u001b[38;5;124m\"\u001b[39m\u001b[38;5;124m나\u001b[39m\u001b[38;5;124m\"\u001b[39m, \u001b[38;5;124m\"\u001b[39m\u001b[38;5;124m다\u001b[39m\u001b[38;5;124m\"\u001b[39m, \u001b[38;5;124m\"\u001b[39m\u001b[38;5;124m라\u001b[39m\u001b[38;5;124m\"\u001b[39m, \u001b[38;5;124m\"\u001b[39m\u001b[38;5;124m마\u001b[39m\u001b[38;5;124m\"\u001b[39m, \u001b[38;5;124m\"\u001b[39m\u001b[38;5;124m바\u001b[39m\u001b[38;5;124m\"\u001b[39m, \u001b[38;5;124m\"\u001b[39m\u001b[38;5;124m사\u001b[39m\u001b[38;5;124m\"\u001b[39m]\n\u001b[0;32m      3\u001b[0m b \u001b[38;5;241m=\u001b[39m [\u001b[38;5;124m\"\u001b[39m\u001b[38;5;124m나\u001b[39m\u001b[38;5;124m\"\u001b[39m, \u001b[38;5;124m\"\u001b[39m\u001b[38;5;124m라\u001b[39m\u001b[38;5;124m\"\u001b[39m, \u001b[38;5;124m\"\u001b[39m\u001b[38;5;124m다\u001b[39m\u001b[38;5;124m\"\u001b[39m, \u001b[38;5;124m\"\u001b[39m\u001b[38;5;124m바\u001b[39m\u001b[38;5;124m\"\u001b[39m, \u001b[38;5;124m\"\u001b[39m\u001b[38;5;124m마\u001b[39m\u001b[38;5;124m\"\u001b[39m, \u001b[38;5;124m\"\u001b[39m\u001b[38;5;124m나\u001b[39m\u001b[38;5;124m\"\u001b[39m, \u001b[38;5;124m\"\u001b[39m\u001b[38;5;124m나\u001b[39m\u001b[38;5;124m\"\u001b[39m]\n\u001b[1;32m----> 5\u001b[0m \u001b[38;5;28;01mfor\u001b[39;00m w\u001b[38;5;241m.\u001b[39m i \u001b[38;5;129;01min\u001b[39;00m \u001b[38;5;28menumerate\u001b[39m(a):\n\u001b[0;32m      6\u001b[0m     \u001b[38;5;28;01mif\u001b[39;00m i \u001b[38;5;241m==\u001b[39m b[w]:\n\u001b[0;32m      7\u001b[0m         n \u001b[38;5;241m=\u001b[39m n \u001b[38;5;241m+\u001b[39m \u001b[38;5;241m1\u001b[39m\n",
      "\u001b[1;31mAttributeError\u001b[0m: 'int' object has no attribute 'i'"
     ]
    }
   ],
   "source": [
    "n = 0\n",
    "a = [\"가\", \"나\", \"다\", \"라\", \"마\", \"바\", \"사\"]\n",
    "b = [\"나\", \"라\", \"다\", \"바\", \"마\", \"나\", \"나\"]\n",
    "\n",
    "for w. i in enumerate(a):\n",
    "    if i == b[w]:\n",
    "        n = n + 1\n",
    "    else:\n",
    "        pass\n",
    "n"
   ]
  },
  {
   "cell_type": "markdown",
   "id": "4d7c529a",
   "metadata": {},
   "source": [
    "### 구구단 뽑기\n",
    "- 1 x 1 = 1\n",
    "- 1 x 2 = 2\n",
    "- ...\n",
    "- 9 x 8 = 72\n",
    "- 9 x 9 = 81"
   ]
  },
  {
   "cell_type": "code",
   "execution_count": 250,
   "id": "6c4e948c",
   "metadata": {},
   "outputs": [
    {
     "name": "stdout",
     "output_type": "stream",
     "text": [
      "1단 시작!\n",
      "1 x 1 = 1\n",
      "1 x 2 = 2\n",
      "1 x 3 = 3\n",
      "1 x 4 = 4\n",
      "1 x 5 = 5\n",
      "1 x 6 = 6\n",
      "1 x 7 = 7\n",
      "1 x 8 = 8\n",
      "1 x 9 = 9\n",
      "2단 시작!\n",
      "2 x 1 = 2\n",
      "2 x 2 = 4\n",
      "2 x 3 = 6\n",
      "2 x 4 = 8\n",
      "2 x 5 = 10\n",
      "2 x 6 = 12\n",
      "2 x 7 = 14\n",
      "2 x 8 = 16\n",
      "2 x 9 = 18\n",
      "3단 시작!\n",
      "3 x 1 = 3\n",
      "3 x 2 = 6\n",
      "3 x 3 = 9\n",
      "3 x 4 = 12\n",
      "3 x 5 = 15\n",
      "3 x 6 = 18\n",
      "3 x 7 = 21\n",
      "3 x 8 = 24\n",
      "3 x 9 = 27\n",
      "4단 시작!\n",
      "4 x 1 = 4\n",
      "4 x 2 = 8\n",
      "4 x 3 = 12\n",
      "4 x 4 = 16\n",
      "4 x 5 = 20\n",
      "4 x 6 = 24\n",
      "4 x 7 = 28\n",
      "4 x 8 = 32\n",
      "4 x 9 = 36\n",
      "5단 시작!\n",
      "5 x 1 = 5\n",
      "5 x 2 = 10\n",
      "5 x 3 = 15\n",
      "5 x 4 = 20\n",
      "5 x 5 = 25\n",
      "5 x 6 = 30\n",
      "5 x 7 = 35\n",
      "5 x 8 = 40\n",
      "5 x 9 = 45\n",
      "6단 시작!\n",
      "6 x 1 = 6\n",
      "6 x 2 = 12\n",
      "6 x 3 = 18\n",
      "6 x 4 = 24\n",
      "6 x 5 = 30\n",
      "6 x 6 = 36\n",
      "6 x 7 = 42\n",
      "6 x 8 = 48\n",
      "6 x 9 = 54\n",
      "7단 시작!\n",
      "7 x 1 = 7\n",
      "7 x 2 = 14\n",
      "7 x 3 = 21\n",
      "7 x 4 = 28\n",
      "7 x 5 = 35\n",
      "7 x 6 = 42\n",
      "7 x 7 = 49\n",
      "7 x 8 = 56\n",
      "7 x 9 = 63\n",
      "8단 시작!\n",
      "8 x 1 = 8\n",
      "8 x 2 = 16\n",
      "8 x 3 = 24\n",
      "8 x 4 = 32\n",
      "8 x 5 = 40\n",
      "8 x 6 = 48\n",
      "8 x 7 = 56\n",
      "8 x 8 = 64\n",
      "8 x 9 = 72\n",
      "9단 시작!\n",
      "9 x 1 = 9\n",
      "9 x 2 = 18\n",
      "9 x 3 = 27\n",
      "9 x 4 = 36\n",
      "9 x 5 = 45\n",
      "9 x 6 = 54\n",
      "9 x 7 = 63\n",
      "9 x 8 = 72\n",
      "9 x 9 = 81\n"
     ]
    }
   ],
   "source": [
    "for a in range(1, 10):\n",
    "    print(f\"{a}단 시작!\")\n",
    "    for b in range(1, 10):\n",
    "        c = a * b\n",
    "        print(f\"{a} x {b} = {c}\")"
   ]
  },
  {
   "cell_type": "code",
   "execution_count": 251,
   "id": "db6b6f8c",
   "metadata": {},
   "outputs": [
    {
     "name": "stdout",
     "output_type": "stream",
     "text": [
      "0.14285714285714285\n",
      "0.16666666666666666\n",
      "0.2\n",
      "0.25\n",
      "0.3333333333333333\n",
      "0.5\n",
      "1.0\n"
     ]
    },
    {
     "ename": "ZeroDivisionError",
     "evalue": "division by zero",
     "output_type": "error",
     "traceback": [
      "\u001b[1;31m---------------------------------------------------------------------------\u001b[0m",
      "\u001b[1;31mZeroDivisionError\u001b[0m                         Traceback (most recent call last)",
      "Input \u001b[1;32mIn [251]\u001b[0m, in \u001b[0;36m<cell line: 1>\u001b[1;34m()\u001b[0m\n\u001b[0;32m      1\u001b[0m \u001b[38;5;28;01mfor\u001b[39;00m i \u001b[38;5;129;01min\u001b[39;00m \u001b[38;5;28mrange\u001b[39m(\u001b[38;5;241m10\u001b[39m):\n\u001b[1;32m----> 2\u001b[0m     \u001b[38;5;28mprint\u001b[39m(\u001b[38;5;241;43m1\u001b[39;49m\u001b[38;5;241;43m/\u001b[39;49m\u001b[43m(\u001b[49m\u001b[38;5;241;43m7\u001b[39;49m\u001b[38;5;241;43m-\u001b[39;49m\u001b[43mi\u001b[49m\u001b[43m)\u001b[49m)\n",
      "\u001b[1;31mZeroDivisionError\u001b[0m: division by zero"
     ]
    }
   ],
   "source": [
    "for i in range(10):\n",
    "    print(1/(7-i))"
   ]
  },
  {
   "cell_type": "code",
   "execution_count": null,
   "id": "8f234cc6",
   "metadata": {},
   "outputs": [],
   "source": [
    "try:\n",
    "    에러가 날 수도 있는 코드가 에러가 나지 않을 경우에 실행될 코드\n",
    "except:\n",
    "    에러가 날 수도 있는 코드가 에러가 났을 때 실행될 코드"
   ]
  },
  {
   "cell_type": "code",
   "execution_count": 252,
   "id": "538f1421",
   "metadata": {},
   "outputs": [
    {
     "name": "stdout",
     "output_type": "stream",
     "text": [
      "0.14285714285714285\n",
      "0.16666666666666666\n",
      "0.2\n",
      "0.25\n",
      "0.3333333333333333\n",
      "0.5\n",
      "1.0\n",
      "에러가 났습니다.\n",
      "-1.0\n",
      "-0.5\n"
     ]
    }
   ],
   "source": [
    "for i in range(10):\n",
    "    try:\n",
    "        print(1/(7-i))\n",
    "    except:\n",
    "        print(\"에러가 났습니다.\")"
   ]
  },
  {
   "cell_type": "code",
   "execution_count": 258,
   "id": "793137d3",
   "metadata": {},
   "outputs": [
    {
     "name": "stdout",
     "output_type": "stream",
     "text": [
      "3의 배수를 입력하세요: 2\n"
     ]
    },
    {
     "ename": "Exception",
     "evalue": "Value Error.",
     "output_type": "error",
     "traceback": [
      "\u001b[1;31m---------------------------------------------------------------------------\u001b[0m",
      "\u001b[1;31mException\u001b[0m                                 Traceback (most recent call last)",
      "Input \u001b[1;32mIn [258]\u001b[0m, in \u001b[0;36m<cell line: 2>\u001b[1;34m()\u001b[0m\n\u001b[0;32m      1\u001b[0m a \u001b[38;5;241m=\u001b[39m \u001b[38;5;28mint\u001b[39m(\u001b[38;5;28minput\u001b[39m(\u001b[38;5;124m\"\u001b[39m\u001b[38;5;124m3의 배수를 입력하세요: \u001b[39m\u001b[38;5;124m\"\u001b[39m))\n\u001b[0;32m      2\u001b[0m \u001b[38;5;28;01mif\u001b[39;00m a\u001b[38;5;241m%\u001b[39m\u001b[38;5;241m3\u001b[39m \u001b[38;5;241m!=\u001b[39m \u001b[38;5;241m0\u001b[39m:\n\u001b[1;32m----> 3\u001b[0m     \u001b[38;5;28;01mraise\u001b[39;00m \u001b[38;5;167;01mException\u001b[39;00m(\u001b[38;5;124m\"\u001b[39m\u001b[38;5;124mValue Error.\u001b[39m\u001b[38;5;124m\"\u001b[39m)\n\u001b[0;32m      4\u001b[0m \u001b[38;5;28;01melse\u001b[39;00m:\n\u001b[0;32m      5\u001b[0m     \u001b[38;5;28mprint\u001b[39m(a)\n",
      "\u001b[1;31mException\u001b[0m: Value Error."
     ]
    }
   ],
   "source": [
    "a = int(input(\"3의 배수를 입력하세요: \"))\n",
    "if a%3 != 0:\n",
    "    raise Exception(\"Value Error.\")\n",
    "else:\n",
    "    print(a)"
   ]
  },
  {
   "cell_type": "code",
   "execution_count": 265,
   "id": "57699a47",
   "metadata": {},
   "outputs": [
    {
     "ename": "IndexError",
     "evalue": "range object index out of range",
     "output_type": "error",
     "traceback": [
      "\u001b[1;31m---------------------------------------------------------------------------\u001b[0m",
      "\u001b[1;31mIndexError\u001b[0m                                Traceback (most recent call last)",
      "Input \u001b[1;32mIn [265]\u001b[0m, in \u001b[0;36m<cell line: 1>\u001b[1;34m()\u001b[0m\n\u001b[1;32m----> 1\u001b[0m a \u001b[38;5;241m=\u001b[39m \u001b[38;5;28;43mrange\u001b[39;49m\u001b[43m(\u001b[49m\u001b[38;5;241;43m10\u001b[39;49m\u001b[43m)\u001b[49m\u001b[43m[\u001b[49m\u001b[38;5;241;43m12\u001b[39;49m\u001b[43m]\u001b[49m\n",
      "\u001b[1;31mIndexError\u001b[0m: range object index out of range"
     ]
    }
   ],
   "source": [
    "a = range(10)[12] # 인덱싱이 range 수를 넘어서 에러"
   ]
  },
  {
   "cell_type": "code",
   "execution_count": 267,
   "id": "0ed23a38",
   "metadata": {},
   "outputs": [
    {
     "ename": "SyntaxError",
     "evalue": "unexpected EOF while parsing (3805072903.py, line 1)",
     "output_type": "error",
     "traceback": [
      "\u001b[1;36m  Input \u001b[1;32mIn [267]\u001b[1;36m\u001b[0m\n\u001b[1;33m    a = range(10 # EOF오류 : 괄호를 안닫았을때\u001b[0m\n\u001b[1;37m                                    ^\u001b[0m\n\u001b[1;31mSyntaxError\u001b[0m\u001b[1;31m:\u001b[0m unexpected EOF while parsing\n"
     ]
    }
   ],
   "source": [
    "a = range(10 # EOF오류 : 괄호를 안닫았을때 end of file"
   ]
  },
  {
   "cell_type": "code",
   "execution_count": 272,
   "id": "e9a753b3",
   "metadata": {
    "scrolled": true
   },
   "outputs": [
    {
     "ename": "IndexError",
     "evalue": "range object index out of range",
     "output_type": "error",
     "traceback": [
      "\u001b[1;31m---------------------------------------------------------------------------\u001b[0m",
      "\u001b[1;31mIndexError\u001b[0m                                Traceback (most recent call last)",
      "Input \u001b[1;32mIn [272]\u001b[0m, in \u001b[0;36m<cell line: 1>\u001b[1;34m()\u001b[0m\n\u001b[1;32m----> 1\u001b[0m \u001b[38;5;28;43mrange\u001b[39;49m\u001b[43m(\u001b[49m\u001b[38;5;241;43m10\u001b[39;49m\u001b[43m)\u001b[49m\u001b[43m[\u001b[49m\u001b[38;5;241;43m12\u001b[39;49m\u001b[43m]\u001b[49m\n",
      "\u001b[1;31mIndexError\u001b[0m: range object index out of range"
     ]
    }
   ],
   "source": [
    "range(10)[12]"
   ]
  },
  {
   "cell_type": "markdown",
   "id": "cc2de7b5",
   "metadata": {},
   "source": [
    "- 10보다 작은 자연수 중에서 3 또는 5의 배수는 3, 5, 6, 9 이고, 이것을 모두 더하면 23입니다.\n",
    "\n",
    "- 1000보다 작은 자연수 중에서 3 또는 5의 배수를 모두 더하면 얼마일까요?"
   ]
  },
  {
   "cell_type": "code",
   "execution_count": 276,
   "id": "a40c399e",
   "metadata": {
    "scrolled": true
   },
   "outputs": [
    {
     "name": "stdout",
     "output_type": "stream",
     "text": [
      "25164150\n"
     ]
    }
   ],
   "source": [
    "a = 0\n",
    "b = 0\n",
    "for i in range(1,101):\n",
    "    a += i**2\n",
    "    b += i\n",
    "print(b**2-a)"
   ]
  },
  {
   "cell_type": "markdown",
   "id": "c429da40",
   "metadata": {},
   "source": [
    "### 딕셔너리"
   ]
  },
  {
   "cell_type": "code",
   "execution_count": 292,
   "id": "4ed76045",
   "metadata": {},
   "outputs": [
    {
     "data": {
      "text/plain": [
       "800"
      ]
     },
     "execution_count": 292,
     "metadata": {},
     "output_type": "execute_result"
    }
   ],
   "source": [
    "gg = {\"사과\" : 800, \"바나나\" : 1000, \"포도\" : 8000}\n",
    "gg[\"사과\"]"
   ]
  },
  {
   "cell_type": "code",
   "execution_count": 278,
   "id": "4b411f8d",
   "metadata": {},
   "outputs": [
    {
     "data": {
      "text/plain": [
       "{'사과': 800, '바나나': 1000, '포도': 8000, '파인애플': 1200}"
      ]
     },
     "execution_count": 278,
     "metadata": {},
     "output_type": "execute_result"
    }
   ],
   "source": [
    "gg[\"파인애플\"] = 1200\n",
    "gg"
   ]
  },
  {
   "cell_type": "code",
   "execution_count": 280,
   "id": "4ed45fda",
   "metadata": {},
   "outputs": [
    {
     "data": {
      "text/plain": [
       "{'사과': 800, '바나나': 1000, '포도': 8000}"
      ]
     },
     "execution_count": 280,
     "metadata": {},
     "output_type": "execute_result"
    }
   ],
   "source": [
    "del gg[\"파인애플\"]\n",
    "gg"
   ]
  },
  {
   "cell_type": "code",
   "execution_count": 281,
   "id": "b4dfe83b",
   "metadata": {},
   "outputs": [
    {
     "name": "stdout",
     "output_type": "stream",
     "text": [
      "사과\n",
      "바나나\n",
      "포도\n"
     ]
    }
   ],
   "source": [
    "for i in gg:\n",
    "    print(i)"
   ]
  },
  {
   "cell_type": "code",
   "execution_count": 282,
   "id": "bf93869a",
   "metadata": {},
   "outputs": [
    {
     "data": {
      "text/plain": [
       "dict_keys(['사과', '바나나', '포도'])"
      ]
     },
     "execution_count": 282,
     "metadata": {},
     "output_type": "execute_result"
    }
   ],
   "source": [
    "gg.keys()"
   ]
  },
  {
   "cell_type": "code",
   "execution_count": 285,
   "id": "66fb063c",
   "metadata": {},
   "outputs": [
    {
     "data": {
      "text/plain": [
       "dict_values([800, 1000, 8000])"
      ]
     },
     "execution_count": 285,
     "metadata": {},
     "output_type": "execute_result"
    }
   ],
   "source": [
    "gg.values()"
   ]
  },
  {
   "cell_type": "markdown",
   "id": "29a03d52",
   "metadata": {},
   "source": [
    "### 물가가 10% 올랐습니다.\n",
    "- gg 딕셔러니의 각 과일의 가격을 10% 올려주세요"
   ]
  },
  {
   "cell_type": "code",
   "execution_count": 286,
   "id": "0419933c",
   "metadata": {},
   "outputs": [
    {
     "data": {
      "text/plain": [
       "{'사과': 800, '바나나': 1000, '포도': 8000}"
      ]
     },
     "execution_count": 286,
     "metadata": {},
     "output_type": "execute_result"
    }
   ],
   "source": [
    "gg"
   ]
  },
  {
   "cell_type": "code",
   "execution_count": 293,
   "id": "c1b8649d",
   "metadata": {},
   "outputs": [
    {
     "data": {
      "text/plain": [
       "{'사과': 880, '바나나': 1100, '포도': 8800}"
      ]
     },
     "execution_count": 293,
     "metadata": {},
     "output_type": "execute_result"
    }
   ],
   "source": [
    "for i in gg:\n",
    "    gg[i]= int(gg[i] * 1.1)\n",
    "gg"
   ]
  },
  {
   "cell_type": "code",
   "execution_count": 289,
   "id": "d7fdda34",
   "metadata": {},
   "outputs": [
    {
     "name": "stdout",
     "output_type": "stream",
     "text": [
      "{'사과': 880, '바나나': 1100, '포도': 8800}\n"
     ]
    }
   ],
   "source": [
    "a = {\"사과\" : 800, \"바나나\" : 1000, \"포도\" : 8000}\n",
    "for i in a:\n",
    "    a[i] += int(a[i]*0.1)\n",
    "print(a)"
   ]
  },
  {
   "cell_type": "markdown",
   "id": "525d1c97",
   "metadata": {},
   "source": [
    "### 전국 사과 가격의 평균을 구해주세요."
   ]
  },
  {
   "cell_type": "code",
   "execution_count": 304,
   "id": "10c46ee9",
   "metadata": {},
   "outputs": [],
   "source": [
    "ggg = {\"서울점\" : {\"사과\" : 800, \"바나나\" : 1000, \"포도\" : 800},\n",
    "       \"부산점\" : {\"사과\" : 700, \"바나나\" : 900, \"포도\" : 900},\n",
    "       \"용산점\" : {\"사과\" : 750, \"바나나\" : 800, \"포도\" : 1000}}"
   ]
  },
  {
   "cell_type": "code",
   "execution_count": 298,
   "id": "c304b1db",
   "metadata": {},
   "outputs": [
    {
     "data": {
      "text/plain": [
       "{'서울점': {'사과': 800, '바나나': 1000, '포도': 800},\n",
       " '부산점': {'사과': 700, '바나나': 900, '포도': 900},\n",
       " '용산점': {'사과': 750, '바나나': 800, '포도': 1000},\n",
       " '평균가격': {'사과': 750.0}}"
      ]
     },
     "execution_count": 298,
     "metadata": {},
     "output_type": "execute_result"
    }
   ],
   "source": [
    "apple = 0\n",
    "for i in ggg:\n",
    "    apple = apple + ggg[i][\"사과\"]\n",
    "ggg[\"평균가격\"] = {\"사과\" : apple/len(ggg)}\n",
    "ggg"
   ]
  },
  {
   "cell_type": "code",
   "execution_count": 306,
   "id": "78a4abaa",
   "metadata": {},
   "outputs": [
    {
     "name": "stdout",
     "output_type": "stream",
     "text": [
      "750.0\n"
     ]
    }
   ],
   "source": [
    "n = 0\n",
    "for i in ggg:\n",
    "    n = n + ggg[i][\"사과\"]\n",
    "print(n/len(ggg))"
   ]
  },
  {
   "cell_type": "markdown",
   "id": "24a03267",
   "metadata": {},
   "source": [
    "### 디파인 함수(def)"
   ]
  },
  {
   "cell_type": "code",
   "execution_count": 307,
   "id": "5ef912cb",
   "metadata": {},
   "outputs": [],
   "source": [
    "def add(x, y):\n",
    "    return x + y"
   ]
  },
  {
   "cell_type": "code",
   "execution_count": 308,
   "id": "f28ff3cb",
   "metadata": {},
   "outputs": [
    {
     "data": {
      "text/plain": [
       "5"
      ]
     },
     "execution_count": 308,
     "metadata": {},
     "output_type": "execute_result"
    }
   ],
   "source": [
    "add(2, 3)"
   ]
  },
  {
   "cell_type": "code",
   "execution_count": 311,
   "id": "a33a013b",
   "metadata": {},
   "outputs": [],
   "source": [
    "def x(a, b):\n",
    "    return a * b"
   ]
  },
  {
   "cell_type": "code",
   "execution_count": 312,
   "id": "a65db390",
   "metadata": {},
   "outputs": [
    {
     "data": {
      "text/plain": [
       "21"
      ]
     },
     "execution_count": 312,
     "metadata": {},
     "output_type": "execute_result"
    }
   ],
   "source": [
    "x(3,7)"
   ]
  },
  {
   "cell_type": "markdown",
   "id": "834ae31e",
   "metadata": {},
   "source": [
    "- 10보다 작은 자연수 중에서 3 또는 5의 배수는 3, 5, 6, 9 이고, 이것을 모두 더하면 23입니다.\n",
    "\n",
    "- 1000보다 작은 자연수 중에서 3 또는 5의 배수를 모두 더하면 얼마일까요?"
   ]
  },
  {
   "cell_type": "code",
   "execution_count": 313,
   "id": "ece06c6c",
   "metadata": {},
   "outputs": [
    {
     "name": "stdout",
     "output_type": "stream",
     "text": [
      "25164150\n"
     ]
    }
   ],
   "source": [
    "a = 0\n",
    "b = 0\n",
    "for i in range(1,101):\n",
    "    a += i\n",
    "    b += i**2\n",
    "print(a**2-b)"
   ]
  },
  {
   "cell_type": "markdown",
   "id": "ffeca6cc",
   "metadata": {},
   "source": [
    "- 디파인함수로 풀기"
   ]
  },
  {
   "cell_type": "code",
   "execution_count": 314,
   "id": "f7ef0df2",
   "metadata": {},
   "outputs": [],
   "source": [
    "def jegop(x, y):\n",
    "    a = 0\n",
    "    b = 0\n",
    "    for i in range(x, y+1):\n",
    "        a = a + i\n",
    "        b = b + i**2\n",
    "    return a**2 -b"
   ]
  },
  {
   "cell_type": "code",
   "execution_count": 315,
   "id": "24d7fa43",
   "metadata": {},
   "outputs": [
    {
     "data": {
      "text/plain": [
       "25164150"
      ]
     },
     "execution_count": 315,
     "metadata": {},
     "output_type": "execute_result"
    }
   ],
   "source": [
    "jegop(1, 100)"
   ]
  },
  {
   "cell_type": "code",
   "execution_count": 316,
   "id": "5b013b71",
   "metadata": {},
   "outputs": [
    {
     "data": {
      "text/plain": [
       "2640"
      ]
     },
     "execution_count": 316,
     "metadata": {},
     "output_type": "execute_result"
    }
   ],
   "source": [
    "jegop(1, 10)"
   ]
  },
  {
   "cell_type": "code",
   "execution_count": null,
   "id": "96c43f2e",
   "metadata": {},
   "outputs": [],
   "source": []
  }
 ],
 "metadata": {
  "kernelspec": {
   "display_name": "Python 3 (ipykernel)",
   "language": "python",
   "name": "python3"
  },
  "language_info": {
   "codemirror_mode": {
    "name": "ipython",
    "version": 3
   },
   "file_extension": ".py",
   "mimetype": "text/x-python",
   "name": "python",
   "nbconvert_exporter": "python",
   "pygments_lexer": "ipython3",
   "version": "3.9.12"
  }
 },
 "nbformat": 4,
 "nbformat_minor": 5
}
